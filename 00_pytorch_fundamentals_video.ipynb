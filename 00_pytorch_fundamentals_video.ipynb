{
  "nbformat": 4,
  "nbformat_minor": 0,
  "metadata": {
    "colab": {
      "provenance": [],
      "collapsed_sections": [],
      "authorship_tag": "ABX9TyPGGVAhp4B5zseP3hwgCn12",
      "include_colab_link": true
    },
    "kernelspec": {
      "name": "python3",
      "display_name": "Python 3"
    },
    "language_info": {
      "name": "python"
    },
    "accelerator": "GPU",
    "gpuClass": "standard"
  },
  "cells": [
    {
      "cell_type": "markdown",
      "metadata": {
        "id": "view-in-github",
        "colab_type": "text"
      },
      "source": [
        "<a href=\"https://colab.research.google.com/github/greeshmaunni1990/PyTorch-For-ML-DL/blob/main/00_pytorch_fundamentals_video.ipynb\" target=\"_parent\"><img src=\"https://colab.research.google.com/assets/colab-badge.svg\" alt=\"Open In Colab\"/></a>"
      ]
    },
    {
      "cell_type": "code",
      "execution_count": null,
      "metadata": {
        "colab": {
          "base_uri": "https://localhost:8080/"
        },
        "id": "c_EhkN7cUOz4",
        "outputId": "f1409cdd-7891-4f06-b1bc-3211434c678e"
      },
      "outputs": [
        {
          "output_type": "stream",
          "name": "stdout",
          "text": [
            "HEllo world\n"
          ]
        }
      ],
      "source": [
        "print('HEllo world')"
      ]
    },
    {
      "cell_type": "code",
      "source": [
        "!nvidia-smi"
      ],
      "metadata": {
        "colab": {
          "base_uri": "https://localhost:8080/"
        },
        "id": "xoJdA1V-Uk1o",
        "outputId": "3f4cb6da-eec0-4f63-a347-f7133ddaa65e"
      },
      "execution_count": null,
      "outputs": [
        {
          "output_type": "stream",
          "name": "stdout",
          "text": [
            "Mon Nov  7 06:01:51 2022       \n",
            "+-----------------------------------------------------------------------------+\n",
            "| NVIDIA-SMI 460.32.03    Driver Version: 460.32.03    CUDA Version: 11.2     |\n",
            "|-------------------------------+----------------------+----------------------+\n",
            "| GPU  Name        Persistence-M| Bus-Id        Disp.A | Volatile Uncorr. ECC |\n",
            "| Fan  Temp  Perf  Pwr:Usage/Cap|         Memory-Usage | GPU-Util  Compute M. |\n",
            "|                               |                      |               MIG M. |\n",
            "|===============================+======================+======================|\n",
            "|   0  Tesla T4            Off  | 00000000:00:04.0 Off |                    0 |\n",
            "| N/A   43C    P0    25W /  70W |      0MiB / 15109MiB |      0%      Default |\n",
            "|                               |                      |                  N/A |\n",
            "+-------------------------------+----------------------+----------------------+\n",
            "                                                                               \n",
            "+-----------------------------------------------------------------------------+\n",
            "| Processes:                                                                  |\n",
            "|  GPU   GI   CI        PID   Type   Process name                  GPU Memory |\n",
            "|        ID   ID                                                   Usage      |\n",
            "|=============================================================================|\n",
            "|  No running processes found                                                 |\n",
            "+-----------------------------------------------------------------------------+\n"
          ]
        }
      ]
    },
    {
      "cell_type": "code",
      "source": [
        "import torch\n",
        "import pandas as pd\n",
        "import numpy as np\n",
        "import matplotlib.pyplot as plt"
      ],
      "metadata": {
        "id": "5NAFmEX2U5OZ"
      },
      "execution_count": null,
      "outputs": []
    },
    {
      "cell_type": "code",
      "source": [
        "print(torch.__version__)"
      ],
      "metadata": {
        "colab": {
          "base_uri": "https://localhost:8080/"
        },
        "id": "aKHbbvMLVq_K",
        "outputId": "f6f40b64-6fa1-4a3e-8ff3-f6906acd293f"
      },
      "execution_count": null,
      "outputs": [
        {
          "output_type": "stream",
          "name": "stdout",
          "text": [
            "1.12.1+cu113\n"
          ]
        }
      ]
    },
    {
      "cell_type": "markdown",
      "source": [
        "## Introduction to tensors"
      ],
      "metadata": {
        "id": "-MmY40pgXmgn"
      }
    },
    {
      "cell_type": "markdown",
      "source": [
        "**Creating tensors**"
      ],
      "metadata": {
        "id": "HcwwyXGvX2PT"
      }
    },
    {
      "cell_type": "code",
      "source": [
        "# scalar\n",
        "scalar = torch.tensor(7)\n",
        "scalar"
      ],
      "metadata": {
        "colab": {
          "base_uri": "https://localhost:8080/"
        },
        "id": "Cz6Hul-iX-P9",
        "outputId": "6f97ae7f-ca28-4777-c985-261f1d958bec"
      },
      "execution_count": null,
      "outputs": [
        {
          "output_type": "execute_result",
          "data": {
            "text/plain": [
              "tensor(7)"
            ]
          },
          "metadata": {},
          "execution_count": 5
        }
      ]
    },
    {
      "cell_type": "code",
      "source": [
        "scalar.ndim"
      ],
      "metadata": {
        "colab": {
          "base_uri": "https://localhost:8080/"
        },
        "id": "HVpsI2_SX4Aa",
        "outputId": "649350d1-a0bd-47ce-f051-46853646807d"
      },
      "execution_count": null,
      "outputs": [
        {
          "output_type": "execute_result",
          "data": {
            "text/plain": [
              "0"
            ]
          },
          "metadata": {},
          "execution_count": 6
        }
      ]
    },
    {
      "cell_type": "code",
      "source": [
        "scalar.item()"
      ],
      "metadata": {
        "colab": {
          "base_uri": "https://localhost:8080/"
        },
        "id": "fbCOt-vLYPmX",
        "outputId": "209af5b4-6bd4-48a3-f817-8ef09409be73"
      },
      "execution_count": null,
      "outputs": [
        {
          "output_type": "execute_result",
          "data": {
            "text/plain": [
              "7"
            ]
          },
          "metadata": {},
          "execution_count": 7
        }
      ]
    },
    {
      "cell_type": "code",
      "source": [
        "# vector\n",
        "vector = torch.tensor([7, 7])"
      ],
      "metadata": {
        "id": "GcZ3mQwYYZKX"
      },
      "execution_count": null,
      "outputs": []
    },
    {
      "cell_type": "code",
      "source": [
        "# dimension can be easily calculated by the number of square brackets.\n",
        "# if it is has one square brack then it is 1-D\n",
        "# if it has two square brack then it is 2-D\n",
        "\n",
        "vector.ndim"
      ],
      "metadata": {
        "colab": {
          "base_uri": "https://localhost:8080/"
        },
        "id": "kmIOxMTVYnpY",
        "outputId": "109c23bf-f94b-4777-ea84-5aceb399de35"
      },
      "execution_count": null,
      "outputs": [
        {
          "output_type": "execute_result",
          "data": {
            "text/plain": [
              "1"
            ]
          },
          "metadata": {},
          "execution_count": 9
        }
      ]
    },
    {
      "cell_type": "code",
      "source": [
        "vector.shape"
      ],
      "metadata": {
        "colab": {
          "base_uri": "https://localhost:8080/"
        },
        "id": "3lxxsnBWYp4o",
        "outputId": "83dcbe6a-094d-45db-b29d-ecc23057c7f5"
      },
      "execution_count": null,
      "outputs": [
        {
          "output_type": "execute_result",
          "data": {
            "text/plain": [
              "torch.Size([2])"
            ]
          },
          "metadata": {},
          "execution_count": 10
        }
      ]
    },
    {
      "cell_type": "code",
      "source": [
        "# MATRIX\n",
        "MATRIX = torch.tensor([[1, 2], [3, 4]])\n",
        "MATRIX"
      ],
      "metadata": {
        "colab": {
          "base_uri": "https://localhost:8080/"
        },
        "id": "ZuQDW6yOZEt7",
        "outputId": "2c587825-7108-4e24-f958-3ba7f70f9fed"
      },
      "execution_count": null,
      "outputs": [
        {
          "output_type": "execute_result",
          "data": {
            "text/plain": [
              "tensor([[1, 2],\n",
              "        [3, 4]])"
            ]
          },
          "metadata": {},
          "execution_count": 11
        }
      ]
    },
    {
      "cell_type": "code",
      "source": [
        "MATRIX.dtype"
      ],
      "metadata": {
        "colab": {
          "base_uri": "https://localhost:8080/"
        },
        "id": "w4JsdOMSZJhs",
        "outputId": "2c709823-d13f-4feb-9851-65e0270fa971"
      },
      "execution_count": null,
      "outputs": [
        {
          "output_type": "execute_result",
          "data": {
            "text/plain": [
              "torch.int64"
            ]
          },
          "metadata": {},
          "execution_count": 12
        }
      ]
    },
    {
      "cell_type": "code",
      "source": [
        "MATRIX.ndim"
      ],
      "metadata": {
        "colab": {
          "base_uri": "https://localhost:8080/"
        },
        "id": "LsAH5LF_ZsxN",
        "outputId": "d4033508-2224-4f27-d781-f1c595994dc8"
      },
      "execution_count": null,
      "outputs": [
        {
          "output_type": "execute_result",
          "data": {
            "text/plain": [
              "2"
            ]
          },
          "metadata": {},
          "execution_count": 13
        }
      ]
    },
    {
      "cell_type": "code",
      "source": [
        "MATRIX[0]"
      ],
      "metadata": {
        "colab": {
          "base_uri": "https://localhost:8080/"
        },
        "id": "VrS8QZocZwdP",
        "outputId": "d67d6907-4a31-4113-d67c-108f69938bab"
      },
      "execution_count": null,
      "outputs": [
        {
          "output_type": "execute_result",
          "data": {
            "text/plain": [
              "tensor([1, 2])"
            ]
          },
          "metadata": {},
          "execution_count": 14
        }
      ]
    },
    {
      "cell_type": "code",
      "source": [
        "MATRIX[1]"
      ],
      "metadata": {
        "colab": {
          "base_uri": "https://localhost:8080/"
        },
        "id": "h8auLsHnZyT8",
        "outputId": "23597c3d-feae-4672-b795-2703212f40de"
      },
      "execution_count": null,
      "outputs": [
        {
          "output_type": "execute_result",
          "data": {
            "text/plain": [
              "tensor([3, 4])"
            ]
          },
          "metadata": {},
          "execution_count": 15
        }
      ]
    },
    {
      "cell_type": "code",
      "source": [
        "MATRIX.shape"
      ],
      "metadata": {
        "colab": {
          "base_uri": "https://localhost:8080/"
        },
        "id": "bM8_hemPZ0_D",
        "outputId": "afdd5c46-caa3-4005-874c-aea2230f8262"
      },
      "execution_count": null,
      "outputs": [
        {
          "output_type": "execute_result",
          "data": {
            "text/plain": [
              "torch.Size([2, 2])"
            ]
          },
          "metadata": {},
          "execution_count": 16
        }
      ]
    },
    {
      "cell_type": "code",
      "source": [
        "# TENSOR\n",
        "TENSOR = torch.tensor([[[1, 2, 3],\n",
        "                        [5, 7, 3],\n",
        "                        [11, 58, 36]]])\n",
        "TENSOR"
      ],
      "metadata": {
        "colab": {
          "base_uri": "https://localhost:8080/"
        },
        "id": "iGQvzKgcZ5XQ",
        "outputId": "064c62dc-211a-4be1-b7f4-950195dfbead"
      },
      "execution_count": null,
      "outputs": [
        {
          "output_type": "execute_result",
          "data": {
            "text/plain": [
              "tensor([[[ 1,  2,  3],\n",
              "         [ 5,  7,  3],\n",
              "         [11, 58, 36]]])"
            ]
          },
          "metadata": {},
          "execution_count": 17
        }
      ]
    },
    {
      "cell_type": "code",
      "source": [
        "TENSOR.ndim"
      ],
      "metadata": {
        "colab": {
          "base_uri": "https://localhost:8080/"
        },
        "id": "6LPrCOPoaOrK",
        "outputId": "6e0d1c9a-9def-4034-db3a-171f7a7b7bab"
      },
      "execution_count": null,
      "outputs": [
        {
          "output_type": "execute_result",
          "data": {
            "text/plain": [
              "3"
            ]
          },
          "metadata": {},
          "execution_count": 18
        }
      ]
    },
    {
      "cell_type": "code",
      "source": [
        "TENSOR.shape"
      ],
      "metadata": {
        "colab": {
          "base_uri": "https://localhost:8080/"
        },
        "id": "G7Is3uVcaiyF",
        "outputId": "c4199b41-3c0e-4d99-ee5c-a619006cad2f"
      },
      "execution_count": null,
      "outputs": [
        {
          "output_type": "execute_result",
          "data": {
            "text/plain": [
              "torch.Size([1, 3, 3])"
            ]
          },
          "metadata": {},
          "execution_count": 19
        }
      ]
    },
    {
      "cell_type": "code",
      "source": [
        "TENSOR = torch.tensor([[[[[[2, 11, 36.5], [58, 33, 26]]]]]])\n",
        "TENSOR"
      ],
      "metadata": {
        "colab": {
          "base_uri": "https://localhost:8080/"
        },
        "id": "Gcmhi9BYansA",
        "outputId": "f6e5ec40-3622-4e2d-b6bf-82bad69e60f1"
      },
      "execution_count": null,
      "outputs": [
        {
          "output_type": "execute_result",
          "data": {
            "text/plain": [
              "tensor([[[[[[ 2.0000, 11.0000, 36.5000],\n",
              "            [58.0000, 33.0000, 26.0000]]]]]])"
            ]
          },
          "metadata": {},
          "execution_count": 20
        }
      ]
    },
    {
      "cell_type": "code",
      "source": [
        "TENSOR.shape"
      ],
      "metadata": {
        "colab": {
          "base_uri": "https://localhost:8080/"
        },
        "id": "JCcYUDeEbSwT",
        "outputId": "5238c3db-dec1-4980-da00-f36ba89fee5d"
      },
      "execution_count": null,
      "outputs": [
        {
          "output_type": "execute_result",
          "data": {
            "text/plain": [
              "torch.Size([1, 1, 1, 1, 2, 3])"
            ]
          },
          "metadata": {},
          "execution_count": 21
        }
      ]
    },
    {
      "cell_type": "markdown",
      "source": [
        "### Random Tensors\n",
        "\n",
        "Random numbers are important bacause the way manu neural networks learn is that they start with tensors full of random numbers and then they adjust these random numbers to better represent data\n",
        "```\n",
        "Start with random numbers -> look at data -> update random numbers -> look at data > update random numers\n",
        "```\n",
        "\n",
        "\n"
      ],
      "metadata": {
        "id": "m2y7SVHSgxTr"
      }
    },
    {
      "cell_type": "code",
      "source": [
        "# create random tensors\n",
        "random_tensor = torch.rand(3, 4)\n",
        "random_tensor"
      ],
      "metadata": {
        "colab": {
          "base_uri": "https://localhost:8080/"
        },
        "id": "3PNsarZZiPJr",
        "outputId": "9b0f1baa-28da-4793-de75-afbf6f14b0b2"
      },
      "execution_count": null,
      "outputs": [
        {
          "output_type": "execute_result",
          "data": {
            "text/plain": [
              "tensor([[0.1411, 0.0688, 0.8824, 0.1438],\n",
              "        [0.8537, 0.5376, 0.2716, 0.5653],\n",
              "        [0.6514, 0.5833, 0.7006, 0.5287]])"
            ]
          },
          "metadata": {},
          "execution_count": 22
        }
      ]
    },
    {
      "cell_type": "code",
      "source": [
        "random_tensor.ndim"
      ],
      "metadata": {
        "colab": {
          "base_uri": "https://localhost:8080/"
        },
        "id": "4jMYBjNTid1H",
        "outputId": "8d7709be-9120-41c6-f22a-f662e006df25"
      },
      "execution_count": null,
      "outputs": [
        {
          "output_type": "execute_result",
          "data": {
            "text/plain": [
              "2"
            ]
          },
          "metadata": {},
          "execution_count": 23
        }
      ]
    },
    {
      "cell_type": "code",
      "source": [
        "# create random tensors\n",
        "random_tensor = torch.rand(4, 3, 4)\n",
        "random_tensor"
      ],
      "metadata": {
        "colab": {
          "base_uri": "https://localhost:8080/"
        },
        "id": "jk16pvdYi1KI",
        "outputId": "b41a1013-7542-4910-9781-8e6e4971ba6b"
      },
      "execution_count": null,
      "outputs": [
        {
          "output_type": "execute_result",
          "data": {
            "text/plain": [
              "tensor([[[0.9860, 0.0128, 0.5180, 0.6506],\n",
              "         [0.8445, 0.8926, 0.1451, 0.3698],\n",
              "         [0.9463, 0.7093, 0.0900, 0.0525]],\n",
              "\n",
              "        [[0.5291, 0.6647, 0.2242, 0.7221],\n",
              "         [0.1645, 0.9775, 0.4280, 0.4377],\n",
              "         [0.8915, 0.8634, 0.4424, 0.6296]],\n",
              "\n",
              "        [[0.4639, 0.8155, 0.5121, 0.2408],\n",
              "         [0.2528, 0.1431, 0.4046, 0.0586],\n",
              "         [0.2994, 0.4315, 0.0432, 0.3856]],\n",
              "\n",
              "        [[0.1527, 0.1765, 0.0743, 0.1697],\n",
              "         [0.6629, 0.4414, 0.2829, 0.0558],\n",
              "         [0.2783, 0.1207, 0.3349, 0.9182]]])"
            ]
          },
          "metadata": {},
          "execution_count": 24
        }
      ]
    },
    {
      "cell_type": "code",
      "source": [
        "random_tensor.ndim"
      ],
      "metadata": {
        "colab": {
          "base_uri": "https://localhost:8080/"
        },
        "id": "NvoggitAi1Ds",
        "outputId": "4daede19-1479-4364-9d83-230a63dc5488"
      },
      "execution_count": null,
      "outputs": [
        {
          "output_type": "execute_result",
          "data": {
            "text/plain": [
              "3"
            ]
          },
          "metadata": {},
          "execution_count": 25
        }
      ]
    },
    {
      "cell_type": "code",
      "source": [
        "# create random tesnor with same shape as that of an image\n",
        "random_image_size_tensor = torch.rand(size=(224, 224, 3)) #height, width, color(R, G, B)\n",
        "random_image_size_tensor.shape, random_image_size_tensor.ndim"
      ],
      "metadata": {
        "colab": {
          "base_uri": "https://localhost:8080/"
        },
        "id": "7CaYbgbbi059",
        "outputId": "2f290cb8-84a4-4011-a23c-199d49444e31"
      },
      "execution_count": null,
      "outputs": [
        {
          "output_type": "execute_result",
          "data": {
            "text/plain": [
              "(torch.Size([224, 224, 3]), 3)"
            ]
          },
          "metadata": {},
          "execution_count": 26
        }
      ]
    },
    {
      "cell_type": "markdown",
      "source": [
        "### Zeros and Ones"
      ],
      "metadata": {
        "id": "oKHx1mFgjDJu"
      }
    },
    {
      "cell_type": "code",
      "source": [
        "# Create tensor of all zero\n",
        "zeros = torch.zeros(size=(3, 4))\n",
        "zeros"
      ],
      "metadata": {
        "id": "jF1RP1PLQjf8",
        "colab": {
          "base_uri": "https://localhost:8080/"
        },
        "outputId": "1852185b-4781-4a4c-abf5-228af9efb082"
      },
      "execution_count": null,
      "outputs": [
        {
          "output_type": "execute_result",
          "data": {
            "text/plain": [
              "tensor([[0., 0., 0., 0.],\n",
              "        [0., 0., 0., 0.],\n",
              "        [0., 0., 0., 0.]])"
            ]
          },
          "metadata": {},
          "execution_count": 27
        }
      ]
    },
    {
      "cell_type": "code",
      "source": [
        "zeros * random_tensor"
      ],
      "metadata": {
        "colab": {
          "base_uri": "https://localhost:8080/"
        },
        "id": "O7df9IfThbF0",
        "outputId": "a0ab209e-65e9-4cc0-ef19-f752f1e9c6bc"
      },
      "execution_count": null,
      "outputs": [
        {
          "output_type": "execute_result",
          "data": {
            "text/plain": [
              "tensor([[[0., 0., 0., 0.],\n",
              "         [0., 0., 0., 0.],\n",
              "         [0., 0., 0., 0.]],\n",
              "\n",
              "        [[0., 0., 0., 0.],\n",
              "         [0., 0., 0., 0.],\n",
              "         [0., 0., 0., 0.]],\n",
              "\n",
              "        [[0., 0., 0., 0.],\n",
              "         [0., 0., 0., 0.],\n",
              "         [0., 0., 0., 0.]],\n",
              "\n",
              "        [[0., 0., 0., 0.],\n",
              "         [0., 0., 0., 0.],\n",
              "         [0., 0., 0., 0.]]])"
            ]
          },
          "metadata": {},
          "execution_count": 28
        }
      ]
    },
    {
      "cell_type": "code",
      "source": [
        "# Create tensor of all ones\n",
        "ones = torch.ones(size=(3, 4))\n",
        "ones"
      ],
      "metadata": {
        "colab": {
          "base_uri": "https://localhost:8080/"
        },
        "id": "IBAzAhDghkgU",
        "outputId": "58f83de2-dc7b-4e41-eecc-0054fca6ff65"
      },
      "execution_count": null,
      "outputs": [
        {
          "output_type": "execute_result",
          "data": {
            "text/plain": [
              "tensor([[1., 1., 1., 1.],\n",
              "        [1., 1., 1., 1.],\n",
              "        [1., 1., 1., 1.]])"
            ]
          },
          "metadata": {},
          "execution_count": 29
        }
      ]
    },
    {
      "cell_type": "code",
      "source": [
        "ones * random_tensor"
      ],
      "metadata": {
        "colab": {
          "base_uri": "https://localhost:8080/"
        },
        "id": "59gsFtbWix7y",
        "outputId": "ac0bace1-b0e3-4198-d873-c809c8b04eed"
      },
      "execution_count": null,
      "outputs": [
        {
          "output_type": "execute_result",
          "data": {
            "text/plain": [
              "tensor([[[0.9860, 0.0128, 0.5180, 0.6506],\n",
              "         [0.8445, 0.8926, 0.1451, 0.3698],\n",
              "         [0.9463, 0.7093, 0.0900, 0.0525]],\n",
              "\n",
              "        [[0.5291, 0.6647, 0.2242, 0.7221],\n",
              "         [0.1645, 0.9775, 0.4280, 0.4377],\n",
              "         [0.8915, 0.8634, 0.4424, 0.6296]],\n",
              "\n",
              "        [[0.4639, 0.8155, 0.5121, 0.2408],\n",
              "         [0.2528, 0.1431, 0.4046, 0.0586],\n",
              "         [0.2994, 0.4315, 0.0432, 0.3856]],\n",
              "\n",
              "        [[0.1527, 0.1765, 0.0743, 0.1697],\n",
              "         [0.6629, 0.4414, 0.2829, 0.0558],\n",
              "         [0.2783, 0.1207, 0.3349, 0.9182]]])"
            ]
          },
          "metadata": {},
          "execution_count": 30
        }
      ]
    },
    {
      "cell_type": "markdown",
      "source": [
        "### Create range of tensors and tensors-like"
      ],
      "metadata": {
        "id": "KzDk7Xp0jcAg"
      }
    },
    {
      "cell_type": "code",
      "source": [
        "# create range\n",
        "torch_range = torch.arange(0, 5)\n",
        "\n",
        "# create a step \n",
        "torch_range_step = torch.arange(start=0, end=500, step=10)"
      ],
      "metadata": {
        "id": "TuQtFD4ri1ps"
      },
      "execution_count": null,
      "outputs": []
    },
    {
      "cell_type": "code",
      "source": [
        "torch_range_step.shape"
      ],
      "metadata": {
        "colab": {
          "base_uri": "https://localhost:8080/"
        },
        "id": "tTh9yz_7jtxB",
        "outputId": "c5d47678-9ec9-4e6f-d6da-c6424d8c1cad"
      },
      "execution_count": null,
      "outputs": [
        {
          "output_type": "execute_result",
          "data": {
            "text/plain": [
              "torch.Size([50])"
            ]
          },
          "metadata": {},
          "execution_count": 32
        }
      ]
    },
    {
      "cell_type": "code",
      "source": [
        "#create a zero tensor that will be similar to the input\n",
        "tensor_zeros_like = torch.zeros_like(input=torch_range_step)\n",
        "tensor_zeros_like"
      ],
      "metadata": {
        "colab": {
          "base_uri": "https://localhost:8080/"
        },
        "id": "2Tpa0ZdFlr12",
        "outputId": "35af1b66-d751-44ab-9af2-78de514e7492"
      },
      "execution_count": null,
      "outputs": [
        {
          "output_type": "execute_result",
          "data": {
            "text/plain": [
              "tensor([0, 0, 0, 0, 0, 0, 0, 0, 0, 0, 0, 0, 0, 0, 0, 0, 0, 0, 0, 0, 0, 0, 0, 0,\n",
              "        0, 0, 0, 0, 0, 0, 0, 0, 0, 0, 0, 0, 0, 0, 0, 0, 0, 0, 0, 0, 0, 0, 0, 0,\n",
              "        0, 0])"
            ]
          },
          "metadata": {},
          "execution_count": 33
        }
      ]
    },
    {
      "cell_type": "code",
      "source": [
        "#create a ones tensor that will be similar to the input\n",
        "tensor_ones_like = torch.ones_like(input=torch_range_step)\n",
        "tensor_ones_like"
      ],
      "metadata": {
        "colab": {
          "base_uri": "https://localhost:8080/"
        },
        "id": "0NRRr__hkskZ",
        "outputId": "03e4e884-bafc-424a-e213-8cb020c93c15"
      },
      "execution_count": null,
      "outputs": [
        {
          "output_type": "execute_result",
          "data": {
            "text/plain": [
              "tensor([1, 1, 1, 1, 1, 1, 1, 1, 1, 1, 1, 1, 1, 1, 1, 1, 1, 1, 1, 1, 1, 1, 1, 1,\n",
              "        1, 1, 1, 1, 1, 1, 1, 1, 1, 1, 1, 1, 1, 1, 1, 1, 1, 1, 1, 1, 1, 1, 1, 1,\n",
              "        1, 1])"
            ]
          },
          "metadata": {},
          "execution_count": 34
        }
      ]
    },
    {
      "cell_type": "markdown",
      "source": [
        "### Tensor Datatype\n",
        "\n",
        "1. Always check if the tensors are the right datatype\n",
        "2. Always check if the tensors are the rigth shape\n",
        "3. Always check if the tensors is on thr right device"
      ],
      "metadata": {
        "id": "Jz19R_-9nHsp"
      }
    },
    {
      "cell_type": "code",
      "source": [
        " # default data type is float 32\n",
        " # dtype=torch.float16 will convert the data type to float 16\n",
        " # float32 means the numbers are stored in 32 bit\n",
        " # float16 means the numbers are stored in 16 bit\n",
        "float_32_tensor = torch.tensor([3.0, 4.0, 5.0], dtype=torch.float16)\n",
        "\n",
        "# dtype = None will take the default data type which is float32\n",
        "float_32_tensor = torch.tensor([3.0, 4.0, 5.0], dtype=None)"
      ],
      "metadata": {
        "id": "VissIHNfnNGM"
      },
      "execution_count": null,
      "outputs": []
    },
    {
      "cell_type": "code",
      "source": [
        "float_32_tensor.dtype"
      ],
      "metadata": {
        "colab": {
          "base_uri": "https://localhost:8080/"
        },
        "id": "blI50nUQoLaj",
        "outputId": "ff6a21cb-5c7d-44bf-89e2-83b4f985a819"
      },
      "execution_count": null,
      "outputs": [
        {
          "output_type": "execute_result",
          "data": {
            "text/plain": [
              "torch.float32"
            ]
          },
          "metadata": {},
          "execution_count": 36
        }
      ]
    },
    {
      "cell_type": "code",
      "source": [
        "float_32_tensor = torch.tensor([3.0, 4.0, 5.0], dtype=None,\n",
        "                               device=None, # what gradient your tensor is on\n",
        "                               requires_grad=True)# whether or not to track gradients with tensor operations"
      ],
      "metadata": {
        "id": "iy125srooQ_E"
      },
      "execution_count": null,
      "outputs": []
    },
    {
      "cell_type": "code",
      "source": [
        "# convert float32 to float16\n",
        "float_16_tensor = float_32_tensor.type(torch.float16)\n",
        "float_16_tensor"
      ],
      "metadata": {
        "colab": {
          "base_uri": "https://localhost:8080/"
        },
        "id": "rrrzfHhlo59H",
        "outputId": "2634e4ba-8fb7-4a6a-98d1-41cd43e9ce4d"
      },
      "execution_count": null,
      "outputs": [
        {
          "output_type": "execute_result",
          "data": {
            "text/plain": [
              "tensor([3., 4., 5.], dtype=torch.float16, grad_fn=<ToCopyBackward0>)"
            ]
          },
          "metadata": {},
          "execution_count": 38
        }
      ]
    },
    {
      "cell_type": "markdown",
      "source": [
        "### Getting info from Tensor(Tensor Attributes)\n",
        "\n",
        "1. Always check if the tensors are the right datatype- check `tensor.dtype`\n",
        "2. Always check if the tensors are the rigth shape - check `tensor.shape`\n",
        "3. Always check if the tensors is on thr right device - check `tensor.device`"
      ],
      "metadata": {
        "id": "Y89OpuWotQ_K"
      }
    },
    {
      "cell_type": "code",
      "source": [
        "tensor_one = torch.rand(4, 3)\n",
        "tensor_one"
      ],
      "metadata": {
        "colab": {
          "base_uri": "https://localhost:8080/"
        },
        "id": "zssf6L1wryfN",
        "outputId": "5bdbb57f-a011-4008-a81a-3422fcad9451"
      },
      "execution_count": null,
      "outputs": [
        {
          "output_type": "execute_result",
          "data": {
            "text/plain": [
              "tensor([[0.1228, 0.6050, 0.7397],\n",
              "        [0.3010, 0.1233, 0.9973],\n",
              "        [0.8997, 0.1492, 0.8343],\n",
              "        [0.5059, 0.7278, 0.3461]])"
            ]
          },
          "metadata": {},
          "execution_count": 39
        }
      ]
    },
    {
      "cell_type": "code",
      "source": [
        "print(f'tensor data type is {tensor_one.dtype}')\n",
        "print(f'tensor shape is {tensor_one.shape}')\n",
        "print(f'tensor device is {tensor_one.device}')"
      ],
      "metadata": {
        "colab": {
          "base_uri": "https://localhost:8080/"
        },
        "id": "47ioqJPwsEox",
        "outputId": "69b267f7-124c-4d09-d8e8-3281e195c1fa"
      },
      "execution_count": null,
      "outputs": [
        {
          "output_type": "stream",
          "name": "stdout",
          "text": [
            "tensor data type is torch.float32\n",
            "tensor shape is torch.Size([4, 3])\n",
            "tensor device is cpu\n"
          ]
        }
      ]
    },
    {
      "cell_type": "markdown",
      "source": [
        "### Manipulating Tensors\n",
        "\n",
        "Tensor operations include:\n",
        "1. Addition\n",
        "2. Subtraction\n",
        "3. Multiplication\n",
        "4. Division\n",
        "5. Matrix Multiplication\n"
      ],
      "metadata": {
        "id": "sHGf0XZPvewf"
      }
    },
    {
      "cell_type": "code",
      "source": [
        "# Addition\n",
        "tensor = torch.tensor([1, 2, 3])\n",
        "tensor + 10"
      ],
      "metadata": {
        "colab": {
          "base_uri": "https://localhost:8080/"
        },
        "id": "zxzWe0BjsIE8",
        "outputId": "b9f2d9ec-12d9-433d-ae46-f1a650585f96"
      },
      "execution_count": null,
      "outputs": [
        {
          "output_type": "execute_result",
          "data": {
            "text/plain": [
              "tensor([11, 12, 13])"
            ]
          },
          "metadata": {},
          "execution_count": 41
        }
      ]
    },
    {
      "cell_type": "code",
      "source": [
        "# multiplication\n",
        "tensor * 10"
      ],
      "metadata": {
        "colab": {
          "base_uri": "https://localhost:8080/"
        },
        "id": "8_Iu2oLvwUj2",
        "outputId": "c7abc634-1b8e-4dbe-bc51-4c74cc02387c"
      },
      "execution_count": null,
      "outputs": [
        {
          "output_type": "execute_result",
          "data": {
            "text/plain": [
              "tensor([10, 20, 30])"
            ]
          },
          "metadata": {},
          "execution_count": 42
        }
      ]
    },
    {
      "cell_type": "code",
      "source": [
        " #subtraction\n",
        "tensor - 10"
      ],
      "metadata": {
        "colab": {
          "base_uri": "https://localhost:8080/"
        },
        "id": "SP9--sA8wZxe",
        "outputId": "5872e131-1105-4b2f-a67a-ff5c5943e9f6"
      },
      "execution_count": null,
      "outputs": [
        {
          "output_type": "execute_result",
          "data": {
            "text/plain": [
              "tensor([-9, -8, -7])"
            ]
          },
          "metadata": {},
          "execution_count": 43
        }
      ]
    },
    {
      "cell_type": "code",
      "source": [
        "# pytorch built-in functions\n",
        "torch.mul(tensor , 10)"
      ],
      "metadata": {
        "colab": {
          "base_uri": "https://localhost:8080/"
        },
        "id": "NFiyNZcU0IkR",
        "outputId": "85530d02-d91a-4353-8569-6b38b2e23868"
      },
      "execution_count": null,
      "outputs": [
        {
          "output_type": "execute_result",
          "data": {
            "text/plain": [
              "tensor([10, 20, 30])"
            ]
          },
          "metadata": {},
          "execution_count": 44
        }
      ]
    },
    {
      "cell_type": "code",
      "source": [
        "torch.add(tensor, 10)"
      ],
      "metadata": {
        "colab": {
          "base_uri": "https://localhost:8080/"
        },
        "id": "ywiuOF6f0VXc",
        "outputId": "47190f01-a9c5-4922-efd6-09b216736088"
      },
      "execution_count": null,
      "outputs": [
        {
          "output_type": "execute_result",
          "data": {
            "text/plain": [
              "tensor([11, 12, 13])"
            ]
          },
          "metadata": {},
          "execution_count": 45
        }
      ]
    },
    {
      "cell_type": "markdown",
      "source": [
        "### Matrix Multiplication\n",
        "\n",
        "Two type of multiplication used in neural networks and deep learning is:\n",
        "1. Element-wise multiplication\n",
        "2. Matrix- Multiplicaiton(dot-product)"
      ],
      "metadata": {
        "id": "5TWMLyXZ2Tkf"
      }
    },
    {
      "cell_type": "code",
      "source": [
        "# Element wise multiplication\n",
        "print('element multiplication is', tensor * tensor)"
      ],
      "metadata": {
        "colab": {
          "base_uri": "https://localhost:8080/"
        },
        "id": "ffwYShVo0bzA",
        "outputId": "0fa99781-58f5-4025-a6a6-413a3560e35e"
      },
      "execution_count": null,
      "outputs": [
        {
          "output_type": "stream",
          "name": "stdout",
          "text": [
            "element multiplication is tensor([1, 4, 9])\n"
          ]
        }
      ]
    },
    {
      "cell_type": "code",
      "source": [
        "# Matrix Multiplication\n",
        "print('Matrix multiplication is', torch.matmul(tensor, tensor))"
      ],
      "metadata": {
        "colab": {
          "base_uri": "https://localhost:8080/"
        },
        "id": "mb90GDMk4AJE",
        "outputId": "f0611b6e-20a4-4464-b7e2-7e2d447db1ee"
      },
      "execution_count": null,
      "outputs": [
        {
          "output_type": "stream",
          "name": "stdout",
          "text": [
            "Matrix multiplication is tensor(14)\n"
          ]
        }
      ]
    },
    {
      "cell_type": "code",
      "source": [
        "# @ stands for matrix multiplication\n",
        "tensor @ tensor"
      ],
      "metadata": {
        "colab": {
          "base_uri": "https://localhost:8080/"
        },
        "id": "IzvvX-WN6PJq",
        "outputId": "d657bd91-98c7-4009-bcd5-c4d1ba15ab91"
      },
      "execution_count": null,
      "outputs": [
        {
          "output_type": "execute_result",
          "data": {
            "text/plain": [
              "tensor(14)"
            ]
          },
          "metadata": {},
          "execution_count": 48
        }
      ]
    },
    {
      "cell_type": "markdown",
      "source": [
        "### Criteria Matrix multplication should comply\n",
        "\n",
        "1. Inner dimensions should match\n",
        "\n",
        "```\n",
        "(3, 2) @ (3, 2) won't work\n",
        "(3, 2) @ (2, 3) will work\n",
        "(2, 3) @ (3, 2) will work\n",
        "```\n",
        "2. The shape of the resulting matrix should be equal to outer dimensions\n",
        "\n",
        "\n",
        "```\n",
        "(2, 3) @ (3, 2) -> (2, 2)\n",
        "(3, 2) @ (2, 3) -> (3, 3)\n",
        "```\n",
        "\n"
      ],
      "metadata": {
        "id": "QjiaE6tZ8HVS"
      }
    },
    {
      "cell_type": "markdown",
      "source": [
        "### Most common error of DL is shape errors\n",
        "\n",
        "To fix shape errors, manipulate the shape of the tensors using **transpose**\n",
        "\n",
        "A **transpose** will switch the axes or dimensions of the given tensor"
      ],
      "metadata": {
        "id": "l7uuSlkCD0N5"
      }
    },
    {
      "cell_type": "code",
      "source": [
        "tensor_A = torch.tensor([[1, 2, 3],\n",
        "                         [4, 5, 6]])\n",
        "\n",
        "tensor_B = torch.tensor([[7, 8, 9],\n",
        "                         [10, 11, 12]])"
      ],
      "metadata": {
        "id": "SsGZsewe4QwT"
      },
      "execution_count": null,
      "outputs": []
    },
    {
      "cell_type": "code",
      "source": [
        "tensor_A.shape, tensor_B.shape"
      ],
      "metadata": {
        "colab": {
          "base_uri": "https://localhost:8080/"
        },
        "id": "NSO9FNe3EtJw",
        "outputId": "6c9288dd-e1e7-4ce8-b8c3-160fdfd99a66"
      },
      "execution_count": null,
      "outputs": [
        {
          "output_type": "execute_result",
          "data": {
            "text/plain": [
              "(torch.Size([2, 3]), torch.Size([2, 3]))"
            ]
          },
          "metadata": {},
          "execution_count": 50
        }
      ]
    },
    {
      "cell_type": "code",
      "source": [
        "tensor_A.shape, tensor_B.T.shape"
      ],
      "metadata": {
        "colab": {
          "base_uri": "https://localhost:8080/"
        },
        "id": "R-Hu3WJcFPfe",
        "outputId": "c12a1927-e730-4a41-dc68-3d00197afdba"
      },
      "execution_count": null,
      "outputs": [
        {
          "output_type": "execute_result",
          "data": {
            "text/plain": [
              "(torch.Size([2, 3]), torch.Size([3, 2]))"
            ]
          },
          "metadata": {},
          "execution_count": 51
        }
      ]
    },
    {
      "cell_type": "code",
      "source": [
        "# to re arrange the shape, we can take the transpose of tensor_B and matrix multiply it\n",
        "torch.matmul(tensor_A, tensor_B.T)"
      ],
      "metadata": {
        "colab": {
          "base_uri": "https://localhost:8080/"
        },
        "id": "BbddP8GcExvh",
        "outputId": "63ad7ed4-8208-4f7d-d1b5-4324989aa801"
      },
      "execution_count": null,
      "outputs": [
        {
          "output_type": "execute_result",
          "data": {
            "text/plain": [
              "tensor([[ 50,  68],\n",
              "        [122, 167]])"
            ]
          },
          "metadata": {},
          "execution_count": 52
        }
      ]
    },
    {
      "cell_type": "markdown",
      "source": [
        "### Tensor Aggregation\n",
        "\n",
        "Finding the min, max, mean ans sum of tensors"
      ],
      "metadata": {
        "id": "a618xUScHcCD"
      }
    },
    {
      "cell_type": "code",
      "source": [
        "# create a tensor\n",
        "x = torch.arange(0, 100, 10)\n",
        "x"
      ],
      "metadata": {
        "colab": {
          "base_uri": "https://localhost:8080/"
        },
        "id": "ouhtL_JHFMIg",
        "outputId": "ef92ba3c-953f-4e04-aa0a-d8c25ec049a0"
      },
      "execution_count": null,
      "outputs": [
        {
          "output_type": "execute_result",
          "data": {
            "text/plain": [
              "tensor([ 0, 10, 20, 30, 40, 50, 60, 70, 80, 90])"
            ]
          },
          "metadata": {},
          "execution_count": 53
        }
      ]
    },
    {
      "cell_type": "code",
      "source": [
        "# find the min\n",
        "torch.min(x), x.min()"
      ],
      "metadata": {
        "colab": {
          "base_uri": "https://localhost:8080/"
        },
        "id": "kib9pRC4I3qK",
        "outputId": "70a2925f-ec45-4ee9-8814-9c8f4a444393"
      },
      "execution_count": null,
      "outputs": [
        {
          "output_type": "execute_result",
          "data": {
            "text/plain": [
              "(tensor(0), tensor(0))"
            ]
          },
          "metadata": {},
          "execution_count": 54
        }
      ]
    },
    {
      "cell_type": "code",
      "source": [
        "# find the max\n",
        "# we can use both the methods to find  the max\n",
        "torch.max(x), x.max()"
      ],
      "metadata": {
        "colab": {
          "base_uri": "https://localhost:8080/"
        },
        "id": "bayqAzfyJeTU",
        "outputId": "3b9e4f8c-4175-4a2d-d832-5dab8854bc2d"
      },
      "execution_count": null,
      "outputs": [
        {
          "output_type": "execute_result",
          "data": {
            "text/plain": [
              "(tensor(90), tensor(90))"
            ]
          },
          "metadata": {},
          "execution_count": 55
        }
      ]
    },
    {
      "cell_type": "code",
      "source": [
        "# find the mean\n",
        "#note: we have to convert the tensor to float32 to make the mean work\n",
        "torch.mean(x.type(torch.float32)), x.type(torch.float32).mean()"
      ],
      "metadata": {
        "colab": {
          "base_uri": "https://localhost:8080/"
        },
        "id": "ywex2_fEJe1d",
        "outputId": "5e2cf68f-0cf1-4517-eb63-1389e7158433"
      },
      "execution_count": null,
      "outputs": [
        {
          "output_type": "execute_result",
          "data": {
            "text/plain": [
              "(tensor(45.), tensor(45.))"
            ]
          },
          "metadata": {},
          "execution_count": 56
        }
      ]
    },
    {
      "cell_type": "code",
      "source": [
        "# find the sum\n",
        "torch.sum(x), x.sum()"
      ],
      "metadata": {
        "colab": {
          "base_uri": "https://localhost:8080/"
        },
        "id": "iSiAg5hgJxgS",
        "outputId": "125f24b3-6a69-45f0-f07e-c4c275ff1827"
      },
      "execution_count": null,
      "outputs": [
        {
          "output_type": "execute_result",
          "data": {
            "text/plain": [
              "(tensor(450), tensor(450))"
            ]
          },
          "metadata": {},
          "execution_count": 57
        }
      ]
    },
    {
      "cell_type": "markdown",
      "source": [
        "Find the position of min and max"
      ],
      "metadata": {
        "id": "PdD8ulcvJgdF"
      }
    },
    {
      "cell_type": "code",
      "source": [
        "# find the index where the minimum value of the tensor is positioned\n",
        "x.argmin()"
      ],
      "metadata": {
        "colab": {
          "base_uri": "https://localhost:8080/"
        },
        "id": "oYDk-AfqKEqK",
        "outputId": "74b39989-5517-4e06-dac3-a068a39b7f91"
      },
      "execution_count": null,
      "outputs": [
        {
          "output_type": "execute_result",
          "data": {
            "text/plain": [
              "tensor(0)"
            ]
          },
          "metadata": {},
          "execution_count": 58
        }
      ]
    },
    {
      "cell_type": "code",
      "source": [
        "# find the index where the minimum value of the tensor is positioned\n",
        "x.argmax()"
      ],
      "metadata": {
        "colab": {
          "base_uri": "https://localhost:8080/"
        },
        "id": "jmitUWNiKAF1",
        "outputId": "896a4fad-de2c-45c2-ef44-ea24ae93e62e"
      },
      "execution_count": null,
      "outputs": [
        {
          "output_type": "execute_result",
          "data": {
            "text/plain": [
              "tensor(9)"
            ]
          },
          "metadata": {},
          "execution_count": 59
        }
      ]
    },
    {
      "cell_type": "markdown",
      "source": [
        "### Reshaping, stacking, squeezing and unsqueezing tensors\n",
        "* Reshaping - reshapes an input tensor to a defined shape\n",
        "* View - return view of input tensor of certain shape but keep the same memory as the original tensor\n",
        "* Stacking - combine multiple tensors on top of each other(vstack) or side by side(hstack)\n",
        "* Squeeze - remove `1 dimensions` from tensor\n",
        "* Unsqueeze - add `1 dimension` to a target tensor\n",
        "* Permute - Return a view of the input with dimensions permuted(swappped) in a certain way "
      ],
      "metadata": {
        "id": "poLE75xKSoeY"
      }
    },
    {
      "cell_type": "code",
      "source": [
        "x = torch.arange(1, 10)\n",
        "x, x.shape, x.ndim"
      ],
      "metadata": {
        "colab": {
          "base_uri": "https://localhost:8080/"
        },
        "id": "X0ghuwzGKIWl",
        "outputId": "5b35ba79-9c1a-4b1d-b68a-1bdb386c417c"
      },
      "execution_count": null,
      "outputs": [
        {
          "output_type": "execute_result",
          "data": {
            "text/plain": [
              "(tensor([1, 2, 3, 4, 5, 6, 7, 8, 9]), torch.Size([9]), 1)"
            ]
          },
          "metadata": {},
          "execution_count": 60
        }
      ]
    },
    {
      "cell_type": "code",
      "source": [
        "# add an extra dimension\n",
        "x_reshaped = x.reshape(1, 9)\n",
        "x_reshaped, x_reshaped.shape, x_reshaped.ndim"
      ],
      "metadata": {
        "colab": {
          "base_uri": "https://localhost:8080/"
        },
        "id": "gYjTFcK-Ylyo",
        "outputId": "52e0abf9-b2f2-4508-84db-dcdbafa2d23b"
      },
      "execution_count": null,
      "outputs": [
        {
          "output_type": "execute_result",
          "data": {
            "text/plain": [
              "(tensor([[1, 2, 3, 4, 5, 6, 7, 8, 9]]), torch.Size([1, 9]), 2)"
            ]
          },
          "metadata": {},
          "execution_count": 61
        }
      ]
    },
    {
      "cell_type": "code",
      "source": [
        "# change the view\n",
        "z = x.view(1, 9)\n",
        "z, z.shape"
      ],
      "metadata": {
        "colab": {
          "base_uri": "https://localhost:8080/"
        },
        "id": "u7LT-5WTYxAq",
        "outputId": "97b97234-0546-4ad0-9385-6e278b91e169"
      },
      "execution_count": null,
      "outputs": [
        {
          "output_type": "execute_result",
          "data": {
            "text/plain": [
              "(tensor([[1, 2, 3, 4, 5, 6, 7, 8, 9]]), torch.Size([1, 9]))"
            ]
          },
          "metadata": {},
          "execution_count": 62
        }
      ]
    },
    {
      "cell_type": "code",
      "source": [
        "# view will share the same memory location as that of x. ie, any change made in z will change x\n",
        "z[:, 0] = 5\n",
        "z, x"
      ],
      "metadata": {
        "colab": {
          "base_uri": "https://localhost:8080/"
        },
        "id": "ikLbphr7ZFGJ",
        "outputId": "51792730-298c-45b3-e976-dced28fc9f55"
      },
      "execution_count": null,
      "outputs": [
        {
          "output_type": "execute_result",
          "data": {
            "text/plain": [
              "(tensor([[5, 2, 3, 4, 5, 6, 7, 8, 9]]), tensor([5, 2, 3, 4, 5, 6, 7, 8, 9]))"
            ]
          },
          "metadata": {},
          "execution_count": 63
        }
      ]
    },
    {
      "cell_type": "code",
      "source": [
        "# stacking tensors\n",
        "# dim = 0 will stack the tensor vertically\n",
        "x_stac_vert = torch.stack([x, x, x], dim=0)\n",
        "x_stac_vert"
      ],
      "metadata": {
        "colab": {
          "base_uri": "https://localhost:8080/"
        },
        "id": "TVvxTRwQZ0uN",
        "outputId": "057d897b-0af5-48c9-e4d7-3b54c3add71d"
      },
      "execution_count": null,
      "outputs": [
        {
          "output_type": "execute_result",
          "data": {
            "text/plain": [
              "tensor([[5, 2, 3, 4, 5, 6, 7, 8, 9],\n",
              "        [5, 2, 3, 4, 5, 6, 7, 8, 9],\n",
              "        [5, 2, 3, 4, 5, 6, 7, 8, 9]])"
            ]
          },
          "metadata": {},
          "execution_count": 64
        }
      ]
    },
    {
      "cell_type": "code",
      "source": [
        "# dim = 1 will stack the tensor horizontally\n",
        "x_stack_hor= torch.stack([x, x, x], dim=1)\n",
        "x_stack_hor"
      ],
      "metadata": {
        "colab": {
          "base_uri": "https://localhost:8080/"
        },
        "id": "doH0XfSqcoWK",
        "outputId": "3f23d0b8-487a-42d1-cb8b-7fb3f7d750e8"
      },
      "execution_count": null,
      "outputs": [
        {
          "output_type": "execute_result",
          "data": {
            "text/plain": [
              "tensor([[5, 5, 5],\n",
              "        [2, 2, 2],\n",
              "        [3, 3, 3],\n",
              "        [4, 4, 4],\n",
              "        [5, 5, 5],\n",
              "        [6, 6, 6],\n",
              "        [7, 7, 7],\n",
              "        [8, 8, 8],\n",
              "        [9, 9, 9]])"
            ]
          },
          "metadata": {},
          "execution_count": 65
        }
      ]
    },
    {
      "cell_type": "markdown",
      "source": [
        "### PyTorch tensors and Numpy\n",
        "\n",
        "Numpy is a scientific computing library\n",
        "* To convert fro numpy to tensor `torch.from_numpy(ndarray)`\n",
        "* To convert a tensor to numpy `torch.Tensor.numpy()`"
      ],
      "metadata": {
        "id": "Gbwdfe8RmAu5"
      }
    },
    {
      "cell_type": "code",
      "source": [
        "# convert numpy to tensor\n",
        "import numpy as np\n",
        "array = np.arange(1.0, 8.0)\n",
        "tensor = torch.from_numpy(array)\n",
        "array, tensor\n",
        "\n",
        "# Here the data type when converted from numpy to tensor is changed from float32\n",
        "# to float64\n"
      ],
      "metadata": {
        "id": "Yd0p7kekc4di",
        "outputId": "f8c411c0-ada8-45e3-d6b7-e570f3642c21",
        "colab": {
          "base_uri": "https://localhost:8080/"
        }
      },
      "execution_count": null,
      "outputs": [
        {
          "output_type": "execute_result",
          "data": {
            "text/plain": [
              "(array([1., 2., 3., 4., 5., 6., 7.]),\n",
              " tensor([1., 2., 3., 4., 5., 6., 7.], dtype=torch.float64))"
            ]
          },
          "metadata": {},
          "execution_count": 66
        }
      ]
    },
    {
      "cell_type": "code",
      "source": [
        "# to convert the float32 to float64\n",
        "tensor = torch.from_numpy(array).type(torch.float32)\n",
        "tensor.dtype"
      ],
      "metadata": {
        "id": "XUtqtFK6nYRq",
        "outputId": "ff5cb5a1-078f-45fd-e238-047b7a4cfffa",
        "colab": {
          "base_uri": "https://localhost:8080/"
        }
      },
      "execution_count": null,
      "outputs": [
        {
          "output_type": "execute_result",
          "data": {
            "text/plain": [
              "torch.float32"
            ]
          },
          "metadata": {},
          "execution_count": 67
        }
      ]
    },
    {
      "cell_type": "code",
      "source": [
        "# any change in numpy will not affect tensors\n",
        "array = array + 1\n",
        "array, tensor"
      ],
      "metadata": {
        "id": "GWiCYLFuoJPq",
        "colab": {
          "base_uri": "https://localhost:8080/"
        },
        "outputId": "4090aaa7-f5f5-4f26-dc92-ba4299347283"
      },
      "execution_count": null,
      "outputs": [
        {
          "output_type": "execute_result",
          "data": {
            "text/plain": [
              "(array([2., 3., 4., 5., 6., 7., 8.]), tensor([1., 2., 3., 4., 5., 6., 7.]))"
            ]
          },
          "metadata": {},
          "execution_count": 68
        }
      ]
    },
    {
      "cell_type": "code",
      "source": [
        "# tensor to numpy\n",
        "tensor = torch.ones(5)\n",
        "numpy_ten = tensor.numpy()\n",
        "tensor, numpy_ten\n",
        "\n",
        "print(tensor.dtype)\n",
        "print(numpy_ten.dtype)\n",
        "# here we can see that both tensor and numpy are of same data types"
      ],
      "metadata": {
        "colab": {
          "base_uri": "https://localhost:8080/"
        },
        "id": "U0fsNav77N8e",
        "outputId": "2889b024-2364-4fd7-d063-dc4b8fd6ff92"
      },
      "execution_count": null,
      "outputs": [
        {
          "output_type": "stream",
          "name": "stdout",
          "text": [
            "torch.float32\n",
            "float32\n"
          ]
        }
      ]
    },
    {
      "cell_type": "code",
      "source": [
        "# any change in tensor will not affect numpy  \n",
        "tensor = tensor + 1\n",
        "tensor, numpy_ten"
      ],
      "metadata": {
        "colab": {
          "base_uri": "https://localhost:8080/"
        },
        "id": "PX90Lt848q-f",
        "outputId": "c297c506-2631-43e7-af64-7c6767207845"
      },
      "execution_count": null,
      "outputs": [
        {
          "output_type": "execute_result",
          "data": {
            "text/plain": [
              "(tensor([2., 2., 2., 2., 2.]), array([1., 1., 1., 1., 1.], dtype=float32))"
            ]
          },
          "metadata": {},
          "execution_count": 70
        }
      ]
    },
    {
      "cell_type": "markdown",
      "source": [
        "### Reproducability\n",
        "\n",
        "How Neural Networks works:\n",
        "\n",
        "`start with random numbers -> tensor operations -> update the random numbers to try and make them better representation of the data -> again -> again -> again..`"
      ],
      "metadata": {
        "id": "NgwyNOAl-eeH"
      }
    },
    {
      "cell_type": "code",
      "source": [
        "# create two random tensors\n",
        "random_tensor_A = torch.rand(3, 4)\n",
        "random_tensor_B = torch.rand(3, 4)\n",
        "print(random_tensor_A)\n",
        "print( random_tensor_B)\n",
        "# check if any of the elements in tensor A and tensor B is the same\n",
        "print(random_tensor_A == random_tensor_B)"
      ],
      "metadata": {
        "colab": {
          "base_uri": "https://localhost:8080/"
        },
        "id": "T7-lmdCf_LYj",
        "outputId": "bdb63032-4ac5-41d0-dba3-8cbc4332b47a"
      },
      "execution_count": null,
      "outputs": [
        {
          "output_type": "stream",
          "name": "stdout",
          "text": [
            "tensor([[0.7125, 0.3939, 0.3522, 0.8712],\n",
            "        [0.0167, 0.0570, 0.4922, 0.5600],\n",
            "        [0.4702, 0.0423, 0.5036, 0.1363]])\n",
            "tensor([[0.7200, 0.1843, 0.8178, 0.9782],\n",
            "        [0.5686, 0.1406, 0.2830, 0.3605],\n",
            "        [0.8263, 0.8594, 0.8540, 0.9721]])\n",
            "tensor([[False, False, False, False],\n",
            "        [False, False, False, False],\n",
            "        [False, False, False, False]])\n"
          ]
        }
      ]
    },
    {
      "cell_type": "code",
      "source": [
        "# Usually the random numbers we create uisng random.rand will not give us the same\n",
        "# numbers. ie, if we try to reproduce the same results it is not possible\n",
        "# To reproduce the same random numbers we cann use SEED \n",
        "\n",
        "# to set the RANDOM SEED\n",
        "RANDOM_SEED = 42 # you can put any number (flavour)\n",
        "torch.manual_seed(RANDOM_SEED)\n",
        "random_tensor_C = torch.rand(3, 4)\n",
        "\n",
        "# each time we are initialising random numbers we have to manually set\n",
        "# RANDOM SEED\n",
        "torch.manual_seed(RANDOM_SEED)\n",
        "random_tensor_D = torch.rand(3, 4)\n",
        "print(random_tensor_A)\n",
        "print( random_tensor_B)\n",
        "# we can see that all the tensors with the same RANDOM_SEED will have the same numbers\n",
        "print(random_tensor_C == random_tensor_D)\n"
      ],
      "metadata": {
        "colab": {
          "base_uri": "https://localhost:8080/"
        },
        "id": "diDM-44IF5nR",
        "outputId": "30218bc9-00b8-48cc-cef1-67c38012578d"
      },
      "execution_count": null,
      "outputs": [
        {
          "output_type": "stream",
          "name": "stdout",
          "text": [
            "tensor([[0.7125, 0.3939, 0.3522, 0.8712],\n",
            "        [0.0167, 0.0570, 0.4922, 0.5600],\n",
            "        [0.4702, 0.0423, 0.5036, 0.1363]])\n",
            "tensor([[0.7200, 0.1843, 0.8178, 0.9782],\n",
            "        [0.5686, 0.1406, 0.2830, 0.3605],\n",
            "        [0.8263, 0.8594, 0.8540, 0.9721]])\n",
            "tensor([[True, True, True, True],\n",
            "        [True, True, True, True],\n",
            "        [True, True, True, True]])\n"
          ]
        }
      ]
    },
    {
      "cell_type": "markdown",
      "source": [
        "Running Tensors and PyTorch on GPU"
      ],
      "metadata": {
        "id": "TSSwwEUTIr1R"
      }
    },
    {
      "cell_type": "code",
      "source": [
        "!nvidia-smi"
      ],
      "metadata": {
        "colab": {
          "base_uri": "https://localhost:8080/"
        },
        "id": "U0s1Jr4KHbQi",
        "outputId": "aabad3cc-b530-4331-bf7d-7fcdeeb6cccc"
      },
      "execution_count": null,
      "outputs": [
        {
          "output_type": "stream",
          "name": "stdout",
          "text": [
            "Mon Nov  7 06:01:56 2022       \n",
            "+-----------------------------------------------------------------------------+\n",
            "| NVIDIA-SMI 460.32.03    Driver Version: 460.32.03    CUDA Version: 11.2     |\n",
            "|-------------------------------+----------------------+----------------------+\n",
            "| GPU  Name        Persistence-M| Bus-Id        Disp.A | Volatile Uncorr. ECC |\n",
            "| Fan  Temp  Perf  Pwr:Usage/Cap|         Memory-Usage | GPU-Util  Compute M. |\n",
            "|                               |                      |               MIG M. |\n",
            "|===============================+======================+======================|\n",
            "|   0  Tesla T4            Off  | 00000000:00:04.0 Off |                    0 |\n",
            "| N/A   43C    P0    25W /  70W |      0MiB / 15109MiB |      0%      Default |\n",
            "|                               |                      |                  N/A |\n",
            "+-------------------------------+----------------------+----------------------+\n",
            "                                                                               \n",
            "+-----------------------------------------------------------------------------+\n",
            "| Processes:                                                                  |\n",
            "|  GPU   GI   CI        PID   Type   Process name                  GPU Memory |\n",
            "|        ID   ID                                                   Usage      |\n",
            "|=============================================================================|\n",
            "|  No running processes found                                                 |\n",
            "+-----------------------------------------------------------------------------+\n"
          ]
        }
      ]
    },
    {
      "cell_type": "code",
      "source": [
        "# check for GPU acess with PyTorch\n",
        "import torch\n",
        "torch.cuda.is_available()"
      ],
      "metadata": {
        "colab": {
          "base_uri": "https://localhost:8080/"
        },
        "id": "aHDm2dLdHagK",
        "outputId": "ad9e57dc-1955-4652-d742-96ac40c65518"
      },
      "execution_count": null,
      "outputs": [
        {
          "output_type": "execute_result",
          "data": {
            "text/plain": [
              "True"
            ]
          },
          "metadata": {},
          "execution_count": 74
        }
      ]
    },
    {
      "cell_type": "code",
      "source": [
        "# PyTorch mightnot always have access to GPU. But if there is a GPU then we \n",
        "# would like to access it.\n",
        "# So we will set a device using device agnostic code.\n",
        "# Fpr PyTorch since it is possible to run on both CPU and GPU, it is always \n",
        "# advisable to setup a device agnostic code.\n",
        "# ie, run on GPU if available else GPU\n",
        "device = 'cuda' if torch.cuda.is_available() else 'cpu'\n",
        "device"
      ],
      "metadata": {
        "colab": {
          "base_uri": "https://localhost:8080/",
          "height": 36
        },
        "id": "u2E-yPYbK2cw",
        "outputId": "2ae2c0a2-051d-4ded-beab-c12aade59953"
      },
      "execution_count": null,
      "outputs": [
        {
          "output_type": "execute_result",
          "data": {
            "text/plain": [
              "'cuda'"
            ],
            "application/vnd.google.colaboratory.intrinsic+json": {
              "type": "string"
            }
          },
          "metadata": {},
          "execution_count": 75
        }
      ]
    },
    {
      "cell_type": "code",
      "source": [
        "# count the number of GPU\n",
        "torch.cuda.device_count()"
      ],
      "metadata": {
        "colab": {
          "base_uri": "https://localhost:8080/"
        },
        "id": "_nDd4m0BLgvz",
        "outputId": "e3367840-34e1-439d-b263-91122f72a908"
      },
      "execution_count": null,
      "outputs": [
        {
          "output_type": "execute_result",
          "data": {
            "text/plain": [
              "1"
            ]
          },
          "metadata": {},
          "execution_count": 76
        }
      ]
    },
    {
      "cell_type": "markdown",
      "source": [
        "### Putting tensors and models on GPU\n",
        "\n",
        "GPU will result in faster computation"
      ],
      "metadata": {
        "id": "GRnZNa9msBJ7"
      }
    },
    {
      "cell_type": "code",
      "source": [
        "# when we create a tensor, it will be by default created on the cpu\n",
        "tensor = torch.tensor([1, 2, 3])\n",
        "tensor, tensor.device"
      ],
      "metadata": {
        "colab": {
          "base_uri": "https://localhost:8080/"
        },
        "id": "bIvu9WugL8D7",
        "outputId": "9595b72a-5832-4584-8a2c-c91830373872"
      },
      "execution_count": null,
      "outputs": [
        {
          "output_type": "execute_result",
          "data": {
            "text/plain": [
              "(tensor([1, 2, 3]), device(type='cpu'))"
            ]
          },
          "metadata": {},
          "execution_count": 77
        }
      ]
    },
    {
      "cell_type": "code",
      "source": [
        "# move the tensor to GPU\n",
        "# here device is already set to cuda if available\n",
        "tensor_on_gpu = tensor.to(device)\n",
        "tensor_on_gpu"
      ],
      "metadata": {
        "colab": {
          "base_uri": "https://localhost:8080/"
        },
        "id": "dm-nBhTRs2_7",
        "outputId": "18c8343d-2b89-4e53-c04b-77ae2840df21"
      },
      "execution_count": null,
      "outputs": [
        {
          "output_type": "execute_result",
          "data": {
            "text/plain": [
              "tensor([1, 2, 3], device='cuda:0')"
            ]
          },
          "metadata": {},
          "execution_count": 79
        }
      ]
    },
    {
      "cell_type": "code",
      "source": [
        "# Numpy does not work with tensors on GPU.\n",
        "# so we have to convert it back on cpu\n",
        "tensor_on_cpu = tensor_on_gpu.cpu()\n",
        "tensor_on_cpu"
      ],
      "metadata": {
        "colab": {
          "base_uri": "https://localhost:8080/"
        },
        "id": "KnAhMQUds7cH",
        "outputId": "7cc3b9b7-c30e-407c-bf27-88638b6e5197"
      },
      "execution_count": null,
      "outputs": [
        {
          "output_type": "execute_result",
          "data": {
            "text/plain": [
              "tensor([1, 2, 3])"
            ]
          },
          "metadata": {},
          "execution_count": 83
        }
      ]
    },
    {
      "cell_type": "code",
      "source": [
        "# Numpy operation on tensor \n",
        "tensor_numpy = tensor_on_cpu.numpy()\n",
        "tensor_numpy"
      ],
      "metadata": {
        "colab": {
          "base_uri": "https://localhost:8080/"
        },
        "id": "bDjVpDwit_qa",
        "outputId": "9c02e582-d58b-4c96-f351-782273cfeb87"
      },
      "execution_count": null,
      "outputs": [
        {
          "output_type": "execute_result",
          "data": {
            "text/plain": [
              "array([1, 2, 3])"
            ]
          },
          "metadata": {},
          "execution_count": 84
        }
      ]
    }
  ]
}