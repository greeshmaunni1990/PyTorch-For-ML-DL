{
  "nbformat": 4,
  "nbformat_minor": 0,
  "metadata": {
    "colab": {
      "provenance": [],
      "collapsed_sections": [],
      "authorship_tag": "ABX9TyO+Zu2wDaZ8YJCtyEw1MEqQ",
      "include_colab_link": true
    },
    "kernelspec": {
      "name": "python3",
      "display_name": "Python 3"
    },
    "language_info": {
      "name": "python"
    }
  },
  "cells": [
    {
      "cell_type": "markdown",
      "metadata": {
        "id": "view-in-github",
        "colab_type": "text"
      },
      "source": [
        "<a href=\"https://colab.research.google.com/github/greeshmaunni1990/PyTorch-For-ML-DL/blob/main/00_pytorch_fundamentals_video.ipynb\" target=\"_parent\"><img src=\"https://colab.research.google.com/assets/colab-badge.svg\" alt=\"Open In Colab\"/></a>"
      ]
    },
    {
      "cell_type": "code",
      "execution_count": 2,
      "metadata": {
        "colab": {
          "base_uri": "https://localhost:8080/"
        },
        "id": "c_EhkN7cUOz4",
        "outputId": "04143d6e-38cb-453e-d35a-d4ff8be237f4"
      },
      "outputs": [
        {
          "output_type": "stream",
          "name": "stdout",
          "text": [
            "HEllo world\n"
          ]
        }
      ],
      "source": [
        "print('HEllo world')"
      ]
    },
    {
      "cell_type": "code",
      "source": [
        "!nvidia-smi"
      ],
      "metadata": {
        "colab": {
          "base_uri": "https://localhost:8080/"
        },
        "id": "xoJdA1V-Uk1o",
        "outputId": "62369cf6-47f2-4125-d663-967664398e67"
      },
      "execution_count": 3,
      "outputs": [
        {
          "output_type": "stream",
          "name": "stdout",
          "text": [
            "NVIDIA-SMI has failed because it couldn't communicate with the NVIDIA driver. Make sure that the latest NVIDIA driver is installed and running.\n",
            "\n"
          ]
        }
      ]
    },
    {
      "cell_type": "code",
      "source": [
        "import torch\n",
        "import pandas as pd\n",
        "import numpy as np\n",
        "import matplotlib.pyplot as plt"
      ],
      "metadata": {
        "id": "5NAFmEX2U5OZ"
      },
      "execution_count": 4,
      "outputs": []
    },
    {
      "cell_type": "code",
      "source": [
        "print(torch.__version__)"
      ],
      "metadata": {
        "colab": {
          "base_uri": "https://localhost:8080/"
        },
        "id": "aKHbbvMLVq_K",
        "outputId": "8fb2c79b-fa64-42b0-d218-d6ec92896a9e"
      },
      "execution_count": 5,
      "outputs": [
        {
          "output_type": "stream",
          "name": "stdout",
          "text": [
            "1.12.1+cu113\n"
          ]
        }
      ]
    },
    {
      "cell_type": "markdown",
      "source": [
        "## Introduction to tensors"
      ],
      "metadata": {
        "id": "-MmY40pgXmgn"
      }
    },
    {
      "cell_type": "markdown",
      "source": [
        "**Creating tensors**"
      ],
      "metadata": {
        "id": "HcwwyXGvX2PT"
      }
    },
    {
      "cell_type": "code",
      "source": [
        "# scalar\n",
        "scalar = torch.tensor(7)\n",
        "scalar"
      ],
      "metadata": {
        "colab": {
          "base_uri": "https://localhost:8080/"
        },
        "id": "Cz6Hul-iX-P9",
        "outputId": "14aa3eb9-5978-41a3-d747-b854f4b75147"
      },
      "execution_count": 6,
      "outputs": [
        {
          "output_type": "execute_result",
          "data": {
            "text/plain": [
              "tensor(7)"
            ]
          },
          "metadata": {},
          "execution_count": 6
        }
      ]
    },
    {
      "cell_type": "code",
      "source": [
        "scalar.ndim"
      ],
      "metadata": {
        "colab": {
          "base_uri": "https://localhost:8080/"
        },
        "id": "HVpsI2_SX4Aa",
        "outputId": "934f8371-318a-49d8-f4f1-70d7798f9fad"
      },
      "execution_count": 7,
      "outputs": [
        {
          "output_type": "execute_result",
          "data": {
            "text/plain": [
              "0"
            ]
          },
          "metadata": {},
          "execution_count": 7
        }
      ]
    },
    {
      "cell_type": "code",
      "source": [
        "scalar.item()"
      ],
      "metadata": {
        "colab": {
          "base_uri": "https://localhost:8080/"
        },
        "id": "fbCOt-vLYPmX",
        "outputId": "813b4cd7-b567-4967-b81a-b63f670a85c8"
      },
      "execution_count": 8,
      "outputs": [
        {
          "output_type": "execute_result",
          "data": {
            "text/plain": [
              "7"
            ]
          },
          "metadata": {},
          "execution_count": 8
        }
      ]
    },
    {
      "cell_type": "code",
      "source": [
        "# vector\n",
        "vector = torch.tensor([7, 7])"
      ],
      "metadata": {
        "id": "GcZ3mQwYYZKX"
      },
      "execution_count": 9,
      "outputs": []
    },
    {
      "cell_type": "code",
      "source": [
        "# dimension can be easily calculated by the number of square brackets.\n",
        "# if it is has one square brack then it is 1-D\n",
        "# if it has two square brack then it is 2-D\n",
        "\n",
        "vector.ndim"
      ],
      "metadata": {
        "colab": {
          "base_uri": "https://localhost:8080/"
        },
        "id": "kmIOxMTVYnpY",
        "outputId": "2409708d-4839-408c-ff3d-3a8e470cd999"
      },
      "execution_count": 10,
      "outputs": [
        {
          "output_type": "execute_result",
          "data": {
            "text/plain": [
              "1"
            ]
          },
          "metadata": {},
          "execution_count": 10
        }
      ]
    },
    {
      "cell_type": "code",
      "source": [
        "vector.shape"
      ],
      "metadata": {
        "colab": {
          "base_uri": "https://localhost:8080/"
        },
        "id": "3lxxsnBWYp4o",
        "outputId": "24822c20-eb4b-44a1-969b-66d1ad0efa68"
      },
      "execution_count": 11,
      "outputs": [
        {
          "output_type": "execute_result",
          "data": {
            "text/plain": [
              "torch.Size([2])"
            ]
          },
          "metadata": {},
          "execution_count": 11
        }
      ]
    },
    {
      "cell_type": "code",
      "source": [
        "# MATRIX\n",
        "MATRIX = torch.tensor([[1, 2], [3, 4]])\n",
        "MATRIX"
      ],
      "metadata": {
        "colab": {
          "base_uri": "https://localhost:8080/"
        },
        "id": "ZuQDW6yOZEt7",
        "outputId": "89bc6b01-8ad1-4744-84fc-f80328f85c27"
      },
      "execution_count": 12,
      "outputs": [
        {
          "output_type": "execute_result",
          "data": {
            "text/plain": [
              "tensor([[1, 2],\n",
              "        [3, 4]])"
            ]
          },
          "metadata": {},
          "execution_count": 12
        }
      ]
    },
    {
      "cell_type": "code",
      "source": [
        "MATRIX.dtype"
      ],
      "metadata": {
        "colab": {
          "base_uri": "https://localhost:8080/"
        },
        "id": "w4JsdOMSZJhs",
        "outputId": "b6995e7d-ac3a-40d4-d834-f5b874c60fcb"
      },
      "execution_count": 13,
      "outputs": [
        {
          "output_type": "execute_result",
          "data": {
            "text/plain": [
              "torch.int64"
            ]
          },
          "metadata": {},
          "execution_count": 13
        }
      ]
    },
    {
      "cell_type": "code",
      "source": [
        "MATRIX.ndim"
      ],
      "metadata": {
        "colab": {
          "base_uri": "https://localhost:8080/"
        },
        "id": "LsAH5LF_ZsxN",
        "outputId": "6cfdb643-e1b6-4f06-ac13-fd795a69165b"
      },
      "execution_count": 14,
      "outputs": [
        {
          "output_type": "execute_result",
          "data": {
            "text/plain": [
              "2"
            ]
          },
          "metadata": {},
          "execution_count": 14
        }
      ]
    },
    {
      "cell_type": "code",
      "source": [
        "MATRIX[0]"
      ],
      "metadata": {
        "colab": {
          "base_uri": "https://localhost:8080/"
        },
        "id": "VrS8QZocZwdP",
        "outputId": "d0d147cd-c8b5-4d38-ba8a-0bed92780182"
      },
      "execution_count": 15,
      "outputs": [
        {
          "output_type": "execute_result",
          "data": {
            "text/plain": [
              "tensor([1, 2])"
            ]
          },
          "metadata": {},
          "execution_count": 15
        }
      ]
    },
    {
      "cell_type": "code",
      "source": [
        "MATRIX[1]"
      ],
      "metadata": {
        "colab": {
          "base_uri": "https://localhost:8080/"
        },
        "id": "h8auLsHnZyT8",
        "outputId": "abb16558-0a27-4264-8274-cbfe09f7b849"
      },
      "execution_count": 16,
      "outputs": [
        {
          "output_type": "execute_result",
          "data": {
            "text/plain": [
              "tensor([3, 4])"
            ]
          },
          "metadata": {},
          "execution_count": 16
        }
      ]
    },
    {
      "cell_type": "code",
      "source": [
        "MATRIX.shape"
      ],
      "metadata": {
        "colab": {
          "base_uri": "https://localhost:8080/"
        },
        "id": "bM8_hemPZ0_D",
        "outputId": "70d926ed-b38d-40b8-bb2b-79b6e1ec0427"
      },
      "execution_count": 17,
      "outputs": [
        {
          "output_type": "execute_result",
          "data": {
            "text/plain": [
              "torch.Size([2, 2])"
            ]
          },
          "metadata": {},
          "execution_count": 17
        }
      ]
    },
    {
      "cell_type": "code",
      "source": [
        "# TENSOR\n",
        "TENSOR = torch.tensor([[[1, 2, 3],\n",
        "                        [5, 7, 3],\n",
        "                        [11, 58, 36]]])\n",
        "TENSOR"
      ],
      "metadata": {
        "colab": {
          "base_uri": "https://localhost:8080/"
        },
        "id": "iGQvzKgcZ5XQ",
        "outputId": "e850e280-ae14-40a4-f168-c44144da668a"
      },
      "execution_count": 18,
      "outputs": [
        {
          "output_type": "execute_result",
          "data": {
            "text/plain": [
              "tensor([[[ 1,  2,  3],\n",
              "         [ 5,  7,  3],\n",
              "         [11, 58, 36]]])"
            ]
          },
          "metadata": {},
          "execution_count": 18
        }
      ]
    },
    {
      "cell_type": "code",
      "source": [
        "TENSOR.ndim"
      ],
      "metadata": {
        "colab": {
          "base_uri": "https://localhost:8080/"
        },
        "id": "6LPrCOPoaOrK",
        "outputId": "a07e2997-1f0e-4637-ee2f-932a6381b3d3"
      },
      "execution_count": 19,
      "outputs": [
        {
          "output_type": "execute_result",
          "data": {
            "text/plain": [
              "3"
            ]
          },
          "metadata": {},
          "execution_count": 19
        }
      ]
    },
    {
      "cell_type": "code",
      "source": [
        "TENSOR.shape"
      ],
      "metadata": {
        "colab": {
          "base_uri": "https://localhost:8080/"
        },
        "id": "G7Is3uVcaiyF",
        "outputId": "af6eeb8c-ef6f-414a-eb91-ec4f180a6fba"
      },
      "execution_count": 20,
      "outputs": [
        {
          "output_type": "execute_result",
          "data": {
            "text/plain": [
              "torch.Size([1, 3, 3])"
            ]
          },
          "metadata": {},
          "execution_count": 20
        }
      ]
    },
    {
      "cell_type": "code",
      "source": [
        "TENSOR = torch.tensor([[[[[[2, 11, 36.5], [58, 33, 26]]]]]])\n",
        "TENSOR"
      ],
      "metadata": {
        "colab": {
          "base_uri": "https://localhost:8080/"
        },
        "id": "Gcmhi9BYansA",
        "outputId": "45142248-216e-442e-998c-b28a0f381a88"
      },
      "execution_count": 21,
      "outputs": [
        {
          "output_type": "execute_result",
          "data": {
            "text/plain": [
              "tensor([[[[[[ 2.0000, 11.0000, 36.5000],\n",
              "            [58.0000, 33.0000, 26.0000]]]]]])"
            ]
          },
          "metadata": {},
          "execution_count": 21
        }
      ]
    },
    {
      "cell_type": "code",
      "source": [
        "TENSOR.shape"
      ],
      "metadata": {
        "colab": {
          "base_uri": "https://localhost:8080/"
        },
        "id": "JCcYUDeEbSwT",
        "outputId": "be712be4-f973-415e-ace5-3773e6504872"
      },
      "execution_count": 22,
      "outputs": [
        {
          "output_type": "execute_result",
          "data": {
            "text/plain": [
              "torch.Size([1, 1, 1, 1, 2, 3])"
            ]
          },
          "metadata": {},
          "execution_count": 22
        }
      ]
    },
    {
      "cell_type": "markdown",
      "source": [
        "### Random Tensors\n",
        "\n",
        "Random numbers are important bacause the way manu neural networks learn is that they start with tensors full of random numbers and then they adjust these random numbers to better represent data\n",
        "```\n",
        "Start with random numbers -> look at data -> update random numbers -> look at data > update random numers\n",
        "```\n",
        "\n",
        "\n"
      ],
      "metadata": {
        "id": "m2y7SVHSgxTr"
      }
    },
    {
      "cell_type": "code",
      "source": [
        "# create random tensors\n",
        "random_tensor = torch.rand(3, 4)\n",
        "random_tensor"
      ],
      "metadata": {
        "colab": {
          "base_uri": "https://localhost:8080/"
        },
        "id": "3PNsarZZiPJr",
        "outputId": "b459080f-702c-4ea6-8836-cbab6d752751"
      },
      "execution_count": 23,
      "outputs": [
        {
          "output_type": "execute_result",
          "data": {
            "text/plain": [
              "tensor([[0.6564, 0.4078, 0.4717, 0.3132],\n",
              "        [0.0517, 0.8721, 0.0978, 0.6252],\n",
              "        [0.4222, 0.6316, 0.0203, 0.7917]])"
            ]
          },
          "metadata": {},
          "execution_count": 23
        }
      ]
    },
    {
      "cell_type": "code",
      "source": [
        "random_tensor.ndim"
      ],
      "metadata": {
        "colab": {
          "base_uri": "https://localhost:8080/"
        },
        "id": "4jMYBjNTid1H",
        "outputId": "3a3fd729-30bb-44f6-b2df-5586e8ca4d04"
      },
      "execution_count": 24,
      "outputs": [
        {
          "output_type": "execute_result",
          "data": {
            "text/plain": [
              "2"
            ]
          },
          "metadata": {},
          "execution_count": 24
        }
      ]
    },
    {
      "cell_type": "code",
      "source": [
        "# create random tensors\n",
        "random_tensor = torch.rand(4, 3, 4)\n",
        "random_tensor"
      ],
      "metadata": {
        "colab": {
          "base_uri": "https://localhost:8080/"
        },
        "id": "jk16pvdYi1KI",
        "outputId": "7f5c4a0c-d818-4144-c051-e7ed228226b9"
      },
      "execution_count": 30,
      "outputs": [
        {
          "output_type": "execute_result",
          "data": {
            "text/plain": [
              "tensor([[[0.0975, 0.8063, 0.9428, 0.6265],\n",
              "         [0.6757, 0.4921, 0.3412, 0.2047],\n",
              "         [0.7935, 0.2840, 0.1878, 0.3734]],\n",
              "\n",
              "        [[0.6485, 0.4742, 0.5748, 0.2829],\n",
              "         [0.5182, 0.1744, 0.4085, 0.9316],\n",
              "         [0.2494, 0.5573, 0.0053, 0.6465]],\n",
              "\n",
              "        [[0.4433, 0.0586, 0.4312, 0.1071],\n",
              "         [0.3413, 0.0656, 0.4791, 0.4870],\n",
              "         [0.8907, 0.7334, 0.6390, 0.4084]],\n",
              "\n",
              "        [[0.4069, 0.1988, 0.3388, 0.2253],\n",
              "         [0.7557, 0.6992, 0.6710, 0.0964],\n",
              "         [0.1838, 0.7802, 0.7203, 0.2352]]])"
            ]
          },
          "metadata": {},
          "execution_count": 30
        }
      ]
    },
    {
      "cell_type": "code",
      "source": [
        "random_tensor.ndim"
      ],
      "metadata": {
        "colab": {
          "base_uri": "https://localhost:8080/"
        },
        "id": "NvoggitAi1Ds",
        "outputId": "a8c302c0-b483-46db-c460-80df81bb1ec2"
      },
      "execution_count": 26,
      "outputs": [
        {
          "output_type": "execute_result",
          "data": {
            "text/plain": [
              "3"
            ]
          },
          "metadata": {},
          "execution_count": 26
        }
      ]
    },
    {
      "cell_type": "code",
      "source": [
        "# create random tesnor with same shape as that of an image\n",
        "random_image_size_tensor = torch.rand(size=(224, 224, 3)) #height, width, color(R, G, B)\n",
        "random_image_size_tensor.shape, random_image_size_tensor.ndim"
      ],
      "metadata": {
        "colab": {
          "base_uri": "https://localhost:8080/"
        },
        "id": "7CaYbgbbi059",
        "outputId": "18f22f32-30c7-4dc4-a81b-33c742f88386"
      },
      "execution_count": 27,
      "outputs": [
        {
          "output_type": "execute_result",
          "data": {
            "text/plain": [
              "(torch.Size([224, 224, 3]), 3)"
            ]
          },
          "metadata": {},
          "execution_count": 27
        }
      ]
    },
    {
      "cell_type": "markdown",
      "source": [
        "### Zeros and Ones"
      ],
      "metadata": {
        "id": "oKHx1mFgjDJu"
      }
    },
    {
      "cell_type": "code",
      "source": [
        "# Create tensor of all zero\n",
        "zeros = torch.zeros(size=(3, 4))\n",
        "zeros"
      ],
      "metadata": {
        "id": "jF1RP1PLQjf8",
        "colab": {
          "base_uri": "https://localhost:8080/"
        },
        "outputId": "afb52fa9-375e-46a2-d5c8-2846895ad381"
      },
      "execution_count": 31,
      "outputs": [
        {
          "output_type": "execute_result",
          "data": {
            "text/plain": [
              "tensor([[0., 0., 0., 0.],\n",
              "        [0., 0., 0., 0.],\n",
              "        [0., 0., 0., 0.]])"
            ]
          },
          "metadata": {},
          "execution_count": 31
        }
      ]
    },
    {
      "cell_type": "code",
      "source": [
        "zeros * random_tensor"
      ],
      "metadata": {
        "colab": {
          "base_uri": "https://localhost:8080/"
        },
        "id": "O7df9IfThbF0",
        "outputId": "838420d2-fe5d-4d23-ced3-48ed62e823bc"
      },
      "execution_count": 32,
      "outputs": [
        {
          "output_type": "execute_result",
          "data": {
            "text/plain": [
              "tensor([[[0., 0., 0., 0.],\n",
              "         [0., 0., 0., 0.],\n",
              "         [0., 0., 0., 0.]],\n",
              "\n",
              "        [[0., 0., 0., 0.],\n",
              "         [0., 0., 0., 0.],\n",
              "         [0., 0., 0., 0.]],\n",
              "\n",
              "        [[0., 0., 0., 0.],\n",
              "         [0., 0., 0., 0.],\n",
              "         [0., 0., 0., 0.]],\n",
              "\n",
              "        [[0., 0., 0., 0.],\n",
              "         [0., 0., 0., 0.],\n",
              "         [0., 0., 0., 0.]]])"
            ]
          },
          "metadata": {},
          "execution_count": 32
        }
      ]
    },
    {
      "cell_type": "code",
      "source": [
        "# Create tensor of all ones\n",
        "ones = torch.ones(size=(3, 4))\n",
        "ones"
      ],
      "metadata": {
        "colab": {
          "base_uri": "https://localhost:8080/"
        },
        "id": "IBAzAhDghkgU",
        "outputId": "3898f759-7399-448d-b259-a7f206571ed0"
      },
      "execution_count": 33,
      "outputs": [
        {
          "output_type": "execute_result",
          "data": {
            "text/plain": [
              "tensor([[1., 1., 1., 1.],\n",
              "        [1., 1., 1., 1.],\n",
              "        [1., 1., 1., 1.]])"
            ]
          },
          "metadata": {},
          "execution_count": 33
        }
      ]
    },
    {
      "cell_type": "code",
      "source": [
        "ones * random_tensor"
      ],
      "metadata": {
        "colab": {
          "base_uri": "https://localhost:8080/"
        },
        "id": "59gsFtbWix7y",
        "outputId": "86c9bfd1-48ed-4bc4-c898-0736406475fb"
      },
      "execution_count": 34,
      "outputs": [
        {
          "output_type": "execute_result",
          "data": {
            "text/plain": [
              "tensor([[[0.0975, 0.8063, 0.9428, 0.6265],\n",
              "         [0.6757, 0.4921, 0.3412, 0.2047],\n",
              "         [0.7935, 0.2840, 0.1878, 0.3734]],\n",
              "\n",
              "        [[0.6485, 0.4742, 0.5748, 0.2829],\n",
              "         [0.5182, 0.1744, 0.4085, 0.9316],\n",
              "         [0.2494, 0.5573, 0.0053, 0.6465]],\n",
              "\n",
              "        [[0.4433, 0.0586, 0.4312, 0.1071],\n",
              "         [0.3413, 0.0656, 0.4791, 0.4870],\n",
              "         [0.8907, 0.7334, 0.6390, 0.4084]],\n",
              "\n",
              "        [[0.4069, 0.1988, 0.3388, 0.2253],\n",
              "         [0.7557, 0.6992, 0.6710, 0.0964],\n",
              "         [0.1838, 0.7802, 0.7203, 0.2352]]])"
            ]
          },
          "metadata": {},
          "execution_count": 34
        }
      ]
    },
    {
      "cell_type": "markdown",
      "source": [
        "### Create range of tensors and tensors-like"
      ],
      "metadata": {
        "id": "KzDk7Xp0jcAg"
      }
    },
    {
      "cell_type": "code",
      "source": [
        "# create range\n",
        "torch_range = torch.arange(0, 5)\n",
        "\n",
        "# create a step \n",
        "torch_range_step = torch.arange(start=0, end=500, step=10)"
      ],
      "metadata": {
        "id": "TuQtFD4ri1ps"
      },
      "execution_count": 42,
      "outputs": []
    },
    {
      "cell_type": "code",
      "source": [
        "torch_range_step.shape"
      ],
      "metadata": {
        "colab": {
          "base_uri": "https://localhost:8080/"
        },
        "id": "tTh9yz_7jtxB",
        "outputId": "6eef3fb4-8e02-4254-cba9-332234454bb3"
      },
      "execution_count": 43,
      "outputs": [
        {
          "output_type": "execute_result",
          "data": {
            "text/plain": [
              "torch.Size([50])"
            ]
          },
          "metadata": {},
          "execution_count": 43
        }
      ]
    },
    {
      "cell_type": "code",
      "source": [
        "#create a zero tensor that will be similar to the input\n",
        "tensor_zeros_like = torch.zeros_like(input=torch_range_step)\n",
        "tensor_zeros_like"
      ],
      "metadata": {
        "colab": {
          "base_uri": "https://localhost:8080/"
        },
        "id": "2Tpa0ZdFlr12",
        "outputId": "f3b5af85-e59a-4db2-8315-e83576e99ae2"
      },
      "execution_count": 46,
      "outputs": [
        {
          "output_type": "execute_result",
          "data": {
            "text/plain": [
              "tensor([0, 0, 0, 0, 0, 0, 0, 0, 0, 0, 0, 0, 0, 0, 0, 0, 0, 0, 0, 0, 0, 0, 0, 0,\n",
              "        0, 0, 0, 0, 0, 0, 0, 0, 0, 0, 0, 0, 0, 0, 0, 0, 0, 0, 0, 0, 0, 0, 0, 0,\n",
              "        0, 0])"
            ]
          },
          "metadata": {},
          "execution_count": 46
        }
      ]
    },
    {
      "cell_type": "code",
      "source": [
        "#create a ones tensor that will be similar to the input\n",
        "tensor_ones_like = torch.ones_like(input=torch_range_step)\n",
        "tensor_ones_like"
      ],
      "metadata": {
        "colab": {
          "base_uri": "https://localhost:8080/"
        },
        "id": "0NRRr__hkskZ",
        "outputId": "aec9ff98-6701-4bd0-ffdb-a638fc8cd90a"
      },
      "execution_count": 48,
      "outputs": [
        {
          "output_type": "execute_result",
          "data": {
            "text/plain": [
              "tensor([1, 1, 1, 1, 1, 1, 1, 1, 1, 1, 1, 1, 1, 1, 1, 1, 1, 1, 1, 1, 1, 1, 1, 1,\n",
              "        1, 1, 1, 1, 1, 1, 1, 1, 1, 1, 1, 1, 1, 1, 1, 1, 1, 1, 1, 1, 1, 1, 1, 1,\n",
              "        1, 1])"
            ]
          },
          "metadata": {},
          "execution_count": 48
        }
      ]
    },
    {
      "cell_type": "markdown",
      "source": [
        "### Tensor Datatype\n",
        "\n",
        "1. Always check if the tensors are the right datatype\n",
        "2. Always check if the tensors are the rigth shape\n",
        "3. Always check if the tensors is on thr right device"
      ],
      "metadata": {
        "id": "Jz19R_-9nHsp"
      }
    },
    {
      "cell_type": "code",
      "source": [
        " # default data type is float 32\n",
        " # dtype=torch.float16 will convert the data type to float 16\n",
        " # float32 means the numbers are stored in 32 bit\n",
        " # float16 means the numbers are stored in 16 bit\n",
        "float_32_tensor = torch.tensor([3.0, 4.0, 5.0], dtype=torch.float16)\n",
        "\n",
        "# dtype = None will take the default data type which is float32\n",
        "float_32_tensor = torch.tensor([3.0, 4.0, 5.0], dtype=None)"
      ],
      "metadata": {
        "id": "VissIHNfnNGM"
      },
      "execution_count": 54,
      "outputs": []
    },
    {
      "cell_type": "code",
      "source": [
        "float_32_tensor.dtype"
      ],
      "metadata": {
        "colab": {
          "base_uri": "https://localhost:8080/"
        },
        "id": "blI50nUQoLaj",
        "outputId": "2131baa0-f966-4334-ad1f-23e1e8ba10b5"
      },
      "execution_count": 55,
      "outputs": [
        {
          "output_type": "execute_result",
          "data": {
            "text/plain": [
              "torch.float32"
            ]
          },
          "metadata": {},
          "execution_count": 55
        }
      ]
    },
    {
      "cell_type": "code",
      "source": [
        "float_32_tensor = torch.tensor([3.0, 4.0, 5.0], dtype=None,\n",
        "                               device=None, # what gradient your tensor is on\n",
        "                               requires_grad=True)# whether or not to track gradients with tensor operations"
      ],
      "metadata": {
        "id": "iy125srooQ_E"
      },
      "execution_count": 57,
      "outputs": []
    },
    {
      "cell_type": "code",
      "source": [
        "# convert float32 to float16\n",
        "float_16_tensor = float_32_tensor.type(torch.float16)\n",
        "float_16_tensor"
      ],
      "metadata": {
        "colab": {
          "base_uri": "https://localhost:8080/"
        },
        "id": "rrrzfHhlo59H",
        "outputId": "02d1a4be-a971-4e59-a571-e36da0dd7acc"
      },
      "execution_count": 58,
      "outputs": [
        {
          "output_type": "execute_result",
          "data": {
            "text/plain": [
              "tensor([3., 4., 5.], dtype=torch.float16, grad_fn=<ToCopyBackward0>)"
            ]
          },
          "metadata": {},
          "execution_count": 58
        }
      ]
    },
    {
      "cell_type": "markdown",
      "source": [
        "### Getting info from Tensor(Tensor Attributes)\n",
        "\n",
        "1. Always check if the tensors are the right datatype- check `tensor.dtype`\n",
        "2. Always check if the tensors are the rigth shape - check `tensor.shape`\n",
        "3. Always check if the tensors is on thr right device - check `tensor.device`"
      ],
      "metadata": {
        "id": "Y89OpuWotQ_K"
      }
    },
    {
      "cell_type": "code",
      "source": [
        "tensor_one = torch.rand(4, 3)\n",
        "tensor_one"
      ],
      "metadata": {
        "colab": {
          "base_uri": "https://localhost:8080/"
        },
        "id": "zssf6L1wryfN",
        "outputId": "8120d826-bb07-49a2-ee86-249ec07d3a89"
      },
      "execution_count": 66,
      "outputs": [
        {
          "output_type": "execute_result",
          "data": {
            "text/plain": [
              "tensor([[0.1649, 0.5882, 0.7479],\n",
              "        [0.7252, 0.4466, 0.9530],\n",
              "        [0.4517, 0.5434, 0.4018],\n",
              "        [0.4886, 0.1315, 0.4849]])"
            ]
          },
          "metadata": {},
          "execution_count": 66
        }
      ]
    },
    {
      "cell_type": "code",
      "source": [
        "print(f'tensor data type is {tensor_one.dtype}')\n",
        "print(f'tensor shape is {tensor_one.shape}')\n",
        "print(f'tensor device is {tensor_one.device}')"
      ],
      "metadata": {
        "colab": {
          "base_uri": "https://localhost:8080/"
        },
        "id": "47ioqJPwsEox",
        "outputId": "eec71136-d49a-423f-d11c-675dbf4369bf"
      },
      "execution_count": 68,
      "outputs": [
        {
          "output_type": "stream",
          "name": "stdout",
          "text": [
            "tensor data type is torch.float32\n",
            "tensor shape is torch.Size([4, 3])\n",
            "tensor device is cpu\n"
          ]
        }
      ]
    },
    {
      "cell_type": "markdown",
      "source": [
        "### Manipulating Tensors\n",
        "\n",
        "Tensor operations include:\n",
        "1. Addition\n",
        "2. Subtraction\n",
        "3. Multiplication\n",
        "4. Division\n",
        "5. Matrix Multiplication\n"
      ],
      "metadata": {
        "id": "sHGf0XZPvewf"
      }
    },
    {
      "cell_type": "code",
      "source": [
        "# Addition\n",
        "tensor = torch.tensor([1, 2, 3])\n",
        "tensor + 10"
      ],
      "metadata": {
        "colab": {
          "base_uri": "https://localhost:8080/"
        },
        "id": "zxzWe0BjsIE8",
        "outputId": "7f0929af-c5cb-4d98-88ad-d1901324b1ba"
      },
      "execution_count": 69,
      "outputs": [
        {
          "output_type": "execute_result",
          "data": {
            "text/plain": [
              "tensor([11, 12, 13])"
            ]
          },
          "metadata": {},
          "execution_count": 69
        }
      ]
    },
    {
      "cell_type": "code",
      "source": [
        "# multiplication\n",
        "tensor * 10"
      ],
      "metadata": {
        "colab": {
          "base_uri": "https://localhost:8080/"
        },
        "id": "8_Iu2oLvwUj2",
        "outputId": "ec5531a0-9730-41be-83e5-c3da3c1cd88e"
      },
      "execution_count": 70,
      "outputs": [
        {
          "output_type": "execute_result",
          "data": {
            "text/plain": [
              "tensor([10, 20, 30])"
            ]
          },
          "metadata": {},
          "execution_count": 70
        }
      ]
    },
    {
      "cell_type": "code",
      "source": [
        " #subtraction\n",
        "tensor - 10"
      ],
      "metadata": {
        "colab": {
          "base_uri": "https://localhost:8080/"
        },
        "id": "SP9--sA8wZxe",
        "outputId": "b8b62d6f-2acb-4293-b9af-ee34f034281e"
      },
      "execution_count": 71,
      "outputs": [
        {
          "output_type": "execute_result",
          "data": {
            "text/plain": [
              "tensor([-9, -8, -7])"
            ]
          },
          "metadata": {},
          "execution_count": 71
        }
      ]
    },
    {
      "cell_type": "code",
      "source": [
        "# pytorch built-in functions\n",
        "torch.mul(tensor , 10)"
      ],
      "metadata": {
        "colab": {
          "base_uri": "https://localhost:8080/"
        },
        "id": "NFiyNZcU0IkR",
        "outputId": "14251fa0-7a51-490e-e87c-684d9479f41f"
      },
      "execution_count": 73,
      "outputs": [
        {
          "output_type": "execute_result",
          "data": {
            "text/plain": [
              "tensor([10, 20, 30])"
            ]
          },
          "metadata": {},
          "execution_count": 73
        }
      ]
    },
    {
      "cell_type": "code",
      "source": [
        "torch.add(tensor, 10)"
      ],
      "metadata": {
        "colab": {
          "base_uri": "https://localhost:8080/"
        },
        "id": "ywiuOF6f0VXc",
        "outputId": "7c4463f8-644e-48ff-8266-297e8820669d"
      },
      "execution_count": 74,
      "outputs": [
        {
          "output_type": "execute_result",
          "data": {
            "text/plain": [
              "tensor([11, 12, 13])"
            ]
          },
          "metadata": {},
          "execution_count": 74
        }
      ]
    },
    {
      "cell_type": "markdown",
      "source": [
        "### Matrix Multiplication\n",
        "\n",
        "Two type of multiplication used in neural networks and deep learning is:\n",
        "1. Element-wise multiplication\n",
        "2. Matrix- Multiplicaiton(dot-product)"
      ],
      "metadata": {
        "id": "5TWMLyXZ2Tkf"
      }
    },
    {
      "cell_type": "code",
      "source": [
        "# Element wise multiplication\n",
        "print('element multiplication is', tensor * tensor)"
      ],
      "metadata": {
        "colab": {
          "base_uri": "https://localhost:8080/"
        },
        "id": "ffwYShVo0bzA",
        "outputId": "173190d2-1e91-46d8-de99-582b73ab710d"
      },
      "execution_count": 75,
      "outputs": [
        {
          "output_type": "stream",
          "name": "stdout",
          "text": [
            "element multiplication is tensor([1, 4, 9])\n"
          ]
        }
      ]
    },
    {
      "cell_type": "code",
      "source": [
        "# Matrix Multiplication\n",
        "print('Matrix multiplication is', torch.matmul(tensor, tensor))"
      ],
      "metadata": {
        "colab": {
          "base_uri": "https://localhost:8080/"
        },
        "id": "mb90GDMk4AJE",
        "outputId": "dc633f2a-fb3c-464c-b7f1-2c54099385f2"
      },
      "execution_count": 76,
      "outputs": [
        {
          "output_type": "stream",
          "name": "stdout",
          "text": [
            "Matrix multiplication is tensor(14)\n"
          ]
        }
      ]
    },
    {
      "cell_type": "code",
      "source": [
        "# @ stands for matrix multiplication\n",
        "tensor @ tensor"
      ],
      "metadata": {
        "colab": {
          "base_uri": "https://localhost:8080/"
        },
        "id": "IzvvX-WN6PJq",
        "outputId": "e047b0e0-9ec0-4f36-b1de-e5e70e0937cf"
      },
      "execution_count": 77,
      "outputs": [
        {
          "output_type": "execute_result",
          "data": {
            "text/plain": [
              "tensor(14)"
            ]
          },
          "metadata": {},
          "execution_count": 77
        }
      ]
    },
    {
      "cell_type": "markdown",
      "source": [
        "### Criteria Matrix multplication should comply\n",
        "\n",
        "1. Inner dimensions should match\n",
        "\n",
        "```\n",
        "(3, 2) @ (3, 2) won't work\n",
        "(3, 2) @ (2, 3) will work\n",
        "(2, 3) @ (3, 2) will work\n",
        "```\n",
        "2. The shape of the resulting matrix should be equal to outer dimensions\n",
        "\n",
        "\n",
        "```\n",
        "(2, 3) @ (3, 2) -> (2, 2)\n",
        "(3, 2) @ (2, 3) -> (3, 3)\n",
        "```\n",
        "\n"
      ],
      "metadata": {
        "id": "QjiaE6tZ8HVS"
      }
    },
    {
      "cell_type": "code",
      "source": [],
      "metadata": {
        "id": "SsGZsewe4QwT"
      },
      "execution_count": null,
      "outputs": []
    }
  ]
}