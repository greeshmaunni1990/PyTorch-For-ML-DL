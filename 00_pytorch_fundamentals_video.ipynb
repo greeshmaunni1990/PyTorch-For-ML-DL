{
  "nbformat": 4,
  "nbformat_minor": 0,
  "metadata": {
    "colab": {
      "provenance": [],
      "collapsed_sections": [],
      "authorship_tag": "ABX9TyPkcrq50WQjjVUhDkluv6vC",
      "include_colab_link": true
    },
    "kernelspec": {
      "name": "python3",
      "display_name": "Python 3"
    },
    "language_info": {
      "name": "python"
    }
  },
  "cells": [
    {
      "cell_type": "markdown",
      "metadata": {
        "id": "view-in-github",
        "colab_type": "text"
      },
      "source": [
        "<a href=\"https://colab.research.google.com/github/greeshmaunni1990/PyTorch-For-ML-DL/blob/main/00_pytorch_fundamentals_video.ipynb\" target=\"_parent\"><img src=\"https://colab.research.google.com/assets/colab-badge.svg\" alt=\"Open In Colab\"/></a>"
      ]
    },
    {
      "cell_type": "code",
      "execution_count": 61,
      "metadata": {
        "colab": {
          "base_uri": "https://localhost:8080/"
        },
        "id": "c_EhkN7cUOz4",
        "outputId": "43b9161d-58b9-4bfb-ffb5-004b5520a202"
      },
      "outputs": [
        {
          "output_type": "stream",
          "name": "stdout",
          "text": [
            "HEllo world\n"
          ]
        }
      ],
      "source": [
        "print('HEllo world')"
      ]
    },
    {
      "cell_type": "code",
      "source": [
        "!nvidia-smi"
      ],
      "metadata": {
        "colab": {
          "base_uri": "https://localhost:8080/"
        },
        "id": "xoJdA1V-Uk1o",
        "outputId": "be52a63b-7785-4014-ec19-250e2d593b0e"
      },
      "execution_count": 62,
      "outputs": [
        {
          "output_type": "stream",
          "name": "stdout",
          "text": [
            "NVIDIA-SMI has failed because it couldn't communicate with the NVIDIA driver. Make sure that the latest NVIDIA driver is installed and running.\n",
            "\n"
          ]
        }
      ]
    },
    {
      "cell_type": "code",
      "source": [
        "import torch\n",
        "import pandas as pd\n",
        "import numpy as np\n",
        "import matplotlib.pyplot as plt"
      ],
      "metadata": {
        "id": "5NAFmEX2U5OZ"
      },
      "execution_count": 63,
      "outputs": []
    },
    {
      "cell_type": "code",
      "source": [
        "print(torch.__version__)"
      ],
      "metadata": {
        "colab": {
          "base_uri": "https://localhost:8080/"
        },
        "id": "aKHbbvMLVq_K",
        "outputId": "462e4543-de6f-491d-84f3-b0b8555be753"
      },
      "execution_count": 64,
      "outputs": [
        {
          "output_type": "stream",
          "name": "stdout",
          "text": [
            "1.12.1+cu113\n"
          ]
        }
      ]
    },
    {
      "cell_type": "markdown",
      "source": [
        "## Introduction to tensors"
      ],
      "metadata": {
        "id": "-MmY40pgXmgn"
      }
    },
    {
      "cell_type": "markdown",
      "source": [
        "**Creating tensors**"
      ],
      "metadata": {
        "id": "HcwwyXGvX2PT"
      }
    },
    {
      "cell_type": "code",
      "source": [
        "# scalar\n",
        "scalar = torch.tensor(7)\n",
        "scalar"
      ],
      "metadata": {
        "colab": {
          "base_uri": "https://localhost:8080/"
        },
        "id": "Cz6Hul-iX-P9",
        "outputId": "53fd1031-ec43-46fc-c7dd-c8d4af3b81b3"
      },
      "execution_count": 65,
      "outputs": [
        {
          "output_type": "execute_result",
          "data": {
            "text/plain": [
              "tensor(7)"
            ]
          },
          "metadata": {},
          "execution_count": 65
        }
      ]
    },
    {
      "cell_type": "code",
      "source": [
        "scalar.ndim"
      ],
      "metadata": {
        "colab": {
          "base_uri": "https://localhost:8080/"
        },
        "id": "HVpsI2_SX4Aa",
        "outputId": "9959962f-c597-4482-c87a-c376fd03e33f"
      },
      "execution_count": 66,
      "outputs": [
        {
          "output_type": "execute_result",
          "data": {
            "text/plain": [
              "0"
            ]
          },
          "metadata": {},
          "execution_count": 66
        }
      ]
    },
    {
      "cell_type": "code",
      "source": [
        "scalar.item()"
      ],
      "metadata": {
        "colab": {
          "base_uri": "https://localhost:8080/"
        },
        "id": "fbCOt-vLYPmX",
        "outputId": "fa83237a-79d4-48fa-df55-5d31e5a53d7c"
      },
      "execution_count": 67,
      "outputs": [
        {
          "output_type": "execute_result",
          "data": {
            "text/plain": [
              "7"
            ]
          },
          "metadata": {},
          "execution_count": 67
        }
      ]
    },
    {
      "cell_type": "code",
      "source": [
        "# vector\n",
        "vector = torch.tensor([7, 7])"
      ],
      "metadata": {
        "id": "GcZ3mQwYYZKX"
      },
      "execution_count": 68,
      "outputs": []
    },
    {
      "cell_type": "code",
      "source": [
        "# dimension can be easily calculated by the number of square brackets.\n",
        "# if it is has one square brack then it is 1-D\n",
        "# if it has two square brack then it is 2-D\n",
        "\n",
        "vector.ndim"
      ],
      "metadata": {
        "colab": {
          "base_uri": "https://localhost:8080/"
        },
        "id": "kmIOxMTVYnpY",
        "outputId": "1e35ce9f-bde6-45f2-ea1c-91800ecf283a"
      },
      "execution_count": 69,
      "outputs": [
        {
          "output_type": "execute_result",
          "data": {
            "text/plain": [
              "1"
            ]
          },
          "metadata": {},
          "execution_count": 69
        }
      ]
    },
    {
      "cell_type": "code",
      "source": [
        "vector.shape"
      ],
      "metadata": {
        "colab": {
          "base_uri": "https://localhost:8080/"
        },
        "id": "3lxxsnBWYp4o",
        "outputId": "3b822d6c-0b20-4c39-92e9-2e27733f99cb"
      },
      "execution_count": 70,
      "outputs": [
        {
          "output_type": "execute_result",
          "data": {
            "text/plain": [
              "torch.Size([2])"
            ]
          },
          "metadata": {},
          "execution_count": 70
        }
      ]
    },
    {
      "cell_type": "code",
      "source": [
        "# MATRIX\n",
        "MATRIX = torch.tensor([[1, 2], [3, 4]])\n",
        "MATRIX"
      ],
      "metadata": {
        "colab": {
          "base_uri": "https://localhost:8080/"
        },
        "id": "ZuQDW6yOZEt7",
        "outputId": "271c210d-1117-467a-b298-98b51b4a0cd7"
      },
      "execution_count": 71,
      "outputs": [
        {
          "output_type": "execute_result",
          "data": {
            "text/plain": [
              "tensor([[1, 2],\n",
              "        [3, 4]])"
            ]
          },
          "metadata": {},
          "execution_count": 71
        }
      ]
    },
    {
      "cell_type": "code",
      "source": [
        "MATRIX.dtype"
      ],
      "metadata": {
        "colab": {
          "base_uri": "https://localhost:8080/"
        },
        "id": "w4JsdOMSZJhs",
        "outputId": "d7825867-6ffe-4687-e003-820876f5994c"
      },
      "execution_count": 72,
      "outputs": [
        {
          "output_type": "execute_result",
          "data": {
            "text/plain": [
              "torch.int64"
            ]
          },
          "metadata": {},
          "execution_count": 72
        }
      ]
    },
    {
      "cell_type": "code",
      "source": [
        "MATRIX.ndim"
      ],
      "metadata": {
        "colab": {
          "base_uri": "https://localhost:8080/"
        },
        "id": "LsAH5LF_ZsxN",
        "outputId": "0dec752f-4343-4ece-e709-69dc22086d90"
      },
      "execution_count": 73,
      "outputs": [
        {
          "output_type": "execute_result",
          "data": {
            "text/plain": [
              "2"
            ]
          },
          "metadata": {},
          "execution_count": 73
        }
      ]
    },
    {
      "cell_type": "code",
      "source": [
        "MATRIX[0]"
      ],
      "metadata": {
        "colab": {
          "base_uri": "https://localhost:8080/"
        },
        "id": "VrS8QZocZwdP",
        "outputId": "12da77c3-80f4-459e-fc99-7c8104195546"
      },
      "execution_count": 74,
      "outputs": [
        {
          "output_type": "execute_result",
          "data": {
            "text/plain": [
              "tensor([1, 2])"
            ]
          },
          "metadata": {},
          "execution_count": 74
        }
      ]
    },
    {
      "cell_type": "code",
      "source": [
        "MATRIX[1]"
      ],
      "metadata": {
        "colab": {
          "base_uri": "https://localhost:8080/"
        },
        "id": "h8auLsHnZyT8",
        "outputId": "163aed6e-ce2c-4258-e1a0-b73c905aa436"
      },
      "execution_count": 75,
      "outputs": [
        {
          "output_type": "execute_result",
          "data": {
            "text/plain": [
              "tensor([3, 4])"
            ]
          },
          "metadata": {},
          "execution_count": 75
        }
      ]
    },
    {
      "cell_type": "code",
      "source": [
        "MATRIX.shape"
      ],
      "metadata": {
        "colab": {
          "base_uri": "https://localhost:8080/"
        },
        "id": "bM8_hemPZ0_D",
        "outputId": "995af4aa-f490-44a1-f4ae-3d23a66b1a7e"
      },
      "execution_count": 76,
      "outputs": [
        {
          "output_type": "execute_result",
          "data": {
            "text/plain": [
              "torch.Size([2, 2])"
            ]
          },
          "metadata": {},
          "execution_count": 76
        }
      ]
    },
    {
      "cell_type": "code",
      "source": [
        "# TENSOR\n",
        "TENSOR = torch.tensor([[[1, 2, 3],\n",
        "                        [5, 7, 3],\n",
        "                        [11, 58, 36]]])\n",
        "TENSOR"
      ],
      "metadata": {
        "colab": {
          "base_uri": "https://localhost:8080/"
        },
        "id": "iGQvzKgcZ5XQ",
        "outputId": "30012d31-ba01-4f7a-8f60-fa713755463e"
      },
      "execution_count": 77,
      "outputs": [
        {
          "output_type": "execute_result",
          "data": {
            "text/plain": [
              "tensor([[[ 1,  2,  3],\n",
              "         [ 5,  7,  3],\n",
              "         [11, 58, 36]]])"
            ]
          },
          "metadata": {},
          "execution_count": 77
        }
      ]
    },
    {
      "cell_type": "code",
      "source": [
        "TENSOR.ndim"
      ],
      "metadata": {
        "colab": {
          "base_uri": "https://localhost:8080/"
        },
        "id": "6LPrCOPoaOrK",
        "outputId": "0c64b70a-8427-4eee-84d5-49904094872c"
      },
      "execution_count": 78,
      "outputs": [
        {
          "output_type": "execute_result",
          "data": {
            "text/plain": [
              "3"
            ]
          },
          "metadata": {},
          "execution_count": 78
        }
      ]
    },
    {
      "cell_type": "code",
      "source": [
        "TENSOR.shape"
      ],
      "metadata": {
        "colab": {
          "base_uri": "https://localhost:8080/"
        },
        "id": "G7Is3uVcaiyF",
        "outputId": "4d9cb4b6-c858-40d8-9689-f4091f45b199"
      },
      "execution_count": 79,
      "outputs": [
        {
          "output_type": "execute_result",
          "data": {
            "text/plain": [
              "torch.Size([1, 3, 3])"
            ]
          },
          "metadata": {},
          "execution_count": 79
        }
      ]
    },
    {
      "cell_type": "code",
      "source": [
        "TENSOR = torch.tensor([[[[[[2, 11, 36.5], [58, 33, 26]]]]]])\n",
        "TENSOR"
      ],
      "metadata": {
        "colab": {
          "base_uri": "https://localhost:8080/"
        },
        "id": "Gcmhi9BYansA",
        "outputId": "40e9e1d6-057d-4029-ea59-f01a14deef2a"
      },
      "execution_count": 80,
      "outputs": [
        {
          "output_type": "execute_result",
          "data": {
            "text/plain": [
              "tensor([[[[[[ 2.0000, 11.0000, 36.5000],\n",
              "            [58.0000, 33.0000, 26.0000]]]]]])"
            ]
          },
          "metadata": {},
          "execution_count": 80
        }
      ]
    },
    {
      "cell_type": "code",
      "source": [
        "TENSOR.shape"
      ],
      "metadata": {
        "colab": {
          "base_uri": "https://localhost:8080/"
        },
        "id": "JCcYUDeEbSwT",
        "outputId": "00181afc-128f-49cb-965c-a610aed23421"
      },
      "execution_count": 81,
      "outputs": [
        {
          "output_type": "execute_result",
          "data": {
            "text/plain": [
              "torch.Size([1, 1, 1, 1, 2, 3])"
            ]
          },
          "metadata": {},
          "execution_count": 81
        }
      ]
    },
    {
      "cell_type": "markdown",
      "source": [
        "### Random Tensors\n",
        "\n",
        "Random numbers are important bacause the way manu neural networks learn is that they start with tensors full of random numbers and then they adjust these random numbers to better represent data\n",
        "```\n",
        "Start with random numbers -> look at data -> update random numbers -> look at data > update random numers\n",
        "```\n",
        "\n",
        "\n"
      ],
      "metadata": {
        "id": "m2y7SVHSgxTr"
      }
    },
    {
      "cell_type": "code",
      "source": [
        "# create random tensors\n",
        "random_tensor = torch.rand(3, 4)\n",
        "random_tensor"
      ],
      "metadata": {
        "colab": {
          "base_uri": "https://localhost:8080/"
        },
        "id": "3PNsarZZiPJr",
        "outputId": "6fc459a0-044c-436b-af7c-a5a8b43614dd"
      },
      "execution_count": 82,
      "outputs": [
        {
          "output_type": "execute_result",
          "data": {
            "text/plain": [
              "tensor([[0.9706, 0.9071, 0.1788, 0.6292],\n",
              "        [0.6604, 0.2389, 0.5853, 0.0842],\n",
              "        [0.7071, 0.5659, 0.7354, 0.0033]])"
            ]
          },
          "metadata": {},
          "execution_count": 82
        }
      ]
    },
    {
      "cell_type": "code",
      "source": [
        "random_tensor.ndim"
      ],
      "metadata": {
        "colab": {
          "base_uri": "https://localhost:8080/"
        },
        "id": "4jMYBjNTid1H",
        "outputId": "2584ccdd-dcd7-4c1e-ba1a-9d8e68b8cbaf"
      },
      "execution_count": 83,
      "outputs": [
        {
          "output_type": "execute_result",
          "data": {
            "text/plain": [
              "2"
            ]
          },
          "metadata": {},
          "execution_count": 83
        }
      ]
    },
    {
      "cell_type": "code",
      "source": [
        "# create random tensors\n",
        "random_tensor = torch.rand(4, 3, 4)\n",
        "random_tensor"
      ],
      "metadata": {
        "colab": {
          "base_uri": "https://localhost:8080/"
        },
        "id": "jk16pvdYi1KI",
        "outputId": "e2cee798-0d57-4d13-990b-aa9d55828f3c"
      },
      "execution_count": 84,
      "outputs": [
        {
          "output_type": "execute_result",
          "data": {
            "text/plain": [
              "tensor([[[6.9118e-01, 6.4829e-01, 9.8016e-02, 9.9614e-01],\n",
              "         [9.2739e-01, 6.2601e-01, 2.8515e-01, 9.5350e-02],\n",
              "         [3.4386e-01, 8.6563e-01, 4.5520e-01, 5.8034e-01]],\n",
              "\n",
              "        [[4.5030e-01, 2.5214e-01, 5.6877e-01, 3.6726e-01],\n",
              "         [6.3259e-01, 6.6935e-01, 5.2378e-01, 9.7062e-01],\n",
              "         [2.7879e-01, 2.4864e-01, 7.8578e-01, 8.3161e-01]],\n",
              "\n",
              "        [[3.5655e-04, 8.8016e-01, 7.6096e-01, 9.2994e-01],\n",
              "         [1.7694e-01, 4.9027e-01, 8.4497e-01, 2.1609e-01],\n",
              "         [4.9968e-02, 5.2387e-01, 1.3530e-01, 9.5208e-01]],\n",
              "\n",
              "        [[9.5939e-01, 1.2811e-01, 3.8701e-01, 8.4494e-01],\n",
              "         [1.8941e-01, 1.3950e-01, 4.9810e-01, 7.0294e-01],\n",
              "         [4.1854e-01, 7.4014e-01, 1.8644e-01, 5.1440e-01]]])"
            ]
          },
          "metadata": {},
          "execution_count": 84
        }
      ]
    },
    {
      "cell_type": "code",
      "source": [
        "random_tensor.ndim"
      ],
      "metadata": {
        "colab": {
          "base_uri": "https://localhost:8080/"
        },
        "id": "NvoggitAi1Ds",
        "outputId": "157b02ae-f3a4-43f6-8e1e-e73e000defb8"
      },
      "execution_count": 85,
      "outputs": [
        {
          "output_type": "execute_result",
          "data": {
            "text/plain": [
              "3"
            ]
          },
          "metadata": {},
          "execution_count": 85
        }
      ]
    },
    {
      "cell_type": "code",
      "source": [
        "# create random tesnor with same shape as that of an image\n",
        "random_image_size_tensor = torch.rand(size=(224, 224, 3)) #height, width, color(R, G, B)\n",
        "random_image_size_tensor.shape, random_image_size_tensor.ndim"
      ],
      "metadata": {
        "colab": {
          "base_uri": "https://localhost:8080/"
        },
        "id": "7CaYbgbbi059",
        "outputId": "738d3e1d-6148-4c00-86fd-c4956af26acd"
      },
      "execution_count": 86,
      "outputs": [
        {
          "output_type": "execute_result",
          "data": {
            "text/plain": [
              "(torch.Size([224, 224, 3]), 3)"
            ]
          },
          "metadata": {},
          "execution_count": 86
        }
      ]
    },
    {
      "cell_type": "markdown",
      "source": [
        "### Zeros and Ones"
      ],
      "metadata": {
        "id": "oKHx1mFgjDJu"
      }
    },
    {
      "cell_type": "code",
      "source": [
        "# Create tensor of all zero\n",
        "zeros = torch.zeros(size=(3, 4))\n",
        "zeros"
      ],
      "metadata": {
        "id": "jF1RP1PLQjf8",
        "colab": {
          "base_uri": "https://localhost:8080/"
        },
        "outputId": "af0e1bfd-90e7-4c22-e4b2-4054bea82d5f"
      },
      "execution_count": 87,
      "outputs": [
        {
          "output_type": "execute_result",
          "data": {
            "text/plain": [
              "tensor([[0., 0., 0., 0.],\n",
              "        [0., 0., 0., 0.],\n",
              "        [0., 0., 0., 0.]])"
            ]
          },
          "metadata": {},
          "execution_count": 87
        }
      ]
    },
    {
      "cell_type": "code",
      "source": [
        "zeros * random_tensor"
      ],
      "metadata": {
        "colab": {
          "base_uri": "https://localhost:8080/"
        },
        "id": "O7df9IfThbF0",
        "outputId": "503c14b2-72e0-4162-d924-6faffc216e0a"
      },
      "execution_count": 88,
      "outputs": [
        {
          "output_type": "execute_result",
          "data": {
            "text/plain": [
              "tensor([[[0., 0., 0., 0.],\n",
              "         [0., 0., 0., 0.],\n",
              "         [0., 0., 0., 0.]],\n",
              "\n",
              "        [[0., 0., 0., 0.],\n",
              "         [0., 0., 0., 0.],\n",
              "         [0., 0., 0., 0.]],\n",
              "\n",
              "        [[0., 0., 0., 0.],\n",
              "         [0., 0., 0., 0.],\n",
              "         [0., 0., 0., 0.]],\n",
              "\n",
              "        [[0., 0., 0., 0.],\n",
              "         [0., 0., 0., 0.],\n",
              "         [0., 0., 0., 0.]]])"
            ]
          },
          "metadata": {},
          "execution_count": 88
        }
      ]
    },
    {
      "cell_type": "code",
      "source": [
        "# Create tensor of all ones\n",
        "ones = torch.ones(size=(3, 4))\n",
        "ones"
      ],
      "metadata": {
        "colab": {
          "base_uri": "https://localhost:8080/"
        },
        "id": "IBAzAhDghkgU",
        "outputId": "eb05f3d7-1f4a-4bd4-c134-ac840e2d79ca"
      },
      "execution_count": 89,
      "outputs": [
        {
          "output_type": "execute_result",
          "data": {
            "text/plain": [
              "tensor([[1., 1., 1., 1.],\n",
              "        [1., 1., 1., 1.],\n",
              "        [1., 1., 1., 1.]])"
            ]
          },
          "metadata": {},
          "execution_count": 89
        }
      ]
    },
    {
      "cell_type": "code",
      "source": [
        "ones * random_tensor"
      ],
      "metadata": {
        "colab": {
          "base_uri": "https://localhost:8080/"
        },
        "id": "59gsFtbWix7y",
        "outputId": "618661bb-c0cf-47cc-e282-1bec91acaa13"
      },
      "execution_count": 90,
      "outputs": [
        {
          "output_type": "execute_result",
          "data": {
            "text/plain": [
              "tensor([[[6.9118e-01, 6.4829e-01, 9.8016e-02, 9.9614e-01],\n",
              "         [9.2739e-01, 6.2601e-01, 2.8515e-01, 9.5350e-02],\n",
              "         [3.4386e-01, 8.6563e-01, 4.5520e-01, 5.8034e-01]],\n",
              "\n",
              "        [[4.5030e-01, 2.5214e-01, 5.6877e-01, 3.6726e-01],\n",
              "         [6.3259e-01, 6.6935e-01, 5.2378e-01, 9.7062e-01],\n",
              "         [2.7879e-01, 2.4864e-01, 7.8578e-01, 8.3161e-01]],\n",
              "\n",
              "        [[3.5655e-04, 8.8016e-01, 7.6096e-01, 9.2994e-01],\n",
              "         [1.7694e-01, 4.9027e-01, 8.4497e-01, 2.1609e-01],\n",
              "         [4.9968e-02, 5.2387e-01, 1.3530e-01, 9.5208e-01]],\n",
              "\n",
              "        [[9.5939e-01, 1.2811e-01, 3.8701e-01, 8.4494e-01],\n",
              "         [1.8941e-01, 1.3950e-01, 4.9810e-01, 7.0294e-01],\n",
              "         [4.1854e-01, 7.4014e-01, 1.8644e-01, 5.1440e-01]]])"
            ]
          },
          "metadata": {},
          "execution_count": 90
        }
      ]
    },
    {
      "cell_type": "markdown",
      "source": [
        "### Create range of tensors and tensors-like"
      ],
      "metadata": {
        "id": "KzDk7Xp0jcAg"
      }
    },
    {
      "cell_type": "code",
      "source": [
        "# create range\n",
        "torch_range = torch.arange(0, 5)\n",
        "\n",
        "# create a step \n",
        "torch_range_step = torch.arange(start=0, end=500, step=10)"
      ],
      "metadata": {
        "id": "TuQtFD4ri1ps"
      },
      "execution_count": 91,
      "outputs": []
    },
    {
      "cell_type": "code",
      "source": [
        "torch_range_step.shape"
      ],
      "metadata": {
        "colab": {
          "base_uri": "https://localhost:8080/"
        },
        "id": "tTh9yz_7jtxB",
        "outputId": "bfac6bcb-9c46-4c37-bf35-d0708ac119d6"
      },
      "execution_count": 92,
      "outputs": [
        {
          "output_type": "execute_result",
          "data": {
            "text/plain": [
              "torch.Size([50])"
            ]
          },
          "metadata": {},
          "execution_count": 92
        }
      ]
    },
    {
      "cell_type": "code",
      "source": [
        "#create a zero tensor that will be similar to the input\n",
        "tensor_zeros_like = torch.zeros_like(input=torch_range_step)\n",
        "tensor_zeros_like"
      ],
      "metadata": {
        "colab": {
          "base_uri": "https://localhost:8080/"
        },
        "id": "2Tpa0ZdFlr12",
        "outputId": "90e6c33c-f333-49a2-92e3-ba819ef09046"
      },
      "execution_count": 93,
      "outputs": [
        {
          "output_type": "execute_result",
          "data": {
            "text/plain": [
              "tensor([0, 0, 0, 0, 0, 0, 0, 0, 0, 0, 0, 0, 0, 0, 0, 0, 0, 0, 0, 0, 0, 0, 0, 0,\n",
              "        0, 0, 0, 0, 0, 0, 0, 0, 0, 0, 0, 0, 0, 0, 0, 0, 0, 0, 0, 0, 0, 0, 0, 0,\n",
              "        0, 0])"
            ]
          },
          "metadata": {},
          "execution_count": 93
        }
      ]
    },
    {
      "cell_type": "code",
      "source": [
        "#create a ones tensor that will be similar to the input\n",
        "tensor_ones_like = torch.ones_like(input=torch_range_step)\n",
        "tensor_ones_like"
      ],
      "metadata": {
        "colab": {
          "base_uri": "https://localhost:8080/"
        },
        "id": "0NRRr__hkskZ",
        "outputId": "225a1a61-6eec-477d-d236-b28edb42a681"
      },
      "execution_count": 94,
      "outputs": [
        {
          "output_type": "execute_result",
          "data": {
            "text/plain": [
              "tensor([1, 1, 1, 1, 1, 1, 1, 1, 1, 1, 1, 1, 1, 1, 1, 1, 1, 1, 1, 1, 1, 1, 1, 1,\n",
              "        1, 1, 1, 1, 1, 1, 1, 1, 1, 1, 1, 1, 1, 1, 1, 1, 1, 1, 1, 1, 1, 1, 1, 1,\n",
              "        1, 1])"
            ]
          },
          "metadata": {},
          "execution_count": 94
        }
      ]
    },
    {
      "cell_type": "markdown",
      "source": [
        "### Tensor Datatype\n",
        "\n",
        "1. Always check if the tensors are the right datatype\n",
        "2. Always check if the tensors are the rigth shape\n",
        "3. Always check if the tensors is on thr right device"
      ],
      "metadata": {
        "id": "Jz19R_-9nHsp"
      }
    },
    {
      "cell_type": "code",
      "source": [
        " # default data type is float 32\n",
        " # dtype=torch.float16 will convert the data type to float 16\n",
        " # float32 means the numbers are stored in 32 bit\n",
        " # float16 means the numbers are stored in 16 bit\n",
        "float_32_tensor = torch.tensor([3.0, 4.0, 5.0], dtype=torch.float16)\n",
        "\n",
        "# dtype = None will take the default data type which is float32\n",
        "float_32_tensor = torch.tensor([3.0, 4.0, 5.0], dtype=None)"
      ],
      "metadata": {
        "id": "VissIHNfnNGM"
      },
      "execution_count": 95,
      "outputs": []
    },
    {
      "cell_type": "code",
      "source": [
        "float_32_tensor.dtype"
      ],
      "metadata": {
        "colab": {
          "base_uri": "https://localhost:8080/"
        },
        "id": "blI50nUQoLaj",
        "outputId": "7df1984a-0169-4ca3-e2d6-9172e888ffd0"
      },
      "execution_count": 96,
      "outputs": [
        {
          "output_type": "execute_result",
          "data": {
            "text/plain": [
              "torch.float32"
            ]
          },
          "metadata": {},
          "execution_count": 96
        }
      ]
    },
    {
      "cell_type": "code",
      "source": [
        "float_32_tensor = torch.tensor([3.0, 4.0, 5.0], dtype=None,\n",
        "                               device=None, # what gradient your tensor is on\n",
        "                               requires_grad=True)# whether or not to track gradients with tensor operations"
      ],
      "metadata": {
        "id": "iy125srooQ_E"
      },
      "execution_count": 97,
      "outputs": []
    },
    {
      "cell_type": "code",
      "source": [
        "# convert float32 to float16\n",
        "float_16_tensor = float_32_tensor.type(torch.float16)\n",
        "float_16_tensor"
      ],
      "metadata": {
        "colab": {
          "base_uri": "https://localhost:8080/"
        },
        "id": "rrrzfHhlo59H",
        "outputId": "23060b7a-fedc-4fe0-810c-ae25a6114f93"
      },
      "execution_count": 98,
      "outputs": [
        {
          "output_type": "execute_result",
          "data": {
            "text/plain": [
              "tensor([3., 4., 5.], dtype=torch.float16, grad_fn=<ToCopyBackward0>)"
            ]
          },
          "metadata": {},
          "execution_count": 98
        }
      ]
    },
    {
      "cell_type": "markdown",
      "source": [
        "### Getting info from Tensor(Tensor Attributes)\n",
        "\n",
        "1. Always check if the tensors are the right datatype- check `tensor.dtype`\n",
        "2. Always check if the tensors are the rigth shape - check `tensor.shape`\n",
        "3. Always check if the tensors is on thr right device - check `tensor.device`"
      ],
      "metadata": {
        "id": "Y89OpuWotQ_K"
      }
    },
    {
      "cell_type": "code",
      "source": [
        "tensor_one = torch.rand(4, 3)\n",
        "tensor_one"
      ],
      "metadata": {
        "colab": {
          "base_uri": "https://localhost:8080/"
        },
        "id": "zssf6L1wryfN",
        "outputId": "367c9627-e4ac-4c7e-9a95-9e2d05f331e2"
      },
      "execution_count": 99,
      "outputs": [
        {
          "output_type": "execute_result",
          "data": {
            "text/plain": [
              "tensor([[0.6204, 0.9697, 0.8046],\n",
              "        [0.5374, 0.9742, 0.5971],\n",
              "        [0.6908, 0.2820, 0.1168],\n",
              "        [0.9242, 0.1171, 0.0106]])"
            ]
          },
          "metadata": {},
          "execution_count": 99
        }
      ]
    },
    {
      "cell_type": "code",
      "source": [
        "print(f'tensor data type is {tensor_one.dtype}')\n",
        "print(f'tensor shape is {tensor_one.shape}')\n",
        "print(f'tensor device is {tensor_one.device}')"
      ],
      "metadata": {
        "colab": {
          "base_uri": "https://localhost:8080/"
        },
        "id": "47ioqJPwsEox",
        "outputId": "fe4d83bb-b684-448a-ce93-1919889c21e3"
      },
      "execution_count": 100,
      "outputs": [
        {
          "output_type": "stream",
          "name": "stdout",
          "text": [
            "tensor data type is torch.float32\n",
            "tensor shape is torch.Size([4, 3])\n",
            "tensor device is cpu\n"
          ]
        }
      ]
    },
    {
      "cell_type": "markdown",
      "source": [
        "### Manipulating Tensors\n",
        "\n",
        "Tensor operations include:\n",
        "1. Addition\n",
        "2. Subtraction\n",
        "3. Multiplication\n",
        "4. Division\n",
        "5. Matrix Multiplication\n"
      ],
      "metadata": {
        "id": "sHGf0XZPvewf"
      }
    },
    {
      "cell_type": "code",
      "source": [
        "# Addition\n",
        "tensor = torch.tensor([1, 2, 3])\n",
        "tensor + 10"
      ],
      "metadata": {
        "colab": {
          "base_uri": "https://localhost:8080/"
        },
        "id": "zxzWe0BjsIE8",
        "outputId": "fc775cb9-ff32-49e7-aaee-5bc320c7a4f7"
      },
      "execution_count": 101,
      "outputs": [
        {
          "output_type": "execute_result",
          "data": {
            "text/plain": [
              "tensor([11, 12, 13])"
            ]
          },
          "metadata": {},
          "execution_count": 101
        }
      ]
    },
    {
      "cell_type": "code",
      "source": [
        "# multiplication\n",
        "tensor * 10"
      ],
      "metadata": {
        "colab": {
          "base_uri": "https://localhost:8080/"
        },
        "id": "8_Iu2oLvwUj2",
        "outputId": "ab00c4d4-f9bd-425d-8609-2d3c5c6dcdfb"
      },
      "execution_count": 102,
      "outputs": [
        {
          "output_type": "execute_result",
          "data": {
            "text/plain": [
              "tensor([10, 20, 30])"
            ]
          },
          "metadata": {},
          "execution_count": 102
        }
      ]
    },
    {
      "cell_type": "code",
      "source": [
        " #subtraction\n",
        "tensor - 10"
      ],
      "metadata": {
        "colab": {
          "base_uri": "https://localhost:8080/"
        },
        "id": "SP9--sA8wZxe",
        "outputId": "20eea011-0ce9-4b4a-c25c-e65e405ad2cb"
      },
      "execution_count": 103,
      "outputs": [
        {
          "output_type": "execute_result",
          "data": {
            "text/plain": [
              "tensor([-9, -8, -7])"
            ]
          },
          "metadata": {},
          "execution_count": 103
        }
      ]
    },
    {
      "cell_type": "code",
      "source": [
        "# pytorch built-in functions\n",
        "torch.mul(tensor , 10)"
      ],
      "metadata": {
        "colab": {
          "base_uri": "https://localhost:8080/"
        },
        "id": "NFiyNZcU0IkR",
        "outputId": "acc535ed-d298-44ba-9caa-6f65d0817124"
      },
      "execution_count": 104,
      "outputs": [
        {
          "output_type": "execute_result",
          "data": {
            "text/plain": [
              "tensor([10, 20, 30])"
            ]
          },
          "metadata": {},
          "execution_count": 104
        }
      ]
    },
    {
      "cell_type": "code",
      "source": [
        "torch.add(tensor, 10)"
      ],
      "metadata": {
        "colab": {
          "base_uri": "https://localhost:8080/"
        },
        "id": "ywiuOF6f0VXc",
        "outputId": "2d025368-fb11-45fb-dee4-5f4d1d4191fb"
      },
      "execution_count": 105,
      "outputs": [
        {
          "output_type": "execute_result",
          "data": {
            "text/plain": [
              "tensor([11, 12, 13])"
            ]
          },
          "metadata": {},
          "execution_count": 105
        }
      ]
    },
    {
      "cell_type": "markdown",
      "source": [
        "### Matrix Multiplication\n",
        "\n",
        "Two type of multiplication used in neural networks and deep learning is:\n",
        "1. Element-wise multiplication\n",
        "2. Matrix- Multiplicaiton(dot-product)"
      ],
      "metadata": {
        "id": "5TWMLyXZ2Tkf"
      }
    },
    {
      "cell_type": "code",
      "source": [
        "# Element wise multiplication\n",
        "print('element multiplication is', tensor * tensor)"
      ],
      "metadata": {
        "colab": {
          "base_uri": "https://localhost:8080/"
        },
        "id": "ffwYShVo0bzA",
        "outputId": "1f646637-690c-4e16-abb5-23c679109f97"
      },
      "execution_count": 106,
      "outputs": [
        {
          "output_type": "stream",
          "name": "stdout",
          "text": [
            "element multiplication is tensor([1, 4, 9])\n"
          ]
        }
      ]
    },
    {
      "cell_type": "code",
      "source": [
        "# Matrix Multiplication\n",
        "print('Matrix multiplication is', torch.matmul(tensor, tensor))"
      ],
      "metadata": {
        "colab": {
          "base_uri": "https://localhost:8080/"
        },
        "id": "mb90GDMk4AJE",
        "outputId": "041e22af-0139-44d9-c837-876c3de6dc08"
      },
      "execution_count": 107,
      "outputs": [
        {
          "output_type": "stream",
          "name": "stdout",
          "text": [
            "Matrix multiplication is tensor(14)\n"
          ]
        }
      ]
    },
    {
      "cell_type": "code",
      "source": [
        "# @ stands for matrix multiplication\n",
        "tensor @ tensor"
      ],
      "metadata": {
        "colab": {
          "base_uri": "https://localhost:8080/"
        },
        "id": "IzvvX-WN6PJq",
        "outputId": "3b1f8673-f769-4062-a1a5-5c2398698b5b"
      },
      "execution_count": 108,
      "outputs": [
        {
          "output_type": "execute_result",
          "data": {
            "text/plain": [
              "tensor(14)"
            ]
          },
          "metadata": {},
          "execution_count": 108
        }
      ]
    },
    {
      "cell_type": "markdown",
      "source": [
        "### Criteria Matrix multplication should comply\n",
        "\n",
        "1. Inner dimensions should match\n",
        "\n",
        "```\n",
        "(3, 2) @ (3, 2) won't work\n",
        "(3, 2) @ (2, 3) will work\n",
        "(2, 3) @ (3, 2) will work\n",
        "```\n",
        "2. The shape of the resulting matrix should be equal to outer dimensions\n",
        "\n",
        "\n",
        "```\n",
        "(2, 3) @ (3, 2) -> (2, 2)\n",
        "(3, 2) @ (2, 3) -> (3, 3)\n",
        "```\n",
        "\n"
      ],
      "metadata": {
        "id": "QjiaE6tZ8HVS"
      }
    },
    {
      "cell_type": "markdown",
      "source": [
        "### Most common error of DL is shape errors\n",
        "\n",
        "To fix shape errors, manipulate the shape of the tensors using **transpose**\n",
        "\n",
        "A **transpose** will switch the axes or dimensions of the given tensor"
      ],
      "metadata": {
        "id": "l7uuSlkCD0N5"
      }
    },
    {
      "cell_type": "code",
      "source": [
        "tensor_A = torch.tensor([[1, 2, 3],\n",
        "                         [4, 5, 6]])\n",
        "\n",
        "tensor_B = torch.tensor([[7, 8, 9],\n",
        "                         [10, 11, 12]])"
      ],
      "metadata": {
        "id": "SsGZsewe4QwT"
      },
      "execution_count": 109,
      "outputs": []
    },
    {
      "cell_type": "code",
      "source": [
        "tensor_A.shape, tensor_B.shape"
      ],
      "metadata": {
        "colab": {
          "base_uri": "https://localhost:8080/"
        },
        "id": "NSO9FNe3EtJw",
        "outputId": "900710f2-f125-404a-8099-07461715ceaf"
      },
      "execution_count": 110,
      "outputs": [
        {
          "output_type": "execute_result",
          "data": {
            "text/plain": [
              "(torch.Size([2, 3]), torch.Size([2, 3]))"
            ]
          },
          "metadata": {},
          "execution_count": 110
        }
      ]
    },
    {
      "cell_type": "code",
      "source": [
        "tensor_A.shape, tensor_B.T.shape"
      ],
      "metadata": {
        "colab": {
          "base_uri": "https://localhost:8080/"
        },
        "id": "R-Hu3WJcFPfe",
        "outputId": "6db99b10-4bee-4f32-f751-28dfa8e55f48"
      },
      "execution_count": 111,
      "outputs": [
        {
          "output_type": "execute_result",
          "data": {
            "text/plain": [
              "(torch.Size([2, 3]), torch.Size([3, 2]))"
            ]
          },
          "metadata": {},
          "execution_count": 111
        }
      ]
    },
    {
      "cell_type": "code",
      "source": [
        "# to re arrange the shape, we can take the transpose of tensor_B and matrix multiply it\n",
        "torch.matmul(tensor_A, tensor_B.T)"
      ],
      "metadata": {
        "colab": {
          "base_uri": "https://localhost:8080/"
        },
        "id": "BbddP8GcExvh",
        "outputId": "5c46070d-90b6-49a7-8476-4d9a5a2237e6"
      },
      "execution_count": 112,
      "outputs": [
        {
          "output_type": "execute_result",
          "data": {
            "text/plain": [
              "tensor([[ 50,  68],\n",
              "        [122, 167]])"
            ]
          },
          "metadata": {},
          "execution_count": 112
        }
      ]
    },
    {
      "cell_type": "markdown",
      "source": [
        "### Tensor Aggregation\n",
        "\n",
        "Finding the min, max, mean ans sum of tensors"
      ],
      "metadata": {
        "id": "a618xUScHcCD"
      }
    },
    {
      "cell_type": "code",
      "source": [
        "# create a tensor\n",
        "x = torch.arange(0, 100, 10)\n",
        "x"
      ],
      "metadata": {
        "colab": {
          "base_uri": "https://localhost:8080/"
        },
        "id": "ouhtL_JHFMIg",
        "outputId": "d2364b70-51fe-4a56-b8f5-20eca99a130d"
      },
      "execution_count": 113,
      "outputs": [
        {
          "output_type": "execute_result",
          "data": {
            "text/plain": [
              "tensor([ 0, 10, 20, 30, 40, 50, 60, 70, 80, 90])"
            ]
          },
          "metadata": {},
          "execution_count": 113
        }
      ]
    },
    {
      "cell_type": "code",
      "source": [
        "# find the min\n",
        "torch.min(x), x.min()"
      ],
      "metadata": {
        "colab": {
          "base_uri": "https://localhost:8080/"
        },
        "id": "kib9pRC4I3qK",
        "outputId": "64423d5f-d3ba-4c24-f7b7-11775ee82dce"
      },
      "execution_count": 114,
      "outputs": [
        {
          "output_type": "execute_result",
          "data": {
            "text/plain": [
              "(tensor(0), tensor(0))"
            ]
          },
          "metadata": {},
          "execution_count": 114
        }
      ]
    },
    {
      "cell_type": "code",
      "source": [
        "# find the max\n",
        "# we can use both the methods to find  the max\n",
        "torch.max(x), x.max()"
      ],
      "metadata": {
        "colab": {
          "base_uri": "https://localhost:8080/"
        },
        "id": "bayqAzfyJeTU",
        "outputId": "a8d7367c-5b56-4005-9e83-ed0adedc31fa"
      },
      "execution_count": 115,
      "outputs": [
        {
          "output_type": "execute_result",
          "data": {
            "text/plain": [
              "(tensor(90), tensor(90))"
            ]
          },
          "metadata": {},
          "execution_count": 115
        }
      ]
    },
    {
      "cell_type": "code",
      "source": [
        "# find the mean\n",
        "#note: we have to convert the tensor to float32 to make the mean work\n",
        "torch.mean(x.type(torch.float32)), x.type(torch.float32).mean()"
      ],
      "metadata": {
        "colab": {
          "base_uri": "https://localhost:8080/"
        },
        "id": "ywex2_fEJe1d",
        "outputId": "a813a7ae-4545-4891-e809-d8ba9abb92be"
      },
      "execution_count": 116,
      "outputs": [
        {
          "output_type": "execute_result",
          "data": {
            "text/plain": [
              "(tensor(45.), tensor(45.))"
            ]
          },
          "metadata": {},
          "execution_count": 116
        }
      ]
    },
    {
      "cell_type": "code",
      "source": [
        "# find the sum\n",
        "torch.sum(x), x.sum()"
      ],
      "metadata": {
        "colab": {
          "base_uri": "https://localhost:8080/"
        },
        "id": "iSiAg5hgJxgS",
        "outputId": "4f810d60-bacd-4bab-fe71-c5459eb9b41a"
      },
      "execution_count": 117,
      "outputs": [
        {
          "output_type": "execute_result",
          "data": {
            "text/plain": [
              "(tensor(450), tensor(450))"
            ]
          },
          "metadata": {},
          "execution_count": 117
        }
      ]
    },
    {
      "cell_type": "markdown",
      "source": [
        "Find the position of min and max"
      ],
      "metadata": {
        "id": "PdD8ulcvJgdF"
      }
    },
    {
      "cell_type": "code",
      "source": [
        "# find the index where the minimum value of the tensor is positioned\n",
        "x.argmin()"
      ],
      "metadata": {
        "colab": {
          "base_uri": "https://localhost:8080/"
        },
        "id": "oYDk-AfqKEqK",
        "outputId": "0f559633-3b91-4e90-fd3d-4bbcff509d85"
      },
      "execution_count": 118,
      "outputs": [
        {
          "output_type": "execute_result",
          "data": {
            "text/plain": [
              "tensor(0)"
            ]
          },
          "metadata": {},
          "execution_count": 118
        }
      ]
    },
    {
      "cell_type": "code",
      "source": [
        "# find the index where the minimum value of the tensor is positioned\n",
        "x.argmax()"
      ],
      "metadata": {
        "colab": {
          "base_uri": "https://localhost:8080/"
        },
        "id": "jmitUWNiKAF1",
        "outputId": "3b41dee3-b550-468e-bef2-eadf34561530"
      },
      "execution_count": 119,
      "outputs": [
        {
          "output_type": "execute_result",
          "data": {
            "text/plain": [
              "tensor(9)"
            ]
          },
          "metadata": {},
          "execution_count": 119
        }
      ]
    },
    {
      "cell_type": "markdown",
      "source": [
        "### Reshaping, stacking, squeezing and unsqueezing tensors\n",
        "* Reshaping - reshapes an input tensor to a defined shape\n",
        "* View - return view of input tensor of certain shape but keep the same memory as the original tensor\n",
        "* Stacking - combine multiple tensors on top of each other(vstack) or side by side(hstack)\n",
        "* Squeeze - remove `1 dimensions` from tensor\n",
        "* Unsqueeze - add `1 dimension` to a target tensor\n",
        "* Permute - Return a view of the input with dimensions permuted(swappped) in a certain way "
      ],
      "metadata": {
        "id": "poLE75xKSoeY"
      }
    },
    {
      "cell_type": "code",
      "source": [
        "x = torch.arange(1, 10)\n",
        "x, x.shape, x.ndim"
      ],
      "metadata": {
        "colab": {
          "base_uri": "https://localhost:8080/"
        },
        "id": "X0ghuwzGKIWl",
        "outputId": "2a7f5eac-9108-4d8a-8d73-b2288b0e6860"
      },
      "execution_count": 130,
      "outputs": [
        {
          "output_type": "execute_result",
          "data": {
            "text/plain": [
              "(tensor([1, 2, 3, 4, 5, 6, 7, 8, 9]), torch.Size([9]), 1)"
            ]
          },
          "metadata": {},
          "execution_count": 130
        }
      ]
    },
    {
      "cell_type": "code",
      "source": [
        "# add an extra dimension\n",
        "x_reshaped = x.reshape(1, 9)\n",
        "x_reshaped, x_reshaped.shape, x_reshaped.ndim"
      ],
      "metadata": {
        "colab": {
          "base_uri": "https://localhost:8080/"
        },
        "id": "gYjTFcK-Ylyo",
        "outputId": "b64fedad-e636-4db0-8e7e-1cb1b596ffc1"
      },
      "execution_count": 131,
      "outputs": [
        {
          "output_type": "execute_result",
          "data": {
            "text/plain": [
              "(tensor([[1, 2, 3, 4, 5, 6, 7, 8, 9]]), torch.Size([1, 9]), 2)"
            ]
          },
          "metadata": {},
          "execution_count": 131
        }
      ]
    },
    {
      "cell_type": "code",
      "source": [
        "# change the view\n",
        "z = x.view(1, 9)\n",
        "z, z.shape"
      ],
      "metadata": {
        "colab": {
          "base_uri": "https://localhost:8080/"
        },
        "id": "u7LT-5WTYxAq",
        "outputId": "b9ca156b-80d4-4014-e9bf-664d7f87e5bf"
      },
      "execution_count": 132,
      "outputs": [
        {
          "output_type": "execute_result",
          "data": {
            "text/plain": [
              "(tensor([[1, 2, 3, 4, 5, 6, 7, 8, 9]]), torch.Size([1, 9]))"
            ]
          },
          "metadata": {},
          "execution_count": 132
        }
      ]
    },
    {
      "cell_type": "code",
      "source": [
        "# view will share the same memory location as that of x. ie, any change made in z will change x\n",
        "z[:, 0] = 5\n",
        "z, x"
      ],
      "metadata": {
        "colab": {
          "base_uri": "https://localhost:8080/"
        },
        "id": "ikLbphr7ZFGJ",
        "outputId": "360ecf23-9bb1-4518-b09c-4673f494e0f9"
      },
      "execution_count": 133,
      "outputs": [
        {
          "output_type": "execute_result",
          "data": {
            "text/plain": [
              "(tensor([[5, 2, 3, 4, 5, 6, 7, 8, 9]]), tensor([5, 2, 3, 4, 5, 6, 7, 8, 9]))"
            ]
          },
          "metadata": {},
          "execution_count": 133
        }
      ]
    },
    {
      "cell_type": "code",
      "source": [
        "# stacking tensors\n",
        "# dim = 0 will stack the tensor vertically\n",
        "x_stac_vert = torch.stack([x, x, x], dim=0)\n",
        "x_stack"
      ],
      "metadata": {
        "colab": {
          "base_uri": "https://localhost:8080/"
        },
        "id": "TVvxTRwQZ0uN",
        "outputId": "78e27dcf-def6-4d18-e77b-f0ef51b5cafa"
      },
      "execution_count": 138,
      "outputs": [
        {
          "output_type": "execute_result",
          "data": {
            "text/plain": [
              "tensor([[5, 2, 3, 4, 5, 6, 7, 8, 9],\n",
              "        [5, 2, 3, 4, 5, 6, 7, 8, 9],\n",
              "        [5, 2, 3, 4, 5, 6, 7, 8, 9]])"
            ]
          },
          "metadata": {},
          "execution_count": 138
        }
      ]
    },
    {
      "cell_type": "code",
      "source": [
        "# dim = 1 will stack the tensor horizontally\n",
        "x_stack_hor= torch.stack([x, x, x], dim=1)\n",
        "x_stack_hor"
      ],
      "metadata": {
        "colab": {
          "base_uri": "https://localhost:8080/"
        },
        "id": "doH0XfSqcoWK",
        "outputId": "fac195e0-f337-42d5-d5ac-979591c59512"
      },
      "execution_count": 139,
      "outputs": [
        {
          "output_type": "execute_result",
          "data": {
            "text/plain": [
              "tensor([[5, 5, 5],\n",
              "        [2, 2, 2],\n",
              "        [3, 3, 3],\n",
              "        [4, 4, 4],\n",
              "        [5, 5, 5],\n",
              "        [6, 6, 6],\n",
              "        [7, 7, 7],\n",
              "        [8, 8, 8],\n",
              "        [9, 9, 9]])"
            ]
          },
          "metadata": {},
          "execution_count": 139
        }
      ]
    },
    {
      "cell_type": "code",
      "source": [],
      "metadata": {
        "id": "Yd0p7kekc4di"
      },
      "execution_count": null,
      "outputs": []
    }
  ]
}