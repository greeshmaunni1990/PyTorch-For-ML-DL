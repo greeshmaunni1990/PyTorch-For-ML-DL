{
  "nbformat": 4,
  "nbformat_minor": 0,
  "metadata": {
    "colab": {
      "provenance": [],
      "authorship_tag": "ABX9TyPRyuqHj2SAS9vv6KOWCFhT",
      "include_colab_link": true
    },
    "kernelspec": {
      "name": "python3",
      "display_name": "Python 3"
    },
    "language_info": {
      "name": "python"
    },
    "accelerator": "GPU",
    "gpuClass": "standard"
  },
  "cells": [
    {
      "cell_type": "markdown",
      "metadata": {
        "id": "view-in-github",
        "colab_type": "text"
      },
      "source": [
        "<a href=\"https://colab.research.google.com/github/greeshmaunni1990/PyTorch-For-ML-DL/blob/main/02_pytorch_classification_video.ipynb\" target=\"_parent\"><img src=\"https://colab.research.google.com/assets/colab-badge.svg\" alt=\"Open In Colab\"/></a>"
      ]
    },
    {
      "cell_type": "markdown",
      "source": [
        "### Neural Network classifcation with PyTorch\n",
        "\n",
        "Classification is the problem of predicting as of to which category somthing is put."
      ],
      "metadata": {
        "id": "4CyXvVTu3OxC"
      }
    },
    {
      "cell_type": "markdown",
      "source": [
        "### Make Classification data"
      ],
      "metadata": {
        "id": "DG5F8ryw4dMe"
      }
    },
    {
      "cell_type": "code",
      "source": [
        "import sklearn"
      ],
      "metadata": {
        "id": "1EzYAY1I3xFF"
      },
      "execution_count": 1,
      "outputs": []
    },
    {
      "cell_type": "code",
      "source": [
        "from sklearn.datasets import make_circles\n",
        "\n",
        "# make 1000 samples\n",
        "\n",
        "n_samples = 1000\n",
        "X, y = make_circles(n_samples, noise=0.03, random_state=42)"
      ],
      "metadata": {
        "id": "hy0f_NP-4ijh"
      },
      "execution_count": 2,
      "outputs": []
    },
    {
      "cell_type": "code",
      "source": [
        "len(X), len(y)"
      ],
      "metadata": {
        "colab": {
          "base_uri": "https://localhost:8080/"
        },
        "id": "wItY7G-A4_1R",
        "outputId": "c5f01512-d68e-497b-af09-48161bf91421"
      },
      "execution_count": 3,
      "outputs": [
        {
          "output_type": "execute_result",
          "data": {
            "text/plain": [
              "(1000, 1000)"
            ]
          },
          "metadata": {},
          "execution_count": 3
        }
      ]
    },
    {
      "cell_type": "code",
      "source": [
        "print(f\"Sample of X is : {X[:5]}\")\n",
        "print(f\"Sample of y is : {y[:5]}\")"
      ],
      "metadata": {
        "colab": {
          "base_uri": "https://localhost:8080/"
        },
        "id": "DVUJRuXI5COh",
        "outputId": "38ce5736-abba-4fa2-f07f-80514466ddf2"
      },
      "execution_count": 4,
      "outputs": [
        {
          "output_type": "stream",
          "name": "stdout",
          "text": [
            "Sample of X is : [[ 0.75424625  0.23148074]\n",
            " [-0.75615888  0.15325888]\n",
            " [-0.81539193  0.17328203]\n",
            " [-0.39373073  0.69288277]\n",
            " [ 0.44220765 -0.89672343]]\n",
            "Sample of y is : [1 1 1 1 0]\n"
          ]
        }
      ]
    },
    {
      "cell_type": "code",
      "source": [
        "# Make data frame of circle data\n",
        "\n",
        "import pandas as pd\n",
        "\n",
        "# Created data frame by creating a dictionary with first column as X1 and\n",
        "# second column as X2\n",
        "# label as y\n",
        "circles = pd.DataFrame({'X1': X[:, 0],\n",
        "                        'X2' : X[:, 1],\n",
        "                        'label': y})\n"
      ],
      "metadata": {
        "id": "3hsEDH9x5HOk"
      },
      "execution_count": 5,
      "outputs": []
    },
    {
      "cell_type": "code",
      "source": [
        "circles[:10]"
      ],
      "metadata": {
        "colab": {
          "base_uri": "https://localhost:8080/",
          "height": 363
        },
        "id": "XguhivpJ6UJ7",
        "outputId": "b178e70b-b88d-45f5-e38f-870d04ffd407"
      },
      "execution_count": 6,
      "outputs": [
        {
          "output_type": "execute_result",
          "data": {
            "text/plain": [
              "         X1        X2  label\n",
              "0  0.754246  0.231481      1\n",
              "1 -0.756159  0.153259      1\n",
              "2 -0.815392  0.173282      1\n",
              "3 -0.393731  0.692883      1\n",
              "4  0.442208 -0.896723      0\n",
              "5 -0.479646  0.676435      1\n",
              "6 -0.013648  0.803349      1\n",
              "7  0.771513  0.147760      1\n",
              "8 -0.169322 -0.793456      1\n",
              "9 -0.121486  1.021509      0"
            ],
            "text/html": [
              "\n",
              "  <div id=\"df-3bc273db-8ba9-42b8-9627-dc7383cca68f\">\n",
              "    <div class=\"colab-df-container\">\n",
              "      <div>\n",
              "<style scoped>\n",
              "    .dataframe tbody tr th:only-of-type {\n",
              "        vertical-align: middle;\n",
              "    }\n",
              "\n",
              "    .dataframe tbody tr th {\n",
              "        vertical-align: top;\n",
              "    }\n",
              "\n",
              "    .dataframe thead th {\n",
              "        text-align: right;\n",
              "    }\n",
              "</style>\n",
              "<table border=\"1\" class=\"dataframe\">\n",
              "  <thead>\n",
              "    <tr style=\"text-align: right;\">\n",
              "      <th></th>\n",
              "      <th>X1</th>\n",
              "      <th>X2</th>\n",
              "      <th>label</th>\n",
              "    </tr>\n",
              "  </thead>\n",
              "  <tbody>\n",
              "    <tr>\n",
              "      <th>0</th>\n",
              "      <td>0.754246</td>\n",
              "      <td>0.231481</td>\n",
              "      <td>1</td>\n",
              "    </tr>\n",
              "    <tr>\n",
              "      <th>1</th>\n",
              "      <td>-0.756159</td>\n",
              "      <td>0.153259</td>\n",
              "      <td>1</td>\n",
              "    </tr>\n",
              "    <tr>\n",
              "      <th>2</th>\n",
              "      <td>-0.815392</td>\n",
              "      <td>0.173282</td>\n",
              "      <td>1</td>\n",
              "    </tr>\n",
              "    <tr>\n",
              "      <th>3</th>\n",
              "      <td>-0.393731</td>\n",
              "      <td>0.692883</td>\n",
              "      <td>1</td>\n",
              "    </tr>\n",
              "    <tr>\n",
              "      <th>4</th>\n",
              "      <td>0.442208</td>\n",
              "      <td>-0.896723</td>\n",
              "      <td>0</td>\n",
              "    </tr>\n",
              "    <tr>\n",
              "      <th>5</th>\n",
              "      <td>-0.479646</td>\n",
              "      <td>0.676435</td>\n",
              "      <td>1</td>\n",
              "    </tr>\n",
              "    <tr>\n",
              "      <th>6</th>\n",
              "      <td>-0.013648</td>\n",
              "      <td>0.803349</td>\n",
              "      <td>1</td>\n",
              "    </tr>\n",
              "    <tr>\n",
              "      <th>7</th>\n",
              "      <td>0.771513</td>\n",
              "      <td>0.147760</td>\n",
              "      <td>1</td>\n",
              "    </tr>\n",
              "    <tr>\n",
              "      <th>8</th>\n",
              "      <td>-0.169322</td>\n",
              "      <td>-0.793456</td>\n",
              "      <td>1</td>\n",
              "    </tr>\n",
              "    <tr>\n",
              "      <th>9</th>\n",
              "      <td>-0.121486</td>\n",
              "      <td>1.021509</td>\n",
              "      <td>0</td>\n",
              "    </tr>\n",
              "  </tbody>\n",
              "</table>\n",
              "</div>\n",
              "      <button class=\"colab-df-convert\" onclick=\"convertToInteractive('df-3bc273db-8ba9-42b8-9627-dc7383cca68f')\"\n",
              "              title=\"Convert this dataframe to an interactive table.\"\n",
              "              style=\"display:none;\">\n",
              "        \n",
              "  <svg xmlns=\"http://www.w3.org/2000/svg\" height=\"24px\"viewBox=\"0 0 24 24\"\n",
              "       width=\"24px\">\n",
              "    <path d=\"M0 0h24v24H0V0z\" fill=\"none\"/>\n",
              "    <path d=\"M18.56 5.44l.94 2.06.94-2.06 2.06-.94-2.06-.94-.94-2.06-.94 2.06-2.06.94zm-11 1L8.5 8.5l.94-2.06 2.06-.94-2.06-.94L8.5 2.5l-.94 2.06-2.06.94zm10 10l.94 2.06.94-2.06 2.06-.94-2.06-.94-.94-2.06-.94 2.06-2.06.94z\"/><path d=\"M17.41 7.96l-1.37-1.37c-.4-.4-.92-.59-1.43-.59-.52 0-1.04.2-1.43.59L10.3 9.45l-7.72 7.72c-.78.78-.78 2.05 0 2.83L4 21.41c.39.39.9.59 1.41.59.51 0 1.02-.2 1.41-.59l7.78-7.78 2.81-2.81c.8-.78.8-2.07 0-2.86zM5.41 20L4 18.59l7.72-7.72 1.47 1.35L5.41 20z\"/>\n",
              "  </svg>\n",
              "      </button>\n",
              "      \n",
              "  <style>\n",
              "    .colab-df-container {\n",
              "      display:flex;\n",
              "      flex-wrap:wrap;\n",
              "      gap: 12px;\n",
              "    }\n",
              "\n",
              "    .colab-df-convert {\n",
              "      background-color: #E8F0FE;\n",
              "      border: none;\n",
              "      border-radius: 50%;\n",
              "      cursor: pointer;\n",
              "      display: none;\n",
              "      fill: #1967D2;\n",
              "      height: 32px;\n",
              "      padding: 0 0 0 0;\n",
              "      width: 32px;\n",
              "    }\n",
              "\n",
              "    .colab-df-convert:hover {\n",
              "      background-color: #E2EBFA;\n",
              "      box-shadow: 0px 1px 2px rgba(60, 64, 67, 0.3), 0px 1px 3px 1px rgba(60, 64, 67, 0.15);\n",
              "      fill: #174EA6;\n",
              "    }\n",
              "\n",
              "    [theme=dark] .colab-df-convert {\n",
              "      background-color: #3B4455;\n",
              "      fill: #D2E3FC;\n",
              "    }\n",
              "\n",
              "    [theme=dark] .colab-df-convert:hover {\n",
              "      background-color: #434B5C;\n",
              "      box-shadow: 0px 1px 3px 1px rgba(0, 0, 0, 0.15);\n",
              "      filter: drop-shadow(0px 1px 2px rgba(0, 0, 0, 0.3));\n",
              "      fill: #FFFFFF;\n",
              "    }\n",
              "  </style>\n",
              "\n",
              "      <script>\n",
              "        const buttonEl =\n",
              "          document.querySelector('#df-3bc273db-8ba9-42b8-9627-dc7383cca68f button.colab-df-convert');\n",
              "        buttonEl.style.display =\n",
              "          google.colab.kernel.accessAllowed ? 'block' : 'none';\n",
              "\n",
              "        async function convertToInteractive(key) {\n",
              "          const element = document.querySelector('#df-3bc273db-8ba9-42b8-9627-dc7383cca68f');\n",
              "          const dataTable =\n",
              "            await google.colab.kernel.invokeFunction('convertToInteractive',\n",
              "                                                     [key], {});\n",
              "          if (!dataTable) return;\n",
              "\n",
              "          const docLinkHtml = 'Like what you see? Visit the ' +\n",
              "            '<a target=\"_blank\" href=https://colab.research.google.com/notebooks/data_table.ipynb>data table notebook</a>'\n",
              "            + ' to learn more about interactive tables.';\n",
              "          element.innerHTML = '';\n",
              "          dataTable['output_type'] = 'display_data';\n",
              "          await google.colab.output.renderOutput(dataTable, element);\n",
              "          const docLink = document.createElement('div');\n",
              "          docLink.innerHTML = docLinkHtml;\n",
              "          element.appendChild(docLink);\n",
              "        }\n",
              "      </script>\n",
              "    </div>\n",
              "  </div>\n",
              "  "
            ]
          },
          "metadata": {},
          "execution_count": 6
        }
      ]
    },
    {
      "cell_type": "code",
      "source": [
        "# Visualize\n",
        "\n",
        "import matplotlib.pyplot as plt\n",
        "\n",
        "plt.scatter(x=circles['X1'], y = circles['X2'],\n",
        "            c=y, cmap=plt.cm.RdYlBu)\n"
      ],
      "metadata": {
        "colab": {
          "base_uri": "https://localhost:8080/",
          "height": 282
        },
        "id": "gCPfRDBs6jHJ",
        "outputId": "086d5629-1203-4b44-83fd-abe5fed88770"
      },
      "execution_count": 7,
      "outputs": [
        {
          "output_type": "execute_result",
          "data": {
            "text/plain": [
              "<matplotlib.collections.PathCollection at 0x7fbf666bf7c0>"
            ]
          },
          "metadata": {},
          "execution_count": 7
        },
        {
          "output_type": "display_data",
          "data": {
            "text/plain": [
              "<Figure size 432x288 with 1 Axes>"
            ],
            "image/png": "[encoded data removed]"
          },
          "metadata": {
            "needs_background": "light"
          }
        }
      ]
    },
    {
      "cell_type": "markdown",
      "source": [
        "The data we are working on is called toy dataset, a dataset that is small enough to experiment but sizeable enough to practize the fundamentals"
      ],
      "metadata": {
        "id": "n1FOyv0X7QGp"
      }
    },
    {
      "cell_type": "markdown",
      "source": [
        "Check input and output shape"
      ],
      "metadata": {
        "id": "eksn5Kp98rRB"
      }
    },
    {
      "cell_type": "code",
      "source": [
        "X.shape , y.shape"
      ],
      "metadata": {
        "colab": {
          "base_uri": "https://localhost:8080/"
        },
        "id": "FSPpcUl_6lgD",
        "outputId": "ce167a51-85f6-4e6e-cb55-835e9d1fb9f0"
      },
      "execution_count": 8,
      "outputs": [
        {
          "output_type": "execute_result",
          "data": {
            "text/plain": [
              "((1000, 2), (1000,))"
            ]
          },
          "metadata": {},
          "execution_count": 8
        }
      ]
    },
    {
      "cell_type": "code",
      "source": [
        "# First example of features and labels\n",
        "\n",
        "X_sample = X[0]\n",
        "y_sample = y[0]\n",
        "\n",
        "print(f\"Value of sample X is : {X_sample} and y is : {y_sample}\")\n",
        "\n",
        "# since y is a scalar it does not have any shape. Hence the result is showing ()\n",
        "print(f\"Value of shape of sample X is : {X_sample.shape} and shape of y is : {y_sample.shape}\")"
      ],
      "metadata": {
        "colab": {
          "base_uri": "https://localhost:8080/"
        },
        "id": "DuoXGYhX8ZS4",
        "outputId": "fdb24d86-f243-4dcd-d117-3ac376023741"
      },
      "execution_count": 10,
      "outputs": [
        {
          "output_type": "stream",
          "name": "stdout",
          "text": [
            "Value of sample X is : [0.75424625 0.23148074] and y is : 1\n",
            "Value of shape of sample X is : (2,) and shape of y is : ()\n"
          ]
        }
      ]
    },
    {
      "cell_type": "markdown",
      "source": [
        "### Turn data to tensors and create train and test splits"
      ],
      "metadata": {
        "id": "SCZSeqNI-J31"
      }
    },
    {
      "cell_type": "code",
      "source": [
        "import torch\n",
        "torch.__version__"
      ],
      "metadata": {
        "colab": {
          "base_uri": "https://localhost:8080/",
          "height": 36
        },
        "id": "jIVb67Ax90ev",
        "outputId": "d0a316a8-0070-4bf7-bbe5-8f38846882d4"
      },
      "execution_count": 11,
      "outputs": [
        {
          "output_type": "execute_result",
          "data": {
            "text/plain": [
              "'1.13.0+cu116'"
            ],
            "application/vnd.google.colaboratory.intrinsic+json": {
              "type": "string"
            }
          },
          "metadata": {},
          "execution_count": 11
        }
      ]
    },
    {
      "cell_type": "code",
      "source": [
        "type(X)"
      ],
      "metadata": {
        "colab": {
          "base_uri": "https://localhost:8080/"
        },
        "id": "I_itzP7a_bIG",
        "outputId": "2aa1b78a-a3fb-472f-e2bc-e8b0c3880b40"
      },
      "execution_count": 12,
      "outputs": [
        {
          "output_type": "execute_result",
          "data": {
            "text/plain": [
              "numpy.ndarray"
            ]
          },
          "metadata": {},
          "execution_count": 12
        }
      ]
    },
    {
      "cell_type": "code",
      "source": [
        "type(y)"
      ],
      "metadata": {
        "colab": {
          "base_uri": "https://localhost:8080/"
        },
        "id": "TOMpGotgAHfL",
        "outputId": "afe397d3-4314-4c90-d9c9-939a02a8fd5e"
      },
      "execution_count": 13,
      "outputs": [
        {
          "output_type": "execute_result",
          "data": {
            "text/plain": [
              "numpy.ndarray"
            ]
          },
          "metadata": {},
          "execution_count": 13
        }
      ]
    },
    {
      "cell_type": "code",
      "source": [
        "# Turn data to tensors\n",
        "# Here the X is already in tensor and y is in numpy.\n",
        "# So we have to change the y to tensor using the following method:\n",
        "# X = torch.from_numpy(X).type(torch.float)\n",
        "# y = torch.from_numpy(y).type(torch.float)"
      ],
      "metadata": {
        "id": "cvWIeBgm-o4o"
      },
      "execution_count": 15,
      "outputs": []
    },
    {
      "cell_type": "code",
      "source": [
        "X[:5], y[:5]"
      ],
      "metadata": {
        "colab": {
          "base_uri": "https://localhost:8080/"
        },
        "id": "CjQlLPCB_DcN",
        "outputId": "edf0e465-34c1-4945-96b9-0c9e280c1cc0"
      },
      "execution_count": 16,
      "outputs": [
        {
          "output_type": "execute_result",
          "data": {
            "text/plain": [
              "(tensor([[ 0.7542,  0.2315],\n",
              "         [-0.7562,  0.1533],\n",
              "         [-0.8154,  0.1733],\n",
              "         [-0.3937,  0.6929],\n",
              "         [ 0.4422, -0.8967]]), tensor([1., 1., 1., 1., 0.]))"
            ]
          },
          "metadata": {},
          "execution_count": 16
        }
      ]
    },
    {
      "cell_type": "code",
      "source": [
        "X.dtype, y.dtype"
      ],
      "metadata": {
        "colab": {
          "base_uri": "https://localhost:8080/"
        },
        "id": "tytSRLPF_vHQ",
        "outputId": "632a2a53-f2c0-4b3f-b6a6-ccb9ac88c12a"
      },
      "execution_count": 17,
      "outputs": [
        {
          "output_type": "execute_result",
          "data": {
            "text/plain": [
              "(torch.float32, torch.float32)"
            ]
          },
          "metadata": {},
          "execution_count": 17
        }
      ]
    },
    {
      "cell_type": "code",
      "source": [
        "# Here the type of X is float64. So we convert it to float32\n",
        "# X = X.type(torch.float32)"
      ],
      "metadata": {
        "id": "Nd8a8esCAioV"
      },
      "execution_count": 18,
      "outputs": []
    },
    {
      "cell_type": "code",
      "source": [
        "X.dtype, y.dtype"
      ],
      "metadata": {
        "colab": {
          "base_uri": "https://localhost:8080/"
        },
        "id": "F_XLimmjAs9M",
        "outputId": "4c26b3cd-3e85-4b72-e47a-2f3f920336e9"
      },
      "execution_count": 19,
      "outputs": [
        {
          "output_type": "execute_result",
          "data": {
            "text/plain": [
              "(torch.float32, torch.float32)"
            ]
          },
          "metadata": {},
          "execution_count": 19
        }
      ]
    },
    {
      "cell_type": "code",
      "source": [
        "# torch.manual_seed(42)"
      ],
      "metadata": {
        "id": "HhTc78bv6gNU"
      },
      "execution_count": 20,
      "outputs": []
    },
    {
      "cell_type": "code",
      "source": [
        "# split data to train and test\n",
        "from sklearn.model_selection import train_test_split\n",
        "\n",
        "X_train, X_test, y_train, y_test = train_test_split(X, y, test_size=0.2,\n",
        "                                                    random_state=42)"
      ],
      "metadata": {
        "id": "TuEwmIvxAvZE"
      },
      "execution_count": 21,
      "outputs": []
    },
    {
      "cell_type": "code",
      "source": [
        "len(X_train), len(X_test), len(y_train), len(y_test)"
      ],
      "metadata": {
        "colab": {
          "base_uri": "https://localhost:8080/"
        },
        "id": "FV9ZWvrR5Ly_",
        "outputId": "d15b8b10-56c1-4749-e68d-e88ec0443bda"
      },
      "execution_count": 22,
      "outputs": [
        {
          "output_type": "execute_result",
          "data": {
            "text/plain": [
              "(800, 200, 800, 200)"
            ]
          },
          "metadata": {},
          "execution_count": 22
        }
      ]
    },
    {
      "cell_type": "markdown",
      "source": [
        "###Building a model\n",
        "\n",
        "Do the following:\n",
        "\n",
        "1. Set the device in agonistic code so our code will run on accelarator(GPU)if there is one.\n",
        "\n",
        "2. Construct a model(by subclassing nn.Mode)\n",
        "\n",
        "3. Define a loss function and optimizer\n",
        "\n",
        "4. Create a training and test loop\n"
      ],
      "metadata": {
        "id": "dO-Bw_jb8cbJ"
      }
    },
    {
      "cell_type": "code",
      "source": [
        "import torch\n",
        "from torch import nn\n",
        "\n",
        "# set device agnostic code\n",
        "device= \"cuda\" if torch.cuda.is_available() else \"cpu\"\n",
        "device"
      ],
      "metadata": {
        "colab": {
          "base_uri": "https://localhost:8080/",
          "height": 36
        },
        "id": "oBxPznBx8VjP",
        "outputId": "bff03411-ec71-4744-dd09-0d24f7a3c77c"
      },
      "execution_count": 23,
      "outputs": [
        {
          "output_type": "execute_result",
          "data": {
            "text/plain": [
              "'cuda'"
            ],
            "application/vnd.google.colaboratory.intrinsic+json": {
              "type": "string"
            }
          },
          "metadata": {},
          "execution_count": 23
        }
      ]
    },
    {
      "cell_type": "code",
      "source": [
        "X_train.shape"
      ],
      "metadata": {
        "colab": {
          "base_uri": "https://localhost:8080/"
        },
        "id": "5bUO52JiAXS_",
        "outputId": "85c44544-fbfd-486b-cc51-2d2a120efb1d"
      },
      "execution_count": 24,
      "outputs": [
        {
          "output_type": "execute_result",
          "data": {
            "text/plain": [
              "torch.Size([800, 2])"
            ]
          },
          "metadata": {},
          "execution_count": 24
        }
      ]
    },
    {
      "cell_type": "markdown",
      "source": [
        "After setting device agnostic code, create a model that:\n",
        "\n",
        "1. Subclass `nn.Module`\n",
        "\n",
        "2. Create 2 `nn.Linear()` layer that is capable of handling the shapes of data\n",
        "\n",
        "3. Defines a `forward()` method that does forward pass/forward computation of the model.\n",
        "\n",
        "4. Instantiate an instance of model class and send it to target device"
      ],
      "metadata": {
        "id": "vLzgT6Mb-70L"
      }
    },
    {
      "cell_type": "code",
      "source": [
        "# 1. Construct a model that subclass nn.Model\n",
        "\n",
        "class CircleModelV0(nn.Module):\n",
        "  def __init__(self):\n",
        "    super().__init__()\n",
        "\n",
        "    # 2. Create 2 nn.Linear Layers that handles shape of data\n",
        "    # here in_features = 2 because the input has 2 features\n",
        "    self.layer_1 = nn.Linear(in_features=2, out_features=5)\n",
        "\n",
        "    # here the output of the previous layer will be given as the input layer \n",
        "    # of the present layer\n",
        "    self.layer_2 = nn.Linear(in_features=5, out_features=1)\n",
        "\n",
        "  # 3. Define forward method\n",
        "  def forward(self, x):\n",
        "    # here x is given as the input to layer one and layer one is given as the \n",
        "    # input of layer two which thereby will give the output\n",
        "    return self.layer_2(self.layer_1(x)) # x -> layer 1 -> layer 2 -> output\n",
        "\n",
        "  # 4. Instantiate the model device and send it to the target device\n",
        "model_0 = CircleModelV0().to(device)\n",
        "model_0\n"
      ],
      "metadata": {
        "colab": {
          "base_uri": "https://localhost:8080/"
        },
        "id": "PfNgmJ0B8Vcr",
        "outputId": "641a1a21-2122-46c1-b7ce-d84009bd147f"
      },
      "execution_count": 25,
      "outputs": [
        {
          "output_type": "execute_result",
          "data": {
            "text/plain": [
              "CircleModelV0(\n",
              "  (layer_1): Linear(in_features=2, out_features=5, bias=True)\n",
              "  (layer_2): Linear(in_features=5, out_features=1, bias=True)\n",
              ")"
            ]
          },
          "metadata": {},
          "execution_count": 25
        }
      ]
    },
    {
      "cell_type": "code",
      "source": [
        "# to check if model parameters are on cuda\n",
        "# next(model_0.parameters()).device"
      ],
      "metadata": {
        "id": "KSyVKeku8VVZ"
      },
      "execution_count": 26,
      "outputs": []
    },
    {
      "cell_type": "code",
      "source": [
        "# replicate the above model using nn.Sequential\n",
        "model_0 = nn.Sequential(nn.Linear(in_features=2, out_features=5),\n",
        "                        nn.Linear(in_features=5, out_features=1)).to(device)\n",
        "\n",
        "model_0"
      ],
      "metadata": {
        "colab": {
          "base_uri": "https://localhost:8080/"
        },
        "id": "Vvzxioa58VEr",
        "outputId": "5985087d-ceaa-4d0d-b6dc-9f52dea70195"
      },
      "execution_count": 27,
      "outputs": [
        {
          "output_type": "execute_result",
          "data": {
            "text/plain": [
              "Sequential(\n",
              "  (0): Linear(in_features=2, out_features=5, bias=True)\n",
              "  (1): Linear(in_features=5, out_features=1, bias=True)\n",
              ")"
            ]
          },
          "metadata": {},
          "execution_count": 27
        }
      ]
    },
    {
      "cell_type": "code",
      "source": [
        "model_0.state_dict()"
      ],
      "metadata": {
        "colab": {
          "base_uri": "https://localhost:8080/"
        },
        "id": "_2DoWvf8K-Uz",
        "outputId": "3acbcb9f-d627-4acb-a4b6-83b694989793"
      },
      "execution_count": 28,
      "outputs": [
        {
          "output_type": "execute_result",
          "data": {
            "text/plain": [
              "OrderedDict([('0.weight', tensor([[-0.3732,  0.3768],\n",
              "                      [-0.3079,  0.3842],\n",
              "                      [-0.4710,  0.0279],\n",
              "                      [ 0.6057,  0.1322],\n",
              "                      [-0.4573,  0.5514]], device='cuda:0')),\n",
              "             ('0.bias',\n",
              "              tensor([-0.5244, -0.2541, -0.0775,  0.2060,  0.2575], device='cuda:0')),\n",
              "             ('1.weight',\n",
              "              tensor([[ 0.0723,  0.1609, -0.2069, -0.0153,  0.0520]], device='cuda:0')),\n",
              "             ('1.bias', tensor([0.1998], device='cuda:0'))])"
            ]
          },
          "metadata": {},
          "execution_count": 28
        }
      ]
    },
    {
      "cell_type": "code",
      "source": [
        "# convert X_test to tensor\n",
        "# X_test = torch.from_numpy(X_test).to(device)\n",
        "# X_test\n",
        "# X_test = X_test.type(torch.float32)\n",
        "print(X_test.dtype)"
      ],
      "metadata": {
        "colab": {
          "base_uri": "https://localhost:8080/"
        },
        "id": "a07jejUePmzP",
        "outputId": "4829ef7f-98da-4efb-e673-cdb8f09e89cb"
      },
      "execution_count": 29,
      "outputs": [
        {
          "output_type": "stream",
          "name": "stdout",
          "text": [
            "torch.float32\n"
          ]
        }
      ]
    },
    {
      "cell_type": "code",
      "source": [
        "# make some predictions \n",
        "with torch.inference_mode():\n",
        "  untrained_pred = model_0(X_test.to(device))\n",
        "print(f\"Length if predictions {len(untrained_pred)} and shape is {untrained_pred.shape}\")\n",
        "print(f\"Length of test samples {len(X_test)} and shape is {X_test.shape}\")\n",
        "print(f\"First 10 predictions are {untrained_pred[:10]}\")\n",
        "print(f\"First 10 labels are {y_test[:10]}\")"
      ],
      "metadata": {
        "colab": {
          "base_uri": "https://localhost:8080/"
        },
        "id": "nRFdRYxJKs5y",
        "outputId": "5cbdd01c-19a8-4959-d905-02f98b5dc8c9"
      },
      "execution_count": 30,
      "outputs": [
        {
          "output_type": "stream",
          "name": "stdout",
          "text": [
            "Length if predictions 200 and shape is torch.Size([200, 1])\n",
            "Length of test samples 200 and shape is torch.Size([200, 2])\n",
            "First 10 predictions are tensor([[0.2268],\n",
            "        [0.2526],\n",
            "        [0.1211],\n",
            "        [0.2569],\n",
            "        [0.0606],\n",
            "        [0.0768],\n",
            "        [0.1974],\n",
            "        [0.1561],\n",
            "        [0.1239],\n",
            "        [0.2537]], device='cuda:0')\n",
            "First 10 labels are tensor([1., 0., 1., 0., 1., 1., 0., 0., 1., 0.])\n"
          ]
        }
      ]
    },
    {
      "cell_type": "markdown",
      "source": [
        "#### Loss function and Optimizer\n",
        "\n",
        "###### Loss Function\n",
        "* For Regresssion use MAE or MSE for loss function\n",
        "\n",
        "* For classification use binary cross entropy(`nn.BCEWithLogitLoss()|`) or categorical cross entropy\n",
        "\n",
        "###### Optimizer\n",
        "* Most commonly used and SGD and Adam\n",
        "\n",
        "\n"
      ],
      "metadata": {
        "id": "gbTIyPZ3S-6Y"
      }
    },
    {
      "cell_type": "code",
      "source": [
        "# BCEWithLogitLoss is similar to Sigmoid activation followed by BCELoss() added sequentially\n",
        "# nn.Sequential(nn.Sigmoid(),\n",
        "#               nn.BCELoss())\n",
        "\n",
        "# set up loss function\n",
        "loss_fn = nn.BCEWithLogitsLoss() # use sigmoid activation function as buit-in\n",
        "\n",
        "optimizer = torch.optim.SGD(params=model_0.parameters(), lr=0.01)\n"
      ],
      "metadata": {
        "id": "FPBIqo5lPdVi"
      },
      "execution_count": 31,
      "outputs": []
    },
    {
      "cell_type": "code",
      "source": [
        "model_0.state_dict()"
      ],
      "metadata": {
        "id": "PjX_BbVkaGUB",
        "colab": {
          "base_uri": "https://localhost:8080/"
        },
        "outputId": "0a704101-709c-4294-ae3c-09758e3b5b67"
      },
      "execution_count": 32,
      "outputs": [
        {
          "output_type": "execute_result",
          "data": {
            "text/plain": [
              "OrderedDict([('0.weight', tensor([[-0.3732,  0.3768],\n",
              "                      [-0.3079,  0.3842],\n",
              "                      [-0.4710,  0.0279],\n",
              "                      [ 0.6057,  0.1322],\n",
              "                      [-0.4573,  0.5514]], device='cuda:0')),\n",
              "             ('0.bias',\n",
              "              tensor([-0.5244, -0.2541, -0.0775,  0.2060,  0.2575], device='cuda:0')),\n",
              "             ('1.weight',\n",
              "              tensor([[ 0.0723,  0.1609, -0.2069, -0.0153,  0.0520]], device='cuda:0')),\n",
              "             ('1.bias', tensor([0.1998], device='cuda:0'))])"
            ]
          },
          "metadata": {},
          "execution_count": 32
        }
      ]
    },
    {
      "cell_type": "code",
      "source": [
        "# calculate accuracy -> out of 100 examples what percentage does our model get right\n",
        "\n",
        "# Here y_true is the original y values\n",
        "# y_pred is the predicted outputs\n",
        "def accuracy_fn(y_true, y_pred):\n",
        "\n",
        "  # Here we will be checking how many predicted values is equal to true values\n",
        "  # then take the sum \n",
        "  correct = torch.eq(y_true, y_pred).sum().item()\n",
        "\n",
        "  # Accuracy will be the correct predictions out of the whole predictions\n",
        "  acc = (correct/len(y_pred)) * 100\n",
        "  return acc\n"
      ],
      "metadata": {
        "id": "V-lro1bTE9ah"
      },
      "execution_count": 33,
      "outputs": []
    },
    {
      "cell_type": "markdown",
      "source": [
        "### Train Model\n",
        "\n",
        "Build training loop in the following steps:\n",
        " 1. Forward pass\n",
        " 2. Calculate the loss\n",
        " 3. Optimizer zero grad\n",
        " 4. Back Propagation\n",
        " 5. Optimizer step(Gradient Descent)\n"
      ],
      "metadata": {
        "id": "31A99orEGzOe"
      }
    },
    {
      "cell_type": "markdown",
      "source": [
        "#### Going from raw logits -> prediction probabilities -> prediction labels\n",
        "\n",
        "The model output is raw **logits**"
      ],
      "metadata": {
        "id": "yxal3NFfIP3m"
      }
    },
    {
      "cell_type": "code",
      "source": [
        "model_0"
      ],
      "metadata": {
        "colab": {
          "base_uri": "https://localhost:8080/"
        },
        "id": "7w7fFRxUGdEi",
        "outputId": "c7b86448-c6a3-462e-ac76-2fc39c5b5b71"
      },
      "execution_count": 34,
      "outputs": [
        {
          "output_type": "execute_result",
          "data": {
            "text/plain": [
              "Sequential(\n",
              "  (0): Linear(in_features=2, out_features=5, bias=True)\n",
              "  (1): Linear(in_features=5, out_features=1, bias=True)\n",
              ")"
            ]
          },
          "metadata": {},
          "execution_count": 34
        }
      ]
    },
    {
      "cell_type": "markdown",
      "source": [
        "We can convert **logits** to **prediction probabilities** by passing them to some activation functions(binary classification -> sigmoid and softmax -> multiclass classification)\n",
        "\n",
        "\n",
        "Then we can convert model prediction probabilities to prediction labels by either `rounding them` or taking the `argmax()`.\n",
        "\n",
        "* rounding is for sigmoid(binary)\n",
        "* argmax() is for softmax(multiclass)"
      ],
      "metadata": {
        "id": "lYcTiFcvIu51"
      }
    },
    {
      "cell_type": "code",
      "source": [
        "# whenever we are trying to make predictions use the model in eval mode\n",
        "# turn it back to train mode if we are going to train\n",
        "\n",
        "model_0.eval()\n",
        "with torch.inference_mode():\n",
        "  # taking the first five data from X_test\n",
        "  y_logits = model_0(X_test.to(device))[:5]\n",
        "y_logits\n"
      ],
      "metadata": {
        "colab": {
          "base_uri": "https://localhost:8080/"
        },
        "id": "4vgViWdaIqTS",
        "outputId": "30a36284-3e2a-408a-c43e-347fef1d78df"
      },
      "execution_count": 35,
      "outputs": [
        {
          "output_type": "execute_result",
          "data": {
            "text/plain": [
              "tensor([[0.2268],\n",
              "        [0.2526],\n",
              "        [0.1211],\n",
              "        [0.2569],\n",
              "        [0.0606]], device='cuda:0')"
            ]
          },
          "metadata": {},
          "execution_count": 35
        }
      ]
    },
    {
      "cell_type": "markdown",
      "source": [
        "**Logits are raw output of our model without being passed to any activation functions**"
      ],
      "metadata": {
        "id": "KZ3mMFmbPaxp"
      }
    },
    {
      "cell_type": "code",
      "source": [
        "y_test[:5]"
      ],
      "metadata": {
        "id": "mmlHqmXTL2XD",
        "colab": {
          "base_uri": "https://localhost:8080/"
        },
        "outputId": "97411783-fda5-4a74-d10b-ad10d92c6825"
      },
      "execution_count": 36,
      "outputs": [
        {
          "output_type": "execute_result",
          "data": {
            "text/plain": [
              "tensor([1., 0., 1., 0., 1.])"
            ]
          },
          "metadata": {},
          "execution_count": 36
        }
      ]
    },
    {
      "cell_type": "code",
      "source": [
        "print('model prediction shape', y_logits.shape)\n",
        "print('test label shape', y_test[:5].shape)"
      ],
      "metadata": {
        "colab": {
          "base_uri": "https://localhost:8080/"
        },
        "id": "aFwzp5RmCuoW",
        "outputId": "c1a0087d-c17c-465e-d61d-a7ebb961cbdb"
      },
      "execution_count": 37,
      "outputs": [
        {
          "output_type": "stream",
          "name": "stdout",
          "text": [
            "model prediction shape torch.Size([5, 1])\n",
            "test label shape torch.Size([5])\n"
          ]
        }
      ]
    },
    {
      "cell_type": "markdown",
      "source": [
        "If we check the above columns we can see that **shape of y_logits(which is the model prediction) is different from y_test(our test labels)**.\n",
        "\n",
        "Here the y is in logits. So we have to use the activation function to turn the logits to **prediction probabilities**\n",
        "\n",
        "For the prediction probability values, we need to perform range style rounding on them:\n",
        "* `y_pred_probs` >= 0.5 , `y = 1` (class 1)\n",
        "* `y_pred_probs` < 0.5 `y = 0` (class 0) "
      ],
      "metadata": {
        "id": "xlyCnpVZ9w2S"
      }
    },
    {
      "cell_type": "code",
      "source": [
        "# Here we are using sigmoid as activation functions\n",
        "y_pred_probs = torch.sigmoid(y_logits)\n",
        "y_logits"
      ],
      "metadata": {
        "colab": {
          "base_uri": "https://localhost:8080/"
        },
        "id": "u_OavJhS9Xma",
        "outputId": "253fc466-c90b-41cb-9726-f0c2730a9fdf"
      },
      "execution_count": 38,
      "outputs": [
        {
          "output_type": "execute_result",
          "data": {
            "text/plain": [
              "tensor([[0.2268],\n",
              "        [0.2526],\n",
              "        [0.1211],\n",
              "        [0.2569],\n",
              "        [0.0606]], device='cuda:0')"
            ]
          },
          "metadata": {},
          "execution_count": 38
        }
      ]
    },
    {
      "cell_type": "code",
      "source": [
        "# Find the predicted labels\n",
        "y_preds = torch.round(y_pred_probs)\n",
        "y_preds"
      ],
      "metadata": {
        "colab": {
          "base_uri": "https://localhost:8080/"
        },
        "id": "d1_fbo5W_wag",
        "outputId": "e1423a8f-2774-46da-ca96-40172e78abf2"
      },
      "execution_count": 39,
      "outputs": [
        {
          "output_type": "execute_result",
          "data": {
            "text/plain": [
              "tensor([[1.],\n",
              "        [1.],\n",
              "        [1.],\n",
              "        [1.],\n",
              "        [1.]], device='cuda:0')"
            ]
          },
          "metadata": {},
          "execution_count": 39
        }
      ]
    },
    {
      "cell_type": "code",
      "source": [
        "# (logit -> pred probs -> pred labels) in a single step\n",
        "y_pred_labels = torch.round(torch.sigmoid(model_0(X_test.to(device))[:5]))\n",
        "y_pred_labels"
      ],
      "metadata": {
        "colab": {
          "base_uri": "https://localhost:8080/"
        },
        "id": "h9fgS3TGAM1q",
        "outputId": "0b5d9dc9-4852-412a-9597-3eaae3f6a124"
      },
      "execution_count": 40,
      "outputs": [
        {
          "output_type": "execute_result",
          "data": {
            "text/plain": [
              "tensor([[1.],\n",
              "        [1.],\n",
              "        [1.],\n",
              "        [1.],\n",
              "        [1.]], device='cuda:0', grad_fn=<RoundBackward0>)"
            ]
          },
          "metadata": {},
          "execution_count": 40
        }
      ]
    },
    {
      "cell_type": "code",
      "source": [
        "# Check fpr equality\n",
        "print(torch.eq(y_preds.squeeze(), y_pred_labels.squeeze()))\n",
        "\n",
        "# get rid of extra dimension\n",
        "y_preds.squeeze()"
      ],
      "metadata": {
        "colab": {
          "base_uri": "https://localhost:8080/"
        },
        "id": "hnCxx4AoBMdG",
        "outputId": "7281bd0e-86a8-4637-c254-729b98259607"
      },
      "execution_count": 41,
      "outputs": [
        {
          "output_type": "stream",
          "name": "stdout",
          "text": [
            "tensor([True, True, True, True, True], device='cuda:0')\n"
          ]
        },
        {
          "output_type": "execute_result",
          "data": {
            "text/plain": [
              "tensor([1., 1., 1., 1., 1.], device='cuda:0')"
            ]
          },
          "metadata": {},
          "execution_count": 41
        }
      ]
    },
    {
      "cell_type": "markdown",
      "source": [
        "### Building Training and Testing loop"
      ],
      "metadata": {
        "id": "BpE8LSpWBvFQ"
      }
    },
    {
      "cell_type": "code",
      "source": [
        "torch.manual_seed(42)\n",
        "torch.cuda.manual_seed(42)\n",
        "\n",
        "# set the number of epochs\n",
        "epochs = 1000\n",
        "\n",
        "# put data to target device\n",
        "X_train, y_train = X_train.to(device), y_train.to(device)\n",
        "X_test, y_test = X_test.to(device), y_test.to(device)\n",
        "\n",
        "\n",
        "# Build Training and evaluation loop\n",
        "for epoch in range(epochs):\n",
        "  # training\n",
        "  model_0.train()\n",
        "\n",
        "  # 1.forward pass\n",
        "  y_logits = model_0(X_train).squeeze()\n",
        "  y_pred = torch.round(torch.sigmoid(y_logits)) #logit -> pred probs -> pred labels\n",
        "\n",
        "  # 2. Calculate loss/frequency\n",
        "  # since our loss function isnn.BCEWithLogitsLoss, it expects the input in logits\n",
        "\n",
        "  # But incase if our loss function was nn.BCELoss(), then the y_logits should be\n",
        "  # converted to prediction probabilities using sigmoid functions\n",
        "  # loss = loss_fn(torch.sigmoid(y_logits), y_train)\n",
        "  loss= loss_fn(y_logits, y_train)\n",
        "\n",
        "  acc = accuracy_fn(y_true=y_train, y_pred=y_pred)\n",
        "\n",
        "  # 3. Optimizer Zero grad\n",
        "  optimizer.zero_grad()\n",
        "\n",
        "  # 4. Loss backward(Back Propogation)\n",
        "  loss.backward()\n",
        "\n",
        "  # 5. optimizer step(gradient descent)\n",
        "  optimizer.step()\n",
        "\n",
        "  ### Testing\n",
        "  model_0.eval()\n",
        "  with torch.inference_mode():\n",
        "    # 1. Forward pass\n",
        "    test_logits = model_0(X_test).squeeze()\n",
        "    test_pred = torch.round(torch.sigmoid(test_logits))\n",
        "\n",
        "    # 2. calculate test loss/accuracy\n",
        "    test_loss = loss_fn(test_logits, y_test)\n",
        "\n",
        "    test_accuracy = accuracy_fn(y_true=y_test, y_pred=test_pred)\n",
        "  \n",
        "  # print the result\n",
        "  if epoch % 10 == 0:\n",
        "    print(f\"Epoch : {epoch} | Train Loss : {loss:.5f}, Train Accuracy : {acc:0.2f}% | Test Loss : {test_loss:0.5f}, Test accuracy : {test_accuracy:0.2f}%\")\n"
      ],
      "metadata": {
        "id": "xHDUqi3nBd-O",
        "colab": {
          "base_uri": "https://localhost:8080/"
        },
        "outputId": "cdcbe1d9-ce97-4ae7-9d7b-e30b643b5670"
      },
      "execution_count": 42,
      "outputs": [
        {
          "output_type": "stream",
          "name": "stdout",
          "text": [
            "Epoch : 0 | Train Loss : 0.69585, Train Accuracy : 50.00% | Test Loss : 0.69889, Test accuracy : 50.00%\n",
            "Epoch : 10 | Train Loss : 0.69567, Train Accuracy : 50.00% | Test Loss : 0.69869, Test accuracy : 50.00%\n",
            "Epoch : 20 | Train Loss : 0.69550, Train Accuracy : 50.00% | Test Loss : 0.69850, Test accuracy : 50.00%\n",
            "Epoch : 30 | Train Loss : 0.69533, Train Accuracy : 50.00% | Test Loss : 0.69832, Test accuracy : 50.00%\n",
            "Epoch : 40 | Train Loss : 0.69519, Train Accuracy : 50.00% | Test Loss : 0.69815, Test accuracy : 50.00%\n",
            "Epoch : 50 | Train Loss : 0.69505, Train Accuracy : 50.00% | Test Loss : 0.69800, Test accuracy : 50.00%\n",
            "Epoch : 60 | Train Loss : 0.69492, Train Accuracy : 50.00% | Test Loss : 0.69785, Test accuracy : 50.00%\n",
            "Epoch : 70 | Train Loss : 0.69480, Train Accuracy : 50.38% | Test Loss : 0.69772, Test accuracy : 50.00%\n",
            "Epoch : 80 | Train Loss : 0.69469, Train Accuracy : 52.25% | Test Loss : 0.69759, Test accuracy : 50.50%\n",
            "Epoch : 90 | Train Loss : 0.69458, Train Accuracy : 54.12% | Test Loss : 0.69747, Test accuracy : 52.50%\n",
            "Epoch : 100 | Train Loss : 0.69449, Train Accuracy : 55.75% | Test Loss : 0.69736, Test accuracy : 54.50%\n",
            "Epoch : 110 | Train Loss : 0.69440, Train Accuracy : 56.75% | Test Loss : 0.69725, Test accuracy : 55.00%\n",
            "Epoch : 120 | Train Loss : 0.69431, Train Accuracy : 58.13% | Test Loss : 0.69715, Test accuracy : 56.00%\n",
            "Epoch : 130 | Train Loss : 0.69424, Train Accuracy : 59.00% | Test Loss : 0.69706, Test accuracy : 58.00%\n",
            "Epoch : 140 | Train Loss : 0.69416, Train Accuracy : 58.63% | Test Loss : 0.69698, Test accuracy : 58.50%\n",
            "Epoch : 150 | Train Loss : 0.69410, Train Accuracy : 58.75% | Test Loss : 0.69690, Test accuracy : 56.50%\n",
            "Epoch : 160 | Train Loss : 0.69403, Train Accuracy : 56.62% | Test Loss : 0.69682, Test accuracy : 54.50%\n",
            "Epoch : 170 | Train Loss : 0.69397, Train Accuracy : 55.50% | Test Loss : 0.69675, Test accuracy : 53.50%\n",
            "Epoch : 180 | Train Loss : 0.69392, Train Accuracy : 55.00% | Test Loss : 0.69668, Test accuracy : 52.50%\n",
            "Epoch : 190 | Train Loss : 0.69387, Train Accuracy : 54.87% | Test Loss : 0.69662, Test accuracy : 52.00%\n",
            "Epoch : 200 | Train Loss : 0.69382, Train Accuracy : 55.12% | Test Loss : 0.69656, Test accuracy : 52.00%\n",
            "Epoch : 210 | Train Loss : 0.69378, Train Accuracy : 54.75% | Test Loss : 0.69650, Test accuracy : 51.00%\n",
            "Epoch : 220 | Train Loss : 0.69373, Train Accuracy : 54.37% | Test Loss : 0.69645, Test accuracy : 51.00%\n",
            "Epoch : 230 | Train Loss : 0.69369, Train Accuracy : 54.37% | Test Loss : 0.69640, Test accuracy : 50.50%\n",
            "Epoch : 240 | Train Loss : 0.69366, Train Accuracy : 54.25% | Test Loss : 0.69635, Test accuracy : 50.00%\n",
            "Epoch : 250 | Train Loss : 0.69362, Train Accuracy : 53.87% | Test Loss : 0.69631, Test accuracy : 50.50%\n",
            "Epoch : 260 | Train Loss : 0.69359, Train Accuracy : 53.75% | Test Loss : 0.69626, Test accuracy : 49.50%\n",
            "Epoch : 270 | Train Loss : 0.69356, Train Accuracy : 53.50% | Test Loss : 0.69622, Test accuracy : 50.00%\n",
            "Epoch : 280 | Train Loss : 0.69353, Train Accuracy : 52.88% | Test Loss : 0.69619, Test accuracy : 50.00%\n",
            "Epoch : 290 | Train Loss : 0.69351, Train Accuracy : 52.88% | Test Loss : 0.69615, Test accuracy : 50.00%\n",
            "Epoch : 300 | Train Loss : 0.69348, Train Accuracy : 52.88% | Test Loss : 0.69612, Test accuracy : 49.50%\n",
            "Epoch : 310 | Train Loss : 0.69346, Train Accuracy : 52.88% | Test Loss : 0.69608, Test accuracy : 50.00%\n",
            "Epoch : 320 | Train Loss : 0.69344, Train Accuracy : 52.75% | Test Loss : 0.69605, Test accuracy : 51.00%\n",
            "Epoch : 330 | Train Loss : 0.69342, Train Accuracy : 53.00% | Test Loss : 0.69602, Test accuracy : 50.00%\n",
            "Epoch : 340 | Train Loss : 0.69340, Train Accuracy : 53.00% | Test Loss : 0.69600, Test accuracy : 51.00%\n",
            "Epoch : 350 | Train Loss : 0.69338, Train Accuracy : 52.62% | Test Loss : 0.69597, Test accuracy : 50.00%\n",
            "Epoch : 360 | Train Loss : 0.69336, Train Accuracy : 52.88% | Test Loss : 0.69594, Test accuracy : 50.00%\n",
            "Epoch : 370 | Train Loss : 0.69335, Train Accuracy : 52.62% | Test Loss : 0.69592, Test accuracy : 50.00%\n",
            "Epoch : 380 | Train Loss : 0.69333, Train Accuracy : 52.62% | Test Loss : 0.69590, Test accuracy : 50.00%\n",
            "Epoch : 390 | Train Loss : 0.69332, Train Accuracy : 52.75% | Test Loss : 0.69587, Test accuracy : 50.00%\n",
            "Epoch : 400 | Train Loss : 0.69330, Train Accuracy : 52.62% | Test Loss : 0.69585, Test accuracy : 50.00%\n",
            "Epoch : 410 | Train Loss : 0.69329, Train Accuracy : 52.25% | Test Loss : 0.69583, Test accuracy : 50.00%\n",
            "Epoch : 420 | Train Loss : 0.69328, Train Accuracy : 52.12% | Test Loss : 0.69581, Test accuracy : 50.00%\n",
            "Epoch : 430 | Train Loss : 0.69327, Train Accuracy : 52.12% | Test Loss : 0.69579, Test accuracy : 50.00%\n",
            "Epoch : 440 | Train Loss : 0.69326, Train Accuracy : 52.25% | Test Loss : 0.69578, Test accuracy : 49.00%\n",
            "Epoch : 450 | Train Loss : 0.69325, Train Accuracy : 52.25% | Test Loss : 0.69576, Test accuracy : 48.50%\n",
            "Epoch : 460 | Train Loss : 0.69324, Train Accuracy : 52.38% | Test Loss : 0.69574, Test accuracy : 48.50%\n",
            "Epoch : 470 | Train Loss : 0.69323, Train Accuracy : 52.12% | Test Loss : 0.69573, Test accuracy : 48.00%\n",
            "Epoch : 480 | Train Loss : 0.69322, Train Accuracy : 52.50% | Test Loss : 0.69571, Test accuracy : 48.00%\n",
            "Epoch : 490 | Train Loss : 0.69321, Train Accuracy : 52.25% | Test Loss : 0.69570, Test accuracy : 48.50%\n",
            "Epoch : 500 | Train Loss : 0.69320, Train Accuracy : 52.25% | Test Loss : 0.69568, Test accuracy : 48.50%\n",
            "Epoch : 510 | Train Loss : 0.69319, Train Accuracy : 52.50% | Test Loss : 0.69567, Test accuracy : 48.50%\n",
            "Epoch : 520 | Train Loss : 0.69319, Train Accuracy : 52.25% | Test Loss : 0.69565, Test accuracy : 48.50%\n",
            "Epoch : 530 | Train Loss : 0.69318, Train Accuracy : 52.25% | Test Loss : 0.69564, Test accuracy : 48.50%\n",
            "Epoch : 540 | Train Loss : 0.69317, Train Accuracy : 52.00% | Test Loss : 0.69563, Test accuracy : 48.00%\n",
            "Epoch : 550 | Train Loss : 0.69317, Train Accuracy : 51.88% | Test Loss : 0.69562, Test accuracy : 48.50%\n",
            "Epoch : 560 | Train Loss : 0.69316, Train Accuracy : 52.00% | Test Loss : 0.69561, Test accuracy : 48.50%\n",
            "Epoch : 570 | Train Loss : 0.69316, Train Accuracy : 51.62% | Test Loss : 0.69559, Test accuracy : 48.50%\n",
            "Epoch : 580 | Train Loss : 0.69315, Train Accuracy : 51.62% | Test Loss : 0.69558, Test accuracy : 48.50%\n",
            "Epoch : 590 | Train Loss : 0.69314, Train Accuracy : 51.62% | Test Loss : 0.69557, Test accuracy : 48.50%\n",
            "Epoch : 600 | Train Loss : 0.69314, Train Accuracy : 51.62% | Test Loss : 0.69556, Test accuracy : 48.50%\n",
            "Epoch : 610 | Train Loss : 0.69313, Train Accuracy : 51.62% | Test Loss : 0.69555, Test accuracy : 49.50%\n",
            "Epoch : 620 | Train Loss : 0.69313, Train Accuracy : 51.62% | Test Loss : 0.69554, Test accuracy : 50.00%\n",
            "Epoch : 630 | Train Loss : 0.69313, Train Accuracy : 51.62% | Test Loss : 0.69553, Test accuracy : 50.00%\n",
            "Epoch : 640 | Train Loss : 0.69312, Train Accuracy : 51.62% | Test Loss : 0.69552, Test accuracy : 50.00%\n",
            "Epoch : 650 | Train Loss : 0.69312, Train Accuracy : 51.62% | Test Loss : 0.69551, Test accuracy : 49.50%\n",
            "Epoch : 660 | Train Loss : 0.69311, Train Accuracy : 51.62% | Test Loss : 0.69550, Test accuracy : 49.50%\n",
            "Epoch : 670 | Train Loss : 0.69311, Train Accuracy : 51.62% | Test Loss : 0.69550, Test accuracy : 49.50%\n",
            "Epoch : 680 | Train Loss : 0.69311, Train Accuracy : 51.75% | Test Loss : 0.69549, Test accuracy : 49.50%\n",
            "Epoch : 690 | Train Loss : 0.69310, Train Accuracy : 51.88% | Test Loss : 0.69548, Test accuracy : 49.50%\n",
            "Epoch : 700 | Train Loss : 0.69310, Train Accuracy : 51.62% | Test Loss : 0.69547, Test accuracy : 49.50%\n",
            "Epoch : 710 | Train Loss : 0.69310, Train Accuracy : 51.62% | Test Loss : 0.69546, Test accuracy : 49.50%\n",
            "Epoch : 720 | Train Loss : 0.69309, Train Accuracy : 51.50% | Test Loss : 0.69546, Test accuracy : 49.00%\n",
            "Epoch : 730 | Train Loss : 0.69309, Train Accuracy : 51.50% | Test Loss : 0.69545, Test accuracy : 49.00%\n",
            "Epoch : 740 | Train Loss : 0.69309, Train Accuracy : 51.50% | Test Loss : 0.69544, Test accuracy : 48.50%\n",
            "Epoch : 750 | Train Loss : 0.69308, Train Accuracy : 51.50% | Test Loss : 0.69543, Test accuracy : 48.50%\n",
            "Epoch : 760 | Train Loss : 0.69308, Train Accuracy : 51.62% | Test Loss : 0.69543, Test accuracy : 47.50%\n",
            "Epoch : 770 | Train Loss : 0.69308, Train Accuracy : 51.88% | Test Loss : 0.69542, Test accuracy : 47.50%\n",
            "Epoch : 780 | Train Loss : 0.69308, Train Accuracy : 51.88% | Test Loss : 0.69541, Test accuracy : 47.50%\n",
            "Epoch : 790 | Train Loss : 0.69307, Train Accuracy : 52.00% | Test Loss : 0.69541, Test accuracy : 47.50%\n",
            "Epoch : 800 | Train Loss : 0.69307, Train Accuracy : 51.88% | Test Loss : 0.69540, Test accuracy : 47.50%\n",
            "Epoch : 810 | Train Loss : 0.69307, Train Accuracy : 51.88% | Test Loss : 0.69539, Test accuracy : 47.50%\n",
            "Epoch : 820 | Train Loss : 0.69307, Train Accuracy : 51.75% | Test Loss : 0.69539, Test accuracy : 47.50%\n",
            "Epoch : 830 | Train Loss : 0.69306, Train Accuracy : 51.88% | Test Loss : 0.69538, Test accuracy : 47.50%\n",
            "Epoch : 840 | Train Loss : 0.69306, Train Accuracy : 51.88% | Test Loss : 0.69537, Test accuracy : 47.50%\n",
            "Epoch : 850 | Train Loss : 0.69306, Train Accuracy : 51.88% | Test Loss : 0.69537, Test accuracy : 47.50%\n",
            "Epoch : 860 | Train Loss : 0.69306, Train Accuracy : 51.75% | Test Loss : 0.69536, Test accuracy : 47.50%\n",
            "Epoch : 870 | Train Loss : 0.69306, Train Accuracy : 51.75% | Test Loss : 0.69536, Test accuracy : 47.50%\n",
            "Epoch : 880 | Train Loss : 0.69305, Train Accuracy : 51.50% | Test Loss : 0.69535, Test accuracy : 47.50%\n",
            "Epoch : 890 | Train Loss : 0.69305, Train Accuracy : 51.50% | Test Loss : 0.69534, Test accuracy : 47.50%\n",
            "Epoch : 900 | Train Loss : 0.69305, Train Accuracy : 51.38% | Test Loss : 0.69534, Test accuracy : 47.50%\n",
            "Epoch : 910 | Train Loss : 0.69305, Train Accuracy : 51.25% | Test Loss : 0.69533, Test accuracy : 47.50%\n",
            "Epoch : 920 | Train Loss : 0.69305, Train Accuracy : 51.12% | Test Loss : 0.69533, Test accuracy : 47.50%\n",
            "Epoch : 930 | Train Loss : 0.69305, Train Accuracy : 51.25% | Test Loss : 0.69532, Test accuracy : 47.50%\n",
            "Epoch : 940 | Train Loss : 0.69304, Train Accuracy : 51.25% | Test Loss : 0.69532, Test accuracy : 46.00%\n",
            "Epoch : 950 | Train Loss : 0.69304, Train Accuracy : 51.25% | Test Loss : 0.69531, Test accuracy : 46.00%\n",
            "Epoch : 960 | Train Loss : 0.69304, Train Accuracy : 51.38% | Test Loss : 0.69531, Test accuracy : 46.00%\n",
            "Epoch : 970 | Train Loss : 0.69304, Train Accuracy : 51.25% | Test Loss : 0.69530, Test accuracy : 46.00%\n",
            "Epoch : 980 | Train Loss : 0.69304, Train Accuracy : 51.25% | Test Loss : 0.69530, Test accuracy : 46.00%\n",
            "Epoch : 990 | Train Loss : 0.69304, Train Accuracy : 51.12% | Test Loss : 0.69529, Test accuracy : 46.00%\n"
          ]
        }
      ]
    },
    {
      "cell_type": "markdown",
      "source": [
        "From above results, we can see that the accuracy is getting lower on each epochs.\n",
        "\n",
        "To see the results better we are going to visualize it\n",
        "\n",
        "To do that we have to import a function `plot_decision_boundary()` (https://github.com/mrdbourke/pytorch-deep-learning/blob/main/helper_functions.py)"
      ],
      "metadata": {
        "id": "SQizt6Bfgi_M"
      }
    },
    {
      "cell_type": "code",
      "source": [
        "import requests\n",
        "from pathlib import Path\n",
        "\n",
        "# Download helper function from the github repo\n",
        "if Path('helper_functions.py').is_file():\n",
        "  print('helper_functions.py already downloaded')\n",
        "else:\n",
        "  print('Downloading helper_functions.py')\n",
        "  # get the raw url from github\n",
        "  request = requests.get('https://raw.githubusercontent.com/mrdbourke/pytorch-deep-learning/main/helper_functions.py')\n",
        "  with open('helper_functions.py', 'wb') as f:\n",
        "    f.write(request.content)"
      ],
      "metadata": {
        "colab": {
          "base_uri": "https://localhost:8080/"
        },
        "id": "kqgLBu6xKTzd",
        "outputId": "d848e47f-ad5d-4d32-82df-c3d65dd721d7"
      },
      "execution_count": 43,
      "outputs": [
        {
          "output_type": "stream",
          "name": "stdout",
          "text": [
            "Downloading helper_functions.py\n"
          ]
        }
      ]
    },
    {
      "cell_type": "code",
      "source": [
        "# plot decision boundary for the model\n",
        "from helper_functions import plot_predictions, plot_decision_boundary\n",
        "\n",
        "plt.figure(figsize=(12, 6))\n",
        "plt.subplot(1, 2, 1)\n",
        "plt.title('Train')\n",
        "plot_decision_boundary(model_0, X_train, y_train)\n",
        "plt.subplot(1, 2, 2)\n",
        "plt.title('Test')\n",
        "plot_decision_boundary(model_0, X_test, y_test)"
      ],
      "metadata": {
        "colab": {
          "base_uri": "https://localhost:8080/",
          "height": 360
        },
        "id": "ahAVB6YxATES",
        "outputId": "7228a690-d11e-41f1-9969-eb5b23f8cb80"
      },
      "execution_count": 44,
      "outputs": [
        {
          "output_type": "display_data",
          "data": {
            "text/plain": [
              "<Figure size 864x432 with 2 Axes>"
            ],
            "image/png": "[encoded data removed]"
          },
          "metadata": {
            "needs_background": "light"
          }
        }
      ]
    },
    {
      "cell_type": "markdown",
      "source": [
        "### Improve Model(from model perspective)\n",
        "* Add more layers which will give the model more chance to learn about the patterns in the data\n",
        "* Add more hidden layers-like go from 5 to 10\n",
        "* Fit for longer\n",
        "* Change the activation function\n",
        "* Change the learning rate\n",
        "* Change the loss function\n",
        "\n",
        "The above options are all from model perspective because the deal with the model and not the data. \n",
        "\n",
        "These paramaters are **hyperparameters** because we are the one who are changing the values\n",
        "\n",
        "We are trying to improve our model by\n",
        "* Adding more hidden units 5 -> 10\n",
        "* Increase the number of layers 2 -> 3\n",
        "* Increase the number of epochs 100 -> 1000"
      ],
      "metadata": {
        "id": "LacdW3-lHMmC"
      }
    },
    {
      "cell_type": "code",
      "source": [
        "class CircleModelV1(nn.Module):\n",
        "  def __init__(self):\n",
        "    super().__init__()\n",
        "    # Here the circle dataset only have 2 features, so in_features =2\n",
        "    # It is given to a hidden layer of 10 units, so out_features = 10\n",
        "    self.layer_1 = nn.Linear(in_features=2, out_features=10)\n",
        "    self.layer_2 = nn.Linear(in_features=10, out_features=10)\n",
        "\n",
        "    # The label of circle dataset is only 1, so out_features=1\n",
        "    self.layer_3 = nn.Linear(in_features=10, out_features=1)\n",
        "\n",
        "  def forward(self, x):\n",
        "    # z = self.layer_1(x)\n",
        "    # z = self.layer_2(z)\n",
        "    # z = self.layer_3(z)\n",
        "\n",
        "    # The above code can be written in a single line\n",
        "    return self.layer_3(self.layer_2(self.layer_1(x)))\n",
        "\n",
        "model_1 = CircleModelV1().to(device)\n",
        "model_1"
      ],
      "metadata": {
        "colab": {
          "base_uri": "https://localhost:8080/"
        },
        "id": "zpWVNli1FR0V",
        "outputId": "4cd0dc25-70eb-40fd-849e-cf78b21890ed"
      },
      "execution_count": 45,
      "outputs": [
        {
          "output_type": "execute_result",
          "data": {
            "text/plain": [
              "CircleModelV1(\n",
              "  (layer_1): Linear(in_features=2, out_features=10, bias=True)\n",
              "  (layer_2): Linear(in_features=10, out_features=10, bias=True)\n",
              "  (layer_3): Linear(in_features=10, out_features=1, bias=True)\n",
              ")"
            ]
          },
          "metadata": {},
          "execution_count": 45
        }
      ]
    },
    {
      "cell_type": "code",
      "source": [
        "from torch.nn.modules.loss import BCEWithLogitsLoss\n",
        "# create a loss function\n",
        "loss_fn = BCEWithLogitsLoss()\n",
        "\n",
        "# create optimizer\n",
        "optimizer = torch.optim.SGD(params=model_1.parameters(), lr=0.1)"
      ],
      "metadata": {
        "id": "qq-TN51xt_XN"
      },
      "execution_count": 46,
      "outputs": []
    },
    {
      "cell_type": "code",
      "source": [
        "# create a training and test loop for model_1\n",
        "torch.manual_seed(42)\n",
        "torch.cuda.manual_seed(42)\n",
        "\n",
        "epochs = 1000\n",
        "\n",
        "# put data on target device\n",
        "X_train, y_train = X_train.to(device), y_train.to(device)\n",
        "X_test, y_test = X_test.to(device), y_test.to(device)\n",
        "\n",
        "\n",
        "for epoch in range(epochs):\n",
        "  # training\n",
        "  model_1.train()\n",
        "\n",
        "  #1. forward pass\n",
        "  y_logits = model_1(X_train).squeeze()\n",
        "  y_pred = torch.round(torch.sigmoid(y_logits))#logit -> pred probs -> pred labels\n",
        "\n",
        "\n",
        "  #2. calculate loss and accuracy\n",
        "  loss = loss_fn(y_logits, y_train)\n",
        "  acc = accuracy_fn(y_true=y_train, y_pred=y_pred)\n",
        "\n",
        "  #3. Optimizer zero grad\n",
        "  optimizer.zero_grad()\n",
        "\n",
        "  # 4. Backward propagation\n",
        "  loss.backward()\n",
        "\n",
        "  #5. optimizer step(gradient descent)\n",
        "  optimizer.step()\n",
        "\n",
        "  ### Testing\n",
        "  model_1.eval()\n",
        "  with torch.inference_mode():\n",
        "    test_logits = model_1(X_test).squeeze()\n",
        "    test_pred = torch.round(torch.sigmoid(test_logits))\n",
        "\n",
        "    # test loss and test accuracy\n",
        "    test_loss = loss_fn(test_logits, y_test)\n",
        "    test_accuracy = accuracy_fn(y_true=y_test, y_pred=test_pred)\n",
        "\n",
        "  # print results\n",
        "  if epoch % 100 == 0:\n",
        "    print(f\"Epochs : {epoch} | Loss : {loss:0.5f}, Accuracy : {acc:0.2f}% | Test Loss : {test_loss:0.5f}, Test Accuracy : {test_accuracy: 0.2f}%\")"
      ],
      "metadata": {
        "colab": {
          "base_uri": "https://localhost:8080/"
        },
        "id": "Pwgs_QT5ucjQ",
        "outputId": "5555a1a5-2402-4145-dbf7-9ed6daaed63f"
      },
      "execution_count": 47,
      "outputs": [
        {
          "output_type": "stream",
          "name": "stdout",
          "text": [
            "Epochs : 0 | Loss : 0.69396, Accuracy : 50.88% | Test Loss : 0.69261, Test Accuracy :  51.00%\n",
            "Epochs : 100 | Loss : 0.69305, Accuracy : 50.38% | Test Loss : 0.69379, Test Accuracy :  48.00%\n",
            "Epochs : 200 | Loss : 0.69299, Accuracy : 51.12% | Test Loss : 0.69437, Test Accuracy :  46.00%\n",
            "Epochs : 300 | Loss : 0.69298, Accuracy : 51.62% | Test Loss : 0.69458, Test Accuracy :  45.00%\n",
            "Epochs : 400 | Loss : 0.69298, Accuracy : 51.12% | Test Loss : 0.69465, Test Accuracy :  46.00%\n",
            "Epochs : 500 | Loss : 0.69298, Accuracy : 51.00% | Test Loss : 0.69467, Test Accuracy :  46.00%\n",
            "Epochs : 600 | Loss : 0.69298, Accuracy : 51.00% | Test Loss : 0.69468, Test Accuracy :  46.00%\n",
            "Epochs : 700 | Loss : 0.69298, Accuracy : 51.00% | Test Loss : 0.69468, Test Accuracy :  46.00%\n",
            "Epochs : 800 | Loss : 0.69298, Accuracy : 51.00% | Test Loss : 0.69468, Test Accuracy :  46.00%\n",
            "Epochs : 900 | Loss : 0.69298, Accuracy : 51.00% | Test Loss : 0.69468, Test Accuracy :  46.00%\n"
          ]
        }
      ]
    },
    {
      "cell_type": "code",
      "source": [
        "# plot the decision boundary\n",
        "plt.figure(figsize=(12, 6))\n",
        "plt.subplot(1, 2, 1)\n",
        "plt.title('Train')\n",
        "plot_decision_boundary(model_1, X_train, y_train)\n",
        "plt.subplot(1, 2, 2)\n",
        "plt.title('Test')\n",
        "plot_decision_boundary(model_1, X_test, y_test)\n"
      ],
      "metadata": {
        "colab": {
          "base_uri": "https://localhost:8080/",
          "height": 360
        },
        "id": "sWappXtnurRl",
        "outputId": "70f21a9f-6432-42b1-8d70-9350d2f8daff"
      },
      "execution_count": 48,
      "outputs": [
        {
          "output_type": "display_data",
          "data": {
            "text/plain": [
              "<Figure size 864x432 with 2 Axes>"
            ],
            "image/png": "[encoded data removed]"
          },
          "metadata": {
            "needs_background": "light"
          }
        }
      ]
    },
    {
      "cell_type": "markdown",
      "source": [
        "### Preparing data to see if model can draw straight line\n",
        "\n",
        "\n",
        "To troubleshoot a larger problem test on a smaller problem"
      ],
      "metadata": {
        "id": "_Jp2nBJZ3v4A"
      }
    },
    {
      "cell_type": "code",
      "source": [
        "# create data\n",
        "weight = 0.7\n",
        "bias = 0.3\n",
        "start = 0\n",
        "end = 1\n",
        "step = 0.01\n",
        "\n",
        "# Create data\n",
        "X_regression = torch.arange(start, end, step).unsqueeze(dim=1)\n",
        "y_regression = weight * X_regression + bias # linear regression formula\n",
        "\n",
        "# Check the data\n",
        "print(len(X_regression))\n",
        "X_regression[:5], y_regression[:5]"
      ],
      "metadata": {
        "id": "bser1N4i0SF1",
        "colab": {
          "base_uri": "https://localhost:8080/"
        },
        "outputId": "74bafa4b-e309-490a-eb12-15e95fcddedb"
      },
      "execution_count": 49,
      "outputs": [
        {
          "output_type": "stream",
          "name": "stdout",
          "text": [
            "100\n"
          ]
        },
        {
          "output_type": "execute_result",
          "data": {
            "text/plain": [
              "(tensor([[0.0000],\n",
              "         [0.0100],\n",
              "         [0.0200],\n",
              "         [0.0300],\n",
              "         [0.0400]]), tensor([[0.3000],\n",
              "         [0.3070],\n",
              "         [0.3140],\n",
              "         [0.3210],\n",
              "         [0.3280]]))"
            ]
          },
          "metadata": {},
          "execution_count": 49
        }
      ]
    },
    {
      "cell_type": "code",
      "source": [
        "# Create train and test splits\n",
        "train_split = int(0.8 * len(X_regression)) # 80% of data used for training set\n",
        "X_train_regression, y_train_regression = X_regression[:train_split], y_regression[:train_split]\n",
        "X_test_regression, y_test_regression = X_regression[train_split:], y_regression[train_split:]\n",
        "\n",
        "# Check the lengths of each split\n",
        "print(len(X_train_regression), \n",
        "    len(y_train_regression), \n",
        "    len(X_test_regression), \n",
        "    len(y_test_regression))"
      ],
      "metadata": {
        "colab": {
          "base_uri": "https://localhost:8080/"
        },
        "id": "1KVnRh-r36fa",
        "outputId": "0f96d6ba-81c2-481f-bc21-c41512c414f1"
      },
      "execution_count": 50,
      "outputs": [
        {
          "output_type": "stream",
          "name": "stdout",
          "text": [
            "80 80 20 20\n"
          ]
        }
      ]
    },
    {
      "cell_type": "code",
      "source": [
        "plot_predictions(train_data=X_train_regression,\n",
        "    train_labels=y_train_regression,\n",
        "    test_data=X_test_regression,\n",
        "    test_labels=y_test_regression\n",
        ")"
      ],
      "metadata": {
        "colab": {
          "base_uri": "https://localhost:8080/",
          "height": 428
        },
        "id": "BYapCztK3-Ox",
        "outputId": "e2633516-eaab-4a73-e143-d44c3f2971d7"
      },
      "execution_count": 51,
      "outputs": [
        {
          "output_type": "display_data",
          "data": {
            "text/plain": [
              "<Figure size 720x504 with 1 Axes>"
            ],
            "image/png": "[encoded data removed]"
          },
          "metadata": {
            "needs_background": "light"
          }
        }
      ]
    },
    {
      "cell_type": "code",
      "source": [
        "model_2 = nn.Sequential(\n",
        "    nn.Linear(in_features=1, out_features=10),\n",
        "    nn.Linear(in_features=10, out_features=10),\n",
        "    nn.Linear(in_features=10, out_features=1)\n",
        ").to(device)\n",
        "\n",
        "model_2"
      ],
      "metadata": {
        "colab": {
          "base_uri": "https://localhost:8080/"
        },
        "id": "8Wx5riiX4CJK",
        "outputId": "382a7658-75bf-4a78-93ac-a1997cf6ec16"
      },
      "execution_count": 52,
      "outputs": [
        {
          "output_type": "execute_result",
          "data": {
            "text/plain": [
              "Sequential(\n",
              "  (0): Linear(in_features=1, out_features=10, bias=True)\n",
              "  (1): Linear(in_features=10, out_features=10, bias=True)\n",
              "  (2): Linear(in_features=10, out_features=1, bias=True)\n",
              ")"
            ]
          },
          "metadata": {},
          "execution_count": 52
        }
      ]
    },
    {
      "cell_type": "code",
      "source": [
        "# Loss and Optimizer\n",
        "loss_fn = nn.L1Loss() # because we are solving regression rather than classification\n",
        "\n",
        "optimizer = torch.optim.SGD(params=model_2.parameters(), lr=0.01)"
      ],
      "metadata": {
        "id": "7zf2uDZa5p-h"
      },
      "execution_count": 59,
      "outputs": []
    },
    {
      "cell_type": "code",
      "source": [
        "# Train the model\n",
        "\n",
        "torch.manual_seed(42)\n",
        "torch.cuda.manual_seed(42)\n",
        "\n",
        "epochs = 1000\n",
        "\n",
        "# put data to target device\n",
        "X_train_regression, y_train_regression = X_train_regression.to(device), y_train_regression.to(device)\n",
        "X_test_regression, y_test_regression = X_test_regression.to(device), y_test_regression.to(device)\n",
        "\n",
        "# Training\n",
        "for epoch in range(epochs):\n",
        "  y_pred = model_2(X_train_regression)\n",
        "  loss = loss_fn(y_pred, y_train_regression)\n",
        "  optimizer.zero_grad()\n",
        "  loss.backward()\n",
        "  optimizer.step()\n",
        "\n",
        "  # Testing\n",
        "  model_2.eval()\n",
        "  with torch.inference_mode():\n",
        "    test_pred = model_2(X_test_regression)\n",
        "    test_loss = loss_fn(test_pred, y_test_regression)\n",
        "\n",
        "# print results\n",
        "  if epoch % 100 == 0:\n",
        "    print(f\"Epochs : {epoch} | Loss : {loss:0.5f} | Test Loss : {test_loss:0.5f}\")\n"
      ],
      "metadata": {
        "colab": {
          "base_uri": "https://localhost:8080/"
        },
        "id": "c83_M-qL6N8-",
        "outputId": "85a43582-f024-47aa-c9fb-1984c8ea57f5"
      },
      "execution_count": 60,
      "outputs": [
        {
          "output_type": "stream",
          "name": "stdout",
          "text": [
            "Epochs : 0 | Loss : 0.05288 | Test Loss : 0.10519\n",
            "Epochs : 100 | Loss : 0.00859 | Test Loss : 0.00037\n",
            "Epochs : 200 | Loss : 0.00622 | Test Loss : 0.00121\n",
            "Epochs : 300 | Loss : 0.00622 | Test Loss : 0.00109\n",
            "Epochs : 400 | Loss : 0.00653 | Test Loss : 0.00154\n",
            "Epochs : 500 | Loss : 0.00624 | Test Loss : 0.00138\n",
            "Epochs : 600 | Loss : 0.00624 | Test Loss : 0.00106\n",
            "Epochs : 700 | Loss : 0.00655 | Test Loss : 0.00148\n",
            "Epochs : 800 | Loss : 0.00625 | Test Loss : 0.00131\n",
            "Epochs : 900 | Loss : 0.00625 | Test Loss : 0.00098\n"
          ]
        }
      ]
    },
    {
      "cell_type": "code",
      "source": [
        "model_2.eval()\n",
        "\n",
        "# make predictions\n",
        "with torch.inference_mode():\n",
        "  y_preds = model_2(X_test_regression)\n",
        "\n",
        "# plot data and predictions\n",
        "plot_predictions(train_data=X_train_regression,\n",
        "    train_labels=y_train_regression,\n",
        "    test_data=X_test_regression,\n",
        "    test_labels=y_test_regression, predictions=y_preds\n",
        ")"
      ],
      "metadata": {
        "colab": {
          "base_uri": "https://localhost:8080/",
          "height": 830
        },
        "id": "qkQMLhXjwvg_",
        "outputId": "6dc5a792-ebb6-466e-80f9-530d5e4627b1"
      },
      "execution_count": 63,
      "outputs": [
        {
          "output_type": "error",
          "ename": "TypeError",
          "evalue": "ignored",
          "traceback": [
            "\u001b[0;31m---------------------------------------------------------------------------\u001b[0m",
            "\u001b[0;31mTypeError\u001b[0m                                 Traceback (most recent call last)",
            "\u001b[0;32m<ipython-input-63-2fb20759d250>\u001b[0m in \u001b[0;36m<module>\u001b[0;34m\u001b[0m\n\u001b[1;32m      6\u001b[0m \u001b[0;34m\u001b[0m\u001b[0m\n\u001b[1;32m      7\u001b[0m \u001b[0;31m# plot data and predictions\u001b[0m\u001b[0;34m\u001b[0m\u001b[0;34m\u001b[0m\u001b[0;34m\u001b[0m\u001b[0m\n\u001b[0;32m----> 8\u001b[0;31m plot_predictions(train_data=X_train_regression,\n\u001b[0m\u001b[1;32m      9\u001b[0m     \u001b[0mtrain_labels\u001b[0m\u001b[0;34m=\u001b[0m\u001b[0my_train_regression\u001b[0m\u001b[0;34m,\u001b[0m\u001b[0;34m\u001b[0m\u001b[0;34m\u001b[0m\u001b[0m\n\u001b[1;32m     10\u001b[0m     \u001b[0mtest_data\u001b[0m\u001b[0;34m=\u001b[0m\u001b[0mX_test_regression\u001b[0m\u001b[0;34m,\u001b[0m\u001b[0;34m\u001b[0m\u001b[0;34m\u001b[0m\u001b[0m\n",
            "\u001b[0;32m/content/helper_functions.py\u001b[0m in \u001b[0;36mplot_predictions\u001b[0;34m(train_data, train_labels, test_data, test_labels, predictions)\u001b[0m\n\u001b[1;32m     82\u001b[0m \u001b[0;34m\u001b[0m\u001b[0m\n\u001b[1;32m     83\u001b[0m     \u001b[0;31m# Plot training data in blue\u001b[0m\u001b[0;34m\u001b[0m\u001b[0;34m\u001b[0m\u001b[0;34m\u001b[0m\u001b[0m\n\u001b[0;32m---> 84\u001b[0;31m     \u001b[0mplt\u001b[0m\u001b[0;34m.\u001b[0m\u001b[0mscatter\u001b[0m\u001b[0;34m(\u001b[0m\u001b[0mtrain_data\u001b[0m\u001b[0;34m,\u001b[0m \u001b[0mtrain_labels\u001b[0m\u001b[0;34m,\u001b[0m \u001b[0mc\u001b[0m\u001b[0;34m=\u001b[0m\u001b[0;34m\"b\"\u001b[0m\u001b[0;34m,\u001b[0m \u001b[0ms\u001b[0m\u001b[0;34m=\u001b[0m\u001b[0;36m4\u001b[0m\u001b[0;34m,\u001b[0m \u001b[0mlabel\u001b[0m\u001b[0;34m=\u001b[0m\u001b[0;34m\"Training data\"\u001b[0m\u001b[0;34m)\u001b[0m\u001b[0;34m\u001b[0m\u001b[0;34m\u001b[0m\u001b[0m\n\u001b[0m\u001b[1;32m     85\u001b[0m \u001b[0;34m\u001b[0m\u001b[0m\n\u001b[1;32m     86\u001b[0m     \u001b[0;31m# Plot test data in green\u001b[0m\u001b[0;34m\u001b[0m\u001b[0;34m\u001b[0m\u001b[0;34m\u001b[0m\u001b[0m\n",
            "\u001b[0;32m/usr/local/lib/python3.8/dist-packages/matplotlib/pyplot.py\u001b[0m in \u001b[0;36mscatter\u001b[0;34m(x, y, s, c, marker, cmap, norm, vmin, vmax, alpha, linewidths, verts, edgecolors, plotnonfinite, data, **kwargs)\u001b[0m\n\u001b[1;32m   2809\u001b[0m         \u001b[0mverts\u001b[0m\u001b[0;34m=\u001b[0m\u001b[0mcbook\u001b[0m\u001b[0;34m.\u001b[0m\u001b[0mdeprecation\u001b[0m\u001b[0;34m.\u001b[0m\u001b[0m_deprecated_parameter\u001b[0m\u001b[0;34m,\u001b[0m\u001b[0;34m\u001b[0m\u001b[0;34m\u001b[0m\u001b[0m\n\u001b[1;32m   2810\u001b[0m         edgecolors=None, *, plotnonfinite=False, data=None, **kwargs):\n\u001b[0;32m-> 2811\u001b[0;31m     __ret = gca().scatter(\n\u001b[0m\u001b[1;32m   2812\u001b[0m         \u001b[0mx\u001b[0m\u001b[0;34m,\u001b[0m \u001b[0my\u001b[0m\u001b[0;34m,\u001b[0m \u001b[0ms\u001b[0m\u001b[0;34m=\u001b[0m\u001b[0ms\u001b[0m\u001b[0;34m,\u001b[0m \u001b[0mc\u001b[0m\u001b[0;34m=\u001b[0m\u001b[0mc\u001b[0m\u001b[0;34m,\u001b[0m \u001b[0mmarker\u001b[0m\u001b[0;34m=\u001b[0m\u001b[0mmarker\u001b[0m\u001b[0;34m,\u001b[0m \u001b[0mcmap\u001b[0m\u001b[0;34m=\u001b[0m\u001b[0mcmap\u001b[0m\u001b[0;34m,\u001b[0m \u001b[0mnorm\u001b[0m\u001b[0;34m=\u001b[0m\u001b[0mnorm\u001b[0m\u001b[0;34m,\u001b[0m\u001b[0;34m\u001b[0m\u001b[0;34m\u001b[0m\u001b[0m\n\u001b[1;32m   2813\u001b[0m         \u001b[0mvmin\u001b[0m\u001b[0;34m=\u001b[0m\u001b[0mvmin\u001b[0m\u001b[0;34m,\u001b[0m \u001b[0mvmax\u001b[0m\u001b[0;34m=\u001b[0m\u001b[0mvmax\u001b[0m\u001b[0;34m,\u001b[0m \u001b[0malpha\u001b[0m\u001b[0;34m=\u001b[0m\u001b[0malpha\u001b[0m\u001b[0;34m,\u001b[0m \u001b[0mlinewidths\u001b[0m\u001b[0;34m=\u001b[0m\u001b[0mlinewidths\u001b[0m\u001b[0;34m,\u001b[0m\u001b[0;34m\u001b[0m\u001b[0;34m\u001b[0m\u001b[0m\n",
            "\u001b[0;32m/usr/local/lib/python3.8/dist-packages/matplotlib/__init__.py\u001b[0m in \u001b[0;36minner\u001b[0;34m(ax, data, *args, **kwargs)\u001b[0m\n\u001b[1;32m   1563\u001b[0m     \u001b[0;32mdef\u001b[0m \u001b[0minner\u001b[0m\u001b[0;34m(\u001b[0m\u001b[0max\u001b[0m\u001b[0;34m,\u001b[0m \u001b[0;34m*\u001b[0m\u001b[0margs\u001b[0m\u001b[0;34m,\u001b[0m \u001b[0mdata\u001b[0m\u001b[0;34m=\u001b[0m\u001b[0;32mNone\u001b[0m\u001b[0;34m,\u001b[0m \u001b[0;34m**\u001b[0m\u001b[0mkwargs\u001b[0m\u001b[0;34m)\u001b[0m\u001b[0;34m:\u001b[0m\u001b[0;34m\u001b[0m\u001b[0;34m\u001b[0m\u001b[0m\n\u001b[1;32m   1564\u001b[0m         \u001b[0;32mif\u001b[0m \u001b[0mdata\u001b[0m \u001b[0;32mis\u001b[0m \u001b[0;32mNone\u001b[0m\u001b[0;34m:\u001b[0m\u001b[0;34m\u001b[0m\u001b[0;34m\u001b[0m\u001b[0m\n\u001b[0;32m-> 1565\u001b[0;31m             \u001b[0;32mreturn\u001b[0m \u001b[0mfunc\u001b[0m\u001b[0;34m(\u001b[0m\u001b[0max\u001b[0m\u001b[0;34m,\u001b[0m \u001b[0;34m*\u001b[0m\u001b[0mmap\u001b[0m\u001b[0;34m(\u001b[0m\u001b[0msanitize_sequence\u001b[0m\u001b[0;34m,\u001b[0m \u001b[0margs\u001b[0m\u001b[0;34m)\u001b[0m\u001b[0;34m,\u001b[0m \u001b[0;34m**\u001b[0m\u001b[0mkwargs\u001b[0m\u001b[0;34m)\u001b[0m\u001b[0;34m\u001b[0m\u001b[0;34m\u001b[0m\u001b[0m\n\u001b[0m\u001b[1;32m   1566\u001b[0m \u001b[0;34m\u001b[0m\u001b[0m\n\u001b[1;32m   1567\u001b[0m         \u001b[0mbound\u001b[0m \u001b[0;34m=\u001b[0m \u001b[0mnew_sig\u001b[0m\u001b[0;34m.\u001b[0m\u001b[0mbind\u001b[0m\u001b[0;34m(\u001b[0m\u001b[0max\u001b[0m\u001b[0;34m,\u001b[0m \u001b[0;34m*\u001b[0m\u001b[0margs\u001b[0m\u001b[0;34m,\u001b[0m \u001b[0;34m**\u001b[0m\u001b[0mkwargs\u001b[0m\u001b[0;34m)\u001b[0m\u001b[0;34m\u001b[0m\u001b[0;34m\u001b[0m\u001b[0m\n",
            "\u001b[0;32m/usr/local/lib/python3.8/dist-packages/matplotlib/cbook/deprecation.py\u001b[0m in \u001b[0;36mwrapper\u001b[0;34m(*args, **kwargs)\u001b[0m\n\u001b[1;32m    356\u001b[0m                 \u001b[0;34mf\"%(removal)s.  If any parameter follows {name!r}, they \"\u001b[0m\u001b[0;34m\u001b[0m\u001b[0;34m\u001b[0m\u001b[0m\n\u001b[1;32m    357\u001b[0m                 f\"should be pass as keyword, not positionally.\")\n\u001b[0;32m--> 358\u001b[0;31m         \u001b[0;32mreturn\u001b[0m \u001b[0mfunc\u001b[0m\u001b[0;34m(\u001b[0m\u001b[0;34m*\u001b[0m\u001b[0margs\u001b[0m\u001b[0;34m,\u001b[0m \u001b[0;34m**\u001b[0m\u001b[0mkwargs\u001b[0m\u001b[0;34m)\u001b[0m\u001b[0;34m\u001b[0m\u001b[0;34m\u001b[0m\u001b[0m\n\u001b[0m\u001b[1;32m    359\u001b[0m \u001b[0;34m\u001b[0m\u001b[0m\n\u001b[1;32m    360\u001b[0m     \u001b[0;32mreturn\u001b[0m \u001b[0mwrapper\u001b[0m\u001b[0;34m\u001b[0m\u001b[0;34m\u001b[0m\u001b[0m\n",
            "\u001b[0;32m/usr/local/lib/python3.8/dist-packages/matplotlib/axes/_axes.py\u001b[0m in \u001b[0;36mscatter\u001b[0;34m(self, x, y, s, c, marker, cmap, norm, vmin, vmax, alpha, linewidths, verts, edgecolors, plotnonfinite, **kwargs)\u001b[0m\n\u001b[1;32m   4386\u001b[0m         \u001b[0;31m# np.ma.ravel yields an ndarray, not a masked array,\u001b[0m\u001b[0;34m\u001b[0m\u001b[0;34m\u001b[0m\u001b[0;34m\u001b[0m\u001b[0m\n\u001b[1;32m   4387\u001b[0m         \u001b[0;31m# unless its argument is a masked array.\u001b[0m\u001b[0;34m\u001b[0m\u001b[0;34m\u001b[0m\u001b[0;34m\u001b[0m\u001b[0m\n\u001b[0;32m-> 4388\u001b[0;31m         \u001b[0mx\u001b[0m \u001b[0;34m=\u001b[0m \u001b[0mnp\u001b[0m\u001b[0;34m.\u001b[0m\u001b[0mma\u001b[0m\u001b[0;34m.\u001b[0m\u001b[0mravel\u001b[0m\u001b[0;34m(\u001b[0m\u001b[0mx\u001b[0m\u001b[0;34m)\u001b[0m\u001b[0;34m\u001b[0m\u001b[0;34m\u001b[0m\u001b[0m\n\u001b[0m\u001b[1;32m   4389\u001b[0m         \u001b[0my\u001b[0m \u001b[0;34m=\u001b[0m \u001b[0mnp\u001b[0m\u001b[0;34m.\u001b[0m\u001b[0mma\u001b[0m\u001b[0;34m.\u001b[0m\u001b[0mravel\u001b[0m\u001b[0;34m(\u001b[0m\u001b[0my\u001b[0m\u001b[0;34m)\u001b[0m\u001b[0;34m\u001b[0m\u001b[0;34m\u001b[0m\u001b[0m\n\u001b[1;32m   4390\u001b[0m         \u001b[0;32mif\u001b[0m \u001b[0mx\u001b[0m\u001b[0;34m.\u001b[0m\u001b[0msize\u001b[0m \u001b[0;34m!=\u001b[0m \u001b[0my\u001b[0m\u001b[0;34m.\u001b[0m\u001b[0msize\u001b[0m\u001b[0;34m:\u001b[0m\u001b[0;34m\u001b[0m\u001b[0;34m\u001b[0m\u001b[0m\n",
            "\u001b[0;32m/usr/local/lib/python3.8/dist-packages/numpy/ma/core.py\u001b[0m in \u001b[0;36m__call__\u001b[0;34m(self, a, *args, **params)\u001b[0m\n\u001b[1;32m   6768\u001b[0m             \u001b[0ma\u001b[0m\u001b[0;34m,\u001b[0m \u001b[0margs\u001b[0m\u001b[0;34m[\u001b[0m\u001b[0;36m0\u001b[0m\u001b[0;34m]\u001b[0m \u001b[0;34m=\u001b[0m \u001b[0margs\u001b[0m\u001b[0;34m[\u001b[0m\u001b[0;36m0\u001b[0m\u001b[0;34m]\u001b[0m\u001b[0;34m,\u001b[0m \u001b[0ma\u001b[0m\u001b[0;34m\u001b[0m\u001b[0;34m\u001b[0m\u001b[0m\n\u001b[1;32m   6769\u001b[0m \u001b[0;34m\u001b[0m\u001b[0m\n\u001b[0;32m-> 6770\u001b[0;31m         \u001b[0mmarr\u001b[0m \u001b[0;34m=\u001b[0m \u001b[0masanyarray\u001b[0m\u001b[0;34m(\u001b[0m\u001b[0ma\u001b[0m\u001b[0;34m)\u001b[0m\u001b[0;34m\u001b[0m\u001b[0;34m\u001b[0m\u001b[0m\n\u001b[0m\u001b[1;32m   6771\u001b[0m         \u001b[0mmethod_name\u001b[0m \u001b[0;34m=\u001b[0m \u001b[0mself\u001b[0m\u001b[0;34m.\u001b[0m\u001b[0m__name__\u001b[0m\u001b[0;34m\u001b[0m\u001b[0;34m\u001b[0m\u001b[0m\n\u001b[1;32m   6772\u001b[0m         \u001b[0mmethod\u001b[0m \u001b[0;34m=\u001b[0m \u001b[0mgetattr\u001b[0m\u001b[0;34m(\u001b[0m\u001b[0mtype\u001b[0m\u001b[0;34m(\u001b[0m\u001b[0mmarr\u001b[0m\u001b[0;34m)\u001b[0m\u001b[0;34m,\u001b[0m \u001b[0mmethod_name\u001b[0m\u001b[0;34m,\u001b[0m \u001b[0;32mNone\u001b[0m\u001b[0;34m)\u001b[0m\u001b[0;34m\u001b[0m\u001b[0;34m\u001b[0m\u001b[0m\n",
            "\u001b[0;32m/usr/local/lib/python3.8/dist-packages/numpy/ma/core.py\u001b[0m in \u001b[0;36masanyarray\u001b[0;34m(a, dtype)\u001b[0m\n\u001b[1;32m   8000\u001b[0m     \u001b[0;32mif\u001b[0m \u001b[0misinstance\u001b[0m\u001b[0;34m(\u001b[0m\u001b[0ma\u001b[0m\u001b[0;34m,\u001b[0m \u001b[0mMaskedArray\u001b[0m\u001b[0;34m)\u001b[0m \u001b[0;32mand\u001b[0m \u001b[0;34m(\u001b[0m\u001b[0mdtype\u001b[0m \u001b[0;32mis\u001b[0m \u001b[0;32mNone\u001b[0m \u001b[0;32mor\u001b[0m \u001b[0mdtype\u001b[0m \u001b[0;34m==\u001b[0m \u001b[0ma\u001b[0m\u001b[0;34m.\u001b[0m\u001b[0mdtype\u001b[0m\u001b[0;34m)\u001b[0m\u001b[0;34m:\u001b[0m\u001b[0;34m\u001b[0m\u001b[0;34m\u001b[0m\u001b[0m\n\u001b[1;32m   8001\u001b[0m         \u001b[0;32mreturn\u001b[0m \u001b[0ma\u001b[0m\u001b[0;34m\u001b[0m\u001b[0;34m\u001b[0m\u001b[0m\n\u001b[0;32m-> 8002\u001b[0;31m     \u001b[0;32mreturn\u001b[0m \u001b[0mmasked_array\u001b[0m\u001b[0;34m(\u001b[0m\u001b[0ma\u001b[0m\u001b[0;34m,\u001b[0m \u001b[0mdtype\u001b[0m\u001b[0;34m=\u001b[0m\u001b[0mdtype\u001b[0m\u001b[0;34m,\u001b[0m \u001b[0mcopy\u001b[0m\u001b[0;34m=\u001b[0m\u001b[0;32mFalse\u001b[0m\u001b[0;34m,\u001b[0m \u001b[0mkeep_mask\u001b[0m\u001b[0;34m=\u001b[0m\u001b[0;32mTrue\u001b[0m\u001b[0;34m,\u001b[0m \u001b[0msubok\u001b[0m\u001b[0;34m=\u001b[0m\u001b[0;32mTrue\u001b[0m\u001b[0;34m)\u001b[0m\u001b[0;34m\u001b[0m\u001b[0;34m\u001b[0m\u001b[0m\n\u001b[0m\u001b[1;32m   8003\u001b[0m \u001b[0;34m\u001b[0m\u001b[0m\n\u001b[1;32m   8004\u001b[0m \u001b[0;34m\u001b[0m\u001b[0m\n",
            "\u001b[0;32m/usr/local/lib/python3.8/dist-packages/numpy/ma/core.py\u001b[0m in \u001b[0;36m__new__\u001b[0;34m(cls, data, mask, dtype, copy, subok, ndmin, fill_value, keep_mask, hard_mask, shrink, order)\u001b[0m\n\u001b[1;32m   2827\u001b[0m         \"\"\"\n\u001b[1;32m   2828\u001b[0m         \u001b[0;31m# Process data.\u001b[0m\u001b[0;34m\u001b[0m\u001b[0;34m\u001b[0m\u001b[0;34m\u001b[0m\u001b[0m\n\u001b[0;32m-> 2829\u001b[0;31m         _data = np.array(data, dtype=dtype, copy=copy,\n\u001b[0m\u001b[1;32m   2830\u001b[0m                          order=order, subok=True, ndmin=ndmin)\n\u001b[1;32m   2831\u001b[0m         \u001b[0m_baseclass\u001b[0m \u001b[0;34m=\u001b[0m \u001b[0mgetattr\u001b[0m\u001b[0;34m(\u001b[0m\u001b[0mdata\u001b[0m\u001b[0;34m,\u001b[0m \u001b[0;34m'_baseclass'\u001b[0m\u001b[0;34m,\u001b[0m \u001b[0mtype\u001b[0m\u001b[0;34m(\u001b[0m\u001b[0m_data\u001b[0m\u001b[0;34m)\u001b[0m\u001b[0;34m)\u001b[0m\u001b[0;34m\u001b[0m\u001b[0;34m\u001b[0m\u001b[0m\n",
            "\u001b[0;32m/usr/local/lib/python3.8/dist-packages/torch/_tensor.py\u001b[0m in \u001b[0;36m__array__\u001b[0;34m(self, dtype)\u001b[0m\n\u001b[1;32m    953\u001b[0m             \u001b[0;32mreturn\u001b[0m \u001b[0mhandle_torch_function\u001b[0m\u001b[0;34m(\u001b[0m\u001b[0mTensor\u001b[0m\u001b[0;34m.\u001b[0m\u001b[0m__array__\u001b[0m\u001b[0;34m,\u001b[0m \u001b[0;34m(\u001b[0m\u001b[0mself\u001b[0m\u001b[0;34m,\u001b[0m\u001b[0;34m)\u001b[0m\u001b[0;34m,\u001b[0m \u001b[0mself\u001b[0m\u001b[0;34m,\u001b[0m \u001b[0mdtype\u001b[0m\u001b[0;34m=\u001b[0m\u001b[0mdtype\u001b[0m\u001b[0;34m)\u001b[0m\u001b[0;34m\u001b[0m\u001b[0;34m\u001b[0m\u001b[0m\n\u001b[1;32m    954\u001b[0m         \u001b[0;32mif\u001b[0m \u001b[0mdtype\u001b[0m \u001b[0;32mis\u001b[0m \u001b[0;32mNone\u001b[0m\u001b[0;34m:\u001b[0m\u001b[0;34m\u001b[0m\u001b[0;34m\u001b[0m\u001b[0m\n\u001b[0;32m--> 955\u001b[0;31m             \u001b[0;32mreturn\u001b[0m \u001b[0mself\u001b[0m\u001b[0;34m.\u001b[0m\u001b[0mnumpy\u001b[0m\u001b[0;34m(\u001b[0m\u001b[0;34m)\u001b[0m\u001b[0;34m\u001b[0m\u001b[0;34m\u001b[0m\u001b[0m\n\u001b[0m\u001b[1;32m    956\u001b[0m         \u001b[0;32melse\u001b[0m\u001b[0;34m:\u001b[0m\u001b[0;34m\u001b[0m\u001b[0;34m\u001b[0m\u001b[0m\n\u001b[1;32m    957\u001b[0m             \u001b[0;32mreturn\u001b[0m \u001b[0mself\u001b[0m\u001b[0;34m.\u001b[0m\u001b[0mnumpy\u001b[0m\u001b[0;34m(\u001b[0m\u001b[0;34m)\u001b[0m\u001b[0;34m.\u001b[0m\u001b[0mastype\u001b[0m\u001b[0;34m(\u001b[0m\u001b[0mdtype\u001b[0m\u001b[0;34m,\u001b[0m \u001b[0mcopy\u001b[0m\u001b[0;34m=\u001b[0m\u001b[0;32mFalse\u001b[0m\u001b[0;34m)\u001b[0m\u001b[0;34m\u001b[0m\u001b[0;34m\u001b[0m\u001b[0m\n",
            "\u001b[0;31mTypeError\u001b[0m: can't convert cuda:0 device type tensor to numpy. Use Tensor.cpu() to copy the tensor to host memory first."
          ]
        },
        {
          "output_type": "display_data",
          "data": {
            "text/plain": [
              "<Figure size 720x504 with 1 Axes>"
            ],
            "image/png": "[encoded data removed]"
          },
          "metadata": {
            "needs_background": "light"
          }
        }
      ]
    },
    {
      "cell_type": "markdown",
      "source": [
        "**Note:** The  above graph is empty because we are using Matplotlib. Matplotlib works on cpu and deals with numpy rather than tensors.\n",
        "\n",
        "Now our device is in gpu. So we have to convert it to cpu"
      ],
      "metadata": {
        "id": "h-nVp12w0nnW"
      }
    },
    {
      "cell_type": "code",
      "source": [
        "# plot data and predictions\n",
        "plot_predictions(train_data=X_train_regression.cpu(),\n",
        "    train_labels=y_train_regression.cpu(),\n",
        "    test_data=X_test_regression.cpu(),\n",
        "    test_labels=y_test_regression.cpu(), predictions=y_preds.cpu()\n",
        ")"
      ],
      "metadata": {
        "colab": {
          "base_uri": "https://localhost:8080/",
          "height": 428
        },
        "id": "mw4JtkEezjWR",
        "outputId": "66e04c47-7e54-419d-ee77-cf94d1b0e8a0"
      },
      "execution_count": 65,
      "outputs": [
        {
          "output_type": "display_data",
          "data": {
            "text/plain": [
              "<Figure size 720x504 with 1 Axes>"
            ],
            "image/png": "[encoded data removed]"
          },
          "metadata": {
            "needs_background": "light"
          }
        }
      ]
    },
    {
      "cell_type": "code",
      "source": [],
      "metadata": {
        "id": "Ytp8zqNYzjOU"
      },
      "execution_count": null,
      "outputs": []
    },
    {
      "cell_type": "code",
      "source": [],
      "metadata": {
        "id": "Y1Y4jxInzjG1"
      },
      "execution_count": null,
      "outputs": []
    }
  ]
}