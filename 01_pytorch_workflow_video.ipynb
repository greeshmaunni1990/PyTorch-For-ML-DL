{
  "nbformat": 4,
  "nbformat_minor": 0,
  "metadata": {
    "colab": {
      "provenance": [],
      "collapsed_sections": [
        "CnrAsaXLjsvA",
        "-CqgdD8XSL7y"
      ],
      "authorship_tag": "ABX9TyPiB4CgWRwU0/GVTQZq9HVg",
      "include_colab_link": true
    },
    "kernelspec": {
      "name": "python3",
      "display_name": "Python 3"
    },
    "language_info": {
      "name": "python"
    }
  },
  "cells": [
    {
      "cell_type": "markdown",
      "metadata": {
        "id": "view-in-github",
        "colab_type": "text"
      },
      "source": [
        "<a href=\"https://colab.research.google.com/github/greeshmaunni1990/PyTorch-For-ML-DL/blob/main/01_pytorch_workflow_video.ipynb\" target=\"_parent\"><img src=\"https://colab.research.google.com/assets/colab-badge.svg\" alt=\"Open In Colab\"/></a>"
      ]
    },
    {
      "cell_type": "code",
      "source": [
        "import torch\n",
        "from torch import nn # nn will have PyTorch's building block for neural network\n",
        "import matplotlib.pyplot as plt\n",
        "\n",
        "torch.__version__"
      ],
      "metadata": {
        "id": "xnqnIP-MVtxF",
        "colab": {
          "base_uri": "https://localhost:8080/",
          "height": 36
        },
        "outputId": "42c4810a-4db9-46df-d932-4788be801ad8"
      },
      "execution_count": 37,
      "outputs": [
        {
          "output_type": "execute_result",
          "data": {
            "text/plain": [
              "'1.12.1+cu113'"
            ],
            "application/vnd.google.colaboratory.intrinsic+json": {
              "type": "string"
            }
          },
          "metadata": {},
          "execution_count": 37
        }
      ]
    },
    {
      "cell_type": "markdown",
      "source": [
        "### Data Preparing and Loading\n",
        "\n",
        "Data can be anything in Machine Learning\n",
        "\n",
        "* Excel Spreadsheet\n",
        "* Images\n",
        "* Videos\n",
        "* Audios\n",
        "* Text\n",
        "* DNA\n",
        "\n",
        "Machine Learning is of two parts:\n",
        "1. Get data into numerical representation.\n",
        "2. Build a model to learn patterns in numerical representation."
      ],
      "metadata": {
        "id": "dZVHgofHj6UU"
      }
    },
    {
      "cell_type": "code",
      "source": [
        "# Let us use Linear Regression formula and \n",
        "# creare a straight line using known parameters\n",
        "\n",
        "# create known paramteres\n",
        "weight = 0.7\n",
        "bias = 0.3\n",
        "\n",
        "# create data\n",
        "start = 0\n",
        "end = 1\n",
        "step = 0.02\n",
        "\n",
        "# unsqueeze will add additional dimension for later purpose\n",
        "X = torch.arange(start, end, step).unsqueeze(dim=1)\n",
        "y = weight * X + bias\n",
        "\n",
        "print('X is :', X[:10])\n",
        "print('y is :', y[:10])\n",
        "print('Length of X is :', len(X))\n",
        "print('Length of y is :', len(y))"
      ],
      "metadata": {
        "colab": {
          "base_uri": "https://localhost:8080/"
        },
        "id": "kMCMfdQ4j4qt",
        "outputId": "ec22dc30-e191-4cbd-9ede-271d5bd35bf1"
      },
      "execution_count": 38,
      "outputs": [
        {
          "output_type": "stream",
          "name": "stdout",
          "text": [
            "X is : tensor([[0.0000],\n",
            "        [0.0200],\n",
            "        [0.0400],\n",
            "        [0.0600],\n",
            "        [0.0800],\n",
            "        [0.1000],\n",
            "        [0.1200],\n",
            "        [0.1400],\n",
            "        [0.1600],\n",
            "        [0.1800]])\n",
            "y is : tensor([[0.3000],\n",
            "        [0.3140],\n",
            "        [0.3280],\n",
            "        [0.3420],\n",
            "        [0.3560],\n",
            "        [0.3700],\n",
            "        [0.3840],\n",
            "        [0.3980],\n",
            "        [0.4120],\n",
            "        [0.4260]])\n",
            "Length of X is : 50\n",
            "Length of y is : 50\n"
          ]
        }
      ]
    },
    {
      "cell_type": "markdown",
      "source": [
        "### Splitting data into training and test sets"
      ],
      "metadata": {
        "id": "k1wqHDnxoeeM"
      }
    },
    {
      "cell_type": "code",
      "source": [
        "# create train/test split\n",
        "# here we are doing 80-20 split\n",
        "train_split = int(0.8 * len(X))\n",
        "X_train, y_train = X[:train_split], y[:train_split]\n",
        "X_test, y_test = X[train_split:], y[train_split:]\n",
        "\n",
        "print('len of X_train', len(X_train))\n",
        "print('len of y_train', len(y_train))\n",
        "print('len of X_test', len(X_test))\n",
        "print('len of y_test', len(y_test))"
      ],
      "metadata": {
        "colab": {
          "base_uri": "https://localhost:8080/"
        },
        "id": "wYmDueFOonLl",
        "outputId": "f178ce1c-c798-4ff5-8849-fd6b41d681b3"
      },
      "execution_count": 39,
      "outputs": [
        {
          "output_type": "stream",
          "name": "stdout",
          "text": [
            "len of X_train 40\n",
            "len of y_train 40\n",
            "len of X_test 10\n",
            "len of y_test 10\n"
          ]
        }
      ]
    },
    {
      "cell_type": "markdown",
      "source": [
        "### Visualize Data"
      ],
      "metadata": {
        "id": "U3SEhJbxydXF"
      }
    },
    {
      "cell_type": "code",
      "source": [
        "def plot_predictions(train_data=X_train,\n",
        "                      train_labels=y_train, test_data=X_test,\n",
        "                     test_labels=y_test, predictions=None):\n",
        "  plt.figure(figsize=(10, 7))\n",
        "\n",
        "  # plot training data in blue\n",
        "  plt.scatter(train_data, train_labels, c='b', s=4, label='Training data')\n",
        "\n",
        "  # plot testing data in green\n",
        "  plt.scatter(test_data, test_labels, c='g', s=4, label='Testing data')\n",
        "\n",
        "  # if there is predictions\n",
        "  if predictions is not None:\n",
        "    plt.scatter(test_data, predictions, c='r', s=4, label='Predictions')\n",
        "\n",
        "  # show the legend\n",
        "  plt.legend(prop={'size':14})"
      ],
      "metadata": {
        "id": "JL3GttPzwM1D"
      },
      "execution_count": 40,
      "outputs": []
    },
    {
      "cell_type": "code",
      "source": [
        "plot_predictions()"
      ],
      "metadata": {
        "colab": {
          "base_uri": "https://localhost:8080/",
          "height": 428
        },
        "id": "7M_TNbjqoWxh",
        "outputId": "1935155f-9e31-41e7-8b65-4a2a6b92131c"
      },
      "execution_count": 41,
      "outputs": [
        {
          "output_type": "display_data",
          "data": {
            "text/plain": [
              "<Figure size 720x504 with 1 Axes>"
            ],
            "image/png": "[encoded data removed]"
          },
          "metadata": {
            "needs_background": "light"
          }
        }
      ]
    },
    {
      "cell_type": "markdown",
      "source": [
        "### Build model in PyTorch\n",
        "\n",
        "What model does :\n",
        "\n",
        "* Start with random values(weight and bias)\n",
        "* Look at the training data and adjust the random values to better represent the ideal values(weight and bias we used)\n",
        "\n",
        "Model mainly uses two algorithms:\n",
        "1. Gradient Descent\n",
        "2. Backpropogation"
      ],
      "metadata": {
        "id": "73wsIcL5qu0T"
      }
    },
    {
      "cell_type": "code",
      "source": [
        "# Create Linear Regression class\n",
        "# nn.Module contains all the building blocks for neural networks\n",
        "# requires_grad =True will track the gradient of the parameters for Gradient \n",
        "# Descent\n",
        "class LinearRegressionModel(nn.Module):\n",
        "  # Initialize model parameters\n",
        "  def __init__(self):\n",
        "    super().__init__()\n",
        "    self.weights = nn.Parameter(torch.randn(1, requires_grad=True,\n",
        "                                            dtype=torch.float))\n",
        "    self.bias = nn.Parameter(torch.randn(1, requires_grad=True,\n",
        "                                         dtype=torch.float))\n",
        "    \n",
        "  # perform computation in the model\n",
        "  def forward(self, x:torch.Tensor) -> torch.Tensor:\n",
        "    return self.weights * x + self.bias \n"
      ],
      "metadata": {
        "id": "9Mk2ci4Yq1Yx"
      },
      "execution_count": 42,
      "outputs": []
    },
    {
      "cell_type": "markdown",
      "source": [
        "### PyTorch model building essentials\n",
        "\n",
        "* torch.nn -> contains all building blocks for computational graphs.\n",
        "*  torch.nn.Parameter -> what parameter should our model try and learn\n",
        "* torch.nn.Module -> base class for all neural networks\n",
        "* torch.optim -> optimization is done which will help with Gradient Descent\n",
        "* def forward() -> all nn.module require you to overwrite forward() which helps in forward computation"
      ],
      "metadata": {
        "id": "cqVhn_eiNKp6"
      }
    },
    {
      "cell_type": "code",
      "source": [
        "# create random seed\n",
        "torch.manual_seed(42)\n",
        "\n",
        "# create an intsance of model\n",
        "model_0 = LinearRegressionModel()\n",
        "\n",
        "# parameters\n",
        "list(model_0.parameters())"
      ],
      "metadata": {
        "colab": {
          "base_uri": "https://localhost:8080/"
        },
        "id": "fC3-NU_o6sni",
        "outputId": "6d981d8d-481d-4b84-ba80-4351c2c4ac9f"
      },
      "execution_count": 43,
      "outputs": [
        {
          "output_type": "execute_result",
          "data": {
            "text/plain": [
              "[Parameter containing:\n",
              " tensor([0.3367], requires_grad=True), Parameter containing:\n",
              " tensor([0.1288], requires_grad=True)]"
            ]
          },
          "metadata": {},
          "execution_count": 43
        }
      ]
    },
    {
      "cell_type": "code",
      "source": [
        "# list the named parameters\n",
        "model_0.state_dict()"
      ],
      "metadata": {
        "colab": {
          "base_uri": "https://localhost:8080/"
        },
        "id": "27uV_GFdGKxV",
        "outputId": "41ac5e74-ade7-4a52-d622-5a885a5232ad"
      },
      "execution_count": 44,
      "outputs": [
        {
          "output_type": "execute_result",
          "data": {
            "text/plain": [
              "OrderedDict([('weights', tensor([0.3367])), ('bias', tensor([0.1288]))])"
            ]
          },
          "metadata": {},
          "execution_count": 44
        }
      ]
    },
    {
      "cell_type": "markdown",
      "source": [
        "### Making predictions using torch.`inference_mode()`\n",
        "\n",
        "Predicts `y_test` based on `x_test`.\n",
        "\n",
        "Data will be passed through `forward` method"
      ],
      "metadata": {
        "id": "uzCdz_fbH5Fo"
      }
    },
    {
      "cell_type": "code",
      "source": [
        "# make predictions with model\n",
        "with torch.inference_mode():\n",
        " \n",
        "  y_pred = model_0(X_test)\n",
        "y_pred = y_pred.detach().numpy()\n",
        "\n",
        "y_pred"
      ],
      "metadata": {
        "colab": {
          "base_uri": "https://localhost:8080/"
        },
        "id": "1_Sd3u5KGag0",
        "outputId": "d574c3d4-0cc8-4934-9eaa-f789e4c07576"
      },
      "execution_count": 52,
      "outputs": [
        {
          "output_type": "execute_result",
          "data": {
            "text/plain": [
              "array([[0.82012236],\n",
              "       [0.8320302 ],\n",
              "       [0.843938  ],\n",
              "       [0.8558458 ],\n",
              "       [0.8677536 ],\n",
              "       [0.87966144],\n",
              "       [0.89156926],\n",
              "       [0.903477  ],\n",
              "       [0.9153848 ],\n",
              "       [0.92729264]], dtype=float32)"
            ]
          },
          "metadata": {},
          "execution_count": 52
        }
      ]
    },
    {
      "cell_type": "code",
      "source": [
        "y_test"
      ],
      "metadata": {
        "colab": {
          "base_uri": "https://localhost:8080/"
        },
        "id": "12HmtW4qJowU",
        "outputId": "c9c53bb5-45dc-4c14-d0f0-a9d242f47d49"
      },
      "execution_count": 46,
      "outputs": [
        {
          "output_type": "execute_result",
          "data": {
            "text/plain": [
              "tensor([[0.8600],\n",
              "        [0.8740],\n",
              "        [0.8880],\n",
              "        [0.9020],\n",
              "        [0.9160],\n",
              "        [0.9300],\n",
              "        [0.9440],\n",
              "        [0.9580],\n",
              "        [0.9720],\n",
              "        [0.9860]])"
            ]
          },
          "metadata": {},
          "execution_count": 46
        }
      ]
    },
    {
      "cell_type": "code",
      "source": [
        "plot_predictions(predictions=y_pred)"
      ],
      "metadata": {
        "colab": {
          "base_uri": "https://localhost:8080/",
          "height": 428
        },
        "id": "64Hta4_bJ68r",
        "outputId": "b841c472-acd2-4b21-a49c-9b05208fe5c7"
      },
      "execution_count": 47,
      "outputs": [
        {
          "output_type": "display_data",
          "data": {
            "text/plain": [
              "<Figure size 720x504 with 1 Axes>"
            ],
            "image/png": "[encoded data removed]"
          },
          "metadata": {
            "needs_background": "light"
          }
        }
      ]
    },
    {
      "cell_type": "markdown",
      "source": [
        "### Train Model\n",
        "\n",
        "Move a model from *unknown* parameters(random) to *known* parameters or from a poor representation of data to a better representation of data\n",
        "\n",
        "One way to measure the performance of the model is to use `loss function(cost fucntion)`.\n",
        "\n",
        "Things we need:\n",
        "\n",
        "* **Loss Fucntion:** measure how wrong our model's prediction are to the ideal outputs(Lower is better).\n",
        "\n",
        "* **Optimizer:** will take the loss of a model and adjust the model parameters(weights and bias) to improve the loss function.\n",
        "  Two parameters of optimizers are:\n",
        "    * params: Parameters you want to optimize.(params=model_0.parameters()\n",
        "    * lr(learning rate): Hyper parameter that defines how big or small the optimizer can change the parameters.\n",
        "\n",
        "* **Training Loop**\n",
        "* **Testing Loop**\n"
      ],
      "metadata": {
        "id": "_u2aFSroSLhd"
      }
    },
    {
      "cell_type": "code",
      "source": [
        "# Setup a loss function\n",
        "#L1Loss is a mean absolute error\n",
        "loss_fn = nn.L1Loss()\n",
        "\n",
        "# Setup optimizer(stochastic Gradient Descent)\n",
        "# Stochastic means Random meaning the SGD will randomnly adjust the parameters(weight, bias)\n",
        "# and when it notice that random values have minimised the loss function, it will keep\n",
        "# on adjusting the parameters in the same direction upto a point where the tuning of the\n",
        "# parameter is no longer going to affect the loss function.\n",
        "optimizer = torch.optim.SGD(params=model_0.parameters(),\n",
        "                            lr=0.01) # learning rate is the hyper parameter that we can set.\n",
        "# Higher the learning rate, higher will be the change in parameter\n",
        "# Likewise, smaller the learning rate, smaller will be the change in parameter."
      ],
      "metadata": {
        "id": "xENgVe74SidJ"
      },
      "execution_count": 48,
      "outputs": []
    },
    {
      "cell_type": "markdown",
      "source": [
        "### What loss function and optimizer should we use??\n",
        "\n",
        "-> For **Regression** use loss function `nn.L1Loss()`(Mean Absolute Error) and optimizer `torch.optim.SGD()`\n",
        "\n",
        "-> For **Classification** use loss function `nn.BCELos()`(Binary Cross Entropy Loss)"
      ],
      "metadata": {
        "id": "CnrAsaXLjsvA"
      }
    },
    {
      "cell_type": "markdown",
      "source": [
        "### Building Training Loop(and Testing Loop) in PyTorch\n",
        "\n",
        "Steps for training loop:\n",
        "* Loop through the data and do the following steps:\n",
        "  * Forward pass(data moving in the forward direction) aka **Foward propagation**\n",
        "  * Calculate the loss(compare the predictions with the test labels)\n",
        "  * Optimizer zero grad\n",
        "  * Loss backward - move backward through the network to calculate the gradients of each parameters with respect to the loss (**Backward Propagation**)\n",
        "  * Optimizer- use the optimizer to adjust the model parameters to reduce the loss(**gradient descent**)\n"
      ],
      "metadata": {
        "id": "NKywn_YtkjtT"
      }
    },
    {
      "cell_type": "code",
      "source": [
        "torch.manual_seed(42)\n",
        "# epoch is one loop through data\n",
        "epochs = 110\n",
        "\n",
        "# Training will start from here\n",
        "#0. Loop through data\n",
        "for epoch in range(epochs):\n",
        "  # set the model to training mode\n",
        "  model_0.train() # train mode will set all paramaters that requires gradients to require gradients\n",
        "\n",
        "  #1. Forward pass(where we will pass the train data to our model)\n",
        "  y_pred = model_0(X_train)\n",
        "\n",
        "  #2. calculate the loss\n",
        "  loss = loss_fn(y_pred, y_train)\n",
        "  print('loss', loss)\n",
        "\n",
        "  #3. Optimizer Zero grad\n",
        "  optimizer.zero_grad()\n",
        "\n",
        "  #4. Perform backpropagation on the loss with respect to the parameters of the model\n",
        "  loss.backward()\n",
        "\n",
        "  # 5. Perform gradient descent step by step(always so this after back propogation)\n",
        "  # by default the change in optimizer will be accumulated through the loop.\n",
        "  # so we have to zero them in step 3 for the next iteration\n",
        "  optimizer.step()\n",
        "\n",
        "  # print model state_dict\n",
        "  print(model_0.state_dict())\n"
      ],
      "metadata": {
        "id": "_866d4K0jWWC",
        "colab": {
          "base_uri": "https://localhost:8080/"
        },
        "outputId": "868e92b5-998e-4b3c-b1e5-6bb286a3decc"
      },
      "execution_count": 49,
      "outputs": [
        {
          "output_type": "stream",
          "name": "stdout",
          "text": [
            "loss tensor(0.3129, grad_fn=<L1LossBackward0>)\n",
            "OrderedDict([('weights', tensor([0.3406])), ('bias', tensor([0.1388]))])\n",
            "loss tensor(0.3014, grad_fn=<L1LossBackward0>)\n",
            "OrderedDict([('weights', tensor([0.3445])), ('bias', tensor([0.1488]))])\n",
            "loss tensor(0.2898, grad_fn=<L1LossBackward0>)\n",
            "OrderedDict([('weights', tensor([0.3484])), ('bias', tensor([0.1588]))])\n",
            "loss tensor(0.2783, grad_fn=<L1LossBackward0>)\n",
            "OrderedDict([('weights', tensor([0.3523])), ('bias', tensor([0.1688]))])\n",
            "loss tensor(0.2668, grad_fn=<L1LossBackward0>)\n",
            "OrderedDict([('weights', tensor([0.3562])), ('bias', tensor([0.1788]))])\n",
            "loss tensor(0.2553, grad_fn=<L1LossBackward0>)\n",
            "OrderedDict([('weights', tensor([0.3601])), ('bias', tensor([0.1888]))])\n",
            "loss tensor(0.2438, grad_fn=<L1LossBackward0>)\n",
            "OrderedDict([('weights', tensor([0.3640])), ('bias', tensor([0.1988]))])\n",
            "loss tensor(0.2322, grad_fn=<L1LossBackward0>)\n",
            "OrderedDict([('weights', tensor([0.3679])), ('bias', tensor([0.2088]))])\n",
            "loss tensor(0.2207, grad_fn=<L1LossBackward0>)\n",
            "OrderedDict([('weights', tensor([0.3718])), ('bias', tensor([0.2188]))])\n",
            "loss tensor(0.2092, grad_fn=<L1LossBackward0>)\n",
            "OrderedDict([('weights', tensor([0.3757])), ('bias', tensor([0.2288]))])\n",
            "loss tensor(0.1977, grad_fn=<L1LossBackward0>)\n",
            "OrderedDict([('weights', tensor([0.3796])), ('bias', tensor([0.2388]))])\n",
            "loss tensor(0.1862, grad_fn=<L1LossBackward0>)\n",
            "OrderedDict([('weights', tensor([0.3835])), ('bias', tensor([0.2488]))])\n",
            "loss tensor(0.1746, grad_fn=<L1LossBackward0>)\n",
            "OrderedDict([('weights', tensor([0.3874])), ('bias', tensor([0.2588]))])\n",
            "loss tensor(0.1631, grad_fn=<L1LossBackward0>)\n",
            "OrderedDict([('weights', tensor([0.3913])), ('bias', tensor([0.2688]))])\n",
            "loss tensor(0.1516, grad_fn=<L1LossBackward0>)\n",
            "OrderedDict([('weights', tensor([0.3952])), ('bias', tensor([0.2788]))])\n",
            "loss tensor(0.1401, grad_fn=<L1LossBackward0>)\n",
            "OrderedDict([('weights', tensor([0.3991])), ('bias', tensor([0.2888]))])\n",
            "loss tensor(0.1285, grad_fn=<L1LossBackward0>)\n",
            "OrderedDict([('weights', tensor([0.4030])), ('bias', tensor([0.2988]))])\n",
            "loss tensor(0.1170, grad_fn=<L1LossBackward0>)\n",
            "OrderedDict([('weights', tensor([0.4069])), ('bias', tensor([0.3088]))])\n",
            "loss tensor(0.1061, grad_fn=<L1LossBackward0>)\n",
            "OrderedDict([('weights', tensor([0.4108])), ('bias', tensor([0.3178]))])\n",
            "loss tensor(0.0968, grad_fn=<L1LossBackward0>)\n",
            "OrderedDict([('weights', tensor([0.4146])), ('bias', tensor([0.3258]))])\n",
            "loss tensor(0.0891, grad_fn=<L1LossBackward0>)\n",
            "OrderedDict([('weights', tensor([0.4184])), ('bias', tensor([0.3333]))])\n",
            "loss tensor(0.0823, grad_fn=<L1LossBackward0>)\n",
            "OrderedDict([('weights', tensor([0.4222])), ('bias', tensor([0.3403]))])\n",
            "loss tensor(0.0764, grad_fn=<L1LossBackward0>)\n",
            "OrderedDict([('weights', tensor([0.4258])), ('bias', tensor([0.3463]))])\n",
            "loss tensor(0.0716, grad_fn=<L1LossBackward0>)\n",
            "OrderedDict([('weights', tensor([0.4293])), ('bias', tensor([0.3518]))])\n",
            "loss tensor(0.0675, grad_fn=<L1LossBackward0>)\n",
            "OrderedDict([('weights', tensor([0.4328])), ('bias', tensor([0.3568]))])\n",
            "loss tensor(0.0640, grad_fn=<L1LossBackward0>)\n",
            "OrderedDict([('weights', tensor([0.4361])), ('bias', tensor([0.3613]))])\n",
            "loss tensor(0.0610, grad_fn=<L1LossBackward0>)\n",
            "OrderedDict([('weights', tensor([0.4394])), ('bias', tensor([0.3653]))])\n",
            "loss tensor(0.0585, grad_fn=<L1LossBackward0>)\n",
            "OrderedDict([('weights', tensor([0.4425])), ('bias', tensor([0.3688]))])\n",
            "loss tensor(0.0564, grad_fn=<L1LossBackward0>)\n",
            "OrderedDict([('weights', tensor([0.4455])), ('bias', tensor([0.3718]))])\n",
            "loss tensor(0.0546, grad_fn=<L1LossBackward0>)\n",
            "OrderedDict([('weights', tensor([0.4483])), ('bias', tensor([0.3743]))])\n",
            "loss tensor(0.0531, grad_fn=<L1LossBackward0>)\n",
            "OrderedDict([('weights', tensor([0.4512])), ('bias', tensor([0.3768]))])\n",
            "loss tensor(0.0518, grad_fn=<L1LossBackward0>)\n",
            "OrderedDict([('weights', tensor([0.4539])), ('bias', tensor([0.3788]))])\n",
            "loss tensor(0.0507, grad_fn=<L1LossBackward0>)\n",
            "OrderedDict([('weights', tensor([0.4564])), ('bias', tensor([0.3803]))])\n",
            "loss tensor(0.0498, grad_fn=<L1LossBackward0>)\n",
            "OrderedDict([('weights', tensor([0.4590])), ('bias', tensor([0.3818]))])\n",
            "loss tensor(0.0490, grad_fn=<L1LossBackward0>)\n",
            "OrderedDict([('weights', tensor([0.4615])), ('bias', tensor([0.3833]))])\n",
            "loss tensor(0.0482, grad_fn=<L1LossBackward0>)\n",
            "OrderedDict([('weights', tensor([0.4639])), ('bias', tensor([0.3843]))])\n",
            "loss tensor(0.0475, grad_fn=<L1LossBackward0>)\n",
            "OrderedDict([('weights', tensor([0.4662])), ('bias', tensor([0.3853]))])\n",
            "loss tensor(0.0469, grad_fn=<L1LossBackward0>)\n",
            "OrderedDict([('weights', tensor([0.4684])), ('bias', tensor([0.3858]))])\n",
            "loss tensor(0.0464, grad_fn=<L1LossBackward0>)\n",
            "OrderedDict([('weights', tensor([0.4706])), ('bias', tensor([0.3863]))])\n",
            "loss tensor(0.0459, grad_fn=<L1LossBackward0>)\n",
            "OrderedDict([('weights', tensor([0.4728])), ('bias', tensor([0.3868]))])\n",
            "loss tensor(0.0454, grad_fn=<L1LossBackward0>)\n",
            "OrderedDict([('weights', tensor([0.4748])), ('bias', tensor([0.3868]))])\n",
            "loss tensor(0.0450, grad_fn=<L1LossBackward0>)\n",
            "OrderedDict([('weights', tensor([0.4768])), ('bias', tensor([0.3868]))])\n",
            "loss tensor(0.0446, grad_fn=<L1LossBackward0>)\n",
            "OrderedDict([('weights', tensor([0.4788])), ('bias', tensor([0.3868]))])\n",
            "loss tensor(0.0442, grad_fn=<L1LossBackward0>)\n",
            "OrderedDict([('weights', tensor([0.4808])), ('bias', tensor([0.3868]))])\n",
            "loss tensor(0.0438, grad_fn=<L1LossBackward0>)\n",
            "OrderedDict([('weights', tensor([0.4828])), ('bias', tensor([0.3868]))])\n",
            "loss tensor(0.0434, grad_fn=<L1LossBackward0>)\n",
            "OrderedDict([('weights', tensor([0.4848])), ('bias', tensor([0.3868]))])\n",
            "loss tensor(0.0431, grad_fn=<L1LossBackward0>)\n",
            "OrderedDict([('weights', tensor([0.4866])), ('bias', tensor([0.3863]))])\n",
            "loss tensor(0.0427, grad_fn=<L1LossBackward0>)\n",
            "OrderedDict([('weights', tensor([0.4884])), ('bias', tensor([0.3858]))])\n",
            "loss tensor(0.0424, grad_fn=<L1LossBackward0>)\n",
            "OrderedDict([('weights', tensor([0.4902])), ('bias', tensor([0.3853]))])\n",
            "loss tensor(0.0420, grad_fn=<L1LossBackward0>)\n",
            "OrderedDict([('weights', tensor([0.4920])), ('bias', tensor([0.3848]))])\n",
            "loss tensor(0.0417, grad_fn=<L1LossBackward0>)\n",
            "OrderedDict([('weights', tensor([0.4938])), ('bias', tensor([0.3843]))])\n",
            "loss tensor(0.0413, grad_fn=<L1LossBackward0>)\n",
            "OrderedDict([('weights', tensor([0.4956])), ('bias', tensor([0.3838]))])\n",
            "loss tensor(0.0410, grad_fn=<L1LossBackward0>)\n",
            "OrderedDict([('weights', tensor([0.4974])), ('bias', tensor([0.3833]))])\n",
            "loss tensor(0.0406, grad_fn=<L1LossBackward0>)\n",
            "OrderedDict([('weights', tensor([0.4992])), ('bias', tensor([0.3828]))])\n",
            "loss tensor(0.0403, grad_fn=<L1LossBackward0>)\n",
            "OrderedDict([('weights', tensor([0.5010])), ('bias', tensor([0.3823]))])\n",
            "loss tensor(0.0399, grad_fn=<L1LossBackward0>)\n",
            "OrderedDict([('weights', tensor([0.5028])), ('bias', tensor([0.3818]))])\n",
            "loss tensor(0.0396, grad_fn=<L1LossBackward0>)\n",
            "OrderedDict([('weights', tensor([0.5046])), ('bias', tensor([0.3813]))])\n",
            "loss tensor(0.0392, grad_fn=<L1LossBackward0>)\n",
            "OrderedDict([('weights', tensor([0.5064])), ('bias', tensor([0.3808]))])\n",
            "loss tensor(0.0389, grad_fn=<L1LossBackward0>)\n",
            "OrderedDict([('weights', tensor([0.5082])), ('bias', tensor([0.3803]))])\n",
            "loss tensor(0.0385, grad_fn=<L1LossBackward0>)\n",
            "OrderedDict([('weights', tensor([0.5100])), ('bias', tensor([0.3798]))])\n",
            "loss tensor(0.0382, grad_fn=<L1LossBackward0>)\n",
            "OrderedDict([('weights', tensor([0.5116])), ('bias', tensor([0.3788]))])\n",
            "loss tensor(0.0379, grad_fn=<L1LossBackward0>)\n",
            "OrderedDict([('weights', tensor([0.5134])), ('bias', tensor([0.3783]))])\n",
            "loss tensor(0.0375, grad_fn=<L1LossBackward0>)\n",
            "OrderedDict([('weights', tensor([0.5152])), ('bias', tensor([0.3778]))])\n",
            "loss tensor(0.0372, grad_fn=<L1LossBackward0>)\n",
            "OrderedDict([('weights', tensor([0.5168])), ('bias', tensor([0.3768]))])\n",
            "loss tensor(0.0368, grad_fn=<L1LossBackward0>)\n",
            "OrderedDict([('weights', tensor([0.5186])), ('bias', tensor([0.3763]))])\n",
            "loss tensor(0.0365, grad_fn=<L1LossBackward0>)\n",
            "OrderedDict([('weights', tensor([0.5202])), ('bias', tensor([0.3753]))])\n",
            "loss tensor(0.0361, grad_fn=<L1LossBackward0>)\n",
            "OrderedDict([('weights', tensor([0.5220])), ('bias', tensor([0.3748]))])\n",
            "loss tensor(0.0358, grad_fn=<L1LossBackward0>)\n",
            "OrderedDict([('weights', tensor([0.5236])), ('bias', tensor([0.3738]))])\n",
            "loss tensor(0.0354, grad_fn=<L1LossBackward0>)\n",
            "OrderedDict([('weights', tensor([0.5254])), ('bias', tensor([0.3733]))])\n",
            "loss tensor(0.0351, grad_fn=<L1LossBackward0>)\n",
            "OrderedDict([('weights', tensor([0.5272])), ('bias', tensor([0.3728]))])\n",
            "loss tensor(0.0348, grad_fn=<L1LossBackward0>)\n",
            "OrderedDict([('weights', tensor([0.5288])), ('bias', tensor([0.3718]))])\n",
            "loss tensor(0.0344, grad_fn=<L1LossBackward0>)\n",
            "OrderedDict([('weights', tensor([0.5306])), ('bias', tensor([0.3713]))])\n",
            "loss tensor(0.0341, grad_fn=<L1LossBackward0>)\n",
            "OrderedDict([('weights', tensor([0.5322])), ('bias', tensor([0.3703]))])\n",
            "loss tensor(0.0337, grad_fn=<L1LossBackward0>)\n",
            "OrderedDict([('weights', tensor([0.5340])), ('bias', tensor([0.3698]))])\n",
            "loss tensor(0.0334, grad_fn=<L1LossBackward0>)\n",
            "OrderedDict([('weights', tensor([0.5355])), ('bias', tensor([0.3688]))])\n",
            "loss tensor(0.0330, grad_fn=<L1LossBackward0>)\n",
            "OrderedDict([('weights', tensor([0.5373])), ('bias', tensor([0.3683]))])\n",
            "loss tensor(0.0327, grad_fn=<L1LossBackward0>)\n",
            "OrderedDict([('weights', tensor([0.5391])), ('bias', tensor([0.3678]))])\n",
            "loss tensor(0.0324, grad_fn=<L1LossBackward0>)\n",
            "OrderedDict([('weights', tensor([0.5407])), ('bias', tensor([0.3668]))])\n",
            "loss tensor(0.0320, grad_fn=<L1LossBackward0>)\n",
            "OrderedDict([('weights', tensor([0.5425])), ('bias', tensor([0.3663]))])\n",
            "loss tensor(0.0317, grad_fn=<L1LossBackward0>)\n",
            "OrderedDict([('weights', tensor([0.5441])), ('bias', tensor([0.3653]))])\n",
            "loss tensor(0.0313, grad_fn=<L1LossBackward0>)\n",
            "OrderedDict([('weights', tensor([0.5459])), ('bias', tensor([0.3648]))])\n",
            "loss tensor(0.0310, grad_fn=<L1LossBackward0>)\n",
            "OrderedDict([('weights', tensor([0.5475])), ('bias', tensor([0.3638]))])\n",
            "loss tensor(0.0306, grad_fn=<L1LossBackward0>)\n",
            "OrderedDict([('weights', tensor([0.5493])), ('bias', tensor([0.3633]))])\n",
            "loss tensor(0.0303, grad_fn=<L1LossBackward0>)\n",
            "OrderedDict([('weights', tensor([0.5509])), ('bias', tensor([0.3623]))])\n",
            "loss tensor(0.0300, grad_fn=<L1LossBackward0>)\n",
            "OrderedDict([('weights', tensor([0.5527])), ('bias', tensor([0.3618]))])\n",
            "loss tensor(0.0296, grad_fn=<L1LossBackward0>)\n",
            "OrderedDict([('weights', tensor([0.5545])), ('bias', tensor([0.3613]))])\n",
            "loss tensor(0.0293, grad_fn=<L1LossBackward0>)\n",
            "OrderedDict([('weights', tensor([0.5561])), ('bias', tensor([0.3603]))])\n",
            "loss tensor(0.0289, grad_fn=<L1LossBackward0>)\n",
            "OrderedDict([('weights', tensor([0.5579])), ('bias', tensor([0.3598]))])\n",
            "loss tensor(0.0286, grad_fn=<L1LossBackward0>)\n",
            "OrderedDict([('weights', tensor([0.5595])), ('bias', tensor([0.3588]))])\n",
            "loss tensor(0.0282, grad_fn=<L1LossBackward0>)\n",
            "OrderedDict([('weights', tensor([0.5613])), ('bias', tensor([0.3583]))])\n",
            "loss tensor(0.0279, grad_fn=<L1LossBackward0>)\n",
            "OrderedDict([('weights', tensor([0.5629])), ('bias', tensor([0.3573]))])\n",
            "loss tensor(0.0275, grad_fn=<L1LossBackward0>)\n",
            "OrderedDict([('weights', tensor([0.5647])), ('bias', tensor([0.3568]))])\n",
            "loss tensor(0.0272, grad_fn=<L1LossBackward0>)\n",
            "OrderedDict([('weights', tensor([0.5665])), ('bias', tensor([0.3563]))])\n",
            "loss tensor(0.0269, grad_fn=<L1LossBackward0>)\n",
            "OrderedDict([('weights', tensor([0.5681])), ('bias', tensor([0.3553]))])\n",
            "loss tensor(0.0265, grad_fn=<L1LossBackward0>)\n",
            "OrderedDict([('weights', tensor([0.5699])), ('bias', tensor([0.3548]))])\n",
            "loss tensor(0.0262, grad_fn=<L1LossBackward0>)\n",
            "OrderedDict([('weights', tensor([0.5715])), ('bias', tensor([0.3538]))])\n",
            "loss tensor(0.0258, grad_fn=<L1LossBackward0>)\n",
            "OrderedDict([('weights', tensor([0.5733])), ('bias', tensor([0.3533]))])\n",
            "loss tensor(0.0255, grad_fn=<L1LossBackward0>)\n",
            "OrderedDict([('weights', tensor([0.5748])), ('bias', tensor([0.3523]))])\n",
            "loss tensor(0.0251, grad_fn=<L1LossBackward0>)\n",
            "OrderedDict([('weights', tensor([0.5766])), ('bias', tensor([0.3518]))])\n",
            "loss tensor(0.0248, grad_fn=<L1LossBackward0>)\n",
            "OrderedDict([('weights', tensor([0.5784])), ('bias', tensor([0.3513]))])\n",
            "loss tensor(0.0245, grad_fn=<L1LossBackward0>)\n",
            "OrderedDict([('weights', tensor([0.5800])), ('bias', tensor([0.3503]))])\n",
            "loss tensor(0.0241, grad_fn=<L1LossBackward0>)\n",
            "OrderedDict([('weights', tensor([0.5818])), ('bias', tensor([0.3498]))])\n",
            "loss tensor(0.0238, grad_fn=<L1LossBackward0>)\n",
            "OrderedDict([('weights', tensor([0.5834])), ('bias', tensor([0.3488]))])\n",
            "loss tensor(0.0234, grad_fn=<L1LossBackward0>)\n",
            "OrderedDict([('weights', tensor([0.5852])), ('bias', tensor([0.3483]))])\n",
            "loss tensor(0.0231, grad_fn=<L1LossBackward0>)\n",
            "OrderedDict([('weights', tensor([0.5868])), ('bias', tensor([0.3473]))])\n",
            "loss tensor(0.0227, grad_fn=<L1LossBackward0>)\n",
            "OrderedDict([('weights', tensor([0.5886])), ('bias', tensor([0.3468]))])\n",
            "loss tensor(0.0224, grad_fn=<L1LossBackward0>)\n",
            "OrderedDict([('weights', tensor([0.5902])), ('bias', tensor([0.3458]))])\n",
            "loss tensor(0.0221, grad_fn=<L1LossBackward0>)\n",
            "OrderedDict([('weights', tensor([0.5920])), ('bias', tensor([0.3453]))])\n",
            "loss tensor(0.0217, grad_fn=<L1LossBackward0>)\n",
            "OrderedDict([('weights', tensor([0.5938])), ('bias', tensor([0.3448]))])\n",
            "loss tensor(0.0214, grad_fn=<L1LossBackward0>)\n",
            "OrderedDict([('weights', tensor([0.5954])), ('bias', tensor([0.3438]))])\n"
          ]
        }
      ]
    },
    {
      "cell_type": "markdown",
      "source": [
        "### What happens in the above code:\n",
        "\n",
        "* `for epoch in range(epochs):` -> Pass the data through the model for the number of epochs. epochs are hyperparameters where the user can set it accordingly.\n",
        "\n",
        "* `model_0.train()` -> track the gradients and do the training behind the scene.\n",
        "\n",
        "* `y_pred = model_0(X_train)` -> Forward pass is done in training data in training loop. In the training loop model will learn the patterns where as in testing loop will evaluate the patterns the model has learned on unseen data.\n",
        " \n",
        "* `loss = loss_fn(y_pred, y_train)` -> determines how wrong the model predictions are.\n",
        "\n",
        "* `optimizer.zero_grad()` -> optimizer in step 5 will accumulate the gradients of ech parameters with requires_grad = True. So this step will zero the optimizer gradients\n",
        "\n",
        "* `loss.backward()` -> performs backpropagation on the loss function(compute the gradient of every parmater with require_grad=True)\n",
        "\n",
        "* `optimizer.step()` -> step the optimizer to update the model parameters with respect to  the gradients obtained by backward propagation.\n",
        "\n",
        "\n"
      ],
      "metadata": {
        "id": "e0krO80ybPAA"
      }
    },
    {
      "cell_type": "code",
      "source": [
        "# make predictions\n",
        "with torch.inference_mode():\n",
        "  y_pred_new = model_0(X_test)\n",
        "y_pred_new = y_pred_new.detach().numpy()"
      ],
      "metadata": {
        "id": "gt5-LuIebZ3b"
      },
      "execution_count": 54,
      "outputs": []
    },
    {
      "cell_type": "code",
      "source": [
        "# plot old prediction\n",
        "plot_predictions(predictions=torch.tensor(y_pred).numpy())"
      ],
      "metadata": {
        "colab": {
          "base_uri": "https://localhost:8080/",
          "height": 428
        },
        "id": "M8tap1NZnLNp",
        "outputId": "234af089-1cf8-4716-8258-2734bcd7a700"
      },
      "execution_count": 55,
      "outputs": [
        {
          "output_type": "display_data",
          "data": {
            "text/plain": [
              "<Figure size 720x504 with 1 Axes>"
            ],
            "image/png": "[encoded data removed]"
          },
          "metadata": {
            "needs_background": "light"
          }
        }
      ]
    },
    {
      "cell_type": "code",
      "source": [
        "# plot the new predictions after making the new predictions after reducing the loss function\n",
        "# Here we can see that the predictions are moving closer to the test data after\n",
        "# reducing the error and optimization\n",
        "# it will change as we keep tuning the epochs \n",
        "plot_predictions(predictions=y_pred_new)"
      ],
      "metadata": {
        "id": "KDMpZuj3sptY"
      },
      "execution_count": null,
      "outputs": []
    },
    {
      "cell_type": "markdown",
      "source": [
        "### Testing Loop code"
      ],
      "metadata": {
        "id": "RrY5tq9PwH7C"
      }
    },
    {
      "cell_type": "code",
      "source": [
        "torch.manual_seed(42)\n",
        "# epoch is one loop through data\n",
        "epochs = 200\n",
        "\n",
        "# Track different values\n",
        "epoch_list = []\n",
        "loss_list = []\n",
        "test_loss_list = []\n",
        "\n",
        "# Training will start from here\n",
        "#0. Loop through data\n",
        "for epoch in range(epochs):\n",
        "  # set the model to training mode\n",
        "  model_0.train() # train mode will set all paramaters that requires gradients to require gradients\n",
        "\n",
        "  #1. Forward pass(where we will pass the train data to our model)\n",
        "  y_pred = model_0(X_train)\n",
        "\n",
        "  #2. calculate the loss\n",
        "  loss = loss_fn(y_pred, y_train)\n",
        "  \n",
        "\n",
        "  #3. Optimizer Zero grad\n",
        "  optimizer.zero_grad()\n",
        "\n",
        "  #4. Perform backpropagation on the loss with respect to the parameters of the model\n",
        "  loss.backward()\n",
        "\n",
        "  # 5. Perform gradient descent step by step(always so this after back propogation)\n",
        "  # by default the change in optimizer will be accumulated through the loop.\n",
        "  # so we have to zero them in step 3 for the next iteration\n",
        "  optimizer.step()\n",
        "\n",
        "  ### TESTING\n",
        "  model_0.eval() # we turn off different settings in the modelwhich is not needed\n",
        "                 # for evaluation or testing(droput/batch morm layers)\n",
        "  # with totch.inference_mode also does the same function as that of with torch.inference_mode()\n",
        "  # but torch.inference_mode() is faster.\n",
        "  with torch.inference_mode(): # will turn off gradient tracking and other settings behind the scene\n",
        "    #1. Forward pass\n",
        "    test_pred = model_0(X_test)\n",
        "\n",
        "    #2. calculate the loss\n",
        "    # Never let your model see test daata before evaluation\n",
        "    test_loss = loss_fn(test_pred, y_test)\n",
        "  if epoch % 10 == 0:\n",
        "    epoch_list.append(epoch)\n",
        "    loss_list.append(loss)\n",
        "    test_loss_list.append(test_loss)\n",
        "\n",
        "    print(f\"Epoch: {epoch}, Loss: {loss}, Test_loss: {test_loss}\")\n",
        "\n",
        "    # print model state_dict\n",
        "    print(model_0.state_dict())\n"
      ],
      "metadata": {
        "id": "eFw6GjMPwNp_",
        "colab": {
          "base_uri": "https://localhost:8080/"
        },
        "outputId": "fc959e27-ddef-4ad5-db7d-6bbb2b42b41d"
      },
      "execution_count": 56,
      "outputs": [
        {
          "output_type": "stream",
          "name": "stdout",
          "text": [
            "Epoch: 0, Loss: 0.021020207554101944, Test_loss: 0.04819049686193466\n",
            "OrderedDict([('weights', tensor([0.5972])), ('bias', tensor([0.3433]))])\n",
            "Epoch: 10, Loss: 0.01758546568453312, Test_loss: 0.04060482233762741\n",
            "OrderedDict([('weights', tensor([0.6141])), ('bias', tensor([0.3358]))])\n",
            "Epoch: 20, Loss: 0.014155393466353416, Test_loss: 0.03233227878808975\n",
            "OrderedDict([('weights', tensor([0.6313])), ('bias', tensor([0.3288]))])\n",
            "Epoch: 30, Loss: 0.010716589167714119, Test_loss: 0.024059748277068138\n",
            "OrderedDict([('weights', tensor([0.6485])), ('bias', tensor([0.3218]))])\n",
            "Epoch: 40, Loss: 0.0072835334576666355, Test_loss: 0.016474086791276932\n",
            "OrderedDict([('weights', tensor([0.6654])), ('bias', tensor([0.3143]))])\n",
            "Epoch: 50, Loss: 0.0038517764769494534, Test_loss: 0.008201557211577892\n",
            "OrderedDict([('weights', tensor([0.6826])), ('bias', tensor([0.3073]))])\n",
            "Epoch: 60, Loss: 0.008932482451200485, Test_loss: 0.005023092031478882\n",
            "OrderedDict([('weights', tensor([0.6951])), ('bias', tensor([0.2993]))])\n",
            "Epoch: 70, Loss: 0.008932482451200485, Test_loss: 0.005023092031478882\n",
            "OrderedDict([('weights', tensor([0.6951])), ('bias', tensor([0.2993]))])\n",
            "Epoch: 80, Loss: 0.008932482451200485, Test_loss: 0.005023092031478882\n",
            "OrderedDict([('weights', tensor([0.6951])), ('bias', tensor([0.2993]))])\n",
            "Epoch: 90, Loss: 0.008932482451200485, Test_loss: 0.005023092031478882\n",
            "OrderedDict([('weights', tensor([0.6951])), ('bias', tensor([0.2993]))])\n",
            "Epoch: 100, Loss: 0.008932482451200485, Test_loss: 0.005023092031478882\n",
            "OrderedDict([('weights', tensor([0.6951])), ('bias', tensor([0.2993]))])\n",
            "Epoch: 110, Loss: 0.008932482451200485, Test_loss: 0.005023092031478882\n",
            "OrderedDict([('weights', tensor([0.6951])), ('bias', tensor([0.2993]))])\n",
            "Epoch: 120, Loss: 0.008932482451200485, Test_loss: 0.005023092031478882\n",
            "OrderedDict([('weights', tensor([0.6951])), ('bias', tensor([0.2993]))])\n",
            "Epoch: 130, Loss: 0.008932482451200485, Test_loss: 0.005023092031478882\n",
            "OrderedDict([('weights', tensor([0.6951])), ('bias', tensor([0.2993]))])\n",
            "Epoch: 140, Loss: 0.008932482451200485, Test_loss: 0.005023092031478882\n",
            "OrderedDict([('weights', tensor([0.6951])), ('bias', tensor([0.2993]))])\n",
            "Epoch: 150, Loss: 0.008932482451200485, Test_loss: 0.005023092031478882\n",
            "OrderedDict([('weights', tensor([0.6951])), ('bias', tensor([0.2993]))])\n",
            "Epoch: 160, Loss: 0.008932482451200485, Test_loss: 0.005023092031478882\n",
            "OrderedDict([('weights', tensor([0.6951])), ('bias', tensor([0.2993]))])\n",
            "Epoch: 170, Loss: 0.008932482451200485, Test_loss: 0.005023092031478882\n",
            "OrderedDict([('weights', tensor([0.6951])), ('bias', tensor([0.2993]))])\n",
            "Epoch: 180, Loss: 0.008932482451200485, Test_loss: 0.005023092031478882\n",
            "OrderedDict([('weights', tensor([0.6951])), ('bias', tensor([0.2993]))])\n",
            "Epoch: 190, Loss: 0.008932482451200485, Test_loss: 0.005023092031478882\n",
            "OrderedDict([('weights', tensor([0.6951])), ('bias', tensor([0.2993]))])\n"
          ]
        }
      ]
    },
    {
      "cell_type": "code",
      "source": [
        "# to make the red dot meets the green dot(predictions to meet the test data)\n",
        "# run the above cell again(you dont have to initialize the model again)\n",
        "# because on the first run all the parameters are optmized pretty good.\n",
        "# so we can work on the same data"
      ],
      "metadata": {
        "id": "K5VdKwet0d_y"
      },
      "execution_count": 58,
      "outputs": []
    },
    {
      "cell_type": "code",
      "source": [
        "# plot the loss curve\n",
        "# Matplotlib can only work with numpy arrays. So all the tensor values \n",
        "# should be converted to numpy before plotting\n",
        "plt.plot(epoch_list, torch.tensor(loss_list).numpy(), label='Train loss')\n",
        "plt.plot(epoch_list, torch.tensor(test_loss_list).numpy(), label='Test loss')\n",
        "plt.title('Training and Test loss cureves')\n",
        "plt.xlabel('Epochs')\n",
        "plt.ylabel('Loss')\n",
        "plt.legend()"
      ],
      "metadata": {
        "id": "emvWiNIhP3EQ",
        "colab": {
          "base_uri": "https://localhost:8080/",
          "height": 312
        },
        "outputId": "fa417da3-a3a5-44d6-eb3d-362e8a12efe7"
      },
      "execution_count": 57,
      "outputs": [
        {
          "output_type": "execute_result",
          "data": {
            "text/plain": [
              "<matplotlib.legend.Legend at 0x7f887090e310>"
            ]
          },
          "metadata": {},
          "execution_count": 57
        },
        {
          "output_type": "display_data",
          "data": {
            "text/plain": [
              "<Figure size 432x288 with 1 Axes>"
            ],
            "image/png": "[encoded data removed]"
          },
          "metadata": {
            "needs_background": "light"
          }
        }
      ]
    },
    {
      "cell_type": "markdown",
      "source": [
        "### What happens in Testing loop\n",
        "\n",
        "* `model_0.eval()` -> Tells the model that rather than training we are looking for evaluation(which will turn off certain parameters that are used in training)\n",
        "\n",
        "*   `with torch.inference_mode()` -> for faster performance. It will disable functionality such as gradient tracking for inference(which is only needed for training) \n",
        "\n",
        "* `test_pred = model_0(X_test)` -> pass the test data through the model for forward propagation.\n",
        "\n",
        "* `test_loss = loss_fn(test_pred, y_test)` -> calculate test loss value(how wrong the predictions are on the test dataset)\n",
        "\n",
        "\n",
        "     \n",
        "\n",
        "\n",
        "\n",
        "\n",
        "\n",
        "\n",
        "\n",
        "\n",
        "\n"
      ],
      "metadata": {
        "id": "-CqgdD8XSL7y"
      }
    },
    {
      "cell_type": "markdown",
      "source": [
        "###Save PyTorch model\n",
        "\n",
        "Three method to save and load models\n",
        " * `torch.save()` -> allows to save PyTorch object in pickle format(the process of converting a Python object into a byte stream to store it in a file/database, maintain program state across sessions, or transport data over the network)\n",
        "\n",
        " * `torch.load` -> load a saved PyTorch object\n",
        "\n",
        " * `torch.nn.Module.load_state_dict()` -> allows to load model's saved state dictionary."
      ],
      "metadata": {
        "id": "ECbn160JW6P7"
      }
    },
    {
      "cell_type": "code",
      "source": [
        "model_0.state_dict()"
      ],
      "metadata": {
        "colab": {
          "base_uri": "https://localhost:8080/"
        },
        "id": "Fghp8osEcSk5",
        "outputId": "9c37c18b-bd73-4d98-9a83-e7fc5c68b40c"
      },
      "execution_count": 59,
      "outputs": [
        {
          "output_type": "execute_result",
          "data": {
            "text/plain": [
              "OrderedDict([('weights', tensor([0.6990])), ('bias', tensor([0.3093]))])"
            ]
          },
          "metadata": {},
          "execution_count": 59
        }
      ]
    },
    {
      "cell_type": "code",
      "source": [
        "# save PyTorch model\n",
        "from pathlib import Path\n",
        "\n",
        "# 1. Create model directory\n",
        "MODEL_PATH = Path('models')\n",
        "MODEL_PATH.mkdir(parents=True, exist_ok=True)\n",
        "\n",
        "# 2. Create model save path\n",
        "# always save a pytorch object with .pth or .pt extension\n",
        "MODEL_NAME = \"01_pytorch_workflow_model_0.pth\"\n",
        "MODEL_SAVE_PATH = MODEL_PATH/MODEL_NAME\n",
        "\n",
        "# 3. Save the model state dict\n",
        "print(f'Saving the model into : {MODEL_SAVE_PATH}')\n",
        "torch.save(obj=model_0.state_dict(), f=MODEL_SAVE_PATH)\n"
      ],
      "metadata": {
        "id": "enCsAj_VdZga",
        "colab": {
          "base_uri": "https://localhost:8080/"
        },
        "outputId": "84416f7c-b47e-4ea9-a9e9-e3315ff1f734"
      },
      "execution_count": 60,
      "outputs": [
        {
          "output_type": "stream",
          "name": "stdout",
          "text": [
            "Saving the model into : models/01_pytorch_workflow_model_0.pth\n"
          ]
        }
      ]
    },
    {
      "cell_type": "code",
      "source": [
        "!ls -l models"
      ],
      "metadata": {
        "colab": {
          "base_uri": "https://localhost:8080/"
        },
        "id": "Ciq3bv0Vb0RD",
        "outputId": "17179166-ad83-4b08-e25c-262a680c528b"
      },
      "execution_count": 61,
      "outputs": [
        {
          "output_type": "stream",
          "name": "stdout",
          "text": [
            "total 4\n",
            "-rw-r--r-- 1 root root 1063 Nov 18 06:52 01_pytorch_workflow_model_0.pth\n"
          ]
        }
      ]
    },
    {
      "cell_type": "markdown",
      "source": [
        "### Load PyTorch model\n",
        "\n",
        "Create a new instance of our model class and load the saved `state_dict()` into that"
      ],
      "metadata": {
        "id": "1lvn3d5ue124"
      }
    },
    {
      "cell_type": "code",
      "source": [
        "loaded_model_0 = LinearRegressionModel()\n",
        "\n",
        "# Load the saved state_dict of model_0\n",
        "loaded_model_0.load_state_dict(torch.load(f=MODEL_SAVE_PATH))"
      ],
      "metadata": {
        "colab": {
          "base_uri": "https://localhost:8080/"
        },
        "id": "BiJyM3m8dGOB",
        "outputId": "7d250f38-e595-4e1e-f0c1-2cd0d86814f9"
      },
      "execution_count": 62,
      "outputs": [
        {
          "output_type": "execute_result",
          "data": {
            "text/plain": [
              "<All keys matched successfully>"
            ]
          },
          "metadata": {},
          "execution_count": 62
        }
      ]
    },
    {
      "cell_type": "code",
      "source": [
        "loaded_model_0.state_dict()"
      ],
      "metadata": {
        "colab": {
          "base_uri": "https://localhost:8080/"
        },
        "id": "8aKExPO2glmF",
        "outputId": "804cc006-8974-4684-eab4-25bdccda7cf8"
      },
      "execution_count": 64,
      "outputs": [
        {
          "output_type": "execute_result",
          "data": {
            "text/plain": [
              "OrderedDict([('weights', tensor([0.6990])), ('bias', tensor([0.3093]))])"
            ]
          },
          "metadata": {},
          "execution_count": 64
        }
      ]
    },
    {
      "cell_type": "code",
      "source": [
        "# make predictions with loaded model\n",
        "loaded_model_0.eval()\n",
        "with torch.inference_mode():\n",
        "  loaded_model_preds = loaded_model_0(X_test)\n",
        "loaded_model_preds"
      ],
      "metadata": {
        "colab": {
          "base_uri": "https://localhost:8080/"
        },
        "id": "Eu8_Z96Jkch_",
        "outputId": "4e7e9d8c-2d85-4bbb-d1c4-b85de5b7c930"
      },
      "execution_count": 65,
      "outputs": [
        {
          "output_type": "execute_result",
          "data": {
            "text/plain": [
              "tensor([[0.8685],\n",
              "        [0.8825],\n",
              "        [0.8965],\n",
              "        [0.9105],\n",
              "        [0.9245],\n",
              "        [0.9384],\n",
              "        [0.9524],\n",
              "        [0.9664],\n",
              "        [0.9804],\n",
              "        [0.9944]])"
            ]
          },
          "metadata": {},
          "execution_count": 65
        }
      ]
    },
    {
      "cell_type": "code",
      "source": [
        "# check if it matches with predictions of original model\n",
        "model_0.eval()\n",
        "with torch.inference_mode():\n",
        "  y_pred = model_0(X_test)\n",
        "\n",
        "y_pred\n"
      ],
      "metadata": {
        "colab": {
          "base_uri": "https://localhost:8080/"
        },
        "id": "8CgX_RC6lWTt",
        "outputId": "e2e46b4e-e359-4291-9665-cd9617937587"
      },
      "execution_count": 68,
      "outputs": [
        {
          "output_type": "execute_result",
          "data": {
            "text/plain": [
              "tensor([[0.8685],\n",
              "        [0.8825],\n",
              "        [0.8965],\n",
              "        [0.9105],\n",
              "        [0.9245],\n",
              "        [0.9384],\n",
              "        [0.9524],\n",
              "        [0.9664],\n",
              "        [0.9804],\n",
              "        [0.9944]])"
            ]
          },
          "metadata": {},
          "execution_count": 68
        }
      ]
    },
    {
      "cell_type": "code",
      "source": [
        "y_pred == loaded_model_preds"
      ],
      "metadata": {
        "colab": {
          "base_uri": "https://localhost:8080/"
        },
        "id": "BGME0jEOlcDv",
        "outputId": "06f17240-c674-4586-b57a-12c8e3dbeb79"
      },
      "execution_count": 69,
      "outputs": [
        {
          "output_type": "execute_result",
          "data": {
            "text/plain": [
              "tensor([[True],\n",
              "        [True],\n",
              "        [True],\n",
              "        [True],\n",
              "        [True],\n",
              "        [True],\n",
              "        [True],\n",
              "        [True],\n",
              "        [True],\n",
              "        [True]])"
            ]
          },
          "metadata": {},
          "execution_count": 69
        }
      ]
    },
    {
      "cell_type": "code",
      "source": [],
      "metadata": {
        "id": "ymdiLSy7mCvf"
      },
      "execution_count": null,
      "outputs": []
    }
  ]
}