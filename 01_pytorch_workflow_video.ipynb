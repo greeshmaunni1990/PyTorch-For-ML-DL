{
  "nbformat": 4,
  "nbformat_minor": 0,
  "metadata": {
    "colab": {
      "provenance": [],
      "collapsed_sections": [],
      "authorship_tag": "ABX9TyNKlCTWQyPSmw1IucWWogVn",
      "include_colab_link": true
    },
    "kernelspec": {
      "name": "python3",
      "display_name": "Python 3"
    },
    "language_info": {
      "name": "python"
    }
  },
  "cells": [
    {
      "cell_type": "markdown",
      "metadata": {
        "id": "view-in-github",
        "colab_type": "text"
      },
      "source": [
        "<a href=\"https://colab.research.google.com/github/greeshmaunni1990/PyTorch-For-ML-DL/blob/main/01_pytorch_workflow_video.ipynb\" target=\"_parent\"><img src=\"https://colab.research.google.com/assets/colab-badge.svg\" alt=\"Open In Colab\"/></a>"
      ]
    },
    {
      "cell_type": "code",
      "source": [
        "import torch\n",
        "from torch import nn # nn will have PyTorch's building block for neural network\n",
        "import matplotlib.pyplot as plt\n",
        "\n",
        "torch.__version__"
      ],
      "metadata": {
        "id": "xnqnIP-MVtxF",
        "colab": {
          "base_uri": "https://localhost:8080/",
          "height": 36
        },
        "outputId": "3da4f977-a266-4503-f762-1de141145a25"
      },
      "execution_count": 39,
      "outputs": [
        {
          "output_type": "execute_result",
          "data": {
            "text/plain": [
              "'1.12.1+cu113'"
            ],
            "application/vnd.google.colaboratory.intrinsic+json": {
              "type": "string"
            }
          },
          "metadata": {},
          "execution_count": 39
        }
      ]
    },
    {
      "cell_type": "markdown",
      "source": [
        "### Data Preparing and Loading\n",
        "\n",
        "Data can be anything in Machine Learning\n",
        "\n",
        "* Excel Spreadsheet\n",
        "* Images\n",
        "* Videos\n",
        "* Audios\n",
        "* Text\n",
        "* DNA\n",
        "\n",
        "Machine Learning is of two parts:\n",
        "1. Get data into numerical representation.\n",
        "2. Build a model to learn patterns in numerical representation."
      ],
      "metadata": {
        "id": "dZVHgofHj6UU"
      }
    },
    {
      "cell_type": "code",
      "source": [
        "# Let us use Linear Regression formula and \n",
        "# creare a straight line using known parameters\n",
        "\n",
        "# create known paramteres\n",
        "weight = 0.7\n",
        "bias = 0.3\n",
        "\n",
        "# create data\n",
        "start = 0\n",
        "end = 1\n",
        "step = 0.02\n",
        "\n",
        "# unsqueeze will add additional dimension for later purpose\n",
        "X = torch.arange(start, end, step).unsqueeze(dim=1)\n",
        "y = weight * X + bias\n",
        "\n",
        "print('X is :', X[:10])\n",
        "print('y is :', y[:10])\n",
        "print('Length of X is :', len(X))\n",
        "print('Length of y is :', len(y))"
      ],
      "metadata": {
        "colab": {
          "base_uri": "https://localhost:8080/"
        },
        "id": "kMCMfdQ4j4qt",
        "outputId": "de68fa0a-867f-4c94-e11a-9bf8f9a21528"
      },
      "execution_count": 40,
      "outputs": [
        {
          "output_type": "stream",
          "name": "stdout",
          "text": [
            "X is : tensor([[0.0000],\n",
            "        [0.0200],\n",
            "        [0.0400],\n",
            "        [0.0600],\n",
            "        [0.0800],\n",
            "        [0.1000],\n",
            "        [0.1200],\n",
            "        [0.1400],\n",
            "        [0.1600],\n",
            "        [0.1800]])\n",
            "y is : tensor([[0.3000],\n",
            "        [0.3140],\n",
            "        [0.3280],\n",
            "        [0.3420],\n",
            "        [0.3560],\n",
            "        [0.3700],\n",
            "        [0.3840],\n",
            "        [0.3980],\n",
            "        [0.4120],\n",
            "        [0.4260]])\n",
            "Length of X is : 50\n",
            "Length of y is : 50\n"
          ]
        }
      ]
    },
    {
      "cell_type": "markdown",
      "source": [
        "### Splitting data into training and test sets"
      ],
      "metadata": {
        "id": "k1wqHDnxoeeM"
      }
    },
    {
      "cell_type": "code",
      "source": [
        "# create train/test split\n",
        "# here we are doing 80-20 split\n",
        "train_split = int(0.8 * len(X))\n",
        "X_train, y_train = X[:train_split], y[:train_split]\n",
        "X_test, y_test = X[train_split:], y[train_split:]\n",
        "\n",
        "print('len of X_train', len(X_train))\n",
        "print('len of y_train', len(y_train))\n",
        "print('len of X_test', len(X_test))\n",
        "print('len of y_test', len(y_test))"
      ],
      "metadata": {
        "colab": {
          "base_uri": "https://localhost:8080/"
        },
        "id": "wYmDueFOonLl",
        "outputId": "a04aa700-514d-4873-9072-1852246d1b02"
      },
      "execution_count": 41,
      "outputs": [
        {
          "output_type": "stream",
          "name": "stdout",
          "text": [
            "len of X_train 40\n",
            "len of y_train 40\n",
            "len of X_test 10\n",
            "len of y_test 10\n"
          ]
        }
      ]
    },
    {
      "cell_type": "markdown",
      "source": [
        "### Visualize Data"
      ],
      "metadata": {
        "id": "U3SEhJbxydXF"
      }
    },
    {
      "cell_type": "code",
      "source": [
        "def plot_predictions(train_data=X_train,\n",
        "                      train_labels=y_train, test_data=X_test,\n",
        "                     test_labels=y_test, predictions=None):\n",
        "  plt.figure(figsize=(10, 7))\n",
        "\n",
        "  # plot training data in blue\n",
        "  plt.scatter(train_data, train_labels, c='b', s=4, label='Training data')\n",
        "\n",
        "  # plot testing data in green\n",
        "  plt.scatter(test_data, test_labels, c='g', s=4, label='Testing data')\n",
        "\n",
        "  # if there is predictions\n",
        "  if predictions is not None:\n",
        "    plt.scatter(test_data, predictions, c='r', s=4, label='Predictions')\n",
        "\n",
        "  # show the legend\n",
        "  plt.legend(prop={'size':14})"
      ],
      "metadata": {
        "id": "JL3GttPzwM1D"
      },
      "execution_count": 42,
      "outputs": []
    },
    {
      "cell_type": "code",
      "source": [
        "plot_predictions()"
      ],
      "metadata": {
        "colab": {
          "base_uri": "https://localhost:8080/",
          "height": 428
        },
        "id": "7M_TNbjqoWxh",
        "outputId": "1be7a6fc-184a-4a91-dc73-269da95f6a6f"
      },
      "execution_count": 43,
      "outputs": [
        {
          "output_type": "display_data",
          "data": {
            "text/plain": [
              "<Figure size 720x504 with 1 Axes>"
            ],
            "image/png": "[encoded data removed]"
          },
          "metadata": {
            "needs_background": "light"
          }
        }
      ]
    },
    {
      "cell_type": "markdown",
      "source": [
        "### Build model in PyTorch\n",
        "\n",
        "What model does :\n",
        "\n",
        "* Start with random values(weight and bias)\n",
        "* Look at the training data and adjust the random values to better represent the ideal values(weight and bias we used)\n",
        "\n",
        "Model mainly uses two algorithms:\n",
        "1. Gradient Descent\n",
        "2. Backpropogation"
      ],
      "metadata": {
        "id": "73wsIcL5qu0T"
      }
    },
    {
      "cell_type": "code",
      "source": [
        "# Create Linear Regression class\n",
        "# nn.Module contains all the building blocks for neural networks\n",
        "# requires_grad =True will track the gradient of the parameters for Gradient \n",
        "# Descent\n",
        "class LinearRegressionModel(nn.Module):\n",
        "  # Initialize model parameters\n",
        "  def __init__(self):\n",
        "    super().__init__()\n",
        "    self.weights = nn.Parameter(torch.randn(1, requires_grad=True,\n",
        "                                            dtype=torch.float))\n",
        "    self.bias = nn.Parameter(torch.randn(1, requires_grad=True,\n",
        "                                         dtype=torch.float))\n",
        "    \n",
        "  # perform computation in the model\n",
        "  def forward(self, x:torch.Tensor) -> torch.Tensor:\n",
        "    return self.weights * x + self.bias \n"
      ],
      "metadata": {
        "id": "9Mk2ci4Yq1Yx"
      },
      "execution_count": 44,
      "outputs": []
    },
    {
      "cell_type": "markdown",
      "source": [
        "### PyTorch model building essentials\n",
        "\n",
        "* torch.nn -> contains all building blocks for computational graphs.\n",
        "*  torch.nn.Parameter -> what parameter should our model try and learn\n",
        "* torch.nn.Module -> base class for all neural networks\n",
        "* torch.optim -> optimization is done which will help with Gradient Descent\n",
        "* def forward() -> all nn.module require you to overwrite forward() which helps in forward computation"
      ],
      "metadata": {
        "id": "cqVhn_eiNKp6"
      }
    },
    {
      "cell_type": "code",
      "source": [
        "# create random seed\n",
        "torch.manual_seed(42)\n",
        "\n",
        "# create an intsance of model\n",
        "model_0 = LinearRegressionModel()\n",
        "\n",
        "# parameters\n",
        "list(model_0.parameters())"
      ],
      "metadata": {
        "colab": {
          "base_uri": "https://localhost:8080/"
        },
        "id": "fC3-NU_o6sni",
        "outputId": "09b8576b-f40d-40b8-f414-d79a417e04ce"
      },
      "execution_count": 121,
      "outputs": [
        {
          "output_type": "execute_result",
          "data": {
            "text/plain": [
              "[Parameter containing:\n",
              " tensor([0.3367], requires_grad=True), Parameter containing:\n",
              " tensor([0.1288], requires_grad=True)]"
            ]
          },
          "metadata": {},
          "execution_count": 121
        }
      ]
    },
    {
      "cell_type": "code",
      "source": [
        "# list the named parameters\n",
        "model_0.state_dict()"
      ],
      "metadata": {
        "colab": {
          "base_uri": "https://localhost:8080/"
        },
        "id": "27uV_GFdGKxV",
        "outputId": "529c6055-36ba-4c51-84e6-299bbec091ba"
      },
      "execution_count": 112,
      "outputs": [
        {
          "output_type": "execute_result",
          "data": {
            "text/plain": [
              "OrderedDict([('weights', tensor([0.3367])), ('bias', tensor([0.1288]))])"
            ]
          },
          "metadata": {},
          "execution_count": 112
        }
      ]
    },
    {
      "cell_type": "markdown",
      "source": [
        "### Making predictions using torch.`inference_mode()`\n",
        "\n",
        "Predicts `y_test` based on `x_test`.\n",
        "\n",
        "Data will be passed through `forward` method"
      ],
      "metadata": {
        "id": "uzCdz_fbH5Fo"
      }
    },
    {
      "cell_type": "code",
      "source": [
        "# make predictions with model\n",
        "with torch.inference_mode():\n",
        " \n",
        "  y_pred = model_0(X_test)\n",
        "y_pred = y_pred.detach().numpy()\n",
        "\n",
        "y_pred"
      ],
      "metadata": {
        "colab": {
          "base_uri": "https://localhost:8080/"
        },
        "id": "1_Sd3u5KGag0",
        "outputId": "e3fc16b9-11c9-46b0-cca6-7bf12d3b3ce1"
      },
      "execution_count": 113,
      "outputs": [
        {
          "output_type": "execute_result",
          "data": {
            "text/plain": [
              "array([[0.3981617 ],\n",
              "       [0.40489548],\n",
              "       [0.41162932],\n",
              "       [0.41836315],\n",
              "       [0.42509693],\n",
              "       [0.43183076],\n",
              "       [0.43856454],\n",
              "       [0.44529837],\n",
              "       [0.45203215],\n",
              "       [0.45876598]], dtype=float32)"
            ]
          },
          "metadata": {},
          "execution_count": 113
        }
      ]
    },
    {
      "cell_type": "code",
      "source": [
        "y_test"
      ],
      "metadata": {
        "colab": {
          "base_uri": "https://localhost:8080/"
        },
        "id": "12HmtW4qJowU",
        "outputId": "bd554095-249e-42d1-ff20-48b03add404f"
      },
      "execution_count": 101,
      "outputs": [
        {
          "output_type": "execute_result",
          "data": {
            "text/plain": [
              "tensor([[0.8600],\n",
              "        [0.8740],\n",
              "        [0.8880],\n",
              "        [0.9020],\n",
              "        [0.9160],\n",
              "        [0.9300],\n",
              "        [0.9440],\n",
              "        [0.9580],\n",
              "        [0.9720],\n",
              "        [0.9860]])"
            ]
          },
          "metadata": {},
          "execution_count": 101
        }
      ]
    },
    {
      "cell_type": "code",
      "source": [
        "plot_predictions(predictions=y_pred)"
      ],
      "metadata": {
        "colab": {
          "base_uri": "https://localhost:8080/",
          "height": 428
        },
        "id": "64Hta4_bJ68r",
        "outputId": "c204f178-8b30-4103-8997-fe3dcb325650"
      },
      "execution_count": 114,
      "outputs": [
        {
          "output_type": "display_data",
          "data": {
            "text/plain": [
              "<Figure size 720x504 with 1 Axes>"
            ],
            "image/png": "[encoded data removed]"
          },
          "metadata": {
            "needs_background": "light"
          }
        }
      ]
    },
    {
      "cell_type": "markdown",
      "source": [
        "### Train Model\n",
        "\n",
        "Move a model from *unknown* parameters(random) to *known* parameters or from a poor representation of data to a better representation of data\n",
        "\n",
        "One way to measure the performance of the model is to use `loss function(cost fucntion)`.\n",
        "\n",
        "Things we need:\n",
        "\n",
        "* **Loss Fucntion:** measure how wrong our model's prediction are to the ideal outputs(Lower is better).\n",
        "\n",
        "* **Optimizer:** will take the loss of a model and adjust the model parameters(weights and bias) to improve the loss function.\n",
        "  Two parameters of optimizers are:\n",
        "    * params: Parameters you want to optimize.(params=model_0.parameters()\n",
        "    * lr(learning rate): Hyper parameter that defines how big or small the optimizer can change the parameters.\n",
        "\n",
        "* **Training Loop**\n",
        "* **Testing Loop**\n"
      ],
      "metadata": {
        "id": "_u2aFSroSLhd"
      }
    },
    {
      "cell_type": "code",
      "source": [
        "# Setup a loss function\n",
        "#L1Loss is a mean absolute error\n",
        "loss_fn = nn.L1Loss()\n",
        "\n",
        "# Setup optimizer(stochastic Gradient Descent)\n",
        "# Stochastic means Random meaning the SGD will randomnly adjust the parameters(weight, bias)\n",
        "# and when it notice that random values have minimised the loss function, it will keep\n",
        "# on adjusting the parameters in the same direction upto a point where the tuning of the\n",
        "# parameter is no longer going to affect the loss function.\n",
        "optimizer = torch.optim.SGD(params=model_0.parameters(),\n",
        "                            lr=0.01) # learning rate is the hyper parameter that we can set.\n",
        "# Higher the learning rate, higher will be the change in parameter\n",
        "# Likewise, smaller the learning rate, smaller will be the change in parameter."
      ],
      "metadata": {
        "id": "xENgVe74SidJ"
      },
      "execution_count": 122,
      "outputs": []
    },
    {
      "cell_type": "markdown",
      "source": [
        "### What loss function and optimizer should we use??\n",
        "\n",
        "-> For **Regression** use loss function `nn.L1Loss()`(Mean Absolute Error) and optimizer `torch.optim.SGD()`\n",
        "\n",
        "-> For **Classification** use loss function `nn.BCELos()`(Binary Cross Entropy Loss)"
      ],
      "metadata": {
        "id": "CnrAsaXLjsvA"
      }
    },
    {
      "cell_type": "markdown",
      "source": [
        "### Building Training Loop(and Testing Loop) in PyTorch\n",
        "\n",
        "Steps for training loop:\n",
        "* Loop through the data and do the following steps:\n",
        "  * Forward pass(data moving in the forward direction) aka **Foward propagation**\n",
        "  * Calculate the loss(compare the predictions with the test labels)\n",
        "  * Optimizer zero grad\n",
        "  * Loss backward - move backward through the network to calculate the gradients of each parameters with respect to the loss (**Backward Propagation**)\n",
        "  * Optimizer- use the optimizer to adjust the model parameters to reduce the loss(**gradient descent**)\n"
      ],
      "metadata": {
        "id": "NKywn_YtkjtT"
      }
    },
    {
      "cell_type": "code",
      "source": [
        "torch.manual_seed(42)\n",
        "# epoch is one loop through data\n",
        "epochs = 110\n",
        "\n",
        "# Training will start from here\n",
        "#0. Loop through data\n",
        "for epoch in range(epochs):\n",
        "  # set the model to training mode\n",
        "  model_0.train() # train mode will set all paramaters that requires gradients to require gradients\n",
        "\n",
        "  #1. Forward pass(where we will pass the train data to our model)\n",
        "  y_pred = model_0(X_train)\n",
        "\n",
        "  #2. calculate the loss\n",
        "  loss = loss_fn(y_pred, y_train)\n",
        "  print('loss', loss)\n",
        "\n",
        "  #3. Optimizer Zero grad\n",
        "  optimizer.zero_grad()\n",
        "\n",
        "  #4. Perform backpropagation on the loss with respect to the parameters of the model\n",
        "  loss.backward()\n",
        "\n",
        "  # 5. Perform gradient descent step by step(always so this after back propogation)\n",
        "  # by default the change in optimizer will be accumulated through the loop.\n",
        "  # so we have to zero them in step 3 for the next iteration\n",
        "  optimizer.step()\n",
        "\n",
        "  # print model state_dict\n",
        "  print(model_0.state_dict())\n"
      ],
      "metadata": {
        "id": "_866d4K0jWWC",
        "colab": {
          "base_uri": "https://localhost:8080/"
        },
        "outputId": "82b3d7aa-9b5c-4428-9672-e855af90a0d8"
      },
      "execution_count": 90,
      "outputs": [
        {
          "output_type": "stream",
          "name": "stdout",
          "text": [
            "loss tensor(0.3129, grad_fn=<L1LossBackward0>)\n",
            "OrderedDict([('weights', tensor([0.3406])), ('bias', tensor([0.1388]))])\n",
            "loss tensor(0.3014, grad_fn=<L1LossBackward0>)\n",
            "OrderedDict([('weights', tensor([0.3445])), ('bias', tensor([0.1488]))])\n",
            "loss tensor(0.2898, grad_fn=<L1LossBackward0>)\n",
            "OrderedDict([('weights', tensor([0.3484])), ('bias', tensor([0.1588]))])\n",
            "loss tensor(0.2783, grad_fn=<L1LossBackward0>)\n",
            "OrderedDict([('weights', tensor([0.3523])), ('bias', tensor([0.1688]))])\n",
            "loss tensor(0.2668, grad_fn=<L1LossBackward0>)\n",
            "OrderedDict([('weights', tensor([0.3562])), ('bias', tensor([0.1788]))])\n",
            "loss tensor(0.2553, grad_fn=<L1LossBackward0>)\n",
            "OrderedDict([('weights', tensor([0.3601])), ('bias', tensor([0.1888]))])\n",
            "loss tensor(0.2438, grad_fn=<L1LossBackward0>)\n",
            "OrderedDict([('weights', tensor([0.3640])), ('bias', tensor([0.1988]))])\n",
            "loss tensor(0.2322, grad_fn=<L1LossBackward0>)\n",
            "OrderedDict([('weights', tensor([0.3679])), ('bias', tensor([0.2088]))])\n",
            "loss tensor(0.2207, grad_fn=<L1LossBackward0>)\n",
            "OrderedDict([('weights', tensor([0.3718])), ('bias', tensor([0.2188]))])\n",
            "loss tensor(0.2092, grad_fn=<L1LossBackward0>)\n",
            "OrderedDict([('weights', tensor([0.3757])), ('bias', tensor([0.2288]))])\n",
            "loss tensor(0.1977, grad_fn=<L1LossBackward0>)\n",
            "OrderedDict([('weights', tensor([0.3796])), ('bias', tensor([0.2388]))])\n",
            "loss tensor(0.1862, grad_fn=<L1LossBackward0>)\n",
            "OrderedDict([('weights', tensor([0.3835])), ('bias', tensor([0.2488]))])\n",
            "loss tensor(0.1746, grad_fn=<L1LossBackward0>)\n",
            "OrderedDict([('weights', tensor([0.3874])), ('bias', tensor([0.2588]))])\n",
            "loss tensor(0.1631, grad_fn=<L1LossBackward0>)\n",
            "OrderedDict([('weights', tensor([0.3913])), ('bias', tensor([0.2688]))])\n",
            "loss tensor(0.1516, grad_fn=<L1LossBackward0>)\n",
            "OrderedDict([('weights', tensor([0.3952])), ('bias', tensor([0.2788]))])\n",
            "loss tensor(0.1401, grad_fn=<L1LossBackward0>)\n",
            "OrderedDict([('weights', tensor([0.3991])), ('bias', tensor([0.2888]))])\n",
            "loss tensor(0.1285, grad_fn=<L1LossBackward0>)\n",
            "OrderedDict([('weights', tensor([0.4030])), ('bias', tensor([0.2988]))])\n",
            "loss tensor(0.1170, grad_fn=<L1LossBackward0>)\n",
            "OrderedDict([('weights', tensor([0.4069])), ('bias', tensor([0.3088]))])\n",
            "loss tensor(0.1061, grad_fn=<L1LossBackward0>)\n",
            "OrderedDict([('weights', tensor([0.4108])), ('bias', tensor([0.3178]))])\n",
            "loss tensor(0.0968, grad_fn=<L1LossBackward0>)\n",
            "OrderedDict([('weights', tensor([0.4146])), ('bias', tensor([0.3258]))])\n",
            "loss tensor(0.0891, grad_fn=<L1LossBackward0>)\n",
            "OrderedDict([('weights', tensor([0.4184])), ('bias', tensor([0.3333]))])\n",
            "loss tensor(0.0823, grad_fn=<L1LossBackward0>)\n",
            "OrderedDict([('weights', tensor([0.4222])), ('bias', tensor([0.3403]))])\n",
            "loss tensor(0.0764, grad_fn=<L1LossBackward0>)\n",
            "OrderedDict([('weights', tensor([0.4258])), ('bias', tensor([0.3463]))])\n",
            "loss tensor(0.0716, grad_fn=<L1LossBackward0>)\n",
            "OrderedDict([('weights', tensor([0.4293])), ('bias', tensor([0.3518]))])\n",
            "loss tensor(0.0675, grad_fn=<L1LossBackward0>)\n",
            "OrderedDict([('weights', tensor([0.4328])), ('bias', tensor([0.3568]))])\n",
            "loss tensor(0.0640, grad_fn=<L1LossBackward0>)\n",
            "OrderedDict([('weights', tensor([0.4361])), ('bias', tensor([0.3613]))])\n",
            "loss tensor(0.0610, grad_fn=<L1LossBackward0>)\n",
            "OrderedDict([('weights', tensor([0.4394])), ('bias', tensor([0.3653]))])\n",
            "loss tensor(0.0585, grad_fn=<L1LossBackward0>)\n",
            "OrderedDict([('weights', tensor([0.4425])), ('bias', tensor([0.3688]))])\n",
            "loss tensor(0.0564, grad_fn=<L1LossBackward0>)\n",
            "OrderedDict([('weights', tensor([0.4455])), ('bias', tensor([0.3718]))])\n",
            "loss tensor(0.0546, grad_fn=<L1LossBackward0>)\n",
            "OrderedDict([('weights', tensor([0.4483])), ('bias', tensor([0.3743]))])\n",
            "loss tensor(0.0531, grad_fn=<L1LossBackward0>)\n",
            "OrderedDict([('weights', tensor([0.4512])), ('bias', tensor([0.3768]))])\n",
            "loss tensor(0.0518, grad_fn=<L1LossBackward0>)\n",
            "OrderedDict([('weights', tensor([0.4539])), ('bias', tensor([0.3788]))])\n",
            "loss tensor(0.0507, grad_fn=<L1LossBackward0>)\n",
            "OrderedDict([('weights', tensor([0.4564])), ('bias', tensor([0.3803]))])\n",
            "loss tensor(0.0498, grad_fn=<L1LossBackward0>)\n",
            "OrderedDict([('weights', tensor([0.4590])), ('bias', tensor([0.3818]))])\n",
            "loss tensor(0.0490, grad_fn=<L1LossBackward0>)\n",
            "OrderedDict([('weights', tensor([0.4615])), ('bias', tensor([0.3833]))])\n",
            "loss tensor(0.0482, grad_fn=<L1LossBackward0>)\n",
            "OrderedDict([('weights', tensor([0.4639])), ('bias', tensor([0.3843]))])\n",
            "loss tensor(0.0475, grad_fn=<L1LossBackward0>)\n",
            "OrderedDict([('weights', tensor([0.4662])), ('bias', tensor([0.3853]))])\n",
            "loss tensor(0.0469, grad_fn=<L1LossBackward0>)\n",
            "OrderedDict([('weights', tensor([0.4684])), ('bias', tensor([0.3858]))])\n",
            "loss tensor(0.0464, grad_fn=<L1LossBackward0>)\n",
            "OrderedDict([('weights', tensor([0.4706])), ('bias', tensor([0.3863]))])\n",
            "loss tensor(0.0459, grad_fn=<L1LossBackward0>)\n",
            "OrderedDict([('weights', tensor([0.4728])), ('bias', tensor([0.3868]))])\n",
            "loss tensor(0.0454, grad_fn=<L1LossBackward0>)\n",
            "OrderedDict([('weights', tensor([0.4748])), ('bias', tensor([0.3868]))])\n",
            "loss tensor(0.0450, grad_fn=<L1LossBackward0>)\n",
            "OrderedDict([('weights', tensor([0.4768])), ('bias', tensor([0.3868]))])\n",
            "loss tensor(0.0446, grad_fn=<L1LossBackward0>)\n",
            "OrderedDict([('weights', tensor([0.4788])), ('bias', tensor([0.3868]))])\n",
            "loss tensor(0.0442, grad_fn=<L1LossBackward0>)\n",
            "OrderedDict([('weights', tensor([0.4808])), ('bias', tensor([0.3868]))])\n",
            "loss tensor(0.0438, grad_fn=<L1LossBackward0>)\n",
            "OrderedDict([('weights', tensor([0.4828])), ('bias', tensor([0.3868]))])\n",
            "loss tensor(0.0434, grad_fn=<L1LossBackward0>)\n",
            "OrderedDict([('weights', tensor([0.4848])), ('bias', tensor([0.3868]))])\n",
            "loss tensor(0.0431, grad_fn=<L1LossBackward0>)\n",
            "OrderedDict([('weights', tensor([0.4866])), ('bias', tensor([0.3863]))])\n",
            "loss tensor(0.0427, grad_fn=<L1LossBackward0>)\n",
            "OrderedDict([('weights', tensor([0.4884])), ('bias', tensor([0.3858]))])\n",
            "loss tensor(0.0424, grad_fn=<L1LossBackward0>)\n",
            "OrderedDict([('weights', tensor([0.4902])), ('bias', tensor([0.3853]))])\n",
            "loss tensor(0.0420, grad_fn=<L1LossBackward0>)\n",
            "OrderedDict([('weights', tensor([0.4920])), ('bias', tensor([0.3848]))])\n",
            "loss tensor(0.0417, grad_fn=<L1LossBackward0>)\n",
            "OrderedDict([('weights', tensor([0.4938])), ('bias', tensor([0.3843]))])\n",
            "loss tensor(0.0413, grad_fn=<L1LossBackward0>)\n",
            "OrderedDict([('weights', tensor([0.4956])), ('bias', tensor([0.3838]))])\n",
            "loss tensor(0.0410, grad_fn=<L1LossBackward0>)\n",
            "OrderedDict([('weights', tensor([0.4974])), ('bias', tensor([0.3833]))])\n",
            "loss tensor(0.0406, grad_fn=<L1LossBackward0>)\n",
            "OrderedDict([('weights', tensor([0.4992])), ('bias', tensor([0.3828]))])\n",
            "loss tensor(0.0403, grad_fn=<L1LossBackward0>)\n",
            "OrderedDict([('weights', tensor([0.5010])), ('bias', tensor([0.3823]))])\n",
            "loss tensor(0.0399, grad_fn=<L1LossBackward0>)\n",
            "OrderedDict([('weights', tensor([0.5028])), ('bias', tensor([0.3818]))])\n",
            "loss tensor(0.0396, grad_fn=<L1LossBackward0>)\n",
            "OrderedDict([('weights', tensor([0.5046])), ('bias', tensor([0.3813]))])\n",
            "loss tensor(0.0392, grad_fn=<L1LossBackward0>)\n",
            "OrderedDict([('weights', tensor([0.5064])), ('bias', tensor([0.3808]))])\n",
            "loss tensor(0.0389, grad_fn=<L1LossBackward0>)\n",
            "OrderedDict([('weights', tensor([0.5082])), ('bias', tensor([0.3803]))])\n",
            "loss tensor(0.0385, grad_fn=<L1LossBackward0>)\n",
            "OrderedDict([('weights', tensor([0.5100])), ('bias', tensor([0.3798]))])\n",
            "loss tensor(0.0382, grad_fn=<L1LossBackward0>)\n",
            "OrderedDict([('weights', tensor([0.5116])), ('bias', tensor([0.3788]))])\n",
            "loss tensor(0.0379, grad_fn=<L1LossBackward0>)\n",
            "OrderedDict([('weights', tensor([0.5134])), ('bias', tensor([0.3783]))])\n",
            "loss tensor(0.0375, grad_fn=<L1LossBackward0>)\n",
            "OrderedDict([('weights', tensor([0.5152])), ('bias', tensor([0.3778]))])\n",
            "loss tensor(0.0372, grad_fn=<L1LossBackward0>)\n",
            "OrderedDict([('weights', tensor([0.5168])), ('bias', tensor([0.3768]))])\n",
            "loss tensor(0.0368, grad_fn=<L1LossBackward0>)\n",
            "OrderedDict([('weights', tensor([0.5186])), ('bias', tensor([0.3763]))])\n",
            "loss tensor(0.0365, grad_fn=<L1LossBackward0>)\n",
            "OrderedDict([('weights', tensor([0.5202])), ('bias', tensor([0.3753]))])\n",
            "loss tensor(0.0361, grad_fn=<L1LossBackward0>)\n",
            "OrderedDict([('weights', tensor([0.5220])), ('bias', tensor([0.3748]))])\n",
            "loss tensor(0.0358, grad_fn=<L1LossBackward0>)\n",
            "OrderedDict([('weights', tensor([0.5236])), ('bias', tensor([0.3738]))])\n",
            "loss tensor(0.0354, grad_fn=<L1LossBackward0>)\n",
            "OrderedDict([('weights', tensor([0.5254])), ('bias', tensor([0.3733]))])\n",
            "loss tensor(0.0351, grad_fn=<L1LossBackward0>)\n",
            "OrderedDict([('weights', tensor([0.5272])), ('bias', tensor([0.3728]))])\n",
            "loss tensor(0.0348, grad_fn=<L1LossBackward0>)\n",
            "OrderedDict([('weights', tensor([0.5288])), ('bias', tensor([0.3718]))])\n",
            "loss tensor(0.0344, grad_fn=<L1LossBackward0>)\n",
            "OrderedDict([('weights', tensor([0.5306])), ('bias', tensor([0.3713]))])\n",
            "loss tensor(0.0341, grad_fn=<L1LossBackward0>)\n",
            "OrderedDict([('weights', tensor([0.5322])), ('bias', tensor([0.3703]))])\n",
            "loss tensor(0.0337, grad_fn=<L1LossBackward0>)\n",
            "OrderedDict([('weights', tensor([0.5340])), ('bias', tensor([0.3698]))])\n",
            "loss tensor(0.0334, grad_fn=<L1LossBackward0>)\n",
            "OrderedDict([('weights', tensor([0.5355])), ('bias', tensor([0.3688]))])\n",
            "loss tensor(0.0330, grad_fn=<L1LossBackward0>)\n",
            "OrderedDict([('weights', tensor([0.5373])), ('bias', tensor([0.3683]))])\n",
            "loss tensor(0.0327, grad_fn=<L1LossBackward0>)\n",
            "OrderedDict([('weights', tensor([0.5391])), ('bias', tensor([0.3678]))])\n",
            "loss tensor(0.0324, grad_fn=<L1LossBackward0>)\n",
            "OrderedDict([('weights', tensor([0.5407])), ('bias', tensor([0.3668]))])\n",
            "loss tensor(0.0320, grad_fn=<L1LossBackward0>)\n",
            "OrderedDict([('weights', tensor([0.5425])), ('bias', tensor([0.3663]))])\n",
            "loss tensor(0.0317, grad_fn=<L1LossBackward0>)\n",
            "OrderedDict([('weights', tensor([0.5441])), ('bias', tensor([0.3653]))])\n",
            "loss tensor(0.0313, grad_fn=<L1LossBackward0>)\n",
            "OrderedDict([('weights', tensor([0.5459])), ('bias', tensor([0.3648]))])\n",
            "loss tensor(0.0310, grad_fn=<L1LossBackward0>)\n",
            "OrderedDict([('weights', tensor([0.5475])), ('bias', tensor([0.3638]))])\n",
            "loss tensor(0.0306, grad_fn=<L1LossBackward0>)\n",
            "OrderedDict([('weights', tensor([0.5493])), ('bias', tensor([0.3633]))])\n",
            "loss tensor(0.0303, grad_fn=<L1LossBackward0>)\n",
            "OrderedDict([('weights', tensor([0.5509])), ('bias', tensor([0.3623]))])\n",
            "loss tensor(0.0300, grad_fn=<L1LossBackward0>)\n",
            "OrderedDict([('weights', tensor([0.5527])), ('bias', tensor([0.3618]))])\n",
            "loss tensor(0.0296, grad_fn=<L1LossBackward0>)\n",
            "OrderedDict([('weights', tensor([0.5545])), ('bias', tensor([0.3613]))])\n",
            "loss tensor(0.0293, grad_fn=<L1LossBackward0>)\n",
            "OrderedDict([('weights', tensor([0.5561])), ('bias', tensor([0.3603]))])\n",
            "loss tensor(0.0289, grad_fn=<L1LossBackward0>)\n",
            "OrderedDict([('weights', tensor([0.5579])), ('bias', tensor([0.3598]))])\n",
            "loss tensor(0.0286, grad_fn=<L1LossBackward0>)\n",
            "OrderedDict([('weights', tensor([0.5595])), ('bias', tensor([0.3588]))])\n",
            "loss tensor(0.0282, grad_fn=<L1LossBackward0>)\n",
            "OrderedDict([('weights', tensor([0.5613])), ('bias', tensor([0.3583]))])\n",
            "loss tensor(0.0279, grad_fn=<L1LossBackward0>)\n",
            "OrderedDict([('weights', tensor([0.5629])), ('bias', tensor([0.3573]))])\n",
            "loss tensor(0.0275, grad_fn=<L1LossBackward0>)\n",
            "OrderedDict([('weights', tensor([0.5647])), ('bias', tensor([0.3568]))])\n",
            "loss tensor(0.0272, grad_fn=<L1LossBackward0>)\n",
            "OrderedDict([('weights', tensor([0.5665])), ('bias', tensor([0.3563]))])\n",
            "loss tensor(0.0269, grad_fn=<L1LossBackward0>)\n",
            "OrderedDict([('weights', tensor([0.5681])), ('bias', tensor([0.3553]))])\n",
            "loss tensor(0.0265, grad_fn=<L1LossBackward0>)\n",
            "OrderedDict([('weights', tensor([0.5699])), ('bias', tensor([0.3548]))])\n",
            "loss tensor(0.0262, grad_fn=<L1LossBackward0>)\n",
            "OrderedDict([('weights', tensor([0.5715])), ('bias', tensor([0.3538]))])\n",
            "loss tensor(0.0258, grad_fn=<L1LossBackward0>)\n",
            "OrderedDict([('weights', tensor([0.5733])), ('bias', tensor([0.3533]))])\n",
            "loss tensor(0.0255, grad_fn=<L1LossBackward0>)\n",
            "OrderedDict([('weights', tensor([0.5748])), ('bias', tensor([0.3523]))])\n",
            "loss tensor(0.0251, grad_fn=<L1LossBackward0>)\n",
            "OrderedDict([('weights', tensor([0.5766])), ('bias', tensor([0.3518]))])\n",
            "loss tensor(0.0248, grad_fn=<L1LossBackward0>)\n",
            "OrderedDict([('weights', tensor([0.5784])), ('bias', tensor([0.3513]))])\n",
            "loss tensor(0.0245, grad_fn=<L1LossBackward0>)\n",
            "OrderedDict([('weights', tensor([0.5800])), ('bias', tensor([0.3503]))])\n",
            "loss tensor(0.0241, grad_fn=<L1LossBackward0>)\n",
            "OrderedDict([('weights', tensor([0.5818])), ('bias', tensor([0.3498]))])\n",
            "loss tensor(0.0238, grad_fn=<L1LossBackward0>)\n",
            "OrderedDict([('weights', tensor([0.5834])), ('bias', tensor([0.3488]))])\n",
            "loss tensor(0.0234, grad_fn=<L1LossBackward0>)\n",
            "OrderedDict([('weights', tensor([0.5852])), ('bias', tensor([0.3483]))])\n",
            "loss tensor(0.0231, grad_fn=<L1LossBackward0>)\n",
            "OrderedDict([('weights', tensor([0.5868])), ('bias', tensor([0.3473]))])\n",
            "loss tensor(0.0227, grad_fn=<L1LossBackward0>)\n",
            "OrderedDict([('weights', tensor([0.5886])), ('bias', tensor([0.3468]))])\n",
            "loss tensor(0.0224, grad_fn=<L1LossBackward0>)\n",
            "OrderedDict([('weights', tensor([0.5902])), ('bias', tensor([0.3458]))])\n",
            "loss tensor(0.0221, grad_fn=<L1LossBackward0>)\n",
            "OrderedDict([('weights', tensor([0.5920])), ('bias', tensor([0.3453]))])\n",
            "loss tensor(0.0217, grad_fn=<L1LossBackward0>)\n",
            "OrderedDict([('weights', tensor([0.5938])), ('bias', tensor([0.3448]))])\n",
            "loss tensor(0.0214, grad_fn=<L1LossBackward0>)\n",
            "OrderedDict([('weights', tensor([0.5954])), ('bias', tensor([0.3438]))])\n"
          ]
        }
      ]
    },
    {
      "cell_type": "markdown",
      "source": [
        "### What happens in the above code:\n",
        "\n",
        "* `for epoch in range(epochs):` -> Pass the data through the model for the number of epochs. epochs are hyperparameters where the user can set it accordingly.\n",
        "\n",
        "* `model_0.train()` -> track the gradients and do the training behind the scene.\n",
        "\n",
        "* `y_pred = model_0(X_train)` -> Forward pass is done in training data in training loop. In the training loop model will learn the patterns where as in testing loop will evaluate the patterns the model has learned on unseen data.\n",
        " \n",
        "* `loss = loss_fn(y_pred, y_train)` -> determines how wrong the model predictions are.\n",
        "\n",
        "* `optimizer.zero_grad()` -> optimizer in step 5 will accumulate the gradients of ech parameters with requires_grad = True. So this step will zero the optimizer gradients\n",
        "\n",
        "* `loss.backward()` -> performs backpropagation on the loss function(compute the gradient of every parmater with require_grad=True)\n",
        "\n",
        "* `optimizer.step()` -> step the optimizer to update the model parameters with respect to  the gradients obtained by backward propagation.\n",
        "\n",
        "\n"
      ],
      "metadata": {
        "id": "e0krO80ybPAA"
      }
    },
    {
      "cell_type": "code",
      "source": [
        "# make predictions\n",
        "with torch.inference_mode():\n",
        "  y_pred_new = model_0(X_test)\n",
        "y_pred_new = y_pred_new.detach().numpy()"
      ],
      "metadata": {
        "id": "gt5-LuIebZ3b"
      },
      "execution_count": 126,
      "outputs": []
    },
    {
      "cell_type": "code",
      "source": [
        "# plot old prediction\n",
        "plot_predictions(predictions=y_pred)"
      ],
      "metadata": {
        "colab": {
          "base_uri": "https://localhost:8080/",
          "height": 428
        },
        "id": "M8tap1NZnLNp",
        "outputId": "394bcd68-62e9-4872-fc21-f89d2216f140"
      },
      "execution_count": 115,
      "outputs": [
        {
          "output_type": "display_data",
          "data": {
            "text/plain": [
              "<Figure size 720x504 with 1 Axes>"
            ],
            "image/png": "[encoded data removed]"
          },
          "metadata": {
            "needs_background": "light"
          }
        }
      ]
    },
    {
      "cell_type": "code",
      "source": [
        "# plot the new predictions after making the new predictions after reducing the loss function\n",
        "# Here we can see that the predictions are moving closer to the test data after\n",
        "# reducing the error and optimization\n",
        "# it will change as we keep tuning the epochs \n",
        "plot_predictions(predictions=y_pred_new)"
      ],
      "metadata": {
        "colab": {
          "base_uri": "https://localhost:8080/",
          "height": 428
        },
        "id": "KDMpZuj3sptY",
        "outputId": "f5b0606d-7eaa-4a18-99b2-79eae854a737"
      },
      "execution_count": 127,
      "outputs": [
        {
          "output_type": "display_data",
          "data": {
            "text/plain": [
              "<Figure size 720x504 with 1 Axes>"
            ],
            "image/png": "[encoded data removed]"
          },
          "metadata": {
            "needs_background": "light"
          }
        }
      ]
    },
    {
      "cell_type": "markdown",
      "source": [
        "### Testing Loop code"
      ],
      "metadata": {
        "id": "RrY5tq9PwH7C"
      }
    },
    {
      "cell_type": "code",
      "source": [
        "torch.manual_seed(42)\n",
        "# epoch is one loop through data\n",
        "epochs = 100\n",
        "\n",
        "# Training will start from here\n",
        "#0. Loop through data\n",
        "for epoch in range(epochs):\n",
        "  # set the model to training mode\n",
        "  model_0.train() # train mode will set all paramaters that requires gradients to require gradients\n",
        "\n",
        "  #1. Forward pass(where we will pass the train data to our model)\n",
        "  y_pred = model_0(X_train)\n",
        "\n",
        "  #2. calculate the loss\n",
        "  loss = loss_fn(y_pred, y_train)\n",
        "  \n",
        "\n",
        "  #3. Optimizer Zero grad\n",
        "  optimizer.zero_grad()\n",
        "\n",
        "  #4. Perform backpropagation on the loss with respect to the parameters of the model\n",
        "  loss.backward()\n",
        "\n",
        "  # 5. Perform gradient descent step by step(always so this after back propogation)\n",
        "  # by default the change in optimizer will be accumulated through the loop.\n",
        "  # so we have to zero them in step 3 for the next iteration\n",
        "  optimizer.step()\n",
        "\n",
        "  ### TESTING\n",
        "  model_0.eval() # we turn off different settings in the modelwhich is not needed\n",
        "                 # for evaluation or testing(droput/batch morm layers)\n",
        "  # with totch.inference_mode also does the same function as that of with torch.inference_mode()\n",
        "  # but torch.inference_mode() is faster.\n",
        "  with torch.inference_mode(): # will turn off gradient tracking and other settings behind the scene\n",
        "    #1. Forward pass\n",
        "    test_pred = model_0(X_test)\n",
        "\n",
        "    #2. calculate the loss\n",
        "    # Never let your model see test daata before evaluation\n",
        "    test_loss = loss_fn(test_pred, y_test)\n",
        "  if epoch % 10 == 0:                          \n",
        "    print(f\"Epoch: {epoch}, Loss: {loss}, Test_loss: {test_loss}\")\n",
        "\n",
        "    # print model state_dict\n",
        "    print(model_0.state_dict())\n"
      ],
      "metadata": {
        "id": "eFw6GjMPwNp_",
        "colab": {
          "base_uri": "https://localhost:8080/"
        },
        "outputId": "3ef1cef8-627c-4b2c-f005-28257d0f73e0"
      },
      "execution_count": 125,
      "outputs": [
        {
          "output_type": "stream",
          "name": "stdout",
          "text": [
            "Epoch: 0, Loss: 0.01587124727666378, Test_loss: 0.036468543112277985\n",
            "OrderedDict([('weights', tensor([0.6227])), ('bias', tensor([0.3323]))])\n",
            "Epoch: 10, Loss: 0.012435992248356342, Test_loss: 0.028196018189191818\n",
            "OrderedDict([('weights', tensor([0.6399])), ('bias', tensor([0.3253]))])\n",
            "Epoch: 20, Loss: 0.008997755125164986, Test_loss: 0.020610356703400612\n",
            "OrderedDict([('weights', tensor([0.6568])), ('bias', tensor([0.3178]))])\n",
            "Epoch: 30, Loss: 0.005569315515458584, Test_loss: 0.012337815947830677\n",
            "OrderedDict([('weights', tensor([0.6740])), ('bias', tensor([0.3108]))])\n",
            "Epoch: 40, Loss: 0.0021323717664927244, Test_loss: 0.004065275192260742\n",
            "OrderedDict([('weights', tensor([0.6912])), ('bias', tensor([0.3038]))])\n",
            "Epoch: 50, Loss: 0.0025885067880153656, Test_loss: 0.008447891101241112\n",
            "OrderedDict([('weights', tensor([0.6990])), ('bias', tensor([0.3093]))])\n",
            "Epoch: 60, Loss: 0.0025885067880153656, Test_loss: 0.008447891101241112\n",
            "OrderedDict([('weights', tensor([0.6990])), ('bias', tensor([0.3093]))])\n",
            "Epoch: 70, Loss: 0.0025885067880153656, Test_loss: 0.008447891101241112\n",
            "OrderedDict([('weights', tensor([0.6990])), ('bias', tensor([0.3093]))])\n",
            "Epoch: 80, Loss: 0.0025885067880153656, Test_loss: 0.008447891101241112\n",
            "OrderedDict([('weights', tensor([0.6990])), ('bias', tensor([0.3093]))])\n",
            "Epoch: 90, Loss: 0.0025885067880153656, Test_loss: 0.008447891101241112\n",
            "OrderedDict([('weights', tensor([0.6990])), ('bias', tensor([0.3093]))])\n"
          ]
        }
      ]
    },
    {
      "cell_type": "code",
      "source": [
        "# to make the red dot meets the green dot(predictions to meet the test data)\n",
        "# run the above cell again(you dont have to initialize the model again)\n",
        "# because on the first run all the parameters are optmized pretty good.\n",
        "# so we can work on the same data"
      ],
      "metadata": {
        "id": "K5VdKwet0d_y"
      },
      "execution_count": null,
      "outputs": []
    }
  ]
}