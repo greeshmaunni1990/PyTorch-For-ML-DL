{
  "nbformat": 4,
  "nbformat_minor": 0,
  "metadata": {
    "colab": {
      "provenance": [],
      "collapsed_sections": [],
      "authorship_tag": "ABX9TyOg/IWgLHysuTOv6iO9iZkR",
      "include_colab_link": true
    },
    "kernelspec": {
      "name": "python3",
      "display_name": "Python 3"
    },
    "language_info": {
      "name": "python"
    }
  },
  "cells": [
    {
      "cell_type": "markdown",
      "metadata": {
        "id": "view-in-github",
        "colab_type": "text"
      },
      "source": [
        "<a href=\"https://colab.research.google.com/github/greeshmaunni1990/PyTorch-For-ML-DL/blob/main/01_pytorch_workflow_video.ipynb\" target=\"_parent\"><img src=\"https://colab.research.google.com/assets/colab-badge.svg\" alt=\"Open In Colab\"/></a>"
      ]
    },
    {
      "cell_type": "code",
      "source": [
        "import torch\n",
        "from torch import nn # nn will have PyTorch's building block for neural network\n",
        "import matplotlib.pyplot as plt\n",
        "\n",
        "torch.__version__"
      ],
      "metadata": {
        "id": "xnqnIP-MVtxF",
        "colab": {
          "base_uri": "https://localhost:8080/",
          "height": 36
        },
        "outputId": "3da4f977-a266-4503-f762-1de141145a25"
      },
      "execution_count": 39,
      "outputs": [
        {
          "output_type": "execute_result",
          "data": {
            "text/plain": [
              "'1.12.1+cu113'"
            ],
            "application/vnd.google.colaboratory.intrinsic+json": {
              "type": "string"
            }
          },
          "metadata": {},
          "execution_count": 39
        }
      ]
    },
    {
      "cell_type": "markdown",
      "source": [
        "### Data Preparing and Loading\n",
        "\n",
        "Data can be anything in Machine Learning\n",
        "\n",
        "* Excel Spreadsheet\n",
        "* Images\n",
        "* Videos\n",
        "* Audios\n",
        "* Text\n",
        "* DNA\n",
        "\n",
        "Machine Learning is of two parts:\n",
        "1. Get data into numerical representation.\n",
        "2. Build a model to learn patterns in numerical representation."
      ],
      "metadata": {
        "id": "dZVHgofHj6UU"
      }
    },
    {
      "cell_type": "code",
      "source": [
        "# Let us use Linear Regression formula and \n",
        "# creare a straight line using known parameters\n",
        "\n",
        "# create known paramteres\n",
        "weight = 0.7\n",
        "bias = 0.3\n",
        "\n",
        "# create data\n",
        "start = 0\n",
        "end = 1\n",
        "step = 0.02\n",
        "\n",
        "# unsqueeze will add additional dimension for later purpose\n",
        "X = torch.arange(start, end, step).unsqueeze(dim=1)\n",
        "y = weight * X + bias\n",
        "\n",
        "print('X is :', X[:10])\n",
        "print('y is :', y[:10])\n",
        "print('Length of X is :', len(X))\n",
        "print('Length of y is :', len(y))"
      ],
      "metadata": {
        "colab": {
          "base_uri": "https://localhost:8080/"
        },
        "id": "kMCMfdQ4j4qt",
        "outputId": "de68fa0a-867f-4c94-e11a-9bf8f9a21528"
      },
      "execution_count": 40,
      "outputs": [
        {
          "output_type": "stream",
          "name": "stdout",
          "text": [
            "X is : tensor([[0.0000],\n",
            "        [0.0200],\n",
            "        [0.0400],\n",
            "        [0.0600],\n",
            "        [0.0800],\n",
            "        [0.1000],\n",
            "        [0.1200],\n",
            "        [0.1400],\n",
            "        [0.1600],\n",
            "        [0.1800]])\n",
            "y is : tensor([[0.3000],\n",
            "        [0.3140],\n",
            "        [0.3280],\n",
            "        [0.3420],\n",
            "        [0.3560],\n",
            "        [0.3700],\n",
            "        [0.3840],\n",
            "        [0.3980],\n",
            "        [0.4120],\n",
            "        [0.4260]])\n",
            "Length of X is : 50\n",
            "Length of y is : 50\n"
          ]
        }
      ]
    },
    {
      "cell_type": "markdown",
      "source": [
        "### Splitting data into training and test sets"
      ],
      "metadata": {
        "id": "k1wqHDnxoeeM"
      }
    },
    {
      "cell_type": "code",
      "source": [
        "# create train/test split\n",
        "# here we are doing 80-20 split\n",
        "train_split = int(0.8 * len(X))\n",
        "X_train, y_train = X[:train_split], y[:train_split]\n",
        "X_test, y_test = X[train_split:], y[train_split:]\n",
        "\n",
        "print('len of X_train', len(X_train))\n",
        "print('len of y_train', len(y_train))\n",
        "print('len of X_test', len(X_test))\n",
        "print('len of y_test', len(y_test))"
      ],
      "metadata": {
        "colab": {
          "base_uri": "https://localhost:8080/"
        },
        "id": "wYmDueFOonLl",
        "outputId": "a04aa700-514d-4873-9072-1852246d1b02"
      },
      "execution_count": 41,
      "outputs": [
        {
          "output_type": "stream",
          "name": "stdout",
          "text": [
            "len of X_train 40\n",
            "len of y_train 40\n",
            "len of X_test 10\n",
            "len of y_test 10\n"
          ]
        }
      ]
    },
    {
      "cell_type": "markdown",
      "source": [
        "### Visualize Data"
      ],
      "metadata": {
        "id": "U3SEhJbxydXF"
      }
    },
    {
      "cell_type": "code",
      "source": [
        "def plot_predictions(train_data=X_train,\n",
        "                      train_labels=y_train, test_data=X_test,\n",
        "                     test_labels=y_test, predictions=None):\n",
        "  plt.figure(figsize=(10, 7))\n",
        "\n",
        "  # plot training data in blue\n",
        "  plt.scatter(train_data, train_labels, c='b', s=4, label='Training data')\n",
        "\n",
        "  # plot testing data in green\n",
        "  plt.scatter(test_data, test_labels, c='g', s=4, label='Testing data')\n",
        "\n",
        "  # if there is predictions\n",
        "  if predictions is not None:\n",
        "    plt.scatter(test_data, predictions, c='r', s=4, label='Predictions')\n",
        "\n",
        "  # show the legend\n",
        "  plt.legend(prop={'size':14})"
      ],
      "metadata": {
        "id": "JL3GttPzwM1D"
      },
      "execution_count": 42,
      "outputs": []
    },
    {
      "cell_type": "code",
      "source": [
        "plot_predictions()"
      ],
      "metadata": {
        "colab": {
          "base_uri": "https://localhost:8080/",
          "height": 428
        },
        "id": "7M_TNbjqoWxh",
        "outputId": "1be7a6fc-184a-4a91-dc73-269da95f6a6f"
      },
      "execution_count": 43,
      "outputs": [
        {
          "output_type": "display_data",
          "data": {
            "text/plain": [
              "<Figure size 720x504 with 1 Axes>"
            ],
            "image/png": "[encoded data removed]"
          },
          "metadata": {
            "needs_background": "light"
          }
        }
      ]
    },
    {
      "cell_type": "markdown",
      "source": [
        "### Build model in PyTorch\n",
        "\n",
        "What model does :\n",
        "\n",
        "* Start with random values(weight and bias)\n",
        "* Look at the training data and adjust the random values to better represent the ideal values(weight and bias we used)\n",
        "\n",
        "Model mainly uses two algorithms:\n",
        "1. Gradient Descent\n",
        "2. Backpropogation"
      ],
      "metadata": {
        "id": "73wsIcL5qu0T"
      }
    },
    {
      "cell_type": "code",
      "source": [
        "# Create Linear Regression class\n",
        "# nn.Module contains all the building blocks for neural networks\n",
        "# requires_grad =True will track the gradient of the parameters for Gradient \n",
        "# Descent\n",
        "class LinearRegressionModel(nn.Module):\n",
        "  # Initialize model parameters\n",
        "  def __init__(self):\n",
        "    super().__init__()\n",
        "    self.weights = nn.Parameter(torch.randn(1, requires_grad=True,\n",
        "                                            dtype=torch.float))\n",
        "    self.bias = nn.Parameter(torch.randn(1, requires_grad=True,\n",
        "                                         dtype=torch.float))\n",
        "    \n",
        "  # perform computation in the model\n",
        "  def forward(self, x:torch.Tensor) -> torch.Tensor:\n",
        "    return self.weights * x + self.bias \n"
      ],
      "metadata": {
        "id": "9Mk2ci4Yq1Yx"
      },
      "execution_count": 44,
      "outputs": []
    },
    {
      "cell_type": "markdown",
      "source": [
        "### PyTorch model building essentials\n",
        "\n",
        "* torch.nn -> contains all building blocks for computational graphs.\n",
        "*  torch.nn.Parameter -> what parameter should our model try and learn\n",
        "* torch.nn.Module -> base class for all neural networks\n",
        "* torch.optim -> optimization is done which will help with Gradient Descent\n",
        "* def forward() -> all nn.module require you to overwrite forward() which helps in forward computation"
      ],
      "metadata": {
        "id": "cqVhn_eiNKp6"
      }
    },
    {
      "cell_type": "code",
      "source": [
        "# create random seed\n",
        "torch.manual_seed(42)\n",
        "\n",
        "# create an intsance of model\n",
        "model_0 = LinearRegressionModel()\n",
        "\n",
        "# parameters\n",
        "list(model_0.parameters())"
      ],
      "metadata": {
        "colab": {
          "base_uri": "https://localhost:8080/"
        },
        "id": "fC3-NU_o6sni",
        "outputId": "084daccf-5e91-424c-fb50-80c0d1335673"
      },
      "execution_count": 45,
      "outputs": [
        {
          "output_type": "execute_result",
          "data": {
            "text/plain": [
              "[Parameter containing:\n",
              " tensor([0.3367], requires_grad=True), Parameter containing:\n",
              " tensor([0.1288], requires_grad=True)]"
            ]
          },
          "metadata": {},
          "execution_count": 45
        }
      ]
    },
    {
      "cell_type": "code",
      "source": [
        "# list the named parameters\n",
        "model_0.state_dict()"
      ],
      "metadata": {
        "colab": {
          "base_uri": "https://localhost:8080/"
        },
        "id": "27uV_GFdGKxV",
        "outputId": "224351c9-9d50-4986-bff6-218ae910c162"
      },
      "execution_count": 46,
      "outputs": [
        {
          "output_type": "execute_result",
          "data": {
            "text/plain": [
              "OrderedDict([('weights', tensor([0.3367])), ('bias', tensor([0.1288]))])"
            ]
          },
          "metadata": {},
          "execution_count": 46
        }
      ]
    },
    {
      "cell_type": "markdown",
      "source": [
        "### Making predictions using torch.`inference_mode()`\n",
        "\n",
        "Predicts `y_test` based on `x_test`.\n",
        "\n",
        "Data will be passed through `forward` method"
      ],
      "metadata": {
        "id": "uzCdz_fbH5Fo"
      }
    },
    {
      "cell_type": "code",
      "source": [
        "# make predictions with model\n",
        "with torch.inference_mode():\n",
        " \n",
        "  y_pred = model_0(X_test)\n",
        "y_pred = y_pred.detach().numpy()\n",
        "\n",
        "y_pred"
      ],
      "metadata": {
        "colab": {
          "base_uri": "https://localhost:8080/"
        },
        "id": "1_Sd3u5KGag0",
        "outputId": "e0877b9f-1ad4-4ac6-f806-6401922f0b62"
      },
      "execution_count": 72,
      "outputs": [
        {
          "output_type": "execute_result",
          "data": {
            "text/plain": [
              "array([[0.4637617 ],\n",
              "       [0.4708855 ],\n",
              "       [0.4780093 ],\n",
              "       [0.4851331 ],\n",
              "       [0.4922569 ],\n",
              "       [0.49938074],\n",
              "       [0.50650454],\n",
              "       [0.51362836],\n",
              "       [0.52075213],\n",
              "       [0.52787596]], dtype=float32)"
            ]
          },
          "metadata": {},
          "execution_count": 72
        }
      ]
    },
    {
      "cell_type": "code",
      "source": [
        "y_test"
      ],
      "metadata": {
        "colab": {
          "base_uri": "https://localhost:8080/"
        },
        "id": "12HmtW4qJowU",
        "outputId": "098ed92a-58ca-4c37-d2b8-6bc146e6a1d8"
      },
      "execution_count": 58,
      "outputs": [
        {
          "output_type": "execute_result",
          "data": {
            "text/plain": [
              "tensor([[0.8600],\n",
              "        [0.8740],\n",
              "        [0.8880],\n",
              "        [0.9020],\n",
              "        [0.9160],\n",
              "        [0.9300],\n",
              "        [0.9440],\n",
              "        [0.9580],\n",
              "        [0.9720],\n",
              "        [0.9860]])"
            ]
          },
          "metadata": {},
          "execution_count": 58
        }
      ]
    },
    {
      "cell_type": "code",
      "source": [
        "plot_predictions(predictions=y_pred)"
      ],
      "metadata": {
        "colab": {
          "base_uri": "https://localhost:8080/",
          "height": 428
        },
        "id": "64Hta4_bJ68r",
        "outputId": "476ac8fe-7917-4f0e-b81f-b0d297a0b847"
      },
      "execution_count": 59,
      "outputs": [
        {
          "output_type": "display_data",
          "data": {
            "text/plain": [
              "<Figure size 720x504 with 1 Axes>"
            ],
            "image/png": "[encoded data removed]"
          },
          "metadata": {
            "needs_background": "light"
          }
        }
      ]
    },
    {
      "cell_type": "markdown",
      "source": [
        "### Train Model\n",
        "\n",
        "Move a model from *unknown* parameters(random) to *known* parameters or from a poor representation of data to a better representation of data\n",
        "\n",
        "One way to measure the performance of the model is to use `loss function(cost fucntion)`.\n",
        "\n",
        "Things we need:\n",
        "\n",
        "* **Loss Fucntion:** measure how wrong our model's prediction are to the ideal outputs(Lower is better).\n",
        "\n",
        "* **Optimizer:** will take the loss of a model and adjust the model parameters(weights and bias) to improve the loss function.\n",
        "  Two parameters of optimizers are:\n",
        "    * params: Parameters you want to optimize.(params=model_0.parameters()\n",
        "    * lr(learning rate): Hyper parameter that defines how big or small the optimizer can change the parameters.\n",
        "\n",
        "* **Training Loop**\n",
        "* **Testing Loop**\n"
      ],
      "metadata": {
        "id": "_u2aFSroSLhd"
      }
    },
    {
      "cell_type": "code",
      "source": [
        "# Setup a loss function\n",
        "#L1Loss is a mean absolute error\n",
        "loss_fn = nn.L1Loss()\n",
        "\n",
        "# Setup optimizer(stochastic Gradient Descent)\n",
        "# Stochastic means Random meaning the SGD will randomnly adjust the parameters(weight, bias)\n",
        "# and when it notice that random values have minimised the loss function, it will keep\n",
        "# on adjusting the parameters in the same direction upto a point where the tuning of the\n",
        "# parameter is no longer going to affect the loss function.\n",
        "optimizer = torch.optim.SGD(params=model_0.parameters(),\n",
        "                            lr=0.01) # learning rate is the hyper parameter that we can set.\n",
        "# Higher the learning rate, higher will be the change in parameter\n",
        "# Likewise, smaller the learning rate, smaller will be the change in parameter."
      ],
      "metadata": {
        "id": "xENgVe74SidJ"
      },
      "execution_count": 50,
      "outputs": []
    },
    {
      "cell_type": "markdown",
      "source": [
        "### What loss function and optimizer should we use??\n",
        "\n",
        "-> For **Regression** use loss function `nn.L1Loss()`(Mean Absolute Error) and optimizer `torch.optim.SGD()`\n",
        "\n",
        "-> For **Classification** use loss function `nn.BCELos()`(Binary Cross Entropy Loss)"
      ],
      "metadata": {
        "id": "CnrAsaXLjsvA"
      }
    },
    {
      "cell_type": "markdown",
      "source": [
        "### Building Training Loop(and Testing Loop) in PyTorch\n",
        "\n",
        "Steps for training loop:\n",
        "* Loop through the data and do the following steps:\n",
        "  * Forward pass(data moving in the forward direction) aka **Foward propagation**\n",
        "  * Calculate the loss(compare the predictions with the test labels)\n",
        "  * Optimizer zero grad\n",
        "  * Loss backward - move backward through the network to calculate the gradients of each parameters with respect to the loss (**Backward Propagation**)\n",
        "  * Optimizer- use the optimizer to adjust the model parameters to reduce the loss(**gradient descent**)\n"
      ],
      "metadata": {
        "id": "NKywn_YtkjtT"
      }
    },
    {
      "cell_type": "code",
      "source": [
        "torch.manual_seed(42)\n",
        "# epoch is one loop through data\n",
        "epochs = 110\n",
        "\n",
        "# Training will start from here\n",
        "#0. Loop through data\n",
        "for epoch in range(epochs):\n",
        "  # set the model to training mode\n",
        "  model_0.train() # train mode will set all paramaters that requires gradients to require gradients\n",
        "\n",
        "  #1. Forward pass(where we will pass the train data to our model)\n",
        "  y_pred = model_0(X_train)\n",
        "\n",
        "  #2. calculate the loss\n",
        "  loss = loss_fn(y_pred, y_train)\n",
        "  print('loss', loss)\n",
        "\n",
        "  #3. Optimizer Zero grad\n",
        "  optimizer.zero_grad()\n",
        "\n",
        "  #4. Perform backpropagation on the loss with respect to the parameters of the model\n",
        "  loss.backward()\n",
        "\n",
        "  # 5. Perform gradient descent step by step(always so this after back propogation)\n",
        "  # by default the change in optimizer will be accumulated through the loop.\n",
        "  # so we have to zero them in step 3 for the next iteration\n",
        "  optimizer.step()\n",
        "\n",
        "  # print model state_dict\n",
        "  print(model_0.state_dict())\n"
      ],
      "metadata": {
        "id": "_866d4K0jWWC",
        "colab": {
          "base_uri": "https://localhost:8080/"
        },
        "outputId": "3d018a63-a740-4ddc-ecde-5c8f1436c199"
      },
      "execution_count": 81,
      "outputs": [
        {
          "output_type": "stream",
          "name": "stdout",
          "text": [
            "loss tensor(0.0056, grad_fn=<L1LossBackward0>)\n",
            "OrderedDict([('weights', tensor([0.6740])), ('bias', tensor([0.3108]))])\n",
            "loss tensor(0.0052, grad_fn=<L1LossBackward0>)\n",
            "OrderedDict([('weights', tensor([0.6758])), ('bias', tensor([0.3103]))])\n",
            "loss tensor(0.0049, grad_fn=<L1LossBackward0>)\n",
            "OrderedDict([('weights', tensor([0.6774])), ('bias', tensor([0.3093]))])\n",
            "loss tensor(0.0045, grad_fn=<L1LossBackward0>)\n",
            "OrderedDict([('weights', tensor([0.6792])), ('bias', tensor([0.3088]))])\n",
            "loss tensor(0.0042, grad_fn=<L1LossBackward0>)\n",
            "OrderedDict([('weights', tensor([0.6808])), ('bias', tensor([0.3078]))])\n",
            "loss tensor(0.0039, grad_fn=<L1LossBackward0>)\n",
            "OrderedDict([('weights', tensor([0.6826])), ('bias', tensor([0.3073]))])\n",
            "loss tensor(0.0035, grad_fn=<L1LossBackward0>)\n",
            "OrderedDict([('weights', tensor([0.6844])), ('bias', tensor([0.3068]))])\n",
            "loss tensor(0.0032, grad_fn=<L1LossBackward0>)\n",
            "OrderedDict([('weights', tensor([0.6860])), ('bias', tensor([0.3058]))])\n",
            "loss tensor(0.0028, grad_fn=<L1LossBackward0>)\n",
            "OrderedDict([('weights', tensor([0.6878])), ('bias', tensor([0.3053]))])\n",
            "loss tensor(0.0025, grad_fn=<L1LossBackward0>)\n",
            "OrderedDict([('weights', tensor([0.6894])), ('bias', tensor([0.3043]))])\n",
            "loss tensor(0.0021, grad_fn=<L1LossBackward0>)\n",
            "OrderedDict([('weights', tensor([0.6912])), ('bias', tensor([0.3038]))])\n",
            "loss tensor(0.0018, grad_fn=<L1LossBackward0>)\n",
            "OrderedDict([('weights', tensor([0.6927])), ('bias', tensor([0.3028]))])\n",
            "loss tensor(0.0015, grad_fn=<L1LossBackward0>)\n",
            "OrderedDict([('weights', tensor([0.6947])), ('bias', tensor([0.3028]))])\n",
            "loss tensor(0.0012, grad_fn=<L1LossBackward0>)\n",
            "OrderedDict([('weights', tensor([0.6951])), ('bias', tensor([0.2993]))])\n",
            "loss tensor(0.0026, grad_fn=<L1LossBackward0>)\n",
            "OrderedDict([('weights', tensor([0.6990])), ('bias', tensor([0.3093]))])\n",
            "loss tensor(0.0089, grad_fn=<L1LossBackward0>)\n",
            "OrderedDict([('weights', tensor([0.6951])), ('bias', tensor([0.2993]))])\n",
            "loss tensor(0.0026, grad_fn=<L1LossBackward0>)\n",
            "OrderedDict([('weights', tensor([0.6990])), ('bias', tensor([0.3093]))])\n",
            "loss tensor(0.0089, grad_fn=<L1LossBackward0>)\n",
            "OrderedDict([('weights', tensor([0.6951])), ('bias', tensor([0.2993]))])\n",
            "loss tensor(0.0026, grad_fn=<L1LossBackward0>)\n",
            "OrderedDict([('weights', tensor([0.6990])), ('bias', tensor([0.3093]))])\n",
            "loss tensor(0.0089, grad_fn=<L1LossBackward0>)\n",
            "OrderedDict([('weights', tensor([0.6951])), ('bias', tensor([0.2993]))])\n",
            "loss tensor(0.0026, grad_fn=<L1LossBackward0>)\n",
            "OrderedDict([('weights', tensor([0.6990])), ('bias', tensor([0.3093]))])\n",
            "loss tensor(0.0089, grad_fn=<L1LossBackward0>)\n",
            "OrderedDict([('weights', tensor([0.6951])), ('bias', tensor([0.2993]))])\n",
            "loss tensor(0.0026, grad_fn=<L1LossBackward0>)\n",
            "OrderedDict([('weights', tensor([0.6990])), ('bias', tensor([0.3093]))])\n",
            "loss tensor(0.0089, grad_fn=<L1LossBackward0>)\n",
            "OrderedDict([('weights', tensor([0.6951])), ('bias', tensor([0.2993]))])\n",
            "loss tensor(0.0026, grad_fn=<L1LossBackward0>)\n",
            "OrderedDict([('weights', tensor([0.6990])), ('bias', tensor([0.3093]))])\n",
            "loss tensor(0.0089, grad_fn=<L1LossBackward0>)\n",
            "OrderedDict([('weights', tensor([0.6951])), ('bias', tensor([0.2993]))])\n",
            "loss tensor(0.0026, grad_fn=<L1LossBackward0>)\n",
            "OrderedDict([('weights', tensor([0.6990])), ('bias', tensor([0.3093]))])\n",
            "loss tensor(0.0089, grad_fn=<L1LossBackward0>)\n",
            "OrderedDict([('weights', tensor([0.6951])), ('bias', tensor([0.2993]))])\n",
            "loss tensor(0.0026, grad_fn=<L1LossBackward0>)\n",
            "OrderedDict([('weights', tensor([0.6990])), ('bias', tensor([0.3093]))])\n",
            "loss tensor(0.0089, grad_fn=<L1LossBackward0>)\n",
            "OrderedDict([('weights', tensor([0.6951])), ('bias', tensor([0.2993]))])\n",
            "loss tensor(0.0026, grad_fn=<L1LossBackward0>)\n",
            "OrderedDict([('weights', tensor([0.6990])), ('bias', tensor([0.3093]))])\n",
            "loss tensor(0.0089, grad_fn=<L1LossBackward0>)\n",
            "OrderedDict([('weights', tensor([0.6951])), ('bias', tensor([0.2993]))])\n",
            "loss tensor(0.0026, grad_fn=<L1LossBackward0>)\n",
            "OrderedDict([('weights', tensor([0.6990])), ('bias', tensor([0.3093]))])\n",
            "loss tensor(0.0089, grad_fn=<L1LossBackward0>)\n",
            "OrderedDict([('weights', tensor([0.6951])), ('bias', tensor([0.2993]))])\n",
            "loss tensor(0.0026, grad_fn=<L1LossBackward0>)\n",
            "OrderedDict([('weights', tensor([0.6990])), ('bias', tensor([0.3093]))])\n",
            "loss tensor(0.0089, grad_fn=<L1LossBackward0>)\n",
            "OrderedDict([('weights', tensor([0.6951])), ('bias', tensor([0.2993]))])\n",
            "loss tensor(0.0026, grad_fn=<L1LossBackward0>)\n",
            "OrderedDict([('weights', tensor([0.6990])), ('bias', tensor([0.3093]))])\n",
            "loss tensor(0.0089, grad_fn=<L1LossBackward0>)\n",
            "OrderedDict([('weights', tensor([0.6951])), ('bias', tensor([0.2993]))])\n",
            "loss tensor(0.0026, grad_fn=<L1LossBackward0>)\n",
            "OrderedDict([('weights', tensor([0.6990])), ('bias', tensor([0.3093]))])\n",
            "loss tensor(0.0089, grad_fn=<L1LossBackward0>)\n",
            "OrderedDict([('weights', tensor([0.6951])), ('bias', tensor([0.2993]))])\n",
            "loss tensor(0.0026, grad_fn=<L1LossBackward0>)\n",
            "OrderedDict([('weights', tensor([0.6990])), ('bias', tensor([0.3093]))])\n",
            "loss tensor(0.0089, grad_fn=<L1LossBackward0>)\n",
            "OrderedDict([('weights', tensor([0.6951])), ('bias', tensor([0.2993]))])\n",
            "loss tensor(0.0026, grad_fn=<L1LossBackward0>)\n",
            "OrderedDict([('weights', tensor([0.6990])), ('bias', tensor([0.3093]))])\n",
            "loss tensor(0.0089, grad_fn=<L1LossBackward0>)\n",
            "OrderedDict([('weights', tensor([0.6951])), ('bias', tensor([0.2993]))])\n",
            "loss tensor(0.0026, grad_fn=<L1LossBackward0>)\n",
            "OrderedDict([('weights', tensor([0.6990])), ('bias', tensor([0.3093]))])\n",
            "loss tensor(0.0089, grad_fn=<L1LossBackward0>)\n",
            "OrderedDict([('weights', tensor([0.6951])), ('bias', tensor([0.2993]))])\n",
            "loss tensor(0.0026, grad_fn=<L1LossBackward0>)\n",
            "OrderedDict([('weights', tensor([0.6990])), ('bias', tensor([0.3093]))])\n",
            "loss tensor(0.0089, grad_fn=<L1LossBackward0>)\n",
            "OrderedDict([('weights', tensor([0.6951])), ('bias', tensor([0.2993]))])\n",
            "loss tensor(0.0026, grad_fn=<L1LossBackward0>)\n",
            "OrderedDict([('weights', tensor([0.6990])), ('bias', tensor([0.3093]))])\n",
            "loss tensor(0.0089, grad_fn=<L1LossBackward0>)\n",
            "OrderedDict([('weights', tensor([0.6951])), ('bias', tensor([0.2993]))])\n",
            "loss tensor(0.0026, grad_fn=<L1LossBackward0>)\n",
            "OrderedDict([('weights', tensor([0.6990])), ('bias', tensor([0.3093]))])\n",
            "loss tensor(0.0089, grad_fn=<L1LossBackward0>)\n",
            "OrderedDict([('weights', tensor([0.6951])), ('bias', tensor([0.2993]))])\n",
            "loss tensor(0.0026, grad_fn=<L1LossBackward0>)\n",
            "OrderedDict([('weights', tensor([0.6990])), ('bias', tensor([0.3093]))])\n",
            "loss tensor(0.0089, grad_fn=<L1LossBackward0>)\n",
            "OrderedDict([('weights', tensor([0.6951])), ('bias', tensor([0.2993]))])\n",
            "loss tensor(0.0026, grad_fn=<L1LossBackward0>)\n",
            "OrderedDict([('weights', tensor([0.6990])), ('bias', tensor([0.3093]))])\n",
            "loss tensor(0.0089, grad_fn=<L1LossBackward0>)\n",
            "OrderedDict([('weights', tensor([0.6951])), ('bias', tensor([0.2993]))])\n",
            "loss tensor(0.0026, grad_fn=<L1LossBackward0>)\n",
            "OrderedDict([('weights', tensor([0.6990])), ('bias', tensor([0.3093]))])\n",
            "loss tensor(0.0089, grad_fn=<L1LossBackward0>)\n",
            "OrderedDict([('weights', tensor([0.6951])), ('bias', tensor([0.2993]))])\n",
            "loss tensor(0.0026, grad_fn=<L1LossBackward0>)\n",
            "OrderedDict([('weights', tensor([0.6990])), ('bias', tensor([0.3093]))])\n",
            "loss tensor(0.0089, grad_fn=<L1LossBackward0>)\n",
            "OrderedDict([('weights', tensor([0.6951])), ('bias', tensor([0.2993]))])\n",
            "loss tensor(0.0026, grad_fn=<L1LossBackward0>)\n",
            "OrderedDict([('weights', tensor([0.6990])), ('bias', tensor([0.3093]))])\n",
            "loss tensor(0.0089, grad_fn=<L1LossBackward0>)\n",
            "OrderedDict([('weights', tensor([0.6951])), ('bias', tensor([0.2993]))])\n",
            "loss tensor(0.0026, grad_fn=<L1LossBackward0>)\n",
            "OrderedDict([('weights', tensor([0.6990])), ('bias', tensor([0.3093]))])\n",
            "loss tensor(0.0089, grad_fn=<L1LossBackward0>)\n",
            "OrderedDict([('weights', tensor([0.6951])), ('bias', tensor([0.2993]))])\n",
            "loss tensor(0.0026, grad_fn=<L1LossBackward0>)\n",
            "OrderedDict([('weights', tensor([0.6990])), ('bias', tensor([0.3093]))])\n",
            "loss tensor(0.0089, grad_fn=<L1LossBackward0>)\n",
            "OrderedDict([('weights', tensor([0.6951])), ('bias', tensor([0.2993]))])\n",
            "loss tensor(0.0026, grad_fn=<L1LossBackward0>)\n",
            "OrderedDict([('weights', tensor([0.6990])), ('bias', tensor([0.3093]))])\n",
            "loss tensor(0.0089, grad_fn=<L1LossBackward0>)\n",
            "OrderedDict([('weights', tensor([0.6951])), ('bias', tensor([0.2993]))])\n",
            "loss tensor(0.0026, grad_fn=<L1LossBackward0>)\n",
            "OrderedDict([('weights', tensor([0.6990])), ('bias', tensor([0.3093]))])\n",
            "loss tensor(0.0089, grad_fn=<L1LossBackward0>)\n",
            "OrderedDict([('weights', tensor([0.6951])), ('bias', tensor([0.2993]))])\n",
            "loss tensor(0.0026, grad_fn=<L1LossBackward0>)\n",
            "OrderedDict([('weights', tensor([0.6990])), ('bias', tensor([0.3093]))])\n",
            "loss tensor(0.0089, grad_fn=<L1LossBackward0>)\n",
            "OrderedDict([('weights', tensor([0.6951])), ('bias', tensor([0.2993]))])\n",
            "loss tensor(0.0026, grad_fn=<L1LossBackward0>)\n",
            "OrderedDict([('weights', tensor([0.6990])), ('bias', tensor([0.3093]))])\n",
            "loss tensor(0.0089, grad_fn=<L1LossBackward0>)\n",
            "OrderedDict([('weights', tensor([0.6951])), ('bias', tensor([0.2993]))])\n",
            "loss tensor(0.0026, grad_fn=<L1LossBackward0>)\n",
            "OrderedDict([('weights', tensor([0.6990])), ('bias', tensor([0.3093]))])\n",
            "loss tensor(0.0089, grad_fn=<L1LossBackward0>)\n",
            "OrderedDict([('weights', tensor([0.6951])), ('bias', tensor([0.2993]))])\n",
            "loss tensor(0.0026, grad_fn=<L1LossBackward0>)\n",
            "OrderedDict([('weights', tensor([0.6990])), ('bias', tensor([0.3093]))])\n",
            "loss tensor(0.0089, grad_fn=<L1LossBackward0>)\n",
            "OrderedDict([('weights', tensor([0.6951])), ('bias', tensor([0.2993]))])\n",
            "loss tensor(0.0026, grad_fn=<L1LossBackward0>)\n",
            "OrderedDict([('weights', tensor([0.6990])), ('bias', tensor([0.3093]))])\n",
            "loss tensor(0.0089, grad_fn=<L1LossBackward0>)\n",
            "OrderedDict([('weights', tensor([0.6951])), ('bias', tensor([0.2993]))])\n",
            "loss tensor(0.0026, grad_fn=<L1LossBackward0>)\n",
            "OrderedDict([('weights', tensor([0.6990])), ('bias', tensor([0.3093]))])\n",
            "loss tensor(0.0089, grad_fn=<L1LossBackward0>)\n",
            "OrderedDict([('weights', tensor([0.6951])), ('bias', tensor([0.2993]))])\n",
            "loss tensor(0.0026, grad_fn=<L1LossBackward0>)\n",
            "OrderedDict([('weights', tensor([0.6990])), ('bias', tensor([0.3093]))])\n",
            "loss tensor(0.0089, grad_fn=<L1LossBackward0>)\n",
            "OrderedDict([('weights', tensor([0.6951])), ('bias', tensor([0.2993]))])\n",
            "loss tensor(0.0026, grad_fn=<L1LossBackward0>)\n",
            "OrderedDict([('weights', tensor([0.6990])), ('bias', tensor([0.3093]))])\n",
            "loss tensor(0.0089, grad_fn=<L1LossBackward0>)\n",
            "OrderedDict([('weights', tensor([0.6951])), ('bias', tensor([0.2993]))])\n",
            "loss tensor(0.0026, grad_fn=<L1LossBackward0>)\n",
            "OrderedDict([('weights', tensor([0.6990])), ('bias', tensor([0.3093]))])\n",
            "loss tensor(0.0089, grad_fn=<L1LossBackward0>)\n",
            "OrderedDict([('weights', tensor([0.6951])), ('bias', tensor([0.2993]))])\n",
            "loss tensor(0.0026, grad_fn=<L1LossBackward0>)\n",
            "OrderedDict([('weights', tensor([0.6990])), ('bias', tensor([0.3093]))])\n",
            "loss tensor(0.0089, grad_fn=<L1LossBackward0>)\n",
            "OrderedDict([('weights', tensor([0.6951])), ('bias', tensor([0.2993]))])\n",
            "loss tensor(0.0026, grad_fn=<L1LossBackward0>)\n",
            "OrderedDict([('weights', tensor([0.6990])), ('bias', tensor([0.3093]))])\n",
            "loss tensor(0.0089, grad_fn=<L1LossBackward0>)\n",
            "OrderedDict([('weights', tensor([0.6951])), ('bias', tensor([0.2993]))])\n",
            "loss tensor(0.0026, grad_fn=<L1LossBackward0>)\n",
            "OrderedDict([('weights', tensor([0.6990])), ('bias', tensor([0.3093]))])\n",
            "loss tensor(0.0089, grad_fn=<L1LossBackward0>)\n",
            "OrderedDict([('weights', tensor([0.6951])), ('bias', tensor([0.2993]))])\n",
            "loss tensor(0.0026, grad_fn=<L1LossBackward0>)\n",
            "OrderedDict([('weights', tensor([0.6990])), ('bias', tensor([0.3093]))])\n",
            "loss tensor(0.0089, grad_fn=<L1LossBackward0>)\n",
            "OrderedDict([('weights', tensor([0.6951])), ('bias', tensor([0.2993]))])\n",
            "loss tensor(0.0026, grad_fn=<L1LossBackward0>)\n",
            "OrderedDict([('weights', tensor([0.6990])), ('bias', tensor([0.3093]))])\n",
            "loss tensor(0.0089, grad_fn=<L1LossBackward0>)\n",
            "OrderedDict([('weights', tensor([0.6951])), ('bias', tensor([0.2993]))])\n",
            "loss tensor(0.0026, grad_fn=<L1LossBackward0>)\n",
            "OrderedDict([('weights', tensor([0.6990])), ('bias', tensor([0.3093]))])\n",
            "loss tensor(0.0089, grad_fn=<L1LossBackward0>)\n",
            "OrderedDict([('weights', tensor([0.6951])), ('bias', tensor([0.2993]))])\n",
            "loss tensor(0.0026, grad_fn=<L1LossBackward0>)\n",
            "OrderedDict([('weights', tensor([0.6990])), ('bias', tensor([0.3093]))])\n",
            "loss tensor(0.0089, grad_fn=<L1LossBackward0>)\n",
            "OrderedDict([('weights', tensor([0.6951])), ('bias', tensor([0.2993]))])\n",
            "loss tensor(0.0026, grad_fn=<L1LossBackward0>)\n",
            "OrderedDict([('weights', tensor([0.6990])), ('bias', tensor([0.3093]))])\n",
            "loss tensor(0.0089, grad_fn=<L1LossBackward0>)\n",
            "OrderedDict([('weights', tensor([0.6951])), ('bias', tensor([0.2993]))])\n",
            "loss tensor(0.0026, grad_fn=<L1LossBackward0>)\n",
            "OrderedDict([('weights', tensor([0.6990])), ('bias', tensor([0.3093]))])\n",
            "loss tensor(0.0089, grad_fn=<L1LossBackward0>)\n",
            "OrderedDict([('weights', tensor([0.6951])), ('bias', tensor([0.2993]))])\n",
            "loss tensor(0.0026, grad_fn=<L1LossBackward0>)\n",
            "OrderedDict([('weights', tensor([0.6990])), ('bias', tensor([0.3093]))])\n",
            "loss tensor(0.0089, grad_fn=<L1LossBackward0>)\n",
            "OrderedDict([('weights', tensor([0.6951])), ('bias', tensor([0.2993]))])\n",
            "loss tensor(0.0026, grad_fn=<L1LossBackward0>)\n",
            "OrderedDict([('weights', tensor([0.6990])), ('bias', tensor([0.3093]))])\n",
            "loss tensor(0.0089, grad_fn=<L1LossBackward0>)\n",
            "OrderedDict([('weights', tensor([0.6951])), ('bias', tensor([0.2993]))])\n"
          ]
        }
      ]
    },
    {
      "cell_type": "markdown",
      "source": [
        "### What happens in the above code:\n",
        "\n",
        "* `for epoch in range(epochs):` -> Pass the data through the model for the number of epochs. epochs are hyperparameters where the user can set it accordingly.\n",
        "\n",
        "* `model_0.train()` -> track the gradients and do the training behind the scene.\n",
        "\n",
        "* `y_pred = model_0(X_train)` -> Forward pass is done in training data in training loop. In the training loop model will learn the patterns where as in testing loop will evaluate the patterns the model has learned on unseen data.\n",
        " \n",
        "* `loss = loss_fn(y_pred, y_train)` -> determines how wrong the model predictions are.\n",
        "\n",
        "* `optimizer.zero_grad()` -> optimizer in step 5 will accumulate the gradients of ech parameters with requires_grad = True. So this step will zero the optimizer gradients\n",
        "\n",
        "* `loss.backward()` -> performs backpropagation on the loss function(compute the gradient of every parmater with require_grad=True)\n",
        "\n",
        "* `optimizer.step()` -> step the optimizer to update the model parameters with respect to  the gradients obtained by backward propagation.\n",
        "\n",
        "\n"
      ],
      "metadata": {
        "id": "e0krO80ybPAA"
      }
    },
    {
      "cell_type": "code",
      "source": [
        "# make predictions\n",
        "with torch.inference_mode():\n",
        "  y_pred_new = model_0(X_test)\n",
        "y_pred_new = y_pred_new.detach().numpy()"
      ],
      "metadata": {
        "id": "gt5-LuIebZ3b"
      },
      "execution_count": 82,
      "outputs": []
    },
    {
      "cell_type": "code",
      "source": [
        "# plot old prediction\n",
        "plot_predictions(predictions=y_pred)"
      ],
      "metadata": {
        "colab": {
          "base_uri": "https://localhost:8080/",
          "height": 428
        },
        "id": "M8tap1NZnLNp",
        "outputId": "7ac28791-1702-4135-eec5-9e8d8bb95da6"
      },
      "execution_count": 73,
      "outputs": [
        {
          "output_type": "display_data",
          "data": {
            "text/plain": [
              "<Figure size 720x504 with 1 Axes>"
            ],
            "image/png": "[encoded data removed]"
          },
          "metadata": {
            "needs_background": "light"
          }
        }
      ]
    },
    {
      "cell_type": "code",
      "source": [
        "# plot the new predictions after making the new predictions after reducing the loss function\n",
        "# Here we can see that the predictions are moving closer to the test data after\n",
        "# reducing the error and optimization\n",
        "# it will change as we keep tuning the epochs \n",
        "plot_predictions(predictions=y_pred_new)"
      ],
      "metadata": {
        "colab": {
          "base_uri": "https://localhost:8080/",
          "height": 428
        },
        "id": "KDMpZuj3sptY",
        "outputId": "5bb5faf8-f02e-4885-ae81-d388d7cd2734"
      },
      "execution_count": 83,
      "outputs": [
        {
          "output_type": "display_data",
          "data": {
            "text/plain": [
              "<Figure size 720x504 with 1 Axes>"
            ],
            "image/png": "[encoded data removed]"
          },
          "metadata": {
            "needs_background": "light"
          }
        }
      ]
    },
    {
      "cell_type": "code",
      "source": [],
      "metadata": {
        "id": "XDcZZ3BkuQu1"
      },
      "execution_count": null,
      "outputs": []
    }
  ]
}