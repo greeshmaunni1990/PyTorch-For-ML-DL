{
  "nbformat": 4,
  "nbformat_minor": 0,
  "metadata": {
    "colab": {
      "provenance": [],
      "collapsed_sections": [
        "CnrAsaXLjsvA",
        "-CqgdD8XSL7y"
      ],
      "authorship_tag": "ABX9TyOHVVmuEibXv7V8WgJV24Pd",
      "include_colab_link": true
    },
    "kernelspec": {
      "name": "python3",
      "display_name": "Python 3"
    },
    "language_info": {
      "name": "python"
    },
    "accelerator": "GPU",
    "gpuClass": "standard"
  },
  "cells": [
    {
      "cell_type": "markdown",
      "metadata": {
        "id": "view-in-github",
        "colab_type": "text"
      },
      "source": [
        "<a href=\"https://colab.research.google.com/github/greeshmaunni1990/PyTorch-For-ML-DL/blob/main/01_pytorch_workflow_video.ipynb\" target=\"_parent\"><img src=\"https://colab.research.google.com/assets/colab-badge.svg\" alt=\"Open In Colab\"/></a>"
      ]
    },
    {
      "cell_type": "code",
      "source": [
        "import torch\n",
        "from torch import nn # nn will have PyTorch's building block for neural network\n",
        "import matplotlib.pyplot as plt\n",
        "\n",
        "torch.__version__"
      ],
      "metadata": {
        "id": "xnqnIP-MVtxF",
        "colab": {
          "base_uri": "https://localhost:8080/",
          "height": 36
        },
        "outputId": "dc8d2363-4eff-4819-f69f-10b0c9ec0302"
      },
      "execution_count": 17,
      "outputs": [
        {
          "output_type": "execute_result",
          "data": {
            "text/plain": [
              "'1.12.1+cu113'"
            ],
            "application/vnd.google.colaboratory.intrinsic+json": {
              "type": "string"
            }
          },
          "metadata": {},
          "execution_count": 17
        }
      ]
    },
    {
      "cell_type": "markdown",
      "source": [
        "### Data Preparing and Loading\n",
        "\n",
        "Data can be anything in Machine Learning\n",
        "\n",
        "* Excel Spreadsheet\n",
        "* Images\n",
        "* Videos\n",
        "* Audios\n",
        "* Text\n",
        "* DNA\n",
        "\n",
        "Machine Learning is of two parts:\n",
        "1. Get data into numerical representation.\n",
        "2. Build a model to learn patterns in numerical representation."
      ],
      "metadata": {
        "id": "dZVHgofHj6UU"
      }
    },
    {
      "cell_type": "code",
      "source": [
        "# Let us use Linear Regression formula and \n",
        "# creare a straight line using known parameters\n",
        "\n",
        "# create known paramteres\n",
        "weight = 0.7\n",
        "bias = 0.3\n",
        "\n",
        "# create data\n",
        "start = 0\n",
        "end = 1\n",
        "step = 0.02\n",
        "\n",
        "# unsqueeze will add additional dimension for later purpose\n",
        "X = torch.arange(start, end, step).unsqueeze(dim=1)\n",
        "y = weight * X + bias\n",
        "\n",
        "print('X is :', X[:10])\n",
        "print('y is :', y[:10])\n",
        "print('Length of X is :', len(X))\n",
        "print('Length of y is :', len(y))"
      ],
      "metadata": {
        "colab": {
          "base_uri": "https://localhost:8080/"
        },
        "id": "kMCMfdQ4j4qt",
        "outputId": "d835bf49-73dd-4f96-a184-67dc5c4068f8"
      },
      "execution_count": 18,
      "outputs": [
        {
          "output_type": "stream",
          "name": "stdout",
          "text": [
            "X is : tensor([[0.0000],\n",
            "        [0.0200],\n",
            "        [0.0400],\n",
            "        [0.0600],\n",
            "        [0.0800],\n",
            "        [0.1000],\n",
            "        [0.1200],\n",
            "        [0.1400],\n",
            "        [0.1600],\n",
            "        [0.1800]])\n",
            "y is : tensor([[0.3000],\n",
            "        [0.3140],\n",
            "        [0.3280],\n",
            "        [0.3420],\n",
            "        [0.3560],\n",
            "        [0.3700],\n",
            "        [0.3840],\n",
            "        [0.3980],\n",
            "        [0.4120],\n",
            "        [0.4260]])\n",
            "Length of X is : 50\n",
            "Length of y is : 50\n"
          ]
        }
      ]
    },
    {
      "cell_type": "markdown",
      "source": [
        "### Splitting data into training and test sets"
      ],
      "metadata": {
        "id": "k1wqHDnxoeeM"
      }
    },
    {
      "cell_type": "code",
      "source": [
        "# create train/test split\n",
        "# here we are doing 80-20 split\n",
        "train_split = int(0.8 * len(X))\n",
        "X_train, y_train = X[:train_split], y[:train_split]\n",
        "X_test, y_test = X[train_split:], y[train_split:]\n",
        "\n",
        "print('len of X_train', len(X_train))\n",
        "print('len of y_train', len(y_train))\n",
        "print('len of X_test', len(X_test))\n",
        "print('len of y_test', len(y_test))"
      ],
      "metadata": {
        "colab": {
          "base_uri": "https://localhost:8080/"
        },
        "id": "wYmDueFOonLl",
        "outputId": "e92ea070-813a-4a86-cbae-58462fb723cb"
      },
      "execution_count": 19,
      "outputs": [
        {
          "output_type": "stream",
          "name": "stdout",
          "text": [
            "len of X_train 40\n",
            "len of y_train 40\n",
            "len of X_test 10\n",
            "len of y_test 10\n"
          ]
        }
      ]
    },
    {
      "cell_type": "markdown",
      "source": [
        "### Visualize Data"
      ],
      "metadata": {
        "id": "U3SEhJbxydXF"
      }
    },
    {
      "cell_type": "code",
      "source": [
        "def plot_predictions(train_data=X_train,\n",
        "                      train_labels=y_train, test_data=X_test,\n",
        "                     test_labels=y_test, predictions=None):\n",
        "  plt.figure(figsize=(10, 7))\n",
        "\n",
        "  # plot training data in blue\n",
        "  plt.scatter(train_data, train_labels, c='b', s=4, label='Training data')\n",
        "\n",
        "  # plot testing data in green\n",
        "  plt.scatter(test_data, test_labels, c='g', s=4, label='Testing data')\n",
        "\n",
        "  # if there is predictions\n",
        "  if predictions is not None:\n",
        "    plt.scatter(test_data, predictions, c='r', s=4, label='Predictions')\n",
        "\n",
        "  # show the legend\n",
        "  plt.legend(prop={'size':14})"
      ],
      "metadata": {
        "id": "JL3GttPzwM1D"
      },
      "execution_count": 20,
      "outputs": []
    },
    {
      "cell_type": "code",
      "source": [
        "plot_predictions()"
      ],
      "metadata": {
        "colab": {
          "base_uri": "https://localhost:8080/",
          "height": 428
        },
        "id": "7M_TNbjqoWxh",
        "outputId": "a4833dae-b736-4401-8f62-ea627692dd8a"
      },
      "execution_count": 21,
      "outputs": [
        {
          "output_type": "display_data",
          "data": {
            "text/plain": [
              "<Figure size 720x504 with 1 Axes>"
            ],
            "image/png": "[encoded data removed]"
          },
          "metadata": {
            "needs_background": "light"
          }
        }
      ]
    },
    {
      "cell_type": "markdown",
      "source": [
        "### Build model in PyTorch\n",
        "\n",
        "What model does :\n",
        "\n",
        "* Start with random values(weight and bias)\n",
        "* Look at the training data and adjust the random values to better represent the ideal values(weight and bias we used)\n",
        "\n",
        "Model mainly uses two algorithms:\n",
        "1. Gradient Descent\n",
        "2. Backpropogation"
      ],
      "metadata": {
        "id": "73wsIcL5qu0T"
      }
    },
    {
      "cell_type": "code",
      "source": [
        "# Create Linear Regression class\n",
        "# nn.Module contains all the building blocks for neural networks\n",
        "# requires_grad =True will track the gradient of the parameters for Gradient \n",
        "# Descent\n",
        "class LinearRegressionModel(nn.Module):\n",
        "  # Initialize model parameters\n",
        "  def __init__(self):\n",
        "    super().__init__()\n",
        "    self.weights = nn.Parameter(torch.randn(1, requires_grad=True,\n",
        "                                            dtype=torch.float))\n",
        "    self.bias = nn.Parameter(torch.randn(1, requires_grad=True,\n",
        "                                         dtype=torch.float))\n",
        "    \n",
        "  # perform computation in the model\n",
        "  def forward(self, x:torch.Tensor) -> torch.Tensor:\n",
        "    return self.weights * x + self.bias \n"
      ],
      "metadata": {
        "id": "9Mk2ci4Yq1Yx"
      },
      "execution_count": 22,
      "outputs": []
    },
    {
      "cell_type": "markdown",
      "source": [
        "### PyTorch model building essentials\n",
        "\n",
        "* torch.nn -> contains all building blocks for computational graphs.\n",
        "*  torch.nn.Parameter -> what parameter should our model try and learn\n",
        "* torch.nn.Module -> base class for all neural networks\n",
        "* torch.optim -> optimization is done which will help with Gradient Descent\n",
        "* def forward() -> all nn.module require you to overwrite forward() which helps in forward computation"
      ],
      "metadata": {
        "id": "cqVhn_eiNKp6"
      }
    },
    {
      "cell_type": "code",
      "source": [
        "# create random seed\n",
        "torch.manual_seed(42)\n",
        "\n",
        "# create an intsance of model\n",
        "model_0 = LinearRegressionModel()\n",
        "\n",
        "# parameters\n",
        "list(model_0.parameters())"
      ],
      "metadata": {
        "colab": {
          "base_uri": "https://localhost:8080/"
        },
        "id": "fC3-NU_o6sni",
        "outputId": "f3584290-6164-4d9c-fd14-91957ea034dd"
      },
      "execution_count": 23,
      "outputs": [
        {
          "output_type": "execute_result",
          "data": {
            "text/plain": [
              "[Parameter containing:\n",
              " tensor([0.3367], requires_grad=True), Parameter containing:\n",
              " tensor([0.1288], requires_grad=True)]"
            ]
          },
          "metadata": {},
          "execution_count": 23
        }
      ]
    },
    {
      "cell_type": "code",
      "source": [
        "# list the named parameters\n",
        "model_0.state_dict()"
      ],
      "metadata": {
        "colab": {
          "base_uri": "https://localhost:8080/"
        },
        "id": "27uV_GFdGKxV",
        "outputId": "41f8f750-7d79-4785-9a36-ae8551b5fab7"
      },
      "execution_count": 24,
      "outputs": [
        {
          "output_type": "execute_result",
          "data": {
            "text/plain": [
              "OrderedDict([('weights', tensor([0.3367])), ('bias', tensor([0.1288]))])"
            ]
          },
          "metadata": {},
          "execution_count": 24
        }
      ]
    },
    {
      "cell_type": "markdown",
      "source": [
        "### Making predictions using torch.`inference_mode()`\n",
        "\n",
        "Predicts `y_test` based on `x_test`.\n",
        "\n",
        "Data will be passed through `forward` method"
      ],
      "metadata": {
        "id": "uzCdz_fbH5Fo"
      }
    },
    {
      "cell_type": "code",
      "source": [
        "# make predictions with model\n",
        "with torch.inference_mode():\n",
        " \n",
        "  y_pred = model_0(X_test)\n",
        "y_pred = y_pred.detach().numpy()\n",
        "\n",
        "y_pred"
      ],
      "metadata": {
        "colab": {
          "base_uri": "https://localhost:8080/"
        },
        "id": "1_Sd3u5KGag0",
        "outputId": "33819569-8d4e-4b24-f7aa-1282c57be5c3"
      },
      "execution_count": 25,
      "outputs": [
        {
          "output_type": "execute_result",
          "data": {
            "text/plain": [
              "array([[0.3981617 ],\n",
              "       [0.40489548],\n",
              "       [0.41162932],\n",
              "       [0.41836315],\n",
              "       [0.42509693],\n",
              "       [0.43183076],\n",
              "       [0.43856454],\n",
              "       [0.44529837],\n",
              "       [0.45203215],\n",
              "       [0.45876598]], dtype=float32)"
            ]
          },
          "metadata": {},
          "execution_count": 25
        }
      ]
    },
    {
      "cell_type": "code",
      "source": [
        "y_test"
      ],
      "metadata": {
        "colab": {
          "base_uri": "https://localhost:8080/"
        },
        "id": "12HmtW4qJowU",
        "outputId": "592b11d3-f620-4a9b-e89b-db6dd63b8c70"
      },
      "execution_count": 26,
      "outputs": [
        {
          "output_type": "execute_result",
          "data": {
            "text/plain": [
              "tensor([[0.8600],\n",
              "        [0.8740],\n",
              "        [0.8880],\n",
              "        [0.9020],\n",
              "        [0.9160],\n",
              "        [0.9300],\n",
              "        [0.9440],\n",
              "        [0.9580],\n",
              "        [0.9720],\n",
              "        [0.9860]])"
            ]
          },
          "metadata": {},
          "execution_count": 26
        }
      ]
    },
    {
      "cell_type": "code",
      "source": [
        "plot_predictions(predictions=y_pred)"
      ],
      "metadata": {
        "colab": {
          "base_uri": "https://localhost:8080/",
          "height": 428
        },
        "id": "64Hta4_bJ68r",
        "outputId": "f9a84632-5bad-4e2e-833b-0043e15e7781"
      },
      "execution_count": 27,
      "outputs": [
        {
          "output_type": "display_data",
          "data": {
            "text/plain": [
              "<Figure size 720x504 with 1 Axes>"
            ],
            "image/png": "[encoded data removed]"
          },
          "metadata": {
            "needs_background": "light"
          }
        }
      ]
    },
    {
      "cell_type": "markdown",
      "source": [
        "### Train Model\n",
        "\n",
        "Move a model from *unknown* parameters(random) to *known* parameters or from a poor representation of data to a better representation of data\n",
        "\n",
        "One way to measure the performance of the model is to use `loss function(cost fucntion)`.\n",
        "\n",
        "Things we need:\n",
        "\n",
        "* **Loss Fucntion:** measure how wrong our model's prediction are to the ideal outputs(Lower is better).\n",
        "\n",
        "* **Optimizer:** will take the loss of a model and adjust the model parameters(weights and bias) to improve the loss function.\n",
        "  Two parameters of optimizers are:\n",
        "    * params: Parameters you want to optimize.(params=model_0.parameters()\n",
        "    * lr(learning rate): Hyper parameter that defines how big or small the optimizer can change the parameters.\n",
        "\n",
        "* **Training Loop**\n",
        "* **Testing Loop**\n"
      ],
      "metadata": {
        "id": "_u2aFSroSLhd"
      }
    },
    {
      "cell_type": "code",
      "source": [
        "# Setup a loss function\n",
        "#L1Loss is a mean absolute error\n",
        "loss_fn = nn.L1Loss()\n",
        "\n",
        "# Setup optimizer(stochastic Gradient Descent)\n",
        "# Stochastic means Random meaning the SGD will randomnly adjust the parameters(weight, bias)\n",
        "# and when it notice that random values have minimised the loss function, it will keep\n",
        "# on adjusting the parameters in the same direction upto a point where the tuning of the\n",
        "# parameter is no longer going to affect the loss function.\n",
        "optimizer = torch.optim.SGD(params=model_0.parameters(),\n",
        "                            lr=0.01) # learning rate is the hyper parameter that we can set.\n",
        "# Higher the learning rate, higher will be the change in parameter\n",
        "# Likewise, smaller the learning rate, smaller will be the change in parameter."
      ],
      "metadata": {
        "id": "xENgVe74SidJ"
      },
      "execution_count": 28,
      "outputs": []
    },
    {
      "cell_type": "markdown",
      "source": [
        "### What loss function and optimizer should we use??\n",
        "\n",
        "-> For **Regression** use loss function `nn.L1Loss()`(Mean Absolute Error) and optimizer `torch.optim.SGD()`\n",
        "\n",
        "-> For **Classification** use loss function `nn.BCELos()`(Binary Cross Entropy Loss)"
      ],
      "metadata": {
        "id": "CnrAsaXLjsvA"
      }
    },
    {
      "cell_type": "markdown",
      "source": [
        "### Building Training Loop(and Testing Loop) in PyTorch\n",
        "\n",
        "Steps for training loop:\n",
        "* Loop through the data and do the following steps:\n",
        "  * Forward pass(data moving in the forward direction) aka **Foward propagation**\n",
        "  * Calculate the loss(compare the predictions with the test labels)\n",
        "  * Optimizer zero grad\n",
        "  * Loss backward - move backward through the network to calculate the gradients of each parameters with respect to the loss (**Backward Propagation**)\n",
        "  * Optimizer- use the optimizer to adjust the model parameters to reduce the loss(**gradient descent**)\n"
      ],
      "metadata": {
        "id": "NKywn_YtkjtT"
      }
    },
    {
      "cell_type": "code",
      "source": [
        "torch.manual_seed(42)\n",
        "# epoch is one loop through data\n",
        "epochs = 110\n",
        "\n",
        "# Training will start from here\n",
        "#0. Loop through data\n",
        "for epoch in range(epochs):\n",
        "  # set the model to training mode\n",
        "  model_0.train() # train mode will set all paramaters that requires gradients to require gradients\n",
        "\n",
        "  #1. Forward pass(where we will pass the train data to our model)\n",
        "  y_pred = model_0(X_train)\n",
        "\n",
        "  #2. calculate the loss\n",
        "  loss = loss_fn(y_pred, y_train)\n",
        "  print('loss', loss)\n",
        "\n",
        "  #3. Optimizer Zero grad\n",
        "  optimizer.zero_grad()\n",
        "\n",
        "  #4. Perform backpropagation on the loss with respect to the parameters of the model\n",
        "  loss.backward()\n",
        "\n",
        "  # 5. Perform gradient descent step by step(always so this after back propogation)\n",
        "  # by default the change in optimizer will be accumulated through the loop.\n",
        "  # so we have to zero them in step 3 for the next iteration\n",
        "  optimizer.step()\n",
        "\n",
        "  # print model state_dict\n",
        "  print(model_0.state_dict())\n"
      ],
      "metadata": {
        "id": "_866d4K0jWWC",
        "colab": {
          "base_uri": "https://localhost:8080/"
        },
        "outputId": "5cf4cfd9-cf81-43bf-cf84-a3ab9a5611b9"
      },
      "execution_count": 42,
      "outputs": [
        {
          "output_type": "stream",
          "name": "stdout",
          "text": [
            "loss tensor(0.0089, grad_fn=<L1LossBackward0>)\n",
            "OrderedDict([('weights', tensor([0.6951])), ('bias', tensor([0.2993]))])\n",
            "loss tensor(0.0026, grad_fn=<L1LossBackward0>)\n",
            "OrderedDict([('weights', tensor([0.6990])), ('bias', tensor([0.3093]))])\n",
            "loss tensor(0.0089, grad_fn=<L1LossBackward0>)\n",
            "OrderedDict([('weights', tensor([0.6951])), ('bias', tensor([0.2993]))])\n",
            "loss tensor(0.0026, grad_fn=<L1LossBackward0>)\n",
            "OrderedDict([('weights', tensor([0.6990])), ('bias', tensor([0.3093]))])\n",
            "loss tensor(0.0089, grad_fn=<L1LossBackward0>)\n",
            "OrderedDict([('weights', tensor([0.6951])), ('bias', tensor([0.2993]))])\n",
            "loss tensor(0.0026, grad_fn=<L1LossBackward0>)\n",
            "OrderedDict([('weights', tensor([0.6990])), ('bias', tensor([0.3093]))])\n",
            "loss tensor(0.0089, grad_fn=<L1LossBackward0>)\n",
            "OrderedDict([('weights', tensor([0.6951])), ('bias', tensor([0.2993]))])\n",
            "loss tensor(0.0026, grad_fn=<L1LossBackward0>)\n",
            "OrderedDict([('weights', tensor([0.6990])), ('bias', tensor([0.3093]))])\n",
            "loss tensor(0.0089, grad_fn=<L1LossBackward0>)\n",
            "OrderedDict([('weights', tensor([0.6951])), ('bias', tensor([0.2993]))])\n",
            "loss tensor(0.0026, grad_fn=<L1LossBackward0>)\n",
            "OrderedDict([('weights', tensor([0.6990])), ('bias', tensor([0.3093]))])\n",
            "loss tensor(0.0089, grad_fn=<L1LossBackward0>)\n",
            "OrderedDict([('weights', tensor([0.6951])), ('bias', tensor([0.2993]))])\n",
            "loss tensor(0.0026, grad_fn=<L1LossBackward0>)\n",
            "OrderedDict([('weights', tensor([0.6990])), ('bias', tensor([0.3093]))])\n",
            "loss tensor(0.0089, grad_fn=<L1LossBackward0>)\n",
            "OrderedDict([('weights', tensor([0.6951])), ('bias', tensor([0.2993]))])\n",
            "loss tensor(0.0026, grad_fn=<L1LossBackward0>)\n",
            "OrderedDict([('weights', tensor([0.6990])), ('bias', tensor([0.3093]))])\n",
            "loss tensor(0.0089, grad_fn=<L1LossBackward0>)\n",
            "OrderedDict([('weights', tensor([0.6951])), ('bias', tensor([0.2993]))])\n",
            "loss tensor(0.0026, grad_fn=<L1LossBackward0>)\n",
            "OrderedDict([('weights', tensor([0.6990])), ('bias', tensor([0.3093]))])\n",
            "loss tensor(0.0089, grad_fn=<L1LossBackward0>)\n",
            "OrderedDict([('weights', tensor([0.6951])), ('bias', tensor([0.2993]))])\n",
            "loss tensor(0.0026, grad_fn=<L1LossBackward0>)\n",
            "OrderedDict([('weights', tensor([0.6990])), ('bias', tensor([0.3093]))])\n",
            "loss tensor(0.0089, grad_fn=<L1LossBackward0>)\n",
            "OrderedDict([('weights', tensor([0.6951])), ('bias', tensor([0.2993]))])\n",
            "loss tensor(0.0026, grad_fn=<L1LossBackward0>)\n",
            "OrderedDict([('weights', tensor([0.6990])), ('bias', tensor([0.3093]))])\n",
            "loss tensor(0.0089, grad_fn=<L1LossBackward0>)\n",
            "OrderedDict([('weights', tensor([0.6951])), ('bias', tensor([0.2993]))])\n",
            "loss tensor(0.0026, grad_fn=<L1LossBackward0>)\n",
            "OrderedDict([('weights', tensor([0.6990])), ('bias', tensor([0.3093]))])\n",
            "loss tensor(0.0089, grad_fn=<L1LossBackward0>)\n",
            "OrderedDict([('weights', tensor([0.6951])), ('bias', tensor([0.2993]))])\n",
            "loss tensor(0.0026, grad_fn=<L1LossBackward0>)\n",
            "OrderedDict([('weights', tensor([0.6990])), ('bias', tensor([0.3093]))])\n",
            "loss tensor(0.0089, grad_fn=<L1LossBackward0>)\n",
            "OrderedDict([('weights', tensor([0.6951])), ('bias', tensor([0.2993]))])\n",
            "loss tensor(0.0026, grad_fn=<L1LossBackward0>)\n",
            "OrderedDict([('weights', tensor([0.6990])), ('bias', tensor([0.3093]))])\n",
            "loss tensor(0.0089, grad_fn=<L1LossBackward0>)\n",
            "OrderedDict([('weights', tensor([0.6951])), ('bias', tensor([0.2993]))])\n",
            "loss tensor(0.0026, grad_fn=<L1LossBackward0>)\n",
            "OrderedDict([('weights', tensor([0.6990])), ('bias', tensor([0.3093]))])\n",
            "loss tensor(0.0089, grad_fn=<L1LossBackward0>)\n",
            "OrderedDict([('weights', tensor([0.6951])), ('bias', tensor([0.2993]))])\n",
            "loss tensor(0.0026, grad_fn=<L1LossBackward0>)\n",
            "OrderedDict([('weights', tensor([0.6990])), ('bias', tensor([0.3093]))])\n",
            "loss tensor(0.0089, grad_fn=<L1LossBackward0>)\n",
            "OrderedDict([('weights', tensor([0.6951])), ('bias', tensor([0.2993]))])\n",
            "loss tensor(0.0026, grad_fn=<L1LossBackward0>)\n",
            "OrderedDict([('weights', tensor([0.6990])), ('bias', tensor([0.3093]))])\n",
            "loss tensor(0.0089, grad_fn=<L1LossBackward0>)\n",
            "OrderedDict([('weights', tensor([0.6951])), ('bias', tensor([0.2993]))])\n",
            "loss tensor(0.0026, grad_fn=<L1LossBackward0>)\n",
            "OrderedDict([('weights', tensor([0.6990])), ('bias', tensor([0.3093]))])\n",
            "loss tensor(0.0089, grad_fn=<L1LossBackward0>)\n",
            "OrderedDict([('weights', tensor([0.6951])), ('bias', tensor([0.2993]))])\n",
            "loss tensor(0.0026, grad_fn=<L1LossBackward0>)\n",
            "OrderedDict([('weights', tensor([0.6990])), ('bias', tensor([0.3093]))])\n",
            "loss tensor(0.0089, grad_fn=<L1LossBackward0>)\n",
            "OrderedDict([('weights', tensor([0.6951])), ('bias', tensor([0.2993]))])\n",
            "loss tensor(0.0026, grad_fn=<L1LossBackward0>)\n",
            "OrderedDict([('weights', tensor([0.6990])), ('bias', tensor([0.3093]))])\n",
            "loss tensor(0.0089, grad_fn=<L1LossBackward0>)\n",
            "OrderedDict([('weights', tensor([0.6951])), ('bias', tensor([0.2993]))])\n",
            "loss tensor(0.0026, grad_fn=<L1LossBackward0>)\n",
            "OrderedDict([('weights', tensor([0.6990])), ('bias', tensor([0.3093]))])\n",
            "loss tensor(0.0089, grad_fn=<L1LossBackward0>)\n",
            "OrderedDict([('weights', tensor([0.6951])), ('bias', tensor([0.2993]))])\n",
            "loss tensor(0.0026, grad_fn=<L1LossBackward0>)\n",
            "OrderedDict([('weights', tensor([0.6990])), ('bias', tensor([0.3093]))])\n",
            "loss tensor(0.0089, grad_fn=<L1LossBackward0>)\n",
            "OrderedDict([('weights', tensor([0.6951])), ('bias', tensor([0.2993]))])\n",
            "loss tensor(0.0026, grad_fn=<L1LossBackward0>)\n",
            "OrderedDict([('weights', tensor([0.6990])), ('bias', tensor([0.3093]))])\n",
            "loss tensor(0.0089, grad_fn=<L1LossBackward0>)\n",
            "OrderedDict([('weights', tensor([0.6951])), ('bias', tensor([0.2993]))])\n",
            "loss tensor(0.0026, grad_fn=<L1LossBackward0>)\n",
            "OrderedDict([('weights', tensor([0.6990])), ('bias', tensor([0.3093]))])\n",
            "loss tensor(0.0089, grad_fn=<L1LossBackward0>)\n",
            "OrderedDict([('weights', tensor([0.6951])), ('bias', tensor([0.2993]))])\n",
            "loss tensor(0.0026, grad_fn=<L1LossBackward0>)\n",
            "OrderedDict([('weights', tensor([0.6990])), ('bias', tensor([0.3093]))])\n",
            "loss tensor(0.0089, grad_fn=<L1LossBackward0>)\n",
            "OrderedDict([('weights', tensor([0.6951])), ('bias', tensor([0.2993]))])\n",
            "loss tensor(0.0026, grad_fn=<L1LossBackward0>)\n",
            "OrderedDict([('weights', tensor([0.6990])), ('bias', tensor([0.3093]))])\n",
            "loss tensor(0.0089, grad_fn=<L1LossBackward0>)\n",
            "OrderedDict([('weights', tensor([0.6951])), ('bias', tensor([0.2993]))])\n",
            "loss tensor(0.0026, grad_fn=<L1LossBackward0>)\n",
            "OrderedDict([('weights', tensor([0.6990])), ('bias', tensor([0.3093]))])\n",
            "loss tensor(0.0089, grad_fn=<L1LossBackward0>)\n",
            "OrderedDict([('weights', tensor([0.6951])), ('bias', tensor([0.2993]))])\n",
            "loss tensor(0.0026, grad_fn=<L1LossBackward0>)\n",
            "OrderedDict([('weights', tensor([0.6990])), ('bias', tensor([0.3093]))])\n",
            "loss tensor(0.0089, grad_fn=<L1LossBackward0>)\n",
            "OrderedDict([('weights', tensor([0.6951])), ('bias', tensor([0.2993]))])\n",
            "loss tensor(0.0026, grad_fn=<L1LossBackward0>)\n",
            "OrderedDict([('weights', tensor([0.6990])), ('bias', tensor([0.3093]))])\n",
            "loss tensor(0.0089, grad_fn=<L1LossBackward0>)\n",
            "OrderedDict([('weights', tensor([0.6951])), ('bias', tensor([0.2993]))])\n",
            "loss tensor(0.0026, grad_fn=<L1LossBackward0>)\n",
            "OrderedDict([('weights', tensor([0.6990])), ('bias', tensor([0.3093]))])\n",
            "loss tensor(0.0089, grad_fn=<L1LossBackward0>)\n",
            "OrderedDict([('weights', tensor([0.6951])), ('bias', tensor([0.2993]))])\n",
            "loss tensor(0.0026, grad_fn=<L1LossBackward0>)\n",
            "OrderedDict([('weights', tensor([0.6990])), ('bias', tensor([0.3093]))])\n",
            "loss tensor(0.0089, grad_fn=<L1LossBackward0>)\n",
            "OrderedDict([('weights', tensor([0.6951])), ('bias', tensor([0.2993]))])\n",
            "loss tensor(0.0026, grad_fn=<L1LossBackward0>)\n",
            "OrderedDict([('weights', tensor([0.6990])), ('bias', tensor([0.3093]))])\n",
            "loss tensor(0.0089, grad_fn=<L1LossBackward0>)\n",
            "OrderedDict([('weights', tensor([0.6951])), ('bias', tensor([0.2993]))])\n",
            "loss tensor(0.0026, grad_fn=<L1LossBackward0>)\n",
            "OrderedDict([('weights', tensor([0.6990])), ('bias', tensor([0.3093]))])\n",
            "loss tensor(0.0089, grad_fn=<L1LossBackward0>)\n",
            "OrderedDict([('weights', tensor([0.6951])), ('bias', tensor([0.2993]))])\n",
            "loss tensor(0.0026, grad_fn=<L1LossBackward0>)\n",
            "OrderedDict([('weights', tensor([0.6990])), ('bias', tensor([0.3093]))])\n",
            "loss tensor(0.0089, grad_fn=<L1LossBackward0>)\n",
            "OrderedDict([('weights', tensor([0.6951])), ('bias', tensor([0.2993]))])\n",
            "loss tensor(0.0026, grad_fn=<L1LossBackward0>)\n",
            "OrderedDict([('weights', tensor([0.6990])), ('bias', tensor([0.3093]))])\n",
            "loss tensor(0.0089, grad_fn=<L1LossBackward0>)\n",
            "OrderedDict([('weights', tensor([0.6951])), ('bias', tensor([0.2993]))])\n",
            "loss tensor(0.0026, grad_fn=<L1LossBackward0>)\n",
            "OrderedDict([('weights', tensor([0.6990])), ('bias', tensor([0.3093]))])\n",
            "loss tensor(0.0089, grad_fn=<L1LossBackward0>)\n",
            "OrderedDict([('weights', tensor([0.6951])), ('bias', tensor([0.2993]))])\n",
            "loss tensor(0.0026, grad_fn=<L1LossBackward0>)\n",
            "OrderedDict([('weights', tensor([0.6990])), ('bias', tensor([0.3093]))])\n",
            "loss tensor(0.0089, grad_fn=<L1LossBackward0>)\n",
            "OrderedDict([('weights', tensor([0.6951])), ('bias', tensor([0.2993]))])\n",
            "loss tensor(0.0026, grad_fn=<L1LossBackward0>)\n",
            "OrderedDict([('weights', tensor([0.6990])), ('bias', tensor([0.3093]))])\n",
            "loss tensor(0.0089, grad_fn=<L1LossBackward0>)\n",
            "OrderedDict([('weights', tensor([0.6951])), ('bias', tensor([0.2993]))])\n",
            "loss tensor(0.0026, grad_fn=<L1LossBackward0>)\n",
            "OrderedDict([('weights', tensor([0.6990])), ('bias', tensor([0.3093]))])\n",
            "loss tensor(0.0089, grad_fn=<L1LossBackward0>)\n",
            "OrderedDict([('weights', tensor([0.6951])), ('bias', tensor([0.2993]))])\n",
            "loss tensor(0.0026, grad_fn=<L1LossBackward0>)\n",
            "OrderedDict([('weights', tensor([0.6990])), ('bias', tensor([0.3093]))])\n",
            "loss tensor(0.0089, grad_fn=<L1LossBackward0>)\n",
            "OrderedDict([('weights', tensor([0.6951])), ('bias', tensor([0.2993]))])\n",
            "loss tensor(0.0026, grad_fn=<L1LossBackward0>)\n",
            "OrderedDict([('weights', tensor([0.6990])), ('bias', tensor([0.3093]))])\n",
            "loss tensor(0.0089, grad_fn=<L1LossBackward0>)\n",
            "OrderedDict([('weights', tensor([0.6951])), ('bias', tensor([0.2993]))])\n",
            "loss tensor(0.0026, grad_fn=<L1LossBackward0>)\n",
            "OrderedDict([('weights', tensor([0.6990])), ('bias', tensor([0.3093]))])\n",
            "loss tensor(0.0089, grad_fn=<L1LossBackward0>)\n",
            "OrderedDict([('weights', tensor([0.6951])), ('bias', tensor([0.2993]))])\n",
            "loss tensor(0.0026, grad_fn=<L1LossBackward0>)\n",
            "OrderedDict([('weights', tensor([0.6990])), ('bias', tensor([0.3093]))])\n",
            "loss tensor(0.0089, grad_fn=<L1LossBackward0>)\n",
            "OrderedDict([('weights', tensor([0.6951])), ('bias', tensor([0.2993]))])\n",
            "loss tensor(0.0026, grad_fn=<L1LossBackward0>)\n",
            "OrderedDict([('weights', tensor([0.6990])), ('bias', tensor([0.3093]))])\n",
            "loss tensor(0.0089, grad_fn=<L1LossBackward0>)\n",
            "OrderedDict([('weights', tensor([0.6951])), ('bias', tensor([0.2993]))])\n",
            "loss tensor(0.0026, grad_fn=<L1LossBackward0>)\n",
            "OrderedDict([('weights', tensor([0.6990])), ('bias', tensor([0.3093]))])\n",
            "loss tensor(0.0089, grad_fn=<L1LossBackward0>)\n",
            "OrderedDict([('weights', tensor([0.6951])), ('bias', tensor([0.2993]))])\n",
            "loss tensor(0.0026, grad_fn=<L1LossBackward0>)\n",
            "OrderedDict([('weights', tensor([0.6990])), ('bias', tensor([0.3093]))])\n",
            "loss tensor(0.0089, grad_fn=<L1LossBackward0>)\n",
            "OrderedDict([('weights', tensor([0.6951])), ('bias', tensor([0.2993]))])\n",
            "loss tensor(0.0026, grad_fn=<L1LossBackward0>)\n",
            "OrderedDict([('weights', tensor([0.6990])), ('bias', tensor([0.3093]))])\n",
            "loss tensor(0.0089, grad_fn=<L1LossBackward0>)\n",
            "OrderedDict([('weights', tensor([0.6951])), ('bias', tensor([0.2993]))])\n",
            "loss tensor(0.0026, grad_fn=<L1LossBackward0>)\n",
            "OrderedDict([('weights', tensor([0.6990])), ('bias', tensor([0.3093]))])\n",
            "loss tensor(0.0089, grad_fn=<L1LossBackward0>)\n",
            "OrderedDict([('weights', tensor([0.6951])), ('bias', tensor([0.2993]))])\n",
            "loss tensor(0.0026, grad_fn=<L1LossBackward0>)\n",
            "OrderedDict([('weights', tensor([0.6990])), ('bias', tensor([0.3093]))])\n",
            "loss tensor(0.0089, grad_fn=<L1LossBackward0>)\n",
            "OrderedDict([('weights', tensor([0.6951])), ('bias', tensor([0.2993]))])\n",
            "loss tensor(0.0026, grad_fn=<L1LossBackward0>)\n",
            "OrderedDict([('weights', tensor([0.6990])), ('bias', tensor([0.3093]))])\n",
            "loss tensor(0.0089, grad_fn=<L1LossBackward0>)\n",
            "OrderedDict([('weights', tensor([0.6951])), ('bias', tensor([0.2993]))])\n",
            "loss tensor(0.0026, grad_fn=<L1LossBackward0>)\n",
            "OrderedDict([('weights', tensor([0.6990])), ('bias', tensor([0.3093]))])\n",
            "loss tensor(0.0089, grad_fn=<L1LossBackward0>)\n",
            "OrderedDict([('weights', tensor([0.6951])), ('bias', tensor([0.2993]))])\n",
            "loss tensor(0.0026, grad_fn=<L1LossBackward0>)\n",
            "OrderedDict([('weights', tensor([0.6990])), ('bias', tensor([0.3093]))])\n",
            "loss tensor(0.0089, grad_fn=<L1LossBackward0>)\n",
            "OrderedDict([('weights', tensor([0.6951])), ('bias', tensor([0.2993]))])\n",
            "loss tensor(0.0026, grad_fn=<L1LossBackward0>)\n",
            "OrderedDict([('weights', tensor([0.6990])), ('bias', tensor([0.3093]))])\n",
            "loss tensor(0.0089, grad_fn=<L1LossBackward0>)\n",
            "OrderedDict([('weights', tensor([0.6951])), ('bias', tensor([0.2993]))])\n",
            "loss tensor(0.0026, grad_fn=<L1LossBackward0>)\n",
            "OrderedDict([('weights', tensor([0.6990])), ('bias', tensor([0.3093]))])\n",
            "loss tensor(0.0089, grad_fn=<L1LossBackward0>)\n",
            "OrderedDict([('weights', tensor([0.6951])), ('bias', tensor([0.2993]))])\n",
            "loss tensor(0.0026, grad_fn=<L1LossBackward0>)\n",
            "OrderedDict([('weights', tensor([0.6990])), ('bias', tensor([0.3093]))])\n",
            "loss tensor(0.0089, grad_fn=<L1LossBackward0>)\n",
            "OrderedDict([('weights', tensor([0.6951])), ('bias', tensor([0.2993]))])\n",
            "loss tensor(0.0026, grad_fn=<L1LossBackward0>)\n",
            "OrderedDict([('weights', tensor([0.6990])), ('bias', tensor([0.3093]))])\n"
          ]
        }
      ]
    },
    {
      "cell_type": "markdown",
      "source": [
        "### What happens in the above code:\n",
        "\n",
        "* `for epoch in range(epochs):` -> Pass the data through the model for the number of epochs. epochs are hyperparameters where the user can set it accordingly.\n",
        "\n",
        "* `model_0.train()` -> track the gradients and do the training behind the scene.\n",
        "\n",
        "* `y_pred = model_0(X_train)` -> Forward pass is done in training data in training loop. In the training loop model will learn the patterns where as in testing loop will evaluate the patterns the model has learned on unseen data.\n",
        " \n",
        "* `loss = loss_fn(y_pred, y_train)` -> determines how wrong the model predictions are.\n",
        "\n",
        "* `optimizer.zero_grad()` -> optimizer in step 5 will accumulate the gradients of ech parameters with requires_grad = True. So this step will zero the optimizer gradients\n",
        "\n",
        "* `loss.backward()` -> performs backpropagation on the loss function(compute the gradient of every parmater with require_grad=True)\n",
        "\n",
        "* `optimizer.step()` -> step the optimizer to update the model parameters with respect to  the gradients obtained by backward propagation.\n",
        "\n",
        "\n"
      ],
      "metadata": {
        "id": "e0krO80ybPAA"
      }
    },
    {
      "cell_type": "code",
      "source": [
        "# make predictions\n",
        "with torch.inference_mode():\n",
        "  y_pred_new = model_0(X_test)\n",
        "y_pred_new = y_pred_new.detach().numpy()"
      ],
      "metadata": {
        "id": "gt5-LuIebZ3b"
      },
      "execution_count": 43,
      "outputs": []
    },
    {
      "cell_type": "code",
      "source": [
        "# plot the new predictions after making the new predictions after reducing the loss function\n",
        "# Here we can see that the predictions are moving closer to the test data after\n",
        "# reducing the error and optimization\n",
        "# it will change as we keep tuning the epochs \n",
        "plot_predictions(predictions=y_pred_new)"
      ],
      "metadata": {
        "colab": {
          "base_uri": "https://localhost:8080/",
          "height": 428
        },
        "id": "KDMpZuj3sptY",
        "outputId": "c8a12da8-47e6-44c4-f18a-b2b1c841658c"
      },
      "execution_count": 44,
      "outputs": [
        {
          "output_type": "display_data",
          "data": {
            "text/plain": [
              "<Figure size 720x504 with 1 Axes>"
            ],
            "image/png": "[encoded data removed]"
          },
          "metadata": {
            "needs_background": "light"
          }
        }
      ]
    },
    {
      "cell_type": "markdown",
      "source": [
        "### Testing Loop code"
      ],
      "metadata": {
        "id": "RrY5tq9PwH7C"
      }
    },
    {
      "cell_type": "code",
      "source": [
        "torch.manual_seed(42)\n",
        "# epoch is one loop through data\n",
        "epochs = 200\n",
        "\n",
        "# Track different values\n",
        "epoch_list = []\n",
        "loss_list = []\n",
        "test_loss_list = []\n",
        "\n",
        "# Training will start from here\n",
        "#0. Loop through data\n",
        "for epoch in range(epochs):\n",
        "  # set the model to training mode\n",
        "  model_0.train() # train mode will set all paramaters that requires gradients to require gradients\n",
        "\n",
        "  #1. Forward pass(where we will pass the train data to our model)\n",
        "  y_pred = model_0(X_train)\n",
        "\n",
        "  #2. calculate the loss\n",
        "  loss = loss_fn(y_pred, y_train)\n",
        "  \n",
        "\n",
        "  #3. Optimizer Zero grad\n",
        "  optimizer.zero_grad()\n",
        "\n",
        "  #4. Perform backpropagation on the loss with respect to the parameters of the model\n",
        "  loss.backward()\n",
        "\n",
        "  # 5. Perform gradient descent step by step(always so this after back propogation)\n",
        "  # by default the change in optimizer will be accumulated through the loop.\n",
        "  # so we have to zero them in step 3 for the next iteration\n",
        "  optimizer.step()\n",
        "\n",
        "  ### TESTING\n",
        "  model_0.eval() # we turn off different settings in the modelwhich is not needed\n",
        "                 # for evaluation or testing(droput/batch morm layers)\n",
        "  # with totch.inference_mode also does the same function as that of with torch.inference_mode()\n",
        "  # but torch.inference_mode() is faster.\n",
        "  with torch.inference_mode(): # will turn off gradient tracking and other settings behind the scene\n",
        "    #1. Forward pass\n",
        "    test_pred = model_0(X_test)\n",
        "\n",
        "    #2. calculate the loss\n",
        "    # Never let your model see test daata before evaluation\n",
        "    test_loss = loss_fn(test_pred, y_test)\n",
        "  if epoch % 10 == 0:\n",
        "    epoch_list.append(epoch)\n",
        "    loss_list.append(loss)\n",
        "    test_loss_list.append(test_loss)\n",
        "\n",
        "    print(f\"Epoch: {epoch}, Loss: {loss}, Test_loss: {test_loss}\")\n",
        "\n",
        "    # print model state_dict\n",
        "    print(model_0.state_dict())\n"
      ],
      "metadata": {
        "id": "eFw6GjMPwNp_",
        "colab": {
          "base_uri": "https://localhost:8080/"
        },
        "outputId": "de00940f-3d97-4fb5-d5a6-cad12edf9804"
      },
      "execution_count": 32,
      "outputs": [
        {
          "output_type": "stream",
          "name": "stdout",
          "text": [
            "Epoch: 0, Loss: 0.021020207554101944, Test_loss: 0.04819049686193466\n",
            "OrderedDict([('weights', tensor([0.5972])), ('bias', tensor([0.3433]))])\n",
            "Epoch: 10, Loss: 0.01758546568453312, Test_loss: 0.04060482233762741\n",
            "OrderedDict([('weights', tensor([0.6141])), ('bias', tensor([0.3358]))])\n",
            "Epoch: 20, Loss: 0.014155393466353416, Test_loss: 0.03233227878808975\n",
            "OrderedDict([('weights', tensor([0.6313])), ('bias', tensor([0.3288]))])\n",
            "Epoch: 30, Loss: 0.010716589167714119, Test_loss: 0.024059748277068138\n",
            "OrderedDict([('weights', tensor([0.6485])), ('bias', tensor([0.3218]))])\n",
            "Epoch: 40, Loss: 0.0072835334576666355, Test_loss: 0.016474086791276932\n",
            "OrderedDict([('weights', tensor([0.6654])), ('bias', tensor([0.3143]))])\n",
            "Epoch: 50, Loss: 0.0038517764769494534, Test_loss: 0.008201557211577892\n",
            "OrderedDict([('weights', tensor([0.6826])), ('bias', tensor([0.3073]))])\n",
            "Epoch: 60, Loss: 0.008932482451200485, Test_loss: 0.005023092031478882\n",
            "OrderedDict([('weights', tensor([0.6951])), ('bias', tensor([0.2993]))])\n",
            "Epoch: 70, Loss: 0.008932482451200485, Test_loss: 0.005023092031478882\n",
            "OrderedDict([('weights', tensor([0.6951])), ('bias', tensor([0.2993]))])\n",
            "Epoch: 80, Loss: 0.008932482451200485, Test_loss: 0.005023092031478882\n",
            "OrderedDict([('weights', tensor([0.6951])), ('bias', tensor([0.2993]))])\n",
            "Epoch: 90, Loss: 0.008932482451200485, Test_loss: 0.005023092031478882\n",
            "OrderedDict([('weights', tensor([0.6951])), ('bias', tensor([0.2993]))])\n",
            "Epoch: 100, Loss: 0.008932482451200485, Test_loss: 0.005023092031478882\n",
            "OrderedDict([('weights', tensor([0.6951])), ('bias', tensor([0.2993]))])\n",
            "Epoch: 110, Loss: 0.008932482451200485, Test_loss: 0.005023092031478882\n",
            "OrderedDict([('weights', tensor([0.6951])), ('bias', tensor([0.2993]))])\n",
            "Epoch: 120, Loss: 0.008932482451200485, Test_loss: 0.005023092031478882\n",
            "OrderedDict([('weights', tensor([0.6951])), ('bias', tensor([0.2993]))])\n",
            "Epoch: 130, Loss: 0.008932482451200485, Test_loss: 0.005023092031478882\n",
            "OrderedDict([('weights', tensor([0.6951])), ('bias', tensor([0.2993]))])\n",
            "Epoch: 140, Loss: 0.008932482451200485, Test_loss: 0.005023092031478882\n",
            "OrderedDict([('weights', tensor([0.6951])), ('bias', tensor([0.2993]))])\n",
            "Epoch: 150, Loss: 0.008932482451200485, Test_loss: 0.005023092031478882\n",
            "OrderedDict([('weights', tensor([0.6951])), ('bias', tensor([0.2993]))])\n",
            "Epoch: 160, Loss: 0.008932482451200485, Test_loss: 0.005023092031478882\n",
            "OrderedDict([('weights', tensor([0.6951])), ('bias', tensor([0.2993]))])\n",
            "Epoch: 170, Loss: 0.008932482451200485, Test_loss: 0.005023092031478882\n",
            "OrderedDict([('weights', tensor([0.6951])), ('bias', tensor([0.2993]))])\n",
            "Epoch: 180, Loss: 0.008932482451200485, Test_loss: 0.005023092031478882\n",
            "OrderedDict([('weights', tensor([0.6951])), ('bias', tensor([0.2993]))])\n",
            "Epoch: 190, Loss: 0.008932482451200485, Test_loss: 0.005023092031478882\n",
            "OrderedDict([('weights', tensor([0.6951])), ('bias', tensor([0.2993]))])\n"
          ]
        }
      ]
    },
    {
      "cell_type": "code",
      "source": [
        "# to make the red dot meets the green dot(predictions to meet the test data)\n",
        "# run the above cell again(you dont have to initialize the model again)\n",
        "# because on the first run all the parameters are optmized pretty good.\n",
        "# so we can work on the same data"
      ],
      "metadata": {
        "id": "K5VdKwet0d_y"
      },
      "execution_count": 17,
      "outputs": []
    },
    {
      "cell_type": "code",
      "source": [
        "# plot the loss curve\n",
        "# Matplotlib can only work with numpy arrays. So all the tensor values \n",
        "# should be converted to numpy before plotting\n",
        "plt.plot(epoch_list, torch.tensor(loss_list).numpy(), label='Train loss')\n",
        "plt.plot(epoch_list, torch.tensor(test_loss_list).numpy(), label='Test loss')\n",
        "plt.title('Training and Test loss cureves')\n",
        "plt.xlabel('Epochs')\n",
        "plt.ylabel('Loss')\n",
        "plt.legend()"
      ],
      "metadata": {
        "id": "emvWiNIhP3EQ",
        "colab": {
          "base_uri": "https://localhost:8080/",
          "height": 312
        },
        "outputId": "446edfcc-9f77-496e-ceb1-53b86fec4c10"
      },
      "execution_count": 33,
      "outputs": [
        {
          "output_type": "execute_result",
          "data": {
            "text/plain": [
              "<matplotlib.legend.Legend at 0x7fc626379110>"
            ]
          },
          "metadata": {},
          "execution_count": 33
        },
        {
          "output_type": "display_data",
          "data": {
            "text/plain": [
              "<Figure size 432x288 with 1 Axes>"
            ],
            "image/png": "[encoded data removed]"
          },
          "metadata": {
            "needs_background": "light"
          }
        }
      ]
    },
    {
      "cell_type": "markdown",
      "source": [
        "### What happens in Testing loop\n",
        "\n",
        "* `model_0.eval()` -> Tells the model that rather than training we are looking for evaluation(which will turn off certain parameters that are used in training)\n",
        "\n",
        "*   `with torch.inference_mode()` -> for faster performance. It will disable functionality such as gradient tracking for inference(which is only needed for training) \n",
        "\n",
        "* `test_pred = model_0(X_test)` -> pass the test data through the model for forward propagation.\n",
        "\n",
        "* `test_loss = loss_fn(test_pred, y_test)` -> calculate test loss value(how wrong the predictions are on the test dataset)\n",
        "\n",
        "\n",
        "     \n",
        "\n",
        "\n",
        "\n",
        "\n",
        "\n",
        "\n",
        "\n",
        "\n",
        "\n"
      ],
      "metadata": {
        "id": "-CqgdD8XSL7y"
      }
    },
    {
      "cell_type": "markdown",
      "source": [
        "###Save PyTorch model\n",
        "\n",
        "Three method to save and load models\n",
        " * `torch.save()` -> allows to save PyTorch object in pickle format(the process of converting a Python object into a byte stream to store it in a file/database, maintain program state across sessions, or transport data over the network)\n",
        "\n",
        " * `torch.load` -> load a saved PyTorch object\n",
        "\n",
        " * `torch.nn.Module.load_state_dict()` -> allows to load model's saved state dictionary."
      ],
      "metadata": {
        "id": "ECbn160JW6P7"
      }
    },
    {
      "cell_type": "code",
      "source": [
        "model_0.state_dict()"
      ],
      "metadata": {
        "colab": {
          "base_uri": "https://localhost:8080/"
        },
        "id": "Fghp8osEcSk5",
        "outputId": "e6c2ab40-292c-4338-e4d8-5912b0c276fd"
      },
      "execution_count": 34,
      "outputs": [
        {
          "output_type": "execute_result",
          "data": {
            "text/plain": [
              "OrderedDict([('weights', tensor([0.6990])), ('bias', tensor([0.3093]))])"
            ]
          },
          "metadata": {},
          "execution_count": 34
        }
      ]
    },
    {
      "cell_type": "code",
      "source": [
        "# save PyTorch model\n",
        "from pathlib import Path\n",
        "\n",
        "# 1. Create model directory\n",
        "MODEL_PATH = Path('models')\n",
        "MODEL_PATH.mkdir(parents=True, exist_ok=True)\n",
        "\n",
        "# 2. Create model save path\n",
        "# always save a pytorch object with .pth or .pt extension\n",
        "MODEL_NAME = \"01_pytorch_workflow_model_0.pth\"\n",
        "MODEL_SAVE_PATH = MODEL_PATH/MODEL_NAME\n",
        "\n",
        "# 3. Save the model state dict\n",
        "print(f'Saving the model into : {MODEL_SAVE_PATH}')\n",
        "torch.save(obj=model_0.state_dict(), f=MODEL_SAVE_PATH)\n"
      ],
      "metadata": {
        "id": "enCsAj_VdZga",
        "colab": {
          "base_uri": "https://localhost:8080/"
        },
        "outputId": "63759231-cf16-4ee3-932f-4557dc44d257"
      },
      "execution_count": 35,
      "outputs": [
        {
          "output_type": "stream",
          "name": "stdout",
          "text": [
            "Saving the model into : models/01_pytorch_workflow_model_0.pth\n"
          ]
        }
      ]
    },
    {
      "cell_type": "code",
      "source": [
        "!ls -l models"
      ],
      "metadata": {
        "colab": {
          "base_uri": "https://localhost:8080/"
        },
        "id": "Ciq3bv0Vb0RD",
        "outputId": "c548fea7-6f27-46f2-9e98-1e194aa5608a"
      },
      "execution_count": 36,
      "outputs": [
        {
          "output_type": "stream",
          "name": "stdout",
          "text": [
            "total 4\n",
            "-rw-r--r-- 1 root root 1063 Nov 18 11:24 01_pytorch_workflow_model_0.pth\n"
          ]
        }
      ]
    },
    {
      "cell_type": "markdown",
      "source": [
        "### Load PyTorch model\n",
        "\n",
        "Create a new instance of our model class and load the saved `state_dict()` into that"
      ],
      "metadata": {
        "id": "1lvn3d5ue124"
      }
    },
    {
      "cell_type": "code",
      "source": [
        "loaded_model_0 = LinearRegressionModel()\n",
        "\n",
        "# Load the saved state_dict of model_0\n",
        "loaded_model_0.load_state_dict(torch.load(f=MODEL_SAVE_PATH))"
      ],
      "metadata": {
        "colab": {
          "base_uri": "https://localhost:8080/"
        },
        "id": "BiJyM3m8dGOB",
        "outputId": "377473dc-bd38-49d2-a414-fed0813e6865"
      },
      "execution_count": 37,
      "outputs": [
        {
          "output_type": "execute_result",
          "data": {
            "text/plain": [
              "<All keys matched successfully>"
            ]
          },
          "metadata": {},
          "execution_count": 37
        }
      ]
    },
    {
      "cell_type": "code",
      "source": [
        "loaded_model_0.state_dict()"
      ],
      "metadata": {
        "colab": {
          "base_uri": "https://localhost:8080/"
        },
        "id": "8aKExPO2glmF",
        "outputId": "a2bf0e7a-9483-4bdb-807b-d08cca192f5e"
      },
      "execution_count": 38,
      "outputs": [
        {
          "output_type": "execute_result",
          "data": {
            "text/plain": [
              "OrderedDict([('weights', tensor([0.6990])), ('bias', tensor([0.3093]))])"
            ]
          },
          "metadata": {},
          "execution_count": 38
        }
      ]
    },
    {
      "cell_type": "code",
      "source": [
        "# make predictions with loaded model\n",
        "loaded_model_0.eval()\n",
        "with torch.inference_mode():\n",
        "  loaded_model_preds = loaded_model_0(X_test)\n",
        "loaded_model_preds"
      ],
      "metadata": {
        "colab": {
          "base_uri": "https://localhost:8080/"
        },
        "id": "Eu8_Z96Jkch_",
        "outputId": "244d359a-ca39-4b75-db8a-a32921b6f434"
      },
      "execution_count": 39,
      "outputs": [
        {
          "output_type": "execute_result",
          "data": {
            "text/plain": [
              "tensor([[0.8685],\n",
              "        [0.8825],\n",
              "        [0.8965],\n",
              "        [0.9105],\n",
              "        [0.9245],\n",
              "        [0.9384],\n",
              "        [0.9524],\n",
              "        [0.9664],\n",
              "        [0.9804],\n",
              "        [0.9944]])"
            ]
          },
          "metadata": {},
          "execution_count": 39
        }
      ]
    },
    {
      "cell_type": "code",
      "source": [
        "# check if it matches with predictions of original model\n",
        "model_0.eval()\n",
        "with torch.inference_mode():\n",
        "  y_pred = model_0(X_test)\n",
        "\n",
        "y_pred\n"
      ],
      "metadata": {
        "colab": {
          "base_uri": "https://localhost:8080/"
        },
        "id": "8CgX_RC6lWTt",
        "outputId": "87c55133-8b84-4d96-f6fb-f389f180f194"
      },
      "execution_count": 40,
      "outputs": [
        {
          "output_type": "execute_result",
          "data": {
            "text/plain": [
              "tensor([[0.8685],\n",
              "        [0.8825],\n",
              "        [0.8965],\n",
              "        [0.9105],\n",
              "        [0.9245],\n",
              "        [0.9384],\n",
              "        [0.9524],\n",
              "        [0.9664],\n",
              "        [0.9804],\n",
              "        [0.9944]])"
            ]
          },
          "metadata": {},
          "execution_count": 40
        }
      ]
    },
    {
      "cell_type": "code",
      "source": [
        "y_pred == loaded_model_preds"
      ],
      "metadata": {
        "colab": {
          "base_uri": "https://localhost:8080/"
        },
        "id": "BGME0jEOlcDv",
        "outputId": "da2282db-426c-4066-f8f3-cf24d8853850"
      },
      "execution_count": 41,
      "outputs": [
        {
          "output_type": "execute_result",
          "data": {
            "text/plain": [
              "tensor([[True],\n",
              "        [True],\n",
              "        [True],\n",
              "        [True],\n",
              "        [True],\n",
              "        [True],\n",
              "        [True],\n",
              "        [True],\n",
              "        [True],\n",
              "        [True]])"
            ]
          },
          "metadata": {},
          "execution_count": 41
        }
      ]
    },
    {
      "cell_type": "markdown",
      "source": [
        "### Putting everything together"
      ],
      "metadata": {
        "id": "BNJriKHdpemC"
      }
    },
    {
      "cell_type": "code",
      "source": [
        "import torch\n",
        "from torch import nn\n",
        "import matplotlib.pyplot as plt\n",
        "\n",
        "\n",
        "# check for PyTorch version\n",
        "torch.__version__"
      ],
      "metadata": {
        "colab": {
          "base_uri": "https://localhost:8080/",
          "height": 36
        },
        "id": "ymdiLSy7mCvf",
        "outputId": "e40754c7-182a-4505-d87c-4d4a635a40a3"
      },
      "execution_count": 1,
      "outputs": [
        {
          "output_type": "execute_result",
          "data": {
            "text/plain": [
              "'1.12.1+cu113'"
            ],
            "application/vnd.google.colaboratory.intrinsic+json": {
              "type": "string"
            }
          },
          "metadata": {},
          "execution_count": 1
        }
      ]
    },
    {
      "cell_type": "markdown",
      "source": [
        "Create device-agnostic code\n",
        "\n",
        "Which means if we have access to GPU, then we can use it else we can go for CPU."
      ],
      "metadata": {
        "id": "c0wugp6KzSVu"
      }
    },
    {
      "cell_type": "code",
      "source": [
        "# set device agnostic code\n",
        "device = \"cuda\" if torch.cuda.is_available() else \"cpu\"\n",
        "print(f\"The device we are using is {device}\")"
      ],
      "metadata": {
        "colab": {
          "base_uri": "https://localhost:8080/"
        },
        "id": "9sJpcbuBzHOS",
        "outputId": "955a661b-4ed9-4393-c03a-d48dfa8fc81e"
      },
      "execution_count": 2,
      "outputs": [
        {
          "output_type": "stream",
          "name": "stdout",
          "text": [
            "The device we are using is cuda\n"
          ]
        }
      ]
    },
    {
      "cell_type": "markdown",
      "source": [
        "### (1) Recreate Data"
      ],
      "metadata": {
        "id": "EqJ7GsL40NMV"
      }
    },
    {
      "cell_type": "code",
      "source": [
        "# create data using linear regreesion formula of y=weight*feature + bias\n",
        "weight = 0.5\n",
        "bias = 0.4\n",
        "\n",
        "# create values\n",
        "start = 0\n",
        "end = 1\n",
        "step = 0.02\n",
        "\n",
        "# create X and y(Features and Labels)\n",
        "# if we are not using unsqueeze we will be getting errors\n",
        "X = torch.arange(start, end, step).unsqueeze(dim=1)\n",
        "y= weight* X + bias\n",
        "X[:10], y[:10]\n"
      ],
      "metadata": {
        "colab": {
          "base_uri": "https://localhost:8080/"
        },
        "id": "2NnfXIf_z0gR",
        "outputId": "3f6a7b8e-7e6b-4e92-98c1-4e9241d07b62"
      },
      "execution_count": 3,
      "outputs": [
        {
          "output_type": "execute_result",
          "data": {
            "text/plain": [
              "(tensor([[0.0000],\n",
              "         [0.0200],\n",
              "         [0.0400],\n",
              "         [0.0600],\n",
              "         [0.0800],\n",
              "         [0.1000],\n",
              "         [0.1200],\n",
              "         [0.1400],\n",
              "         [0.1600],\n",
              "         [0.1800]]), tensor([[0.4000],\n",
              "         [0.4100],\n",
              "         [0.4200],\n",
              "         [0.4300],\n",
              "         [0.4400],\n",
              "         [0.4500],\n",
              "         [0.4600],\n",
              "         [0.4700],\n",
              "         [0.4800],\n",
              "         [0.4900]]))"
            ]
          },
          "metadata": {},
          "execution_count": 3
        }
      ]
    },
    {
      "cell_type": "markdown",
      "source": [
        "### (2) Split Data"
      ],
      "metadata": {
        "id": "NNenYAtF1TAM"
      }
    },
    {
      "cell_type": "code",
      "source": [
        "# splitting 80% of data to train set\n",
        "train_split = int(0.8 * len(X))\n",
        "print(train_split)\n",
        "\n",
        "X_train, y_train = X[:train_split], y[:train_split]\n",
        "\n",
        "X_test, y_test = X[train_split:], y[train_split:]\n",
        "print(len(X_train))\n",
        "print(len(y_train))\n",
        "print(len(X_test))\n",
        "print(len(y_test))"
      ],
      "metadata": {
        "colab": {
          "base_uri": "https://localhost:8080/"
        },
        "id": "xvOfdapX0GtG",
        "outputId": "e21e03a7-801d-4874-fe73-f7385b9b78e8"
      },
      "execution_count": 4,
      "outputs": [
        {
          "output_type": "stream",
          "name": "stdout",
          "text": [
            "40\n",
            "40\n",
            "40\n",
            "10\n",
            "10\n"
          ]
        }
      ]
    },
    {
      "cell_type": "markdown",
      "source": [
        "(3) Visualize Data"
      ],
      "metadata": {
        "id": "pyEAEzgt2r45"
      }
    },
    {
      "cell_type": "code",
      "source": [
        "# plot the data\n",
        "plot_predictions(X_train, y_train, X_test, y_test)"
      ],
      "metadata": {
        "colab": {
          "base_uri": "https://localhost:8080/",
          "height": 428
        },
        "id": "48FDEmMo1xgU",
        "outputId": "ddae064c-eacd-4100-d2a6-ac9805aa8e8b"
      },
      "execution_count": 7,
      "outputs": [
        {
          "output_type": "display_data",
          "data": {
            "text/plain": [
              "<Figure size 720x504 with 1 Axes>"
            ],
            "image/png": "[encoded data removed]"
          },
          "metadata": {
            "needs_background": "light"
          }
        }
      ]
    },
    {
      "cell_type": "markdown",
      "source": [
        "### (4) Build PyTorch Linear Model(Straight line)\n"
      ],
      "metadata": {
        "id": "4E1MuLRi3Lt0"
      }
    },
    {
      "cell_type": "code",
      "source": [
        "# create linear model using nn.Model\n",
        "class LinearRegressionModelV2(nn.Module):\n",
        "  def __init__(self):\n",
        "    super().__init__()\n",
        "    # use nn.Linear() for creating model parms aka linear transform, probing layer,\n",
        "    # fully connected layer, dense layer\n",
        "    # in_features =1 means inputting one feature\n",
        "    # out_features = 1 means outputting one feature\n",
        "    # nn.Linear will be same as y=weight*input + bias\n",
        "    self.linear_layer = nn.Linear(in_features=1, out_features=1)\n",
        "\n",
        "  # tells the model what to do in forward pass\n",
        "  def forward(self, x:torch.Tensor) -> torch.Tensor: # meaans x(input) is a tensor and it is going to return a tensor\n",
        "    # means we are passing x(which has one input layer and one output layer) to the linear layer\n",
        "    return self.linear_layer(x)\n",
        "\n",
        "# set the manual seed\n",
        "torch.manual_seed(42)\n",
        "model_1 = LinearRegressionModelV2()\n"
      ],
      "metadata": {
        "id": "Aebn_Ca628QM"
      },
      "execution_count": 8,
      "outputs": []
    },
    {
      "cell_type": "code",
      "source": [
        "model_1.state_dict()"
      ],
      "metadata": {
        "colab": {
          "base_uri": "https://localhost:8080/"
        },
        "id": "9Egh8akF6AZd",
        "outputId": "b4f059fc-cd3a-4e38-ba09-d806c04d38de"
      },
      "execution_count": 9,
      "outputs": [
        {
          "output_type": "execute_result",
          "data": {
            "text/plain": [
              "OrderedDict([('linear_layer.weight', tensor([[0.7645]])),\n",
              "             ('linear_layer.bias', tensor([0.8300]))])"
            ]
          },
          "metadata": {},
          "execution_count": 9
        }
      ]
    },
    {
      "cell_type": "code",
      "source": [
        "# check which device the model is currently using\n",
        "next(model_1.parameters()).device"
      ],
      "metadata": {
        "colab": {
          "base_uri": "https://localhost:8080/"
        },
        "id": "7qem7GYRVYYl",
        "outputId": "7e37aa38-7d74-4dd0-a0a3-d7a37e8818c7"
      },
      "execution_count": 10,
      "outputs": [
        {
          "output_type": "execute_result",
          "data": {
            "text/plain": [
              "device(type='cpu')"
            ]
          },
          "metadata": {},
          "execution_count": 10
        }
      ]
    },
    {
      "cell_type": "code",
      "source": [
        "# set the model to use target device\n",
        "model_1.to(device)\n",
        "next(model_1.parameters()).device"
      ],
      "metadata": {
        "colab": {
          "base_uri": "https://localhost:8080/"
        },
        "id": "6-MTsfGi6N_5",
        "outputId": "badbe004-cad6-4776-bf3a-e962af28900b"
      },
      "execution_count": 11,
      "outputs": [
        {
          "output_type": "execute_result",
          "data": {
            "text/plain": [
              "device(type='cuda', index=0)"
            ]
          },
          "metadata": {},
          "execution_count": 11
        }
      ]
    },
    {
      "cell_type": "markdown",
      "source": [
        "### (5) Training\n",
        "For training we need\n",
        "* Loss Function\n",
        "* Optimizer\n",
        "* Training Loop\n",
        "* Testing Loop"
      ],
      "metadata": {
        "id": "sVE61x4XWzmH"
      }
    },
    {
      "cell_type": "code",
      "source": [
        "# set up the loss function\n",
        "loss_fn = nn.L1Loss() #L1Loss is MAE\n",
        "\n",
        "# set up the optimizer\n",
        "optimizer = torch.optim.SGD(params=model_1.parameters(), lr=0.01)"
      ],
      "metadata": {
        "id": "siaVvBL4WwPm"
      },
      "execution_count": 12,
      "outputs": []
    },
    {
      "cell_type": "code",
      "source": [
        "# training loop\n",
        "torch.manual_seed(42)\n",
        "\n",
        "epochs = 200\n",
        "\n",
        "# put data on the target device(device agnostic for data)\n",
        "X_train = X_train.to(device)\n",
        "y_train = y_train.to(device)\n",
        "X_test = X_test.to(device)\n",
        "y_test = y_test.to(device)\n",
        "for epoch in range(epochs):\n",
        "  model_1.train()\n",
        "\n",
        "  # forward pass\n",
        "  y_pred = model_1(X_train)\n",
        "\n",
        "  #2. calculate loss\n",
        "  loss = loss_fn(y_pred, y_train)\n",
        "\n",
        "  #3. optimizer zero grad\n",
        "  optimizer.zero_grad()\n",
        "\n",
        "  #4. Backpropogation\n",
        "  loss.backward()\n",
        "\n",
        "  #5. optimizer step\n",
        "  optimizer.step()\n",
        "\n",
        "  ## Testing\n",
        "  model_1.eval()\n",
        "  \n",
        "  with torch.inference_mode():\n",
        "    test_pred = model_1(X_test)\n",
        "  \n",
        "  test_loss = loss_fn(test_pred, y_test)\n",
        "\n",
        "  # print what is happening\n",
        "  if epoch % 10 == 0:\n",
        "    print(f\"Epoch : {epoch} loss : {loss} test loss : {test_loss}\")"
      ],
      "metadata": {
        "colab": {
          "base_uri": "https://localhost:8080/"
        },
        "id": "4VgpP8AmX7ip",
        "outputId": "dcc640ab-2ad9-47cf-d466-510cab7922b6"
      },
      "execution_count": 13,
      "outputs": [
        {
          "output_type": "stream",
          "name": "stdout",
          "text": [
            "Epoch : 0 loss : 0.5331779718399048 test loss : 0.6519762277603149\n",
            "Epoch : 10 loss : 0.41796809434890747 test loss : 0.5172663927078247\n",
            "Epoch : 20 loss : 0.30275818705558777 test loss : 0.38255658745765686\n",
            "Epoch : 30 loss : 0.18754832446575165 test loss : 0.24784670770168304\n",
            "Epoch : 40 loss : 0.07233845442533493 test loss : 0.113136887550354\n",
            "Epoch : 50 loss : 0.015071788802742958 test loss : 0.03629780560731888\n",
            "Epoch : 60 loss : 0.011527805589139462 test loss : 0.02597351185977459\n",
            "Epoch : 70 loss : 0.008093987591564655 test loss : 0.01838785409927368\n",
            "Epoch : 80 loss : 0.0046629877761006355 test loss : 0.010115319862961769\n",
            "Epoch : 90 loss : 0.003980043809860945 test loss : 0.012070352211594582\n",
            "Epoch : 100 loss : 0.003980043809860945 test loss : 0.012070352211594582\n",
            "Epoch : 110 loss : 0.003980043809860945 test loss : 0.012070352211594582\n",
            "Epoch : 120 loss : 0.003980043809860945 test loss : 0.012070352211594582\n",
            "Epoch : 130 loss : 0.003980043809860945 test loss : 0.012070352211594582\n",
            "Epoch : 140 loss : 0.003980043809860945 test loss : 0.012070352211594582\n",
            "Epoch : 150 loss : 0.003980043809860945 test loss : 0.012070352211594582\n",
            "Epoch : 160 loss : 0.003980043809860945 test loss : 0.012070352211594582\n",
            "Epoch : 170 loss : 0.003980043809860945 test loss : 0.012070352211594582\n",
            "Epoch : 180 loss : 0.003980043809860945 test loss : 0.012070352211594582\n",
            "Epoch : 190 loss : 0.003980043809860945 test loss : 0.012070352211594582\n"
          ]
        }
      ]
    },
    {
      "cell_type": "markdown",
      "source": [
        " If you are getting the following error while running the training and testing loop\n",
        " \n",
        "`RuntimeError: Expected all tensors to be on the same device, but found at least two devices, cuda:0 and cpu! (when checking argument for argument mat1 in method wrapper_addmm)`\n",
        "\n",
        "It means that you  have to put all the data(X_train, y_train, X_test, y_test) to your target device\n",
        "\n",
        "Include the line:\n",
        "* X_train = X_train.to(device)\n",
        "* y_train = y_train.to(device)\n",
        "* X_test = X_test.to(device)\n",
        "* y_test = y_test.to(device)\n",
        "\n",
        "\n",
        "\n",
        "\n",
        "\n",
        "\n"
      ],
      "metadata": {
        "id": "GG4k1cViZyQr"
      }
    },
    {
      "cell_type": "code",
      "source": [
        "model_1.state_dict()"
      ],
      "metadata": {
        "colab": {
          "base_uri": "https://localhost:8080/"
        },
        "id": "Intjh-SpZqis",
        "outputId": "fb8b1da2-5ee7-4682-a1bb-7e64d21415a0"
      },
      "execution_count": 14,
      "outputs": [
        {
          "output_type": "execute_result",
          "data": {
            "text/plain": [
              "OrderedDict([('linear_layer.weight', tensor([[0.5052]], device='cuda:0')),\n",
              "             ('linear_layer.bias', tensor([0.3940], device='cuda:0'))])"
            ]
          },
          "metadata": {},
          "execution_count": 14
        }
      ]
    },
    {
      "cell_type": "markdown",
      "source": [
        "(6) Making and Evaluating predictions"
      ],
      "metadata": {
        "id": "lCZ-XKFlbtMy"
      }
    },
    {
      "cell_type": "code",
      "source": [
        "# turn model to evaluation mode\n",
        "model_1.eval()\n",
        "\n",
        "# make predictions on test data\n",
        "with torch.inference_mode():\n",
        "  test_pred_model_1_new = model_1(X_test)\n",
        "\n",
        "test_pred_model_1_new"
      ],
      "metadata": {
        "colab": {
          "base_uri": "https://localhost:8080/"
        },
        "id": "iZTifB5Ca-gS",
        "outputId": "849946ba-6af2-456e-bc70-0898962b99df"
      },
      "execution_count": 15,
      "outputs": [
        {
          "output_type": "execute_result",
          "data": {
            "text/plain": [
              "tensor([[0.7981],\n",
              "        [0.8082],\n",
              "        [0.8183],\n",
              "        [0.8284],\n",
              "        [0.8385],\n",
              "        [0.8487],\n",
              "        [0.8588],\n",
              "        [0.8689],\n",
              "        [0.8790],\n",
              "        [0.8891]], device='cuda:0')"
            ]
          },
          "metadata": {},
          "execution_count": 15
        }
      ]
    },
    {
      "cell_type": "code",
      "source": [
        "plot_predictions(predictions=test_pred_model_1_new.cpu())"
      ],
      "metadata": {
        "colab": {
          "base_uri": "https://localhost:8080/",
          "height": 428
        },
        "id": "9dQosW8mbf0_",
        "outputId": "a89215d9-929f-4c73-f7b3-66cf231f3af2"
      },
      "execution_count": 16,
      "outputs": [
        {
          "output_type": "display_data",
          "data": {
            "text/plain": [
              "<Figure size 720x504 with 1 Axes>"
            ],
            "image/png": "[encoded data removed]"
          },
          "metadata": {
            "needs_background": "light"
          }
        }
      ]
    },
    {
      "cell_type": "markdown",
      "source": [
        "If we are getting the below error: `TypeError: can't convert cuda:0 device type tensor to numpy. Use Tensor.cpu() to copy the tensor to host memory first.`\n",
        "\n",
        "It means that the predictions are plot in matplotlib which only handles numpy and our predictions are tensors which means they are in cuda.\n",
        "\n",
        "So we have to convert them back to cpu which can be done as\n",
        "plot_predictions`(predictions=test_pred_model_1_new.cpu())`"
      ],
      "metadata": {
        "id": "Og5EgfBXcmeQ"
      }
    }
  ]
}